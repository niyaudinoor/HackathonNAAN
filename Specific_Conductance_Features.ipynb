{
  "nbformat": 4,
  "nbformat_minor": 0,
  "metadata": {
    "colab": {
      "provenance": [],
      "include_colab_link": true
    },
    "kernelspec": {
      "name": "python3",
      "display_name": "Python 3"
    },
    "language_info": {
      "name": "python"
    }
  },
  "cells": [
    {
      "cell_type": "markdown",
      "metadata": {
        "id": "view-in-github",
        "colab_type": "text"
      },
      "source": [
        "<a href=\"https://colab.research.google.com/github/niyaudinoor/HackathonNAAN/blob/main/Specific_Conductance_Features.ipynb\" target=\"_parent\"><img src=\"https://colab.research.google.com/assets/colab-badge.svg\" alt=\"Open In Colab\"/></a>"
      ]
    },
    {
      "cell_type": "markdown",
      "source": [
        "# 1. Importing Libraries"
      ],
      "metadata": {
        "id": "TlACkXDPn1jf"
      }
    },
    {
      "cell_type": "code",
      "execution_count": null,
      "metadata": {
        "id": "C9LUMQaDVjus"
      },
      "outputs": [],
      "source": [
        "# Data manipulation and analysis\n",
        "import pandas as pd\n",
        "import numpy as np\n",
        "from collections import Counter\n",
        "\n",
        "# Visualization\n",
        "import matplotlib.pyplot as plt\n",
        "import graphviz\n",
        "from IPython.display import display, HTML\n",
        "\n",
        "# Scikit-learn: Model selection and evaluation\n",
        "from sklearn.model_selection import train_test_split\n",
        "\n",
        "# Scikit-learn: Regression models\n",
        "from sklearn.ensemble import RandomForestRegressor\n",
        "\n",
        "# Scikit-learn: Metrics for evaluation\n",
        "from sklearn.metrics import accuracy_score, classification_report, confusion_matrix\n",
        "from sklearn.metrics import mean_squared_error, r2_score\n",
        "\n",
        "# Scikit-learn: Tree visualization\n",
        "from sklearn.tree import export_graphviz\n",
        "from sklearn import tree"
      ]
    },
    {
      "cell_type": "markdown",
      "source": [
        "# 2. Loading the Data into a Pandas DataFrame"
      ],
      "metadata": {
        "id": "kpm2_ggfn83x"
      }
    },
    {
      "cell_type": "markdown",
      "source": [
        "Code Block 2A"
      ],
      "metadata": {
        "id": "DGz_XoKZn9o4"
      }
    },
    {
      "cell_type": "code",
      "source": [
        "from google.colab import drive\n",
        "\n",
        "# Mount Google Drive\n",
        "drive.mount('/content/drive', force_remount=True)"
      ],
      "metadata": {
        "colab": {
          "base_uri": "https://localhost:8080/"
        },
        "id": "_sYiHWZoVygb",
        "outputId": "c6221c20-4318-4a2f-daf1-af8bc8e91a7b"
      },
      "execution_count": null,
      "outputs": [
        {
          "output_type": "stream",
          "name": "stdout",
          "text": [
            "Mounted at /content/drive\n"
          ]
        }
      ]
    },
    {
      "cell_type": "markdown",
      "source": [
        "# 3. Load the CSV File"
      ],
      "metadata": {
        "id": "qpYm9DKooA-f"
      }
    },
    {
      "cell_type": "markdown",
      "source": [
        "Code Block 3A"
      ],
      "metadata": {
        "id": "gBGVDGT9oEVW"
      }
    },
    {
      "cell_type": "code",
      "source": [
        "# Define the path to the CSV file containing water quality data\n",
        "csv_path = \"/content/drive/MyDrive/6. Colab Notebooks/2. Water Quality/Conductance_Turbidity_Test - Sheet3.csv\"\n",
        "\n",
        "# Read the CSV file into a DataFrame using pandas\n",
        "df = pd.read_csv(csv_path)\n",
        "\n",
        "df.head()"
      ],
      "metadata": {
        "colab": {
          "base_uri": "https://localhost:8080/",
          "height": 310
        },
        "id": "MAE6EY0OVzQg",
        "outputId": "9626f2d5-4cb8-4793-ecb0-b06e554b810e"
      },
      "execution_count": null,
      "outputs": [
        {
          "output_type": "execute_result",
          "data": {
            "text/plain": [
              "         Date  Average Specific Conductance μS/cm  Average Turbidity FNU  \\\n",
              "0  2024-05-01                              1185.3                   39.7   \n",
              "1  2024-05-02                              1007.0                   43.1   \n",
              "2  2024-05-03                               864.5                   41.4   \n",
              "3  2024-05-04                               831.7                   37.6   \n",
              "4  2024-05-05                               825.8                   33.8   \n",
              "\n",
              "   Average Temperature C  Average pH  Average Dissolved Oxygen mg/l  \\\n",
              "0                   19.8         8.3                            9.9   \n",
              "1                   20.0         8.3                            9.8   \n",
              "2                   20.9         8.3                            9.7   \n",
              "3                   19.7         8.1                            8.7   \n",
              "4                   18.7         8.1                            9.0   \n",
              "\n",
              "   Average Specific Conductance μS/cm +1 day  \\\n",
              "0                                     1120.0   \n",
              "1                                     1007.0   \n",
              "2                                      864.5   \n",
              "3                                      831.7   \n",
              "4                                      825.8   \n",
              "\n",
              "   Average Specific Conductance μS/cm +1 week  \\\n",
              "0                                       697.8   \n",
              "1                                       713.6   \n",
              "2                                       761.3   \n",
              "3                                       741.2   \n",
              "4                                       675.2   \n",
              "\n",
              "   Average Specific Conductance μS/cm +4 weeks  \n",
              "0                                       1060.0  \n",
              "1                                       1094.5  \n",
              "2                                       1199.9  \n",
              "3                                       1372.7  \n",
              "4                                       1432.4  "
            ],
            "text/html": [
              "\n",
              "  <div id=\"df-47f0c0fe-759e-4159-887c-f1e20a0e83db\" class=\"colab-df-container\">\n",
              "    <div>\n",
              "<style scoped>\n",
              "    .dataframe tbody tr th:only-of-type {\n",
              "        vertical-align: middle;\n",
              "    }\n",
              "\n",
              "    .dataframe tbody tr th {\n",
              "        vertical-align: top;\n",
              "    }\n",
              "\n",
              "    .dataframe thead th {\n",
              "        text-align: right;\n",
              "    }\n",
              "</style>\n",
              "<table border=\"1\" class=\"dataframe\">\n",
              "  <thead>\n",
              "    <tr style=\"text-align: right;\">\n",
              "      <th></th>\n",
              "      <th>Date</th>\n",
              "      <th>Average Specific Conductance μS/cm</th>\n",
              "      <th>Average Turbidity FNU</th>\n",
              "      <th>Average Temperature C</th>\n",
              "      <th>Average pH</th>\n",
              "      <th>Average Dissolved Oxygen mg/l</th>\n",
              "      <th>Average Specific Conductance μS/cm +1 day</th>\n",
              "      <th>Average Specific Conductance μS/cm +1 week</th>\n",
              "      <th>Average Specific Conductance μS/cm +4 weeks</th>\n",
              "    </tr>\n",
              "  </thead>\n",
              "  <tbody>\n",
              "    <tr>\n",
              "      <th>0</th>\n",
              "      <td>2024-05-01</td>\n",
              "      <td>1185.3</td>\n",
              "      <td>39.7</td>\n",
              "      <td>19.8</td>\n",
              "      <td>8.3</td>\n",
              "      <td>9.9</td>\n",
              "      <td>1120.0</td>\n",
              "      <td>697.8</td>\n",
              "      <td>1060.0</td>\n",
              "    </tr>\n",
              "    <tr>\n",
              "      <th>1</th>\n",
              "      <td>2024-05-02</td>\n",
              "      <td>1007.0</td>\n",
              "      <td>43.1</td>\n",
              "      <td>20.0</td>\n",
              "      <td>8.3</td>\n",
              "      <td>9.8</td>\n",
              "      <td>1007.0</td>\n",
              "      <td>713.6</td>\n",
              "      <td>1094.5</td>\n",
              "    </tr>\n",
              "    <tr>\n",
              "      <th>2</th>\n",
              "      <td>2024-05-03</td>\n",
              "      <td>864.5</td>\n",
              "      <td>41.4</td>\n",
              "      <td>20.9</td>\n",
              "      <td>8.3</td>\n",
              "      <td>9.7</td>\n",
              "      <td>864.5</td>\n",
              "      <td>761.3</td>\n",
              "      <td>1199.9</td>\n",
              "    </tr>\n",
              "    <tr>\n",
              "      <th>3</th>\n",
              "      <td>2024-05-04</td>\n",
              "      <td>831.7</td>\n",
              "      <td>37.6</td>\n",
              "      <td>19.7</td>\n",
              "      <td>8.1</td>\n",
              "      <td>8.7</td>\n",
              "      <td>831.7</td>\n",
              "      <td>741.2</td>\n",
              "      <td>1372.7</td>\n",
              "    </tr>\n",
              "    <tr>\n",
              "      <th>4</th>\n",
              "      <td>2024-05-05</td>\n",
              "      <td>825.8</td>\n",
              "      <td>33.8</td>\n",
              "      <td>18.7</td>\n",
              "      <td>8.1</td>\n",
              "      <td>9.0</td>\n",
              "      <td>825.8</td>\n",
              "      <td>675.2</td>\n",
              "      <td>1432.4</td>\n",
              "    </tr>\n",
              "  </tbody>\n",
              "</table>\n",
              "</div>\n",
              "    <div class=\"colab-df-buttons\">\n",
              "\n",
              "  <div class=\"colab-df-container\">\n",
              "    <button class=\"colab-df-convert\" onclick=\"convertToInteractive('df-47f0c0fe-759e-4159-887c-f1e20a0e83db')\"\n",
              "            title=\"Convert this dataframe to an interactive table.\"\n",
              "            style=\"display:none;\">\n",
              "\n",
              "  <svg xmlns=\"http://www.w3.org/2000/svg\" height=\"24px\" viewBox=\"0 -960 960 960\">\n",
              "    <path d=\"M120-120v-720h720v720H120Zm60-500h600v-160H180v160Zm220 220h160v-160H400v160Zm0 220h160v-160H400v160ZM180-400h160v-160H180v160Zm440 0h160v-160H620v160ZM180-180h160v-160H180v160Zm440 0h160v-160H620v160Z\"/>\n",
              "  </svg>\n",
              "    </button>\n",
              "\n",
              "  <style>\n",
              "    .colab-df-container {\n",
              "      display:flex;\n",
              "      gap: 12px;\n",
              "    }\n",
              "\n",
              "    .colab-df-convert {\n",
              "      background-color: #E8F0FE;\n",
              "      border: none;\n",
              "      border-radius: 50%;\n",
              "      cursor: pointer;\n",
              "      display: none;\n",
              "      fill: #1967D2;\n",
              "      height: 32px;\n",
              "      padding: 0 0 0 0;\n",
              "      width: 32px;\n",
              "    }\n",
              "\n",
              "    .colab-df-convert:hover {\n",
              "      background-color: #E2EBFA;\n",
              "      box-shadow: 0px 1px 2px rgba(60, 64, 67, 0.3), 0px 1px 3px 1px rgba(60, 64, 67, 0.15);\n",
              "      fill: #174EA6;\n",
              "    }\n",
              "\n",
              "    .colab-df-buttons div {\n",
              "      margin-bottom: 4px;\n",
              "    }\n",
              "\n",
              "    [theme=dark] .colab-df-convert {\n",
              "      background-color: #3B4455;\n",
              "      fill: #D2E3FC;\n",
              "    }\n",
              "\n",
              "    [theme=dark] .colab-df-convert:hover {\n",
              "      background-color: #434B5C;\n",
              "      box-shadow: 0px 1px 3px 1px rgba(0, 0, 0, 0.15);\n",
              "      filter: drop-shadow(0px 1px 2px rgba(0, 0, 0, 0.3));\n",
              "      fill: #FFFFFF;\n",
              "    }\n",
              "  </style>\n",
              "\n",
              "    <script>\n",
              "      const buttonEl =\n",
              "        document.querySelector('#df-47f0c0fe-759e-4159-887c-f1e20a0e83db button.colab-df-convert');\n",
              "      buttonEl.style.display =\n",
              "        google.colab.kernel.accessAllowed ? 'block' : 'none';\n",
              "\n",
              "      async function convertToInteractive(key) {\n",
              "        const element = document.querySelector('#df-47f0c0fe-759e-4159-887c-f1e20a0e83db');\n",
              "        const dataTable =\n",
              "          await google.colab.kernel.invokeFunction('convertToInteractive',\n",
              "                                                    [key], {});\n",
              "        if (!dataTable) return;\n",
              "\n",
              "        const docLinkHtml = 'Like what you see? Visit the ' +\n",
              "          '<a target=\"_blank\" href=https://colab.research.google.com/notebooks/data_table.ipynb>data table notebook</a>'\n",
              "          + ' to learn more about interactive tables.';\n",
              "        element.innerHTML = '';\n",
              "        dataTable['output_type'] = 'display_data';\n",
              "        await google.colab.output.renderOutput(dataTable, element);\n",
              "        const docLink = document.createElement('div');\n",
              "        docLink.innerHTML = docLinkHtml;\n",
              "        element.appendChild(docLink);\n",
              "      }\n",
              "    </script>\n",
              "  </div>\n",
              "\n",
              "\n",
              "<div id=\"df-d431e1ed-4ed3-4ef2-ba52-4cab98179a77\">\n",
              "  <button class=\"colab-df-quickchart\" onclick=\"quickchart('df-d431e1ed-4ed3-4ef2-ba52-4cab98179a77')\"\n",
              "            title=\"Suggest charts\"\n",
              "            style=\"display:none;\">\n",
              "\n",
              "<svg xmlns=\"http://www.w3.org/2000/svg\" height=\"24px\"viewBox=\"0 0 24 24\"\n",
              "     width=\"24px\">\n",
              "    <g>\n",
              "        <path d=\"M19 3H5c-1.1 0-2 .9-2 2v14c0 1.1.9 2 2 2h14c1.1 0 2-.9 2-2V5c0-1.1-.9-2-2-2zM9 17H7v-7h2v7zm4 0h-2V7h2v10zm4 0h-2v-4h2v4z\"/>\n",
              "    </g>\n",
              "</svg>\n",
              "  </button>\n",
              "\n",
              "<style>\n",
              "  .colab-df-quickchart {\n",
              "      --bg-color: #E8F0FE;\n",
              "      --fill-color: #1967D2;\n",
              "      --hover-bg-color: #E2EBFA;\n",
              "      --hover-fill-color: #174EA6;\n",
              "      --disabled-fill-color: #AAA;\n",
              "      --disabled-bg-color: #DDD;\n",
              "  }\n",
              "\n",
              "  [theme=dark] .colab-df-quickchart {\n",
              "      --bg-color: #3B4455;\n",
              "      --fill-color: #D2E3FC;\n",
              "      --hover-bg-color: #434B5C;\n",
              "      --hover-fill-color: #FFFFFF;\n",
              "      --disabled-bg-color: #3B4455;\n",
              "      --disabled-fill-color: #666;\n",
              "  }\n",
              "\n",
              "  .colab-df-quickchart {\n",
              "    background-color: var(--bg-color);\n",
              "    border: none;\n",
              "    border-radius: 50%;\n",
              "    cursor: pointer;\n",
              "    display: none;\n",
              "    fill: var(--fill-color);\n",
              "    height: 32px;\n",
              "    padding: 0;\n",
              "    width: 32px;\n",
              "  }\n",
              "\n",
              "  .colab-df-quickchart:hover {\n",
              "    background-color: var(--hover-bg-color);\n",
              "    box-shadow: 0 1px 2px rgba(60, 64, 67, 0.3), 0 1px 3px 1px rgba(60, 64, 67, 0.15);\n",
              "    fill: var(--button-hover-fill-color);\n",
              "  }\n",
              "\n",
              "  .colab-df-quickchart-complete:disabled,\n",
              "  .colab-df-quickchart-complete:disabled:hover {\n",
              "    background-color: var(--disabled-bg-color);\n",
              "    fill: var(--disabled-fill-color);\n",
              "    box-shadow: none;\n",
              "  }\n",
              "\n",
              "  .colab-df-spinner {\n",
              "    border: 2px solid var(--fill-color);\n",
              "    border-color: transparent;\n",
              "    border-bottom-color: var(--fill-color);\n",
              "    animation:\n",
              "      spin 1s steps(1) infinite;\n",
              "  }\n",
              "\n",
              "  @keyframes spin {\n",
              "    0% {\n",
              "      border-color: transparent;\n",
              "      border-bottom-color: var(--fill-color);\n",
              "      border-left-color: var(--fill-color);\n",
              "    }\n",
              "    20% {\n",
              "      border-color: transparent;\n",
              "      border-left-color: var(--fill-color);\n",
              "      border-top-color: var(--fill-color);\n",
              "    }\n",
              "    30% {\n",
              "      border-color: transparent;\n",
              "      border-left-color: var(--fill-color);\n",
              "      border-top-color: var(--fill-color);\n",
              "      border-right-color: var(--fill-color);\n",
              "    }\n",
              "    40% {\n",
              "      border-color: transparent;\n",
              "      border-right-color: var(--fill-color);\n",
              "      border-top-color: var(--fill-color);\n",
              "    }\n",
              "    60% {\n",
              "      border-color: transparent;\n",
              "      border-right-color: var(--fill-color);\n",
              "    }\n",
              "    80% {\n",
              "      border-color: transparent;\n",
              "      border-right-color: var(--fill-color);\n",
              "      border-bottom-color: var(--fill-color);\n",
              "    }\n",
              "    90% {\n",
              "      border-color: transparent;\n",
              "      border-bottom-color: var(--fill-color);\n",
              "    }\n",
              "  }\n",
              "</style>\n",
              "\n",
              "  <script>\n",
              "    async function quickchart(key) {\n",
              "      const quickchartButtonEl =\n",
              "        document.querySelector('#' + key + ' button');\n",
              "      quickchartButtonEl.disabled = true;  // To prevent multiple clicks.\n",
              "      quickchartButtonEl.classList.add('colab-df-spinner');\n",
              "      try {\n",
              "        const charts = await google.colab.kernel.invokeFunction(\n",
              "            'suggestCharts', [key], {});\n",
              "      } catch (error) {\n",
              "        console.error('Error during call to suggestCharts:', error);\n",
              "      }\n",
              "      quickchartButtonEl.classList.remove('colab-df-spinner');\n",
              "      quickchartButtonEl.classList.add('colab-df-quickchart-complete');\n",
              "    }\n",
              "    (() => {\n",
              "      let quickchartButtonEl =\n",
              "        document.querySelector('#df-d431e1ed-4ed3-4ef2-ba52-4cab98179a77 button');\n",
              "      quickchartButtonEl.style.display =\n",
              "        google.colab.kernel.accessAllowed ? 'block' : 'none';\n",
              "    })();\n",
              "  </script>\n",
              "</div>\n",
              "\n",
              "    </div>\n",
              "  </div>\n"
            ],
            "application/vnd.google.colaboratory.intrinsic+json": {
              "type": "dataframe",
              "variable_name": "df",
              "summary": "{\n  \"name\": \"df\",\n  \"rows\": 92,\n  \"fields\": [\n    {\n      \"column\": \"Date\",\n      \"properties\": {\n        \"dtype\": \"object\",\n        \"num_unique_values\": 92,\n        \"samples\": [\n          \"2024-06-10\",\n          \"2024-05-23\",\n          \"2024-06-25\"\n        ],\n        \"semantic_type\": \"\",\n        \"description\": \"\"\n      }\n    },\n    {\n      \"column\": \"Average Specific Conductance \\u03bcS/cm\",\n      \"properties\": {\n        \"dtype\": \"number\",\n        \"std\": 267.60898469535715,\n        \"min\": 362.0,\n        \"max\": 1432.4,\n        \"num_unique_values\": 92,\n        \"samples\": [\n          1304.3,\n          666.4,\n          986.0\n        ],\n        \"semantic_type\": \"\",\n        \"description\": \"\"\n      }\n    },\n    {\n      \"column\": \"Average Turbidity FNU\",\n      \"properties\": {\n        \"dtype\": \"number\",\n        \"std\": 15.113178531101521,\n        \"min\": 13.0,\n        \"max\": 104.9,\n        \"num_unique_values\": 85,\n        \"samples\": [\n          19.9,\n          39.7,\n          37.0\n        ],\n        \"semantic_type\": \"\",\n        \"description\": \"\"\n      }\n    },\n    {\n      \"column\": \"Average Temperature C\",\n      \"properties\": {\n        \"dtype\": \"number\",\n        \"std\": 3.6140398506442764,\n        \"min\": 18.7,\n        \"max\": 31.1,\n        \"num_unique_values\": 69,\n        \"samples\": [\n          23.6,\n          19.8,\n          27.6\n        ],\n        \"semantic_type\": \"\",\n        \"description\": \"\"\n      }\n    },\n    {\n      \"column\": \"Average pH\",\n      \"properties\": {\n        \"dtype\": \"number\",\n        \"std\": 0.2437954387554349,\n        \"min\": 7.3,\n        \"max\": 8.3,\n        \"num_unique_values\": 11,\n        \"samples\": [\n          7.7,\n          8.3,\n          7.4\n        ],\n        \"semantic_type\": \"\",\n        \"description\": \"\"\n      }\n    },\n    {\n      \"column\": \"Average Dissolved Oxygen mg/l\",\n      \"properties\": {\n        \"dtype\": \"number\",\n        \"std\": 1.843676969611326,\n        \"min\": 2.9,\n        \"max\": 9.9,\n        \"num_unique_values\": 47,\n        \"samples\": [\n          6.2,\n          4.0,\n          6.8\n        ],\n        \"semantic_type\": \"\",\n        \"description\": \"\"\n      }\n    },\n    {\n      \"column\": \"Average Specific Conductance \\u03bcS/cm +1 day\",\n      \"properties\": {\n        \"dtype\": \"number\",\n        \"std\": 267.0617179590432,\n        \"min\": 362.0,\n        \"max\": 1432.4,\n        \"num_unique_values\": 92,\n        \"samples\": [\n          1304.3,\n          666.4,\n          986.0\n        ],\n        \"semantic_type\": \"\",\n        \"description\": \"\"\n      }\n    },\n    {\n      \"column\": \"Average Specific Conductance \\u03bcS/cm +1 week\",\n      \"properties\": {\n        \"dtype\": \"number\",\n        \"std\": 265.26838772285635,\n        \"min\": 362.0,\n        \"max\": 1432.4,\n        \"num_unique_values\": 92,\n        \"samples\": [\n          882.2,\n          1094.5,\n          1077.7\n        ],\n        \"semantic_type\": \"\",\n        \"description\": \"\"\n      }\n    },\n    {\n      \"column\": \"Average Specific Conductance \\u03bcS/cm +4 weeks\",\n      \"properties\": {\n        \"dtype\": \"number\",\n        \"std\": 193.22034245743728,\n        \"min\": 730.2,\n        \"max\": 1432.4,\n        \"num_unique_values\": 92,\n        \"samples\": [\n          1196.7,\n          730.2,\n          890.1\n        ],\n        \"semantic_type\": \"\",\n        \"description\": \"\"\n      }\n    }\n  ]\n}"
            }
          },
          "metadata": {},
          "execution_count": 4
        }
      ]
    },
    {
      "cell_type": "markdown",
      "source": [
        "# 4. Preprocessing the Dataset"
      ],
      "metadata": {
        "id": "3ryP5LAfhmbn"
      }
    },
    {
      "cell_type": "markdown",
      "source": [
        "## 4.1 Separating the Dataset into Inputs and Target"
      ],
      "metadata": {
        "id": "MGapT96RhqX1"
      }
    },
    {
      "cell_type": "markdown",
      "source": [
        "Code Block 4A"
      ],
      "metadata": {
        "id": "4EjFdDKld-XB"
      }
    },
    {
      "cell_type": "code",
      "source": [
        "# Drop the 'Date' column and the target columns ('Average DO (1 day)', 'Average DO (1 week)', 'Average DO (4 weeks)')\n",
        "# from the DataFrame to create the input features DataFrame\n",
        "inputs = df.drop(['Date', 'Average Specific Conductance μS/cm +1 day','Average Specific Conductance μS/cm +1 week','Average Specific Conductance μS/cm +4 weeks'], axis='columns')\n",
        "\n",
        "# Select the target columns ('Average DO (1 day)', 'Average DO (1 week)', 'Average DO (4 weeks)')\n",
        "# from the DataFrame to create the target DataFrame\n",
        "target = df[['Average Specific Conductance μS/cm +1 day','Average Specific Conductance μS/cm +1 week','Average Specific Conductance μS/cm +4 weeks']]"
      ],
      "metadata": {
        "collapsed": true,
        "id": "5ZitDZEaCEI-"
      },
      "execution_count": null,
      "outputs": []
    },
    {
      "cell_type": "markdown",
      "source": [
        "Code Block 4B"
      ],
      "metadata": {
        "id": "V8g0TwTqeAAN"
      }
    },
    {
      "cell_type": "code",
      "source": [
        "# Convert the inputs DataFrame to a NumPy array with float data type\n",
        "inputs = np.array(inputs, dtype=float)\n",
        "\n",
        "# Convert the target DataFrame to a NumPy array with float data type\n",
        "target = np.array(target, dtype=float)"
      ],
      "metadata": {
        "id": "MvklElsGhHzA"
      },
      "execution_count": null,
      "outputs": []
    },
    {
      "cell_type": "markdown",
      "source": [
        "## 4.2 Splitting the Training and Testing Data"
      ],
      "metadata": {
        "id": "WsKm__jPiQau"
      }
    },
    {
      "cell_type": "markdown",
      "source": [
        "Code Block 4C"
      ],
      "metadata": {
        "id": "OxYFRqxieDks"
      }
    },
    {
      "cell_type": "code",
      "source": [
        "# Split the data into train and test sets (80% train, 20% test)\n",
        "X_train, X_test, y_train, y_test = train_test_split(inputs, target, test_size=0.2, random_state=42)\n",
        "\n",
        "print(\"X_train shape:\", X_train.shape)\n",
        "print(\"X_test shape:\", X_test.shape)\n",
        "print(\"y_train shape:\", y_train.shape)\n",
        "print(\"y_test shape:\", y_test.shape)"
      ],
      "metadata": {
        "id": "pm3iyBSRiTbf",
        "colab": {
          "base_uri": "https://localhost:8080/"
        },
        "outputId": "d9f20fc7-956f-46f8-bc34-bb1dd8476d30"
      },
      "execution_count": null,
      "outputs": [
        {
          "output_type": "stream",
          "name": "stdout",
          "text": [
            "X_train shape: (73, 5)\n",
            "X_test shape: (19, 5)\n",
            "y_train shape: (73, 3)\n",
            "y_test shape: (19, 3)\n"
          ]
        }
      ]
    },
    {
      "cell_type": "markdown",
      "source": [
        "# 5. Training the Model\n"
      ],
      "metadata": {
        "id": "gCGvez2eiw_d"
      }
    },
    {
      "cell_type": "markdown",
      "source": [
        "Code Block 5A"
      ],
      "metadata": {
        "id": "IBiYoluDersc"
      }
    },
    {
      "cell_type": "code",
      "source": [
        "# Initialize a RandomForestRegressor model from the scikit-learn library\n",
        "model = RandomForestRegressor()"
      ],
      "metadata": {
        "id": "TIWoibtAhslE"
      },
      "execution_count": null,
      "outputs": []
    },
    {
      "cell_type": "markdown",
      "source": [
        "Code Block 5B"
      ],
      "metadata": {
        "id": "jtCvOAKzetsr"
      }
    },
    {
      "cell_type": "code",
      "source": [
        "# Fitting the model to the training data (X_train) and corresponding labels (y_train)\n",
        "model.fit(X_train, y_train)"
      ],
      "metadata": {
        "id": "eOo6Z-pbh3Qj",
        "colab": {
          "base_uri": "https://localhost:8080/",
          "height": 80
        },
        "outputId": "9b85c0c0-6014-49e2-a9cc-65433df55ea1"
      },
      "execution_count": null,
      "outputs": [
        {
          "output_type": "execute_result",
          "data": {
            "text/plain": [
              "RandomForestRegressor()"
            ],
            "text/html": [
              "<style>#sk-container-id-1 {\n",
              "  /* Definition of color scheme common for light and dark mode */\n",
              "  --sklearn-color-text: #000;\n",
              "  --sklearn-color-text-muted: #666;\n",
              "  --sklearn-color-line: gray;\n",
              "  /* Definition of color scheme for unfitted estimators */\n",
              "  --sklearn-color-unfitted-level-0: #fff5e6;\n",
              "  --sklearn-color-unfitted-level-1: #f6e4d2;\n",
              "  --sklearn-color-unfitted-level-2: #ffe0b3;\n",
              "  --sklearn-color-unfitted-level-3: chocolate;\n",
              "  /* Definition of color scheme for fitted estimators */\n",
              "  --sklearn-color-fitted-level-0: #f0f8ff;\n",
              "  --sklearn-color-fitted-level-1: #d4ebff;\n",
              "  --sklearn-color-fitted-level-2: #b3dbfd;\n",
              "  --sklearn-color-fitted-level-3: cornflowerblue;\n",
              "\n",
              "  /* Specific color for light theme */\n",
              "  --sklearn-color-text-on-default-background: var(--sg-text-color, var(--theme-code-foreground, var(--jp-content-font-color1, black)));\n",
              "  --sklearn-color-background: var(--sg-background-color, var(--theme-background, var(--jp-layout-color0, white)));\n",
              "  --sklearn-color-border-box: var(--sg-text-color, var(--theme-code-foreground, var(--jp-content-font-color1, black)));\n",
              "  --sklearn-color-icon: #696969;\n",
              "\n",
              "  @media (prefers-color-scheme: dark) {\n",
              "    /* Redefinition of color scheme for dark theme */\n",
              "    --sklearn-color-text-on-default-background: var(--sg-text-color, var(--theme-code-foreground, var(--jp-content-font-color1, white)));\n",
              "    --sklearn-color-background: var(--sg-background-color, var(--theme-background, var(--jp-layout-color0, #111)));\n",
              "    --sklearn-color-border-box: var(--sg-text-color, var(--theme-code-foreground, var(--jp-content-font-color1, white)));\n",
              "    --sklearn-color-icon: #878787;\n",
              "  }\n",
              "}\n",
              "\n",
              "#sk-container-id-1 {\n",
              "  color: var(--sklearn-color-text);\n",
              "}\n",
              "\n",
              "#sk-container-id-1 pre {\n",
              "  padding: 0;\n",
              "}\n",
              "\n",
              "#sk-container-id-1 input.sk-hidden--visually {\n",
              "  border: 0;\n",
              "  clip: rect(1px 1px 1px 1px);\n",
              "  clip: rect(1px, 1px, 1px, 1px);\n",
              "  height: 1px;\n",
              "  margin: -1px;\n",
              "  overflow: hidden;\n",
              "  padding: 0;\n",
              "  position: absolute;\n",
              "  width: 1px;\n",
              "}\n",
              "\n",
              "#sk-container-id-1 div.sk-dashed-wrapped {\n",
              "  border: 1px dashed var(--sklearn-color-line);\n",
              "  margin: 0 0.4em 0.5em 0.4em;\n",
              "  box-sizing: border-box;\n",
              "  padding-bottom: 0.4em;\n",
              "  background-color: var(--sklearn-color-background);\n",
              "}\n",
              "\n",
              "#sk-container-id-1 div.sk-container {\n",
              "  /* jupyter's `normalize.less` sets `[hidden] { display: none; }`\n",
              "     but bootstrap.min.css set `[hidden] { display: none !important; }`\n",
              "     so we also need the `!important` here to be able to override the\n",
              "     default hidden behavior on the sphinx rendered scikit-learn.org.\n",
              "     See: https://github.com/scikit-learn/scikit-learn/issues/21755 */\n",
              "  display: inline-block !important;\n",
              "  position: relative;\n",
              "}\n",
              "\n",
              "#sk-container-id-1 div.sk-text-repr-fallback {\n",
              "  display: none;\n",
              "}\n",
              "\n",
              "div.sk-parallel-item,\n",
              "div.sk-serial,\n",
              "div.sk-item {\n",
              "  /* draw centered vertical line to link estimators */\n",
              "  background-image: linear-gradient(var(--sklearn-color-text-on-default-background), var(--sklearn-color-text-on-default-background));\n",
              "  background-size: 2px 100%;\n",
              "  background-repeat: no-repeat;\n",
              "  background-position: center center;\n",
              "}\n",
              "\n",
              "/* Parallel-specific style estimator block */\n",
              "\n",
              "#sk-container-id-1 div.sk-parallel-item::after {\n",
              "  content: \"\";\n",
              "  width: 100%;\n",
              "  border-bottom: 2px solid var(--sklearn-color-text-on-default-background);\n",
              "  flex-grow: 1;\n",
              "}\n",
              "\n",
              "#sk-container-id-1 div.sk-parallel {\n",
              "  display: flex;\n",
              "  align-items: stretch;\n",
              "  justify-content: center;\n",
              "  background-color: var(--sklearn-color-background);\n",
              "  position: relative;\n",
              "}\n",
              "\n",
              "#sk-container-id-1 div.sk-parallel-item {\n",
              "  display: flex;\n",
              "  flex-direction: column;\n",
              "}\n",
              "\n",
              "#sk-container-id-1 div.sk-parallel-item:first-child::after {\n",
              "  align-self: flex-end;\n",
              "  width: 50%;\n",
              "}\n",
              "\n",
              "#sk-container-id-1 div.sk-parallel-item:last-child::after {\n",
              "  align-self: flex-start;\n",
              "  width: 50%;\n",
              "}\n",
              "\n",
              "#sk-container-id-1 div.sk-parallel-item:only-child::after {\n",
              "  width: 0;\n",
              "}\n",
              "\n",
              "/* Serial-specific style estimator block */\n",
              "\n",
              "#sk-container-id-1 div.sk-serial {\n",
              "  display: flex;\n",
              "  flex-direction: column;\n",
              "  align-items: center;\n",
              "  background-color: var(--sklearn-color-background);\n",
              "  padding-right: 1em;\n",
              "  padding-left: 1em;\n",
              "}\n",
              "\n",
              "\n",
              "/* Toggleable style: style used for estimator/Pipeline/ColumnTransformer box that is\n",
              "clickable and can be expanded/collapsed.\n",
              "- Pipeline and ColumnTransformer use this feature and define the default style\n",
              "- Estimators will overwrite some part of the style using the `sk-estimator` class\n",
              "*/\n",
              "\n",
              "/* Pipeline and ColumnTransformer style (default) */\n",
              "\n",
              "#sk-container-id-1 div.sk-toggleable {\n",
              "  /* Default theme specific background. It is overwritten whether we have a\n",
              "  specific estimator or a Pipeline/ColumnTransformer */\n",
              "  background-color: var(--sklearn-color-background);\n",
              "}\n",
              "\n",
              "/* Toggleable label */\n",
              "#sk-container-id-1 label.sk-toggleable__label {\n",
              "  cursor: pointer;\n",
              "  display: flex;\n",
              "  width: 100%;\n",
              "  margin-bottom: 0;\n",
              "  padding: 0.5em;\n",
              "  box-sizing: border-box;\n",
              "  text-align: center;\n",
              "  align-items: start;\n",
              "  justify-content: space-between;\n",
              "  gap: 0.5em;\n",
              "}\n",
              "\n",
              "#sk-container-id-1 label.sk-toggleable__label .caption {\n",
              "  font-size: 0.6rem;\n",
              "  font-weight: lighter;\n",
              "  color: var(--sklearn-color-text-muted);\n",
              "}\n",
              "\n",
              "#sk-container-id-1 label.sk-toggleable__label-arrow:before {\n",
              "  /* Arrow on the left of the label */\n",
              "  content: \"▸\";\n",
              "  float: left;\n",
              "  margin-right: 0.25em;\n",
              "  color: var(--sklearn-color-icon);\n",
              "}\n",
              "\n",
              "#sk-container-id-1 label.sk-toggleable__label-arrow:hover:before {\n",
              "  color: var(--sklearn-color-text);\n",
              "}\n",
              "\n",
              "/* Toggleable content - dropdown */\n",
              "\n",
              "#sk-container-id-1 div.sk-toggleable__content {\n",
              "  max-height: 0;\n",
              "  max-width: 0;\n",
              "  overflow: hidden;\n",
              "  text-align: left;\n",
              "  /* unfitted */\n",
              "  background-color: var(--sklearn-color-unfitted-level-0);\n",
              "}\n",
              "\n",
              "#sk-container-id-1 div.sk-toggleable__content.fitted {\n",
              "  /* fitted */\n",
              "  background-color: var(--sklearn-color-fitted-level-0);\n",
              "}\n",
              "\n",
              "#sk-container-id-1 div.sk-toggleable__content pre {\n",
              "  margin: 0.2em;\n",
              "  border-radius: 0.25em;\n",
              "  color: var(--sklearn-color-text);\n",
              "  /* unfitted */\n",
              "  background-color: var(--sklearn-color-unfitted-level-0);\n",
              "}\n",
              "\n",
              "#sk-container-id-1 div.sk-toggleable__content.fitted pre {\n",
              "  /* unfitted */\n",
              "  background-color: var(--sklearn-color-fitted-level-0);\n",
              "}\n",
              "\n",
              "#sk-container-id-1 input.sk-toggleable__control:checked~div.sk-toggleable__content {\n",
              "  /* Expand drop-down */\n",
              "  max-height: 200px;\n",
              "  max-width: 100%;\n",
              "  overflow: auto;\n",
              "}\n",
              "\n",
              "#sk-container-id-1 input.sk-toggleable__control:checked~label.sk-toggleable__label-arrow:before {\n",
              "  content: \"▾\";\n",
              "}\n",
              "\n",
              "/* Pipeline/ColumnTransformer-specific style */\n",
              "\n",
              "#sk-container-id-1 div.sk-label input.sk-toggleable__control:checked~label.sk-toggleable__label {\n",
              "  color: var(--sklearn-color-text);\n",
              "  background-color: var(--sklearn-color-unfitted-level-2);\n",
              "}\n",
              "\n",
              "#sk-container-id-1 div.sk-label.fitted input.sk-toggleable__control:checked~label.sk-toggleable__label {\n",
              "  background-color: var(--sklearn-color-fitted-level-2);\n",
              "}\n",
              "\n",
              "/* Estimator-specific style */\n",
              "\n",
              "/* Colorize estimator box */\n",
              "#sk-container-id-1 div.sk-estimator input.sk-toggleable__control:checked~label.sk-toggleable__label {\n",
              "  /* unfitted */\n",
              "  background-color: var(--sklearn-color-unfitted-level-2);\n",
              "}\n",
              "\n",
              "#sk-container-id-1 div.sk-estimator.fitted input.sk-toggleable__control:checked~label.sk-toggleable__label {\n",
              "  /* fitted */\n",
              "  background-color: var(--sklearn-color-fitted-level-2);\n",
              "}\n",
              "\n",
              "#sk-container-id-1 div.sk-label label.sk-toggleable__label,\n",
              "#sk-container-id-1 div.sk-label label {\n",
              "  /* The background is the default theme color */\n",
              "  color: var(--sklearn-color-text-on-default-background);\n",
              "}\n",
              "\n",
              "/* On hover, darken the color of the background */\n",
              "#sk-container-id-1 div.sk-label:hover label.sk-toggleable__label {\n",
              "  color: var(--sklearn-color-text);\n",
              "  background-color: var(--sklearn-color-unfitted-level-2);\n",
              "}\n",
              "\n",
              "/* Label box, darken color on hover, fitted */\n",
              "#sk-container-id-1 div.sk-label.fitted:hover label.sk-toggleable__label.fitted {\n",
              "  color: var(--sklearn-color-text);\n",
              "  background-color: var(--sklearn-color-fitted-level-2);\n",
              "}\n",
              "\n",
              "/* Estimator label */\n",
              "\n",
              "#sk-container-id-1 div.sk-label label {\n",
              "  font-family: monospace;\n",
              "  font-weight: bold;\n",
              "  display: inline-block;\n",
              "  line-height: 1.2em;\n",
              "}\n",
              "\n",
              "#sk-container-id-1 div.sk-label-container {\n",
              "  text-align: center;\n",
              "}\n",
              "\n",
              "/* Estimator-specific */\n",
              "#sk-container-id-1 div.sk-estimator {\n",
              "  font-family: monospace;\n",
              "  border: 1px dotted var(--sklearn-color-border-box);\n",
              "  border-radius: 0.25em;\n",
              "  box-sizing: border-box;\n",
              "  margin-bottom: 0.5em;\n",
              "  /* unfitted */\n",
              "  background-color: var(--sklearn-color-unfitted-level-0);\n",
              "}\n",
              "\n",
              "#sk-container-id-1 div.sk-estimator.fitted {\n",
              "  /* fitted */\n",
              "  background-color: var(--sklearn-color-fitted-level-0);\n",
              "}\n",
              "\n",
              "/* on hover */\n",
              "#sk-container-id-1 div.sk-estimator:hover {\n",
              "  /* unfitted */\n",
              "  background-color: var(--sklearn-color-unfitted-level-2);\n",
              "}\n",
              "\n",
              "#sk-container-id-1 div.sk-estimator.fitted:hover {\n",
              "  /* fitted */\n",
              "  background-color: var(--sklearn-color-fitted-level-2);\n",
              "}\n",
              "\n",
              "/* Specification for estimator info (e.g. \"i\" and \"?\") */\n",
              "\n",
              "/* Common style for \"i\" and \"?\" */\n",
              "\n",
              ".sk-estimator-doc-link,\n",
              "a:link.sk-estimator-doc-link,\n",
              "a:visited.sk-estimator-doc-link {\n",
              "  float: right;\n",
              "  font-size: smaller;\n",
              "  line-height: 1em;\n",
              "  font-family: monospace;\n",
              "  background-color: var(--sklearn-color-background);\n",
              "  border-radius: 1em;\n",
              "  height: 1em;\n",
              "  width: 1em;\n",
              "  text-decoration: none !important;\n",
              "  margin-left: 0.5em;\n",
              "  text-align: center;\n",
              "  /* unfitted */\n",
              "  border: var(--sklearn-color-unfitted-level-1) 1pt solid;\n",
              "  color: var(--sklearn-color-unfitted-level-1);\n",
              "}\n",
              "\n",
              ".sk-estimator-doc-link.fitted,\n",
              "a:link.sk-estimator-doc-link.fitted,\n",
              "a:visited.sk-estimator-doc-link.fitted {\n",
              "  /* fitted */\n",
              "  border: var(--sklearn-color-fitted-level-1) 1pt solid;\n",
              "  color: var(--sklearn-color-fitted-level-1);\n",
              "}\n",
              "\n",
              "/* On hover */\n",
              "div.sk-estimator:hover .sk-estimator-doc-link:hover,\n",
              ".sk-estimator-doc-link:hover,\n",
              "div.sk-label-container:hover .sk-estimator-doc-link:hover,\n",
              ".sk-estimator-doc-link:hover {\n",
              "  /* unfitted */\n",
              "  background-color: var(--sklearn-color-unfitted-level-3);\n",
              "  color: var(--sklearn-color-background);\n",
              "  text-decoration: none;\n",
              "}\n",
              "\n",
              "div.sk-estimator.fitted:hover .sk-estimator-doc-link.fitted:hover,\n",
              ".sk-estimator-doc-link.fitted:hover,\n",
              "div.sk-label-container:hover .sk-estimator-doc-link.fitted:hover,\n",
              ".sk-estimator-doc-link.fitted:hover {\n",
              "  /* fitted */\n",
              "  background-color: var(--sklearn-color-fitted-level-3);\n",
              "  color: var(--sklearn-color-background);\n",
              "  text-decoration: none;\n",
              "}\n",
              "\n",
              "/* Span, style for the box shown on hovering the info icon */\n",
              ".sk-estimator-doc-link span {\n",
              "  display: none;\n",
              "  z-index: 9999;\n",
              "  position: relative;\n",
              "  font-weight: normal;\n",
              "  right: .2ex;\n",
              "  padding: .5ex;\n",
              "  margin: .5ex;\n",
              "  width: min-content;\n",
              "  min-width: 20ex;\n",
              "  max-width: 50ex;\n",
              "  color: var(--sklearn-color-text);\n",
              "  box-shadow: 2pt 2pt 4pt #999;\n",
              "  /* unfitted */\n",
              "  background: var(--sklearn-color-unfitted-level-0);\n",
              "  border: .5pt solid var(--sklearn-color-unfitted-level-3);\n",
              "}\n",
              "\n",
              ".sk-estimator-doc-link.fitted span {\n",
              "  /* fitted */\n",
              "  background: var(--sklearn-color-fitted-level-0);\n",
              "  border: var(--sklearn-color-fitted-level-3);\n",
              "}\n",
              "\n",
              ".sk-estimator-doc-link:hover span {\n",
              "  display: block;\n",
              "}\n",
              "\n",
              "/* \"?\"-specific style due to the `<a>` HTML tag */\n",
              "\n",
              "#sk-container-id-1 a.estimator_doc_link {\n",
              "  float: right;\n",
              "  font-size: 1rem;\n",
              "  line-height: 1em;\n",
              "  font-family: monospace;\n",
              "  background-color: var(--sklearn-color-background);\n",
              "  border-radius: 1rem;\n",
              "  height: 1rem;\n",
              "  width: 1rem;\n",
              "  text-decoration: none;\n",
              "  /* unfitted */\n",
              "  color: var(--sklearn-color-unfitted-level-1);\n",
              "  border: var(--sklearn-color-unfitted-level-1) 1pt solid;\n",
              "}\n",
              "\n",
              "#sk-container-id-1 a.estimator_doc_link.fitted {\n",
              "  /* fitted */\n",
              "  border: var(--sklearn-color-fitted-level-1) 1pt solid;\n",
              "  color: var(--sklearn-color-fitted-level-1);\n",
              "}\n",
              "\n",
              "/* On hover */\n",
              "#sk-container-id-1 a.estimator_doc_link:hover {\n",
              "  /* unfitted */\n",
              "  background-color: var(--sklearn-color-unfitted-level-3);\n",
              "  color: var(--sklearn-color-background);\n",
              "  text-decoration: none;\n",
              "}\n",
              "\n",
              "#sk-container-id-1 a.estimator_doc_link.fitted:hover {\n",
              "  /* fitted */\n",
              "  background-color: var(--sklearn-color-fitted-level-3);\n",
              "}\n",
              "</style><div id=\"sk-container-id-1\" class=\"sk-top-container\"><div class=\"sk-text-repr-fallback\"><pre>RandomForestRegressor()</pre><b>In a Jupyter environment, please rerun this cell to show the HTML representation or trust the notebook. <br />On GitHub, the HTML representation is unable to render, please try loading this page with nbviewer.org.</b></div><div class=\"sk-container\" hidden><div class=\"sk-item\"><div class=\"sk-estimator fitted sk-toggleable\"><input class=\"sk-toggleable__control sk-hidden--visually\" id=\"sk-estimator-id-1\" type=\"checkbox\" checked><label for=\"sk-estimator-id-1\" class=\"sk-toggleable__label fitted sk-toggleable__label-arrow\"><div><div>RandomForestRegressor</div></div><div><a class=\"sk-estimator-doc-link fitted\" rel=\"noreferrer\" target=\"_blank\" href=\"https://scikit-learn.org/1.6/modules/generated/sklearn.ensemble.RandomForestRegressor.html\">?<span>Documentation for RandomForestRegressor</span></a><span class=\"sk-estimator-doc-link fitted\">i<span>Fitted</span></span></div></label><div class=\"sk-toggleable__content fitted\"><pre>RandomForestRegressor()</pre></div> </div></div></div></div>"
            ]
          },
          "metadata": {},
          "execution_count": 9
        }
      ]
    },
    {
      "cell_type": "markdown",
      "source": [
        "Code Block 5C"
      ],
      "metadata": {
        "id": "QvMZZIJHew5K"
      }
    },
    {
      "cell_type": "code",
      "source": [
        "# Using the trained model to make predictions on the test data (X_test)\n",
        "y_pred = model.predict(X_test)\n",
        "\n",
        "# Rounding to 1 decimal place\n",
        "rounded_y_pred = np.round(y_pred, 1)\n",
        "\n",
        "# Printing the predicted labels\n",
        "print(rounded_y_pred)"
      ],
      "metadata": {
        "id": "_qKQn5IFh84K",
        "colab": {
          "base_uri": "https://localhost:8080/"
        },
        "outputId": "5327baac-1777-49a3-c933-0485305de7e1"
      },
      "execution_count": null,
      "outputs": [
        {
          "output_type": "stream",
          "name": "stdout",
          "text": [
            "[[1304.2 1042.8  945.3]\n",
            " [ 723.   977.   995.2]\n",
            " [ 965.4 1002.2  885.8]\n",
            " [1033.5 1057.3  870.2]\n",
            " [1011.   925.2 1108.9]\n",
            " [1088.4 1335.5  943.4]\n",
            " [1360.8 1058.9 1000.7]\n",
            " [1202.2 1051.5  921.2]\n",
            " [ 664.4  515.7 1301.2]\n",
            " [1111.3 1046.1  971.7]\n",
            " [ 793.7  956.6  826.2]\n",
            " [1346.1 1080.   953.8]\n",
            " [ 940.   972.5  902.2]\n",
            " [ 976.1  872.1  879. ]\n",
            " [ 585.   522.6 1202.3]\n",
            " [ 776.4  747.4 1258.6]\n",
            " [ 434.8  919.5  988.1]\n",
            " [1072.4 1274.   963.2]\n",
            " [ 800.8  966.3 1007.8]]\n"
          ]
        }
      ]
    },
    {
      "cell_type": "code",
      "source": [
        "# Using the trained model to make predictions on the test data (X_test)\n",
        "y_pred = model.predict(X_test)\n",
        "\n",
        "# Rounding to 1 decimal place\n",
        "rounded_y_pred = np.round(y_pred, 1)\n",
        "\n",
        "# Printing the predicted labels\n",
        "print(rounded_y_pred)"
      ],
      "metadata": {
        "colab": {
          "base_uri": "https://localhost:8080/"
        },
        "id": "aVJQyhuDQ7aE",
        "outputId": "b71faa51-2917-4b15-dee5-abf5aa1b68b2"
      },
      "execution_count": null,
      "outputs": [
        {
          "output_type": "stream",
          "name": "stdout",
          "text": [
            "[[1304.2 1042.8  945.3]\n",
            " [ 723.   977.   995.2]\n",
            " [ 965.4 1002.2  885.8]\n",
            " [1033.5 1057.3  870.2]\n",
            " [1011.   925.2 1108.9]\n",
            " [1088.4 1335.5  943.4]\n",
            " [1360.8 1058.9 1000.7]\n",
            " [1202.2 1051.5  921.2]\n",
            " [ 664.4  515.7 1301.2]\n",
            " [1111.3 1046.1  971.7]\n",
            " [ 793.7  956.6  826.2]\n",
            " [1346.1 1080.   953.8]\n",
            " [ 940.   972.5  902.2]\n",
            " [ 976.1  872.1  879. ]\n",
            " [ 585.   522.6 1202.3]\n",
            " [ 776.4  747.4 1258.6]\n",
            " [ 434.8  919.5  988.1]\n",
            " [1072.4 1274.   963.2]\n",
            " [ 800.8  966.3 1007.8]]\n"
          ]
        }
      ]
    },
    {
      "cell_type": "markdown",
      "source": [
        "Code Block 5D"
      ],
      "metadata": {
        "id": "NEb0rIgDey0h"
      }
    },
    {
      "cell_type": "code",
      "source": [
        "# Rounding to 1 decimal place\n",
        "rounded_y_test = np.round(y_test, 1)\n",
        "\n",
        "print(rounded_y_test)"
      ],
      "metadata": {
        "id": "2HXk0ZdEh_qz",
        "colab": {
          "base_uri": "https://localhost:8080/"
        },
        "outputId": "fc0ff13f-dffe-48c4-89fe-9a35788efd62"
      },
      "execution_count": null,
      "outputs": [
        {
          "output_type": "stream",
          "name": "stdout",
          "text": [
            "[[1304.3  882.2 1196.7]\n",
            " [ 666.4 1094.5  730.2]\n",
            " [ 986.  1077.7  890.1]\n",
            " [1029.   873.6  959. ]\n",
            " [1120.   697.8 1060. ]\n",
            " [1085.7 1332.9  922. ]\n",
            " [1410.4 1004.5 1222.5]\n",
            " [1196.7 1145.   899.5]\n",
            " [ 675.2  362.  1414.4]\n",
            " [1078.7  746.8  858.6]\n",
            " [ 877.2  962.2  813.8]\n",
            " [1404.  1072.   990.1]\n",
            " [ 962.2  836.9  788.8]\n",
            " [ 990.1 1031.6  962.2]\n",
            " [ 514.3  437.7 1410.4]\n",
            " [ 825.8  675.2 1432.4]\n",
            " [ 437.7 1014.7 1004.5]\n",
            " [1094.5 1386.9  986. ]\n",
            " [ 730.2  986.   931. ]]\n"
          ]
        }
      ]
    },
    {
      "cell_type": "markdown",
      "source": [
        "# 6. Feature Importance"
      ],
      "metadata": {
        "id": "qVX8XBlce6P5"
      }
    },
    {
      "cell_type": "markdown",
      "source": [
        "Code Block 6A"
      ],
      "metadata": {
        "id": "PCDMOth3e8C5"
      }
    },
    {
      "cell_type": "code",
      "source": [
        "# TODO: Change this value to view the other decision trees\n",
        "tree_number = 1\n",
        "\n",
        "# TODO: Change this value to change the depth of the decision tree\n",
        "max_depth = 3\n",
        "\n",
        "tree = model.estimators_[tree_number]\n",
        "\n",
        "feature_names = ['Average Dissolved Oxygen', 'Average Temperature C',\t'Average Turbidity FNU', 'Average pH', 'Average Specific Conductance μS/cm']\n",
        "\n",
        "dot_data = export_graphviz(tree, feature_names=feature_names, filled=True, rounded=True, max_depth=max_depth)\n",
        "\n",
        "graph = graphviz.Source(dot_data)\n",
        "graph.render(\"water_tree\")\n",
        "graph"
      ],
      "metadata": {
        "colab": {
          "base_uri": "https://localhost:8080/",
          "height": 814
        },
        "id": "otx22JCkQS2U",
        "outputId": "236c48b3-377d-4d0f-da49-991d9f8a0f5d"
      },
      "execution_count": null,
      "outputs": [
        {
          "output_type": "execute_result",
          "data": {
            "image/svg+xml": "<?xml version=\"1.0\" encoding=\"UTF-8\" standalone=\"no\"?>\n<!DOCTYPE svg PUBLIC \"-//W3C//DTD SVG 1.1//EN\"\n \"http://www.w3.org/Graphics/SVG/1.1/DTD/svg11.dtd\">\n<!-- Generated by graphviz version 2.43.0 (0)\n -->\n<!-- Title: Tree Pages: 1 -->\n<svg width=\"1760pt\" height=\"580pt\"\n viewBox=\"0.00 0.00 1759.50 580.00\" xmlns=\"http://www.w3.org/2000/svg\" xmlns:xlink=\"http://www.w3.org/1999/xlink\">\n<g id=\"graph0\" class=\"graph\" transform=\"scale(1 1) rotate(0) translate(4 576)\">\n<title>Tree</title>\n<polygon fill=\"white\" stroke=\"transparent\" points=\"-4,4 -4,-576 1755.5,-576 1755.5,4 -4,4\"/>\n<!-- 0 -->\n<g id=\"node1\" class=\"node\">\n<title>0</title>\n<path fill=\"#ffffff\" stroke=\"black\" d=\"M872.5,-572C872.5,-572 643.5,-572 643.5,-572 637.5,-572 631.5,-566 631.5,-560 631.5,-560 631.5,-486 631.5,-486 631.5,-480 637.5,-474 643.5,-474 643.5,-474 872.5,-474 872.5,-474 878.5,-474 884.5,-480 884.5,-486 884.5,-486 884.5,-560 884.5,-560 884.5,-566 878.5,-572 872.5,-572\"/>\n<text text-anchor=\"middle\" x=\"758\" y=\"-556.8\" font-family=\"Helvetica,sans-Serif\" font-size=\"14.00\">Average Dissolved Oxygen &lt;= 1013.05</text>\n<text text-anchor=\"middle\" x=\"758\" y=\"-541.8\" font-family=\"Helvetica,sans-Serif\" font-size=\"14.00\">squared_error = 51431.264</text>\n<text text-anchor=\"middle\" x=\"758\" y=\"-526.8\" font-family=\"Helvetica,sans-Serif\" font-size=\"14.00\">samples = 42</text>\n<text text-anchor=\"middle\" x=\"758\" y=\"-511.8\" font-family=\"Helvetica,sans-Serif\" font-size=\"14.00\">value = [[929.115]</text>\n<text text-anchor=\"middle\" x=\"758\" y=\"-496.8\" font-family=\"Helvetica,sans-Serif\" font-size=\"14.00\">[953.433]</text>\n<text text-anchor=\"middle\" x=\"758\" y=\"-481.8\" font-family=\"Helvetica,sans-Serif\" font-size=\"14.00\">[969.636]]</text>\n</g>\n<!-- 1 -->\n<g id=\"node2\" class=\"node\">\n<title>1</title>\n<path fill=\"#f8dfcd\" stroke=\"black\" d=\"M751.5,-438C751.5,-438 480.5,-438 480.5,-438 474.5,-438 468.5,-432 468.5,-426 468.5,-426 468.5,-352 468.5,-352 468.5,-346 474.5,-340 480.5,-340 480.5,-340 751.5,-340 751.5,-340 757.5,-340 763.5,-346 763.5,-352 763.5,-352 763.5,-426 763.5,-426 763.5,-432 757.5,-438 751.5,-438\"/>\n<text text-anchor=\"middle\" x=\"616\" y=\"-422.8\" font-family=\"Helvetica,sans-Serif\" font-size=\"14.00\">Average Specific Conductance μS/cm &lt;= 9.25</text>\n<text text-anchor=\"middle\" x=\"616\" y=\"-407.8\" font-family=\"Helvetica,sans-Serif\" font-size=\"14.00\">squared_error = 38410.398</text>\n<text text-anchor=\"middle\" x=\"616\" y=\"-392.8\" font-family=\"Helvetica,sans-Serif\" font-size=\"14.00\">samples = 29</text>\n<text text-anchor=\"middle\" x=\"616\" y=\"-377.8\" font-family=\"Helvetica,sans-Serif\" font-size=\"14.00\">value = [[809.267]</text>\n<text text-anchor=\"middle\" x=\"616\" y=\"-362.8\" font-family=\"Helvetica,sans-Serif\" font-size=\"14.00\">[864.937]</text>\n<text text-anchor=\"middle\" x=\"616\" y=\"-347.8\" font-family=\"Helvetica,sans-Serif\" font-size=\"14.00\">[969.971]]</text>\n</g>\n<!-- 0&#45;&gt;1 -->\n<g id=\"edge1\" class=\"edge\">\n<title>0&#45;&gt;1</title>\n<path fill=\"none\" stroke=\"black\" d=\"M706.33,-473.97C696.25,-464.6 685.61,-454.7 675.3,-445.12\"/>\n<polygon fill=\"black\" stroke=\"black\" points=\"677.57,-442.46 667.87,-438.21 672.81,-447.59 677.57,-442.46\"/>\n<text text-anchor=\"middle\" x=\"668.78\" y=\"-459.5\" font-family=\"Helvetica,sans-Serif\" font-size=\"14.00\">True</text>\n</g>\n<!-- 58 -->\n<g id=\"node15\" class=\"node\">\n<title>58</title>\n<path fill=\"#f1be98\" stroke=\"black\" d=\"M991,-438C991,-438 811,-438 811,-438 805,-438 799,-432 799,-426 799,-426 799,-352 799,-352 799,-346 805,-340 811,-340 811,-340 991,-340 991,-340 997,-340 1003,-346 1003,-352 1003,-352 1003,-426 1003,-426 1003,-432 997,-438 991,-438\"/>\n<text text-anchor=\"middle\" x=\"901\" y=\"-422.8\" font-family=\"Helvetica,sans-Serif\" font-size=\"14.00\">Average Turbidity FNU &lt;= 26.1</text>\n<text text-anchor=\"middle\" x=\"901\" y=\"-407.8\" font-family=\"Helvetica,sans-Serif\" font-size=\"14.00\">squared_error = 24706.337</text>\n<text text-anchor=\"middle\" x=\"901\" y=\"-392.8\" font-family=\"Helvetica,sans-Serif\" font-size=\"14.00\">samples = 13</text>\n<text text-anchor=\"middle\" x=\"901\" y=\"-377.8\" font-family=\"Helvetica,sans-Serif\" font-size=\"14.00\">value = [[1206.945]</text>\n<text text-anchor=\"middle\" x=\"901\" y=\"-362.8\" font-family=\"Helvetica,sans-Serif\" font-size=\"14.00\">[1158.582]</text>\n<text text-anchor=\"middle\" x=\"901\" y=\"-347.8\" font-family=\"Helvetica,sans-Serif\" font-size=\"14.00\">[968.859]]</text>\n</g>\n<!-- 0&#45;&gt;58 -->\n<g id=\"edge14\" class=\"edge\">\n<title>0&#45;&gt;58</title>\n<path fill=\"none\" stroke=\"black\" d=\"M810.03,-473.97C820.18,-464.6 830.9,-454.7 841.28,-445.12\"/>\n<polygon fill=\"black\" stroke=\"black\" points=\"843.79,-447.57 848.77,-438.21 839.05,-442.42 843.79,-447.57\"/>\n<text text-anchor=\"middle\" x=\"847.77\" y=\"-459.49\" font-family=\"Helvetica,sans-Serif\" font-size=\"14.00\">False</text>\n</g>\n<!-- 2 -->\n<g id=\"node3\" class=\"node\">\n<title>2</title>\n<path fill=\"#f1b992\" stroke=\"black\" d=\"M397,-304C397,-304 183,-304 183,-304 177,-304 171,-298 171,-292 171,-292 171,-218 171,-218 171,-212 177,-206 183,-206 183,-206 397,-206 397,-206 403,-206 409,-212 409,-218 409,-218 409,-292 409,-292 409,-298 403,-304 397,-304\"/>\n<text text-anchor=\"middle\" x=\"290\" y=\"-288.8\" font-family=\"Helvetica,sans-Serif\" font-size=\"14.00\">Average Dissolved Oxygen &lt;= 599.8</text>\n<text text-anchor=\"middle\" x=\"290\" y=\"-273.8\" font-family=\"Helvetica,sans-Serif\" font-size=\"14.00\">squared_error = 23001.124</text>\n<text text-anchor=\"middle\" x=\"290\" y=\"-258.8\" font-family=\"Helvetica,sans-Serif\" font-size=\"14.00\">samples = 22</text>\n<text text-anchor=\"middle\" x=\"290\" y=\"-243.8\" font-family=\"Helvetica,sans-Serif\" font-size=\"14.00\">value = [[837.49]</text>\n<text text-anchor=\"middle\" x=\"290\" y=\"-228.8\" font-family=\"Helvetica,sans-Serif\" font-size=\"14.00\">[937.417]</text>\n<text text-anchor=\"middle\" x=\"290\" y=\"-213.8\" font-family=\"Helvetica,sans-Serif\" font-size=\"14.00\">[903.457]]</text>\n</g>\n<!-- 1&#45;&gt;2 -->\n<g id=\"edge2\" class=\"edge\">\n<title>1&#45;&gt;2</title>\n<path fill=\"none\" stroke=\"black\" d=\"M497.38,-339.97C471.68,-329.57 444.39,-318.51 418.34,-307.97\"/>\n<polygon fill=\"black\" stroke=\"black\" points=\"419.38,-304.61 408.8,-304.1 416.76,-311.1 419.38,-304.61\"/>\n</g>\n<!-- 45 -->\n<g id=\"node10\" class=\"node\">\n<title>45</title>\n<path fill=\"#eead7e\" stroke=\"black\" d=\"M726.5,-304C726.5,-304 505.5,-304 505.5,-304 499.5,-304 493.5,-298 493.5,-292 493.5,-292 493.5,-218 493.5,-218 493.5,-212 499.5,-206 505.5,-206 505.5,-206 726.5,-206 726.5,-206 732.5,-206 738.5,-212 738.5,-218 738.5,-218 738.5,-292 738.5,-292 738.5,-298 732.5,-304 726.5,-304\"/>\n<text text-anchor=\"middle\" x=\"616\" y=\"-288.8\" font-family=\"Helvetica,sans-Serif\" font-size=\"14.00\">Average Dissolved Oxygen &lt;= 802.85</text>\n<text text-anchor=\"middle\" x=\"616\" y=\"-273.8\" font-family=\"Helvetica,sans-Serif\" font-size=\"14.00\">squared_error = 17994.97</text>\n<text text-anchor=\"middle\" x=\"616\" y=\"-258.8\" font-family=\"Helvetica,sans-Serif\" font-size=\"14.00\">samples = 7</text>\n<text text-anchor=\"middle\" x=\"616\" y=\"-243.8\" font-family=\"Helvetica,sans-Serif\" font-size=\"14.00\">value = [[677.556]</text>\n<text text-anchor=\"middle\" x=\"616\" y=\"-228.8\" font-family=\"Helvetica,sans-Serif\" font-size=\"14.00\">[526.7]</text>\n<text text-anchor=\"middle\" x=\"616\" y=\"-213.8\" font-family=\"Helvetica,sans-Serif\" font-size=\"14.00\">[1280.367]]</text>\n</g>\n<!-- 1&#45;&gt;45 -->\n<g id=\"edge9\" class=\"edge\">\n<title>1&#45;&gt;45</title>\n<path fill=\"none\" stroke=\"black\" d=\"M616,-339.97C616,-331.69 616,-323 616,-314.48\"/>\n<polygon fill=\"black\" stroke=\"black\" points=\"619.5,-314.21 616,-304.21 612.5,-314.21 619.5,-314.21\"/>\n</g>\n<!-- 3 -->\n<g id=\"node4\" class=\"node\">\n<title>3</title>\n<path fill=\"#e99254\" stroke=\"black\" d=\"M154,-170C154,-170 12,-170 12,-170 6,-170 0,-164 0,-158 0,-158 0,-84 0,-84 0,-78 6,-72 12,-72 12,-72 154,-72 154,-72 160,-72 166,-78 166,-84 166,-84 166,-158 166,-158 166,-164 160,-170 154,-170\"/>\n<text text-anchor=\"middle\" x=\"83\" y=\"-154.8\" font-family=\"Helvetica,sans-Serif\" font-size=\"14.00\">Average pH &lt;= 7.8</text>\n<text text-anchor=\"middle\" x=\"83\" y=\"-139.8\" font-family=\"Helvetica,sans-Serif\" font-size=\"14.00\">squared_error = 6999.49</text>\n<text text-anchor=\"middle\" x=\"83\" y=\"-124.8\" font-family=\"Helvetica,sans-Serif\" font-size=\"14.00\">samples = 3</text>\n<text text-anchor=\"middle\" x=\"83\" y=\"-109.8\" font-family=\"Helvetica,sans-Serif\" font-size=\"14.00\">value = [[437.6]</text>\n<text text-anchor=\"middle\" x=\"83\" y=\"-94.8\" font-family=\"Helvetica,sans-Serif\" font-size=\"14.00\">[1031.967]</text>\n<text text-anchor=\"middle\" x=\"83\" y=\"-79.8\" font-family=\"Helvetica,sans-Serif\" font-size=\"14.00\">[908.433]]</text>\n</g>\n<!-- 2&#45;&gt;3 -->\n<g id=\"edge3\" class=\"edge\">\n<title>2&#45;&gt;3</title>\n<path fill=\"none\" stroke=\"black\" d=\"M214.68,-205.97C199.27,-196.14 182.96,-185.74 167.26,-175.73\"/>\n<polygon fill=\"black\" stroke=\"black\" points=\"168.92,-172.64 158.61,-170.21 165.16,-178.54 168.92,-172.64\"/>\n</g>\n<!-- 8 -->\n<g id=\"node7\" class=\"node\">\n<title>8</title>\n<path fill=\"#eca572\" stroke=\"black\" d=\"M384,-170C384,-170 196,-170 196,-170 190,-170 184,-164 184,-158 184,-158 184,-84 184,-84 184,-78 190,-72 196,-72 196,-72 384,-72 384,-72 390,-72 396,-78 396,-84 396,-84 396,-158 396,-158 396,-164 390,-170 384,-170\"/>\n<text text-anchor=\"middle\" x=\"290\" y=\"-154.8\" font-family=\"Helvetica,sans-Serif\" font-size=\"14.00\">Average Turbidity FNU &lt;= 24.45</text>\n<text text-anchor=\"middle\" x=\"290\" y=\"-139.8\" font-family=\"Helvetica,sans-Serif\" font-size=\"14.00\">squared_error = 14722.341</text>\n<text text-anchor=\"middle\" x=\"290\" y=\"-124.8\" font-family=\"Helvetica,sans-Serif\" font-size=\"14.00\">samples = 19</text>\n<text text-anchor=\"middle\" x=\"290\" y=\"-109.8\" font-family=\"Helvetica,sans-Serif\" font-size=\"14.00\">value = [[904.139]</text>\n<text text-anchor=\"middle\" x=\"290\" y=\"-94.8\" font-family=\"Helvetica,sans-Serif\" font-size=\"14.00\">[921.658]</text>\n<text text-anchor=\"middle\" x=\"290\" y=\"-79.8\" font-family=\"Helvetica,sans-Serif\" font-size=\"14.00\">[902.628]]</text>\n</g>\n<!-- 2&#45;&gt;8 -->\n<g id=\"edge6\" class=\"edge\">\n<title>2&#45;&gt;8</title>\n<path fill=\"none\" stroke=\"black\" d=\"M290,-205.97C290,-197.69 290,-189 290,-180.48\"/>\n<polygon fill=\"black\" stroke=\"black\" points=\"293.5,-180.21 290,-170.21 286.5,-180.21 293.5,-180.21\"/>\n</g>\n<!-- 4 -->\n<g id=\"node5\" class=\"node\">\n<title>4</title>\n<path fill=\"#c0c0c0\" stroke=\"black\" d=\"M62,-36C62,-36 32,-36 32,-36 26,-36 20,-30 20,-24 20,-24 20,-12 20,-12 20,-6 26,0 32,0 32,0 62,0 62,0 68,0 74,-6 74,-12 74,-12 74,-24 74,-24 74,-30 68,-36 62,-36\"/>\n<text text-anchor=\"middle\" x=\"47\" y=\"-14.3\" font-family=\"Helvetica,sans-Serif\" font-size=\"14.00\">(...)</text>\n</g>\n<!-- 3&#45;&gt;4 -->\n<g id=\"edge4\" class=\"edge\">\n<title>3&#45;&gt;4</title>\n<path fill=\"none\" stroke=\"black\" d=\"M65.84,-71.87C62.63,-62.86 59.39,-53.76 56.52,-45.71\"/>\n<polygon fill=\"black\" stroke=\"black\" points=\"59.77,-44.39 53.11,-36.15 53.17,-46.74 59.77,-44.39\"/>\n</g>\n<!-- 7 -->\n<g id=\"node6\" class=\"node\">\n<title>7</title>\n<path fill=\"#c0c0c0\" stroke=\"black\" d=\"M134,-36C134,-36 104,-36 104,-36 98,-36 92,-30 92,-24 92,-24 92,-12 92,-12 92,-6 98,0 104,0 104,0 134,0 134,0 140,0 146,-6 146,-12 146,-12 146,-24 146,-24 146,-30 140,-36 134,-36\"/>\n<text text-anchor=\"middle\" x=\"119\" y=\"-14.3\" font-family=\"Helvetica,sans-Serif\" font-size=\"14.00\">(...)</text>\n</g>\n<!-- 3&#45;&gt;7 -->\n<g id=\"edge5\" class=\"edge\">\n<title>3&#45;&gt;7</title>\n<path fill=\"none\" stroke=\"black\" d=\"M100.16,-71.87C103.37,-62.86 106.61,-53.76 109.48,-45.71\"/>\n<polygon fill=\"black\" stroke=\"black\" points=\"112.83,-46.74 112.89,-36.15 106.23,-44.39 112.83,-46.74\"/>\n</g>\n<!-- 9 -->\n<g id=\"node8\" class=\"node\">\n<title>9</title>\n<path fill=\"#c0c0c0\" stroke=\"black\" d=\"M287,-36C287,-36 257,-36 257,-36 251,-36 245,-30 245,-24 245,-24 245,-12 245,-12 245,-6 251,0 257,0 257,0 287,0 287,0 293,0 299,-6 299,-12 299,-12 299,-24 299,-24 299,-30 293,-36 287,-36\"/>\n<text text-anchor=\"middle\" x=\"272\" y=\"-14.3\" font-family=\"Helvetica,sans-Serif\" font-size=\"14.00\">(...)</text>\n</g>\n<!-- 8&#45;&gt;9 -->\n<g id=\"edge7\" class=\"edge\">\n<title>8&#45;&gt;9</title>\n<path fill=\"none\" stroke=\"black\" d=\"M281.42,-71.87C279.85,-63.06 278.27,-54.17 276.86,-46.24\"/>\n<polygon fill=\"black\" stroke=\"black\" points=\"280.26,-45.38 275.06,-36.15 273.36,-46.61 280.26,-45.38\"/>\n</g>\n<!-- 12 -->\n<g id=\"node9\" class=\"node\">\n<title>12</title>\n<path fill=\"#c0c0c0\" stroke=\"black\" d=\"M359,-36C359,-36 329,-36 329,-36 323,-36 317,-30 317,-24 317,-24 317,-12 317,-12 317,-6 323,0 329,0 329,0 359,0 359,0 365,0 371,-6 371,-12 371,-12 371,-24 371,-24 371,-30 365,-36 359,-36\"/>\n<text text-anchor=\"middle\" x=\"344\" y=\"-14.3\" font-family=\"Helvetica,sans-Serif\" font-size=\"14.00\">(...)</text>\n</g>\n<!-- 8&#45;&gt;12 -->\n<g id=\"edge8\" class=\"edge\">\n<title>8&#45;&gt;12</title>\n<path fill=\"none\" stroke=\"black\" d=\"M315.73,-71.87C320.65,-62.66 325.63,-53.36 330.01,-45.17\"/>\n<polygon fill=\"black\" stroke=\"black\" points=\"333.2,-46.62 334.83,-36.15 327.03,-43.32 333.2,-46.62\"/>\n</g>\n<!-- 46 -->\n<g id=\"node11\" class=\"node\">\n<title>46</title>\n<path fill=\"#eb9d65\" stroke=\"black\" d=\"M583.5,-170C583.5,-170 426.5,-170 426.5,-170 420.5,-170 414.5,-164 414.5,-158 414.5,-158 414.5,-84 414.5,-84 414.5,-78 420.5,-72 426.5,-72 426.5,-72 583.5,-72 583.5,-72 589.5,-72 595.5,-78 595.5,-84 595.5,-84 595.5,-158 595.5,-158 595.5,-164 589.5,-170 583.5,-170\"/>\n<text text-anchor=\"middle\" x=\"505\" y=\"-154.8\" font-family=\"Helvetica,sans-Serif\" font-size=\"14.00\">Average pH &lt;= 8.05</text>\n<text text-anchor=\"middle\" x=\"505\" y=\"-139.8\" font-family=\"Helvetica,sans-Serif\" font-size=\"14.00\">squared_error = 11324.928</text>\n<text text-anchor=\"middle\" x=\"505\" y=\"-124.8\" font-family=\"Helvetica,sans-Serif\" font-size=\"14.00\">samples = 6</text>\n<text text-anchor=\"middle\" x=\"505\" y=\"-109.8\" font-family=\"Helvetica,sans-Serif\" font-size=\"14.00\">value = [[624.143]</text>\n<text text-anchor=\"middle\" x=\"505\" y=\"-94.8\" font-family=\"Helvetica,sans-Serif\" font-size=\"14.00\">[459.671]</text>\n<text text-anchor=\"middle\" x=\"505\" y=\"-79.8\" font-family=\"Helvetica,sans-Serif\" font-size=\"14.00\">[1303.357]]</text>\n</g>\n<!-- 45&#45;&gt;46 -->\n<g id=\"edge10\" class=\"edge\">\n<title>45&#45;&gt;46</title>\n<path fill=\"none\" stroke=\"black\" d=\"M575.61,-205.97C567.96,-196.87 559.89,-187.28 552.06,-177.96\"/>\n<polygon fill=\"black\" stroke=\"black\" points=\"554.66,-175.61 545.54,-170.21 549.3,-180.12 554.66,-175.61\"/>\n</g>\n<!-- 57 -->\n<g id=\"node14\" class=\"node\">\n<title>57</title>\n<path fill=\"#e58139\" stroke=\"black\" d=\"M738,-162.5C738,-162.5 626,-162.5 626,-162.5 620,-162.5 614,-156.5 614,-150.5 614,-150.5 614,-91.5 614,-91.5 614,-85.5 620,-79.5 626,-79.5 626,-79.5 738,-79.5 738,-79.5 744,-79.5 750,-85.5 750,-91.5 750,-91.5 750,-150.5 750,-150.5 750,-156.5 744,-162.5 738,-162.5\"/>\n<text text-anchor=\"middle\" x=\"682\" y=\"-147.3\" font-family=\"Helvetica,sans-Serif\" font-size=\"14.00\">squared_error = 0.0</text>\n<text text-anchor=\"middle\" x=\"682\" y=\"-132.3\" font-family=\"Helvetica,sans-Serif\" font-size=\"14.00\">samples = 1</text>\n<text text-anchor=\"middle\" x=\"682\" y=\"-117.3\" font-family=\"Helvetica,sans-Serif\" font-size=\"14.00\">value = [[864.5]</text>\n<text text-anchor=\"middle\" x=\"682\" y=\"-102.3\" font-family=\"Helvetica,sans-Serif\" font-size=\"14.00\">[761.3]</text>\n<text text-anchor=\"middle\" x=\"682\" y=\"-87.3\" font-family=\"Helvetica,sans-Serif\" font-size=\"14.00\">[1199.9]]</text>\n</g>\n<!-- 45&#45;&gt;57 -->\n<g id=\"edge13\" class=\"edge\">\n<title>45&#45;&gt;57</title>\n<path fill=\"none\" stroke=\"black\" d=\"M640.01,-205.97C645.54,-194.91 651.44,-183.13 657,-171.99\"/>\n<polygon fill=\"black\" stroke=\"black\" points=\"660.25,-173.33 661.59,-162.82 653.99,-170.2 660.25,-173.33\"/>\n</g>\n<!-- 47 -->\n<g id=\"node12\" class=\"node\">\n<title>47</title>\n<path fill=\"#c0c0c0\" stroke=\"black\" d=\"M466,-36C466,-36 436,-36 436,-36 430,-36 424,-30 424,-24 424,-24 424,-12 424,-12 424,-6 430,0 436,0 436,0 466,0 466,0 472,0 478,-6 478,-12 478,-12 478,-24 478,-24 478,-30 472,-36 466,-36\"/>\n<text text-anchor=\"middle\" x=\"451\" y=\"-14.3\" font-family=\"Helvetica,sans-Serif\" font-size=\"14.00\">(...)</text>\n</g>\n<!-- 46&#45;&gt;47 -->\n<g id=\"edge11\" class=\"edge\">\n<title>46&#45;&gt;47</title>\n<path fill=\"none\" stroke=\"black\" d=\"M479.27,-71.87C474.35,-62.66 469.37,-53.36 464.99,-45.17\"/>\n<polygon fill=\"black\" stroke=\"black\" points=\"467.97,-43.32 460.17,-36.15 461.8,-46.62 467.97,-43.32\"/>\n</g>\n<!-- 48 -->\n<g id=\"node13\" class=\"node\">\n<title>48</title>\n<path fill=\"#c0c0c0\" stroke=\"black\" d=\"M538,-36C538,-36 508,-36 508,-36 502,-36 496,-30 496,-24 496,-24 496,-12 496,-12 496,-6 502,0 508,0 508,0 538,0 538,0 544,0 550,-6 550,-12 550,-12 550,-24 550,-24 550,-30 544,-36 538,-36\"/>\n<text text-anchor=\"middle\" x=\"523\" y=\"-14.3\" font-family=\"Helvetica,sans-Serif\" font-size=\"14.00\">(...)</text>\n</g>\n<!-- 46&#45;&gt;48 -->\n<g id=\"edge12\" class=\"edge\">\n<title>46&#45;&gt;48</title>\n<path fill=\"none\" stroke=\"black\" d=\"M513.58,-71.87C515.15,-63.06 516.73,-54.17 518.14,-46.24\"/>\n<polygon fill=\"black\" stroke=\"black\" points=\"521.64,-46.61 519.94,-36.15 514.74,-45.38 521.64,-46.61\"/>\n</g>\n<!-- 59 -->\n<g id=\"node16\" class=\"node\">\n<title>59</title>\n<path fill=\"#f1bb94\" stroke=\"black\" d=\"M1032.5,-304C1032.5,-304 769.5,-304 769.5,-304 763.5,-304 757.5,-298 757.5,-292 757.5,-292 757.5,-218 757.5,-218 757.5,-212 763.5,-206 769.5,-206 769.5,-206 1032.5,-206 1032.5,-206 1038.5,-206 1044.5,-212 1044.5,-218 1044.5,-218 1044.5,-292 1044.5,-292 1044.5,-298 1038.5,-304 1032.5,-304\"/>\n<text text-anchor=\"middle\" x=\"901\" y=\"-288.8\" font-family=\"Helvetica,sans-Serif\" font-size=\"14.00\">Average Specific Conductance μS/cm &lt;= 6.8</text>\n<text text-anchor=\"middle\" x=\"901\" y=\"-273.8\" font-family=\"Helvetica,sans-Serif\" font-size=\"14.00\">squared_error = 23760.075</text>\n<text text-anchor=\"middle\" x=\"901\" y=\"-258.8\" font-family=\"Helvetica,sans-Serif\" font-size=\"14.00\">samples = 4</text>\n<text text-anchor=\"middle\" x=\"901\" y=\"-243.8\" font-family=\"Helvetica,sans-Serif\" font-size=\"14.00\">value = [[1133.7]</text>\n<text text-anchor=\"middle\" x=\"901\" y=\"-228.8\" font-family=\"Helvetica,sans-Serif\" font-size=\"14.00\">[1376.557]</text>\n<text text-anchor=\"middle\" x=\"901\" y=\"-213.8\" font-family=\"Helvetica,sans-Serif\" font-size=\"14.00\">[1050.014]]</text>\n</g>\n<!-- 58&#45;&gt;59 -->\n<g id=\"edge15\" class=\"edge\">\n<title>58&#45;&gt;59</title>\n<path fill=\"none\" stroke=\"black\" d=\"M901,-339.97C901,-331.69 901,-323 901,-314.48\"/>\n<polygon fill=\"black\" stroke=\"black\" points=\"904.5,-314.21 901,-304.21 897.5,-314.21 904.5,-314.21\"/>\n</g>\n<!-- 66 -->\n<g id=\"node21\" class=\"node\">\n<title>66</title>\n<path fill=\"#eb9d66\" stroke=\"black\" d=\"M1426.5,-304C1426.5,-304 1205.5,-304 1205.5,-304 1199.5,-304 1193.5,-298 1193.5,-292 1193.5,-292 1193.5,-218 1193.5,-218 1193.5,-212 1199.5,-206 1205.5,-206 1205.5,-206 1426.5,-206 1426.5,-206 1432.5,-206 1438.5,-212 1438.5,-218 1438.5,-218 1438.5,-292 1438.5,-292 1438.5,-298 1432.5,-304 1426.5,-304\"/>\n<text text-anchor=\"middle\" x=\"1316\" y=\"-288.8\" font-family=\"Helvetica,sans-Serif\" font-size=\"14.00\">Average Dissolved Oxygen &lt;= 1319.0</text>\n<text text-anchor=\"middle\" x=\"1316\" y=\"-273.8\" font-family=\"Helvetica,sans-Serif\" font-size=\"14.00\">squared_error = 11581.256</text>\n<text text-anchor=\"middle\" x=\"1316\" y=\"-258.8\" font-family=\"Helvetica,sans-Serif\" font-size=\"14.00\">samples = 9</text>\n<text text-anchor=\"middle\" x=\"1316\" y=\"-243.8\" font-family=\"Helvetica,sans-Serif\" font-size=\"14.00\">value = [[1241.127]</text>\n<text text-anchor=\"middle\" x=\"1316\" y=\"-228.8\" font-family=\"Helvetica,sans-Serif\" font-size=\"14.00\">[1056.86]</text>\n<text text-anchor=\"middle\" x=\"1316\" y=\"-213.8\" font-family=\"Helvetica,sans-Serif\" font-size=\"14.00\">[930.987]]</text>\n</g>\n<!-- 58&#45;&gt;66 -->\n<g id=\"edge20\" class=\"edge\">\n<title>58&#45;&gt;66</title>\n<path fill=\"none\" stroke=\"black\" d=\"M1003.05,-355.54C1057.5,-338.22 1125.14,-316.71 1183.59,-298.12\"/>\n<polygon fill=\"black\" stroke=\"black\" points=\"1184.8,-301.41 1193.26,-295.04 1182.67,-294.73 1184.8,-301.41\"/>\n</g>\n<!-- 60 -->\n<g id=\"node17\" class=\"node\">\n<title>60</title>\n<path fill=\"#e58139\" stroke=\"black\" d=\"M892,-162.5C892,-162.5 780,-162.5 780,-162.5 774,-162.5 768,-156.5 768,-150.5 768,-150.5 768,-91.5 768,-91.5 768,-85.5 774,-79.5 780,-79.5 780,-79.5 892,-79.5 892,-79.5 898,-79.5 904,-85.5 904,-91.5 904,-91.5 904,-150.5 904,-150.5 904,-156.5 898,-162.5 892,-162.5\"/>\n<text text-anchor=\"middle\" x=\"836\" y=\"-147.3\" font-family=\"Helvetica,sans-Serif\" font-size=\"14.00\">squared_error = 0.0</text>\n<text text-anchor=\"middle\" x=\"836\" y=\"-132.3\" font-family=\"Helvetica,sans-Serif\" font-size=\"14.00\">samples = 1</text>\n<text text-anchor=\"middle\" x=\"836\" y=\"-117.3\" font-family=\"Helvetica,sans-Serif\" font-size=\"14.00\">value = [[1332.9]</text>\n<text text-anchor=\"middle\" x=\"836\" y=\"-102.3\" font-family=\"Helvetica,sans-Serif\" font-size=\"14.00\">[1363.5]</text>\n<text text-anchor=\"middle\" x=\"836\" y=\"-87.3\" font-family=\"Helvetica,sans-Serif\" font-size=\"14.00\">[1405.4]]</text>\n</g>\n<!-- 59&#45;&gt;60 -->\n<g id=\"edge16\" class=\"edge\">\n<title>59&#45;&gt;60</title>\n<path fill=\"none\" stroke=\"black\" d=\"M877.35,-205.97C871.9,-194.91 866.1,-183.13 860.62,-171.99\"/>\n<polygon fill=\"black\" stroke=\"black\" points=\"863.66,-170.24 856.1,-162.82 857.38,-173.33 863.66,-170.24\"/>\n</g>\n<!-- 61 -->\n<g id=\"node18\" class=\"node\">\n<title>61</title>\n<path fill=\"#e68742\" stroke=\"black\" d=\"M1163.5,-170C1163.5,-170 934.5,-170 934.5,-170 928.5,-170 922.5,-164 922.5,-158 922.5,-158 922.5,-84 922.5,-84 922.5,-78 928.5,-72 934.5,-72 934.5,-72 1163.5,-72 1163.5,-72 1169.5,-72 1175.5,-78 1175.5,-84 1175.5,-84 1175.5,-158 1175.5,-158 1175.5,-164 1169.5,-170 1163.5,-170\"/>\n<text text-anchor=\"middle\" x=\"1049\" y=\"-154.8\" font-family=\"Helvetica,sans-Serif\" font-size=\"14.00\">Average Dissolved Oxygen &lt;= 1063.85</text>\n<text text-anchor=\"middle\" x=\"1049\" y=\"-139.8\" font-family=\"Helvetica,sans-Serif\" font-size=\"14.00\">squared_error = 2249.413</text>\n<text text-anchor=\"middle\" x=\"1049\" y=\"-124.8\" font-family=\"Helvetica,sans-Serif\" font-size=\"14.00\">samples = 3</text>\n<text text-anchor=\"middle\" x=\"1049\" y=\"-109.8\" font-family=\"Helvetica,sans-Serif\" font-size=\"14.00\">value = [[1054.02]</text>\n<text text-anchor=\"middle\" x=\"1049\" y=\"-94.8\" font-family=\"Helvetica,sans-Serif\" font-size=\"14.00\">[1381.78]</text>\n<text text-anchor=\"middle\" x=\"1049\" y=\"-79.8\" font-family=\"Helvetica,sans-Serif\" font-size=\"14.00\">[907.86]]</text>\n</g>\n<!-- 59&#45;&gt;61 -->\n<g id=\"edge17\" class=\"edge\">\n<title>59&#45;&gt;61</title>\n<path fill=\"none\" stroke=\"black\" d=\"M954.85,-205.97C965.36,-196.6 976.45,-186.7 987.2,-177.12\"/>\n<polygon fill=\"black\" stroke=\"black\" points=\"989.81,-179.48 994.94,-170.21 985.15,-174.26 989.81,-179.48\"/>\n</g>\n<!-- 62 -->\n<g id=\"node19\" class=\"node\">\n<title>62</title>\n<path fill=\"#c0c0c0\" stroke=\"black\" d=\"M1028,-36C1028,-36 998,-36 998,-36 992,-36 986,-30 986,-24 986,-24 986,-12 986,-12 986,-6 992,0 998,0 998,0 1028,0 1028,0 1034,0 1040,-6 1040,-12 1040,-12 1040,-24 1040,-24 1040,-30 1034,-36 1028,-36\"/>\n<text text-anchor=\"middle\" x=\"1013\" y=\"-14.3\" font-family=\"Helvetica,sans-Serif\" font-size=\"14.00\">(...)</text>\n</g>\n<!-- 61&#45;&gt;62 -->\n<g id=\"edge18\" class=\"edge\">\n<title>61&#45;&gt;62</title>\n<path fill=\"none\" stroke=\"black\" d=\"M1031.84,-71.87C1028.63,-62.86 1025.39,-53.76 1022.52,-45.71\"/>\n<polygon fill=\"black\" stroke=\"black\" points=\"1025.77,-44.39 1019.11,-36.15 1019.17,-46.74 1025.77,-44.39\"/>\n</g>\n<!-- 65 -->\n<g id=\"node20\" class=\"node\">\n<title>65</title>\n<path fill=\"#c0c0c0\" stroke=\"black\" d=\"M1100,-36C1100,-36 1070,-36 1070,-36 1064,-36 1058,-30 1058,-24 1058,-24 1058,-12 1058,-12 1058,-6 1064,0 1070,0 1070,0 1100,0 1100,0 1106,0 1112,-6 1112,-12 1112,-12 1112,-24 1112,-24 1112,-30 1106,-36 1100,-36\"/>\n<text text-anchor=\"middle\" x=\"1085\" y=\"-14.3\" font-family=\"Helvetica,sans-Serif\" font-size=\"14.00\">(...)</text>\n</g>\n<!-- 61&#45;&gt;65 -->\n<g id=\"edge19\" class=\"edge\">\n<title>61&#45;&gt;65</title>\n<path fill=\"none\" stroke=\"black\" d=\"M1066.16,-71.87C1069.37,-62.86 1072.61,-53.76 1075.48,-45.71\"/>\n<polygon fill=\"black\" stroke=\"black\" points=\"1078.83,-46.74 1078.89,-36.15 1072.23,-44.39 1078.83,-46.74\"/>\n</g>\n<!-- 67 -->\n<g id=\"node22\" class=\"node\">\n<title>67</title>\n<path fill=\"#e99558\" stroke=\"black\" d=\"M1426.5,-170C1426.5,-170 1205.5,-170 1205.5,-170 1199.5,-170 1193.5,-164 1193.5,-158 1193.5,-158 1193.5,-84 1193.5,-84 1193.5,-78 1199.5,-72 1205.5,-72 1205.5,-72 1426.5,-72 1426.5,-72 1432.5,-72 1438.5,-78 1438.5,-84 1438.5,-84 1438.5,-158 1438.5,-158 1438.5,-164 1432.5,-170 1426.5,-170\"/>\n<text text-anchor=\"middle\" x=\"1316\" y=\"-154.8\" font-family=\"Helvetica,sans-Serif\" font-size=\"14.00\">Average Dissolved Oxygen &lt;= 1088.9</text>\n<text text-anchor=\"middle\" x=\"1316\" y=\"-139.8\" font-family=\"Helvetica,sans-Serif\" font-size=\"14.00\">squared_error = 8160.87</text>\n<text text-anchor=\"middle\" x=\"1316\" y=\"-124.8\" font-family=\"Helvetica,sans-Serif\" font-size=\"14.00\">samples = 6</text>\n<text text-anchor=\"middle\" x=\"1316\" y=\"-109.8\" font-family=\"Helvetica,sans-Serif\" font-size=\"14.00\">value = [[1182.31]</text>\n<text text-anchor=\"middle\" x=\"1316\" y=\"-94.8\" font-family=\"Helvetica,sans-Serif\" font-size=\"14.00\">[1015.04]</text>\n<text text-anchor=\"middle\" x=\"1316\" y=\"-79.8\" font-family=\"Helvetica,sans-Serif\" font-size=\"14.00\">[882.93]]</text>\n</g>\n<!-- 66&#45;&gt;67 -->\n<g id=\"edge21\" class=\"edge\">\n<title>66&#45;&gt;67</title>\n<path fill=\"none\" stroke=\"black\" d=\"M1316,-205.97C1316,-197.69 1316,-189 1316,-180.48\"/>\n<polygon fill=\"black\" stroke=\"black\" points=\"1319.5,-180.21 1316,-170.21 1312.5,-180.21 1319.5,-180.21\"/>\n</g>\n<!-- 78 -->\n<g id=\"node25\" class=\"node\">\n<title>78</title>\n<path fill=\"#e78946\" stroke=\"black\" d=\"M1739.5,-170C1739.5,-170 1468.5,-170 1468.5,-170 1462.5,-170 1456.5,-164 1456.5,-158 1456.5,-158 1456.5,-84 1456.5,-84 1456.5,-78 1462.5,-72 1468.5,-72 1468.5,-72 1739.5,-72 1739.5,-72 1745.5,-72 1751.5,-78 1751.5,-84 1751.5,-84 1751.5,-158 1751.5,-158 1751.5,-164 1745.5,-170 1739.5,-170\"/>\n<text text-anchor=\"middle\" x=\"1604\" y=\"-154.8\" font-family=\"Helvetica,sans-Serif\" font-size=\"14.00\">Average Specific Conductance μS/cm &lt;= 7.55</text>\n<text text-anchor=\"middle\" x=\"1604\" y=\"-139.8\" font-family=\"Helvetica,sans-Serif\" font-size=\"14.00\">squared_error = 3386.515</text>\n<text text-anchor=\"middle\" x=\"1604\" y=\"-124.8\" font-family=\"Helvetica,sans-Serif\" font-size=\"14.00\">samples = 3</text>\n<text text-anchor=\"middle\" x=\"1604\" y=\"-109.8\" font-family=\"Helvetica,sans-Serif\" font-size=\"14.00\">value = [[1358.76]</text>\n<text text-anchor=\"middle\" x=\"1604\" y=\"-94.8\" font-family=\"Helvetica,sans-Serif\" font-size=\"14.00\">[1140.5]</text>\n<text text-anchor=\"middle\" x=\"1604\" y=\"-79.8\" font-family=\"Helvetica,sans-Serif\" font-size=\"14.00\">[1027.1]]</text>\n</g>\n<!-- 66&#45;&gt;78 -->\n<g id=\"edge24\" class=\"edge\">\n<title>66&#45;&gt;78</title>\n<path fill=\"none\" stroke=\"black\" d=\"M1420.79,-205.97C1443.12,-195.73 1466.82,-184.87 1489.5,-174.48\"/>\n<polygon fill=\"black\" stroke=\"black\" points=\"1491.17,-177.56 1498.81,-170.21 1488.26,-171.2 1491.17,-177.56\"/>\n</g>\n<!-- 68 -->\n<g id=\"node23\" class=\"node\">\n<title>68</title>\n<path fill=\"#c0c0c0\" stroke=\"black\" d=\"M1295,-36C1295,-36 1265,-36 1265,-36 1259,-36 1253,-30 1253,-24 1253,-24 1253,-12 1253,-12 1253,-6 1259,0 1265,0 1265,0 1295,0 1295,0 1301,0 1307,-6 1307,-12 1307,-12 1307,-24 1307,-24 1307,-30 1301,-36 1295,-36\"/>\n<text text-anchor=\"middle\" x=\"1280\" y=\"-14.3\" font-family=\"Helvetica,sans-Serif\" font-size=\"14.00\">(...)</text>\n</g>\n<!-- 67&#45;&gt;68 -->\n<g id=\"edge22\" class=\"edge\">\n<title>67&#45;&gt;68</title>\n<path fill=\"none\" stroke=\"black\" d=\"M1298.84,-71.87C1295.63,-62.86 1292.39,-53.76 1289.52,-45.71\"/>\n<polygon fill=\"black\" stroke=\"black\" points=\"1292.77,-44.39 1286.11,-36.15 1286.17,-46.74 1292.77,-44.39\"/>\n</g>\n<!-- 73 -->\n<g id=\"node24\" class=\"node\">\n<title>73</title>\n<path fill=\"#c0c0c0\" stroke=\"black\" d=\"M1367,-36C1367,-36 1337,-36 1337,-36 1331,-36 1325,-30 1325,-24 1325,-24 1325,-12 1325,-12 1325,-6 1331,0 1337,0 1337,0 1367,0 1367,0 1373,0 1379,-6 1379,-12 1379,-12 1379,-24 1379,-24 1379,-30 1373,-36 1367,-36\"/>\n<text text-anchor=\"middle\" x=\"1352\" y=\"-14.3\" font-family=\"Helvetica,sans-Serif\" font-size=\"14.00\">(...)</text>\n</g>\n<!-- 67&#45;&gt;73 -->\n<g id=\"edge23\" class=\"edge\">\n<title>67&#45;&gt;73</title>\n<path fill=\"none\" stroke=\"black\" d=\"M1333.16,-71.87C1336.37,-62.86 1339.61,-53.76 1342.48,-45.71\"/>\n<polygon fill=\"black\" stroke=\"black\" points=\"1345.83,-46.74 1345.89,-36.15 1339.23,-44.39 1345.83,-46.74\"/>\n</g>\n<!-- 79 -->\n<g id=\"node26\" class=\"node\">\n<title>79</title>\n<path fill=\"#c0c0c0\" stroke=\"black\" d=\"M1583,-36C1583,-36 1553,-36 1553,-36 1547,-36 1541,-30 1541,-24 1541,-24 1541,-12 1541,-12 1541,-6 1547,0 1553,0 1553,0 1583,0 1583,0 1589,0 1595,-6 1595,-12 1595,-12 1595,-24 1595,-24 1595,-30 1589,-36 1583,-36\"/>\n<text text-anchor=\"middle\" x=\"1568\" y=\"-14.3\" font-family=\"Helvetica,sans-Serif\" font-size=\"14.00\">(...)</text>\n</g>\n<!-- 78&#45;&gt;79 -->\n<g id=\"edge25\" class=\"edge\">\n<title>78&#45;&gt;79</title>\n<path fill=\"none\" stroke=\"black\" d=\"M1586.84,-71.87C1583.63,-62.86 1580.39,-53.76 1577.52,-45.71\"/>\n<polygon fill=\"black\" stroke=\"black\" points=\"1580.77,-44.39 1574.11,-36.15 1574.17,-46.74 1580.77,-44.39\"/>\n</g>\n<!-- 82 -->\n<g id=\"node27\" class=\"node\">\n<title>82</title>\n<path fill=\"#c0c0c0\" stroke=\"black\" d=\"M1655,-36C1655,-36 1625,-36 1625,-36 1619,-36 1613,-30 1613,-24 1613,-24 1613,-12 1613,-12 1613,-6 1619,0 1625,0 1625,0 1655,0 1655,0 1661,0 1667,-6 1667,-12 1667,-12 1667,-24 1667,-24 1667,-30 1661,-36 1655,-36\"/>\n<text text-anchor=\"middle\" x=\"1640\" y=\"-14.3\" font-family=\"Helvetica,sans-Serif\" font-size=\"14.00\">(...)</text>\n</g>\n<!-- 78&#45;&gt;82 -->\n<g id=\"edge26\" class=\"edge\">\n<title>78&#45;&gt;82</title>\n<path fill=\"none\" stroke=\"black\" d=\"M1621.16,-71.87C1624.37,-62.86 1627.61,-53.76 1630.48,-45.71\"/>\n<polygon fill=\"black\" stroke=\"black\" points=\"1633.83,-46.74 1633.89,-36.15 1627.23,-44.39 1633.83,-46.74\"/>\n</g>\n</g>\n</svg>\n",
            "text/plain": [
              "<graphviz.sources.Source at 0x7abbb873dab0>"
            ]
          },
          "metadata": {},
          "execution_count": 16
        }
      ]
    },
    {
      "cell_type": "markdown",
      "source": [
        "Code Block 6B"
      ],
      "metadata": {
        "id": "KGEr9lT2e-hC"
      }
    },
    {
      "cell_type": "code",
      "source": [
        "# Feature importance\n",
        "importances = model.feature_importances_\n",
        "indices = np.argsort(importances)\n",
        "\n",
        "# Plot feature importance\n",
        "plt.figure(figsize=(10, 6))\n",
        "plt.title('Feature Importances')\n",
        "plt.barh(range(len(indices)), importances[indices], color='b', align='center')\n",
        "plt.yticks(range(len(indices)), [feature_names[i] for i in indices])\n",
        "plt.xlabel('Relative Importance')\n",
        "plt.show()"
      ],
      "metadata": {
        "colab": {
          "base_uri": "https://localhost:8080/",
          "height": 564
        },
        "id": "DIiI_jQSQWR2",
        "outputId": "d51b2814-56ac-45f1-dec9-f57f1e302f43"
      },
      "execution_count": null,
      "outputs": [
        {
          "output_type": "display_data",
          "data": {
            "text/plain": [
              "<Figure size 1000x600 with 1 Axes>"
            ],
            "image/png": "[encoded data removed]"
          },
          "metadata": {}
        }
      ]
    }
  ]
}