{
  "nbformat": 4,
  "nbformat_minor": 0,
  "metadata": {
    "colab": {
      "provenance": [],
      "include_colab_link": true
    },
    "kernelspec": {
      "name": "python3",
      "display_name": "Python 3"
    },
    "language_info": {
      "name": "python"
    }
  },
  "cells": [
    {
      "cell_type": "markdown",
      "metadata": {
        "id": "view-in-github",
        "colab_type": "text"
      },
      "source": [
        "<a href=\"https://colab.research.google.com/github/niyaudinoor/HackathonNAAN/blob/main/Temperature_Features.ipynb\" target=\"_parent\"><img src=\"https://colab.research.google.com/assets/colab-badge.svg\" alt=\"Open In Colab\"/></a>"
      ]
    },
    {
      "cell_type": "markdown",
      "source": [
        "# 1. Importing Libraries"
      ],
      "metadata": {
        "id": "2YQ9TAHlgwSn"
      }
    },
    {
      "cell_type": "code",
      "execution_count": null,
      "metadata": {
        "id": "ap2--thogs0a"
      },
      "outputs": [],
      "source": [
        "# Data manipulation and analysis\n",
        "import pandas as pd\n",
        "import numpy as np\n",
        "from collections import Counter\n",
        "\n",
        "# Visualization\n",
        "import matplotlib.pyplot as plt\n",
        "import graphviz\n",
        "from IPython.display import display, HTML\n",
        "\n",
        "# Scikit-learn: Model selection and evaluation\n",
        "from sklearn.model_selection import train_test_split\n",
        "\n",
        "# Scikit-learn: Regression models\n",
        "from sklearn.ensemble import RandomForestRegressor\n",
        "\n",
        "# Scikit-learn: Metrics for evaluation\n",
        "from sklearn.metrics import accuracy_score, classification_report, confusion_matrix\n",
        "from sklearn.metrics import mean_squared_error, r2_score\n",
        "\n",
        "# Scikit-learn: Tree visualization\n",
        "from sklearn.tree import export_graphviz\n",
        "from sklearn import tree"
      ]
    },
    {
      "cell_type": "markdown",
      "source": [
        "# 2. Loading the Data into a Pandas DataFrame"
      ],
      "metadata": {
        "id": "FQI82urahE8R"
      }
    },
    {
      "cell_type": "markdown",
      "source": [
        "Code Block 2A"
      ],
      "metadata": {
        "id": "y9tzDDn1fhC_"
      }
    },
    {
      "cell_type": "code",
      "source": [
        "from google.colab import drive\n",
        "\n",
        "# Mount Google Drive\n",
        "drive.mount('/content/drive', force_remount=True)"
      ],
      "metadata": {
        "id": "t-Q3Z4Ybfj2b",
        "colab": {
          "base_uri": "https://localhost:8080/"
        },
        "outputId": "f34f59ac-2599-46c9-c51a-2dcbea5e64fa"
      },
      "execution_count": null,
      "outputs": [
        {
          "output_type": "stream",
          "name": "stdout",
          "text": [
            "Mounted at /content/drive\n"
          ]
        }
      ]
    },
    {
      "cell_type": "markdown",
      "source": [
        "# 3. Load the CSV File"
      ],
      "metadata": {
        "id": "kIJ9oTLFnskP"
      }
    },
    {
      "cell_type": "markdown",
      "source": [
        "Code Block 3A"
      ],
      "metadata": {
        "id": "Pan1CQqPd7lf"
      }
    },
    {
      "cell_type": "code",
      "source": [
        "# Define the path to the CSV file containing water quality data\n",
        "csv_path = \"/content/drive/MyDrive/6. Colab Notebooks/2. Water Quality/TEMP_ water_data_full - Final.csv\"\n",
        "\n",
        "# Read the CSV file into a DataFrame using pandas\n",
        "df = pd.read_csv(csv_path)\n",
        "\n",
        "df.head()"
      ],
      "metadata": {
        "id": "giMHTfdBhPb1",
        "colab": {
          "base_uri": "https://localhost:8080/",
          "height": 310
        },
        "outputId": "07dbca2e-070f-4acf-d0ac-5f25d3375199"
      },
      "execution_count": null,
      "outputs": [
        {
          "output_type": "execute_result",
          "data": {
            "text/plain": [
              "         Date  Average Temperature C  Average pH  \\\n",
              "0  2024-05-01                   19.8         8.3   \n",
              "1  2024-05-02                   20.0         8.3   \n",
              "2  2024-05-03                   20.9         8.3   \n",
              "3  2024-05-04                   19.7         8.1   \n",
              "4  2024-05-05                   18.7         8.1   \n",
              "\n",
              "   Average Specific Conductance μS/cm  Average Turbidity FNU  \\\n",
              "0                              1185.3                   39.7   \n",
              "1                              1007.0                   43.1   \n",
              "2                               864.5                   41.4   \n",
              "3                               831.7                   37.6   \n",
              "4                               825.8                   33.8   \n",
              "\n",
              "   Average Dissolved Oxygen mg/l  Average Temperature C +1 day  \\\n",
              "0                            9.9                          20.0   \n",
              "1                            9.8                          20.9   \n",
              "2                            9.7                          19.7   \n",
              "3                            8.7                          18.7   \n",
              "4                            9.0                          19.1   \n",
              "\n",
              "   Average Temperature C +1 week  Average Temperature C +4 weeks  \n",
              "0                           19.4                            24.1  \n",
              "1                           20.2                            23.7  \n",
              "2                           21.3                            24.9  \n",
              "3                           22.0                            25.8  \n",
              "4                           22.5                            25.5  "
            ],
            "text/html": [
              "\n",
              "  <div id=\"df-a2e378b7-10aa-4a9b-bb3f-e65e6128fad9\" class=\"colab-df-container\">\n",
              "    <div>\n",
              "<style scoped>\n",
              "    .dataframe tbody tr th:only-of-type {\n",
              "        vertical-align: middle;\n",
              "    }\n",
              "\n",
              "    .dataframe tbody tr th {\n",
              "        vertical-align: top;\n",
              "    }\n",
              "\n",
              "    .dataframe thead th {\n",
              "        text-align: right;\n",
              "    }\n",
              "</style>\n",
              "<table border=\"1\" class=\"dataframe\">\n",
              "  <thead>\n",
              "    <tr style=\"text-align: right;\">\n",
              "      <th></th>\n",
              "      <th>Date</th>\n",
              "      <th>Average Temperature C</th>\n",
              "      <th>Average pH</th>\n",
              "      <th>Average Specific Conductance μS/cm</th>\n",
              "      <th>Average Turbidity FNU</th>\n",
              "      <th>Average Dissolved Oxygen mg/l</th>\n",
              "      <th>Average Temperature C +1 day</th>\n",
              "      <th>Average Temperature C +1 week</th>\n",
              "      <th>Average Temperature C +4 weeks</th>\n",
              "    </tr>\n",
              "  </thead>\n",
              "  <tbody>\n",
              "    <tr>\n",
              "      <th>0</th>\n",
              "      <td>2024-05-01</td>\n",
              "      <td>19.8</td>\n",
              "      <td>8.3</td>\n",
              "      <td>1185.3</td>\n",
              "      <td>39.7</td>\n",
              "      <td>9.9</td>\n",
              "      <td>20.0</td>\n",
              "      <td>19.4</td>\n",
              "      <td>24.1</td>\n",
              "    </tr>\n",
              "    <tr>\n",
              "      <th>1</th>\n",
              "      <td>2024-05-02</td>\n",
              "      <td>20.0</td>\n",
              "      <td>8.3</td>\n",
              "      <td>1007.0</td>\n",
              "      <td>43.1</td>\n",
              "      <td>9.8</td>\n",
              "      <td>20.9</td>\n",
              "      <td>20.2</td>\n",
              "      <td>23.7</td>\n",
              "    </tr>\n",
              "    <tr>\n",
              "      <th>2</th>\n",
              "      <td>2024-05-03</td>\n",
              "      <td>20.9</td>\n",
              "      <td>8.3</td>\n",
              "      <td>864.5</td>\n",
              "      <td>41.4</td>\n",
              "      <td>9.7</td>\n",
              "      <td>19.7</td>\n",
              "      <td>21.3</td>\n",
              "      <td>24.9</td>\n",
              "    </tr>\n",
              "    <tr>\n",
              "      <th>3</th>\n",
              "      <td>2024-05-04</td>\n",
              "      <td>19.7</td>\n",
              "      <td>8.1</td>\n",
              "      <td>831.7</td>\n",
              "      <td>37.6</td>\n",
              "      <td>8.7</td>\n",
              "      <td>18.7</td>\n",
              "      <td>22.0</td>\n",
              "      <td>25.8</td>\n",
              "    </tr>\n",
              "    <tr>\n",
              "      <th>4</th>\n",
              "      <td>2024-05-05</td>\n",
              "      <td>18.7</td>\n",
              "      <td>8.1</td>\n",
              "      <td>825.8</td>\n",
              "      <td>33.8</td>\n",
              "      <td>9.0</td>\n",
              "      <td>19.1</td>\n",
              "      <td>22.5</td>\n",
              "      <td>25.5</td>\n",
              "    </tr>\n",
              "  </tbody>\n",
              "</table>\n",
              "</div>\n",
              "    <div class=\"colab-df-buttons\">\n",
              "\n",
              "  <div class=\"colab-df-container\">\n",
              "    <button class=\"colab-df-convert\" onclick=\"convertToInteractive('df-a2e378b7-10aa-4a9b-bb3f-e65e6128fad9')\"\n",
              "            title=\"Convert this dataframe to an interactive table.\"\n",
              "            style=\"display:none;\">\n",
              "\n",
              "  <svg xmlns=\"http://www.w3.org/2000/svg\" height=\"24px\" viewBox=\"0 -960 960 960\">\n",
              "    <path d=\"M120-120v-720h720v720H120Zm60-500h600v-160H180v160Zm220 220h160v-160H400v160Zm0 220h160v-160H400v160ZM180-400h160v-160H180v160Zm440 0h160v-160H620v160ZM180-180h160v-160H180v160Zm440 0h160v-160H620v160Z\"/>\n",
              "  </svg>\n",
              "    </button>\n",
              "\n",
              "  <style>\n",
              "    .colab-df-container {\n",
              "      display:flex;\n",
              "      gap: 12px;\n",
              "    }\n",
              "\n",
              "    .colab-df-convert {\n",
              "      background-color: #E8F0FE;\n",
              "      border: none;\n",
              "      border-radius: 50%;\n",
              "      cursor: pointer;\n",
              "      display: none;\n",
              "      fill: #1967D2;\n",
              "      height: 32px;\n",
              "      padding: 0 0 0 0;\n",
              "      width: 32px;\n",
              "    }\n",
              "\n",
              "    .colab-df-convert:hover {\n",
              "      background-color: #E2EBFA;\n",
              "      box-shadow: 0px 1px 2px rgba(60, 64, 67, 0.3), 0px 1px 3px 1px rgba(60, 64, 67, 0.15);\n",
              "      fill: #174EA6;\n",
              "    }\n",
              "\n",
              "    .colab-df-buttons div {\n",
              "      margin-bottom: 4px;\n",
              "    }\n",
              "\n",
              "    [theme=dark] .colab-df-convert {\n",
              "      background-color: #3B4455;\n",
              "      fill: #D2E3FC;\n",
              "    }\n",
              "\n",
              "    [theme=dark] .colab-df-convert:hover {\n",
              "      background-color: #434B5C;\n",
              "      box-shadow: 0px 1px 3px 1px rgba(0, 0, 0, 0.15);\n",
              "      filter: drop-shadow(0px 1px 2px rgba(0, 0, 0, 0.3));\n",
              "      fill: #FFFFFF;\n",
              "    }\n",
              "  </style>\n",
              "\n",
              "    <script>\n",
              "      const buttonEl =\n",
              "        document.querySelector('#df-a2e378b7-10aa-4a9b-bb3f-e65e6128fad9 button.colab-df-convert');\n",
              "      buttonEl.style.display =\n",
              "        google.colab.kernel.accessAllowed ? 'block' : 'none';\n",
              "\n",
              "      async function convertToInteractive(key) {\n",
              "        const element = document.querySelector('#df-a2e378b7-10aa-4a9b-bb3f-e65e6128fad9');\n",
              "        const dataTable =\n",
              "          await google.colab.kernel.invokeFunction('convertToInteractive',\n",
              "                                                    [key], {});\n",
              "        if (!dataTable) return;\n",
              "\n",
              "        const docLinkHtml = 'Like what you see? Visit the ' +\n",
              "          '<a target=\"_blank\" href=https://colab.research.google.com/notebooks/data_table.ipynb>data table notebook</a>'\n",
              "          + ' to learn more about interactive tables.';\n",
              "        element.innerHTML = '';\n",
              "        dataTable['output_type'] = 'display_data';\n",
              "        await google.colab.output.renderOutput(dataTable, element);\n",
              "        const docLink = document.createElement('div');\n",
              "        docLink.innerHTML = docLinkHtml;\n",
              "        element.appendChild(docLink);\n",
              "      }\n",
              "    </script>\n",
              "  </div>\n",
              "\n",
              "\n",
              "<div id=\"df-6f0378d2-b5d2-4659-8b79-198c0fc27379\">\n",
              "  <button class=\"colab-df-quickchart\" onclick=\"quickchart('df-6f0378d2-b5d2-4659-8b79-198c0fc27379')\"\n",
              "            title=\"Suggest charts\"\n",
              "            style=\"display:none;\">\n",
              "\n",
              "<svg xmlns=\"http://www.w3.org/2000/svg\" height=\"24px\"viewBox=\"0 0 24 24\"\n",
              "     width=\"24px\">\n",
              "    <g>\n",
              "        <path d=\"M19 3H5c-1.1 0-2 .9-2 2v14c0 1.1.9 2 2 2h14c1.1 0 2-.9 2-2V5c0-1.1-.9-2-2-2zM9 17H7v-7h2v7zm4 0h-2V7h2v10zm4 0h-2v-4h2v4z\"/>\n",
              "    </g>\n",
              "</svg>\n",
              "  </button>\n",
              "\n",
              "<style>\n",
              "  .colab-df-quickchart {\n",
              "      --bg-color: #E8F0FE;\n",
              "      --fill-color: #1967D2;\n",
              "      --hover-bg-color: #E2EBFA;\n",
              "      --hover-fill-color: #174EA6;\n",
              "      --disabled-fill-color: #AAA;\n",
              "      --disabled-bg-color: #DDD;\n",
              "  }\n",
              "\n",
              "  [theme=dark] .colab-df-quickchart {\n",
              "      --bg-color: #3B4455;\n",
              "      --fill-color: #D2E3FC;\n",
              "      --hover-bg-color: #434B5C;\n",
              "      --hover-fill-color: #FFFFFF;\n",
              "      --disabled-bg-color: #3B4455;\n",
              "      --disabled-fill-color: #666;\n",
              "  }\n",
              "\n",
              "  .colab-df-quickchart {\n",
              "    background-color: var(--bg-color);\n",
              "    border: none;\n",
              "    border-radius: 50%;\n",
              "    cursor: pointer;\n",
              "    display: none;\n",
              "    fill: var(--fill-color);\n",
              "    height: 32px;\n",
              "    padding: 0;\n",
              "    width: 32px;\n",
              "  }\n",
              "\n",
              "  .colab-df-quickchart:hover {\n",
              "    background-color: var(--hover-bg-color);\n",
              "    box-shadow: 0 1px 2px rgba(60, 64, 67, 0.3), 0 1px 3px 1px rgba(60, 64, 67, 0.15);\n",
              "    fill: var(--button-hover-fill-color);\n",
              "  }\n",
              "\n",
              "  .colab-df-quickchart-complete:disabled,\n",
              "  .colab-df-quickchart-complete:disabled:hover {\n",
              "    background-color: var(--disabled-bg-color);\n",
              "    fill: var(--disabled-fill-color);\n",
              "    box-shadow: none;\n",
              "  }\n",
              "\n",
              "  .colab-df-spinner {\n",
              "    border: 2px solid var(--fill-color);\n",
              "    border-color: transparent;\n",
              "    border-bottom-color: var(--fill-color);\n",
              "    animation:\n",
              "      spin 1s steps(1) infinite;\n",
              "  }\n",
              "\n",
              "  @keyframes spin {\n",
              "    0% {\n",
              "      border-color: transparent;\n",
              "      border-bottom-color: var(--fill-color);\n",
              "      border-left-color: var(--fill-color);\n",
              "    }\n",
              "    20% {\n",
              "      border-color: transparent;\n",
              "      border-left-color: var(--fill-color);\n",
              "      border-top-color: var(--fill-color);\n",
              "    }\n",
              "    30% {\n",
              "      border-color: transparent;\n",
              "      border-left-color: var(--fill-color);\n",
              "      border-top-color: var(--fill-color);\n",
              "      border-right-color: var(--fill-color);\n",
              "    }\n",
              "    40% {\n",
              "      border-color: transparent;\n",
              "      border-right-color: var(--fill-color);\n",
              "      border-top-color: var(--fill-color);\n",
              "    }\n",
              "    60% {\n",
              "      border-color: transparent;\n",
              "      border-right-color: var(--fill-color);\n",
              "    }\n",
              "    80% {\n",
              "      border-color: transparent;\n",
              "      border-right-color: var(--fill-color);\n",
              "      border-bottom-color: var(--fill-color);\n",
              "    }\n",
              "    90% {\n",
              "      border-color: transparent;\n",
              "      border-bottom-color: var(--fill-color);\n",
              "    }\n",
              "  }\n",
              "</style>\n",
              "\n",
              "  <script>\n",
              "    async function quickchart(key) {\n",
              "      const quickchartButtonEl =\n",
              "        document.querySelector('#' + key + ' button');\n",
              "      quickchartButtonEl.disabled = true;  // To prevent multiple clicks.\n",
              "      quickchartButtonEl.classList.add('colab-df-spinner');\n",
              "      try {\n",
              "        const charts = await google.colab.kernel.invokeFunction(\n",
              "            'suggestCharts', [key], {});\n",
              "      } catch (error) {\n",
              "        console.error('Error during call to suggestCharts:', error);\n",
              "      }\n",
              "      quickchartButtonEl.classList.remove('colab-df-spinner');\n",
              "      quickchartButtonEl.classList.add('colab-df-quickchart-complete');\n",
              "    }\n",
              "    (() => {\n",
              "      let quickchartButtonEl =\n",
              "        document.querySelector('#df-6f0378d2-b5d2-4659-8b79-198c0fc27379 button');\n",
              "      quickchartButtonEl.style.display =\n",
              "        google.colab.kernel.accessAllowed ? 'block' : 'none';\n",
              "    })();\n",
              "  </script>\n",
              "</div>\n",
              "\n",
              "    </div>\n",
              "  </div>\n"
            ],
            "application/vnd.google.colaboratory.intrinsic+json": {
              "type": "dataframe",
              "variable_name": "df",
              "summary": "{\n  \"name\": \"df\",\n  \"rows\": 92,\n  \"fields\": [\n    {\n      \"column\": \"Date\",\n      \"properties\": {\n        \"dtype\": \"object\",\n        \"num_unique_values\": 92,\n        \"samples\": [\n          \"2024-06-10\",\n          \"2024-05-23\",\n          \"2024-06-25\"\n        ],\n        \"semantic_type\": \"\",\n        \"description\": \"\"\n      }\n    },\n    {\n      \"column\": \"Average Temperature C\",\n      \"properties\": {\n        \"dtype\": \"number\",\n        \"std\": 3.6140398506442764,\n        \"min\": 18.7,\n        \"max\": 31.1,\n        \"num_unique_values\": 69,\n        \"samples\": [\n          23.6,\n          19.8,\n          27.6\n        ],\n        \"semantic_type\": \"\",\n        \"description\": \"\"\n      }\n    },\n    {\n      \"column\": \"Average pH\",\n      \"properties\": {\n        \"dtype\": \"number\",\n        \"std\": 0.2437954387554349,\n        \"min\": 7.3,\n        \"max\": 8.3,\n        \"num_unique_values\": 11,\n        \"samples\": [\n          7.7,\n          8.3,\n          7.4\n        ],\n        \"semantic_type\": \"\",\n        \"description\": \"\"\n      }\n    },\n    {\n      \"column\": \"Average Specific Conductance \\u03bcS/cm\",\n      \"properties\": {\n        \"dtype\": \"number\",\n        \"std\": 267.60898469535715,\n        \"min\": 362.0,\n        \"max\": 1432.4,\n        \"num_unique_values\": 92,\n        \"samples\": [\n          1304.3,\n          666.4,\n          986.0\n        ],\n        \"semantic_type\": \"\",\n        \"description\": \"\"\n      }\n    },\n    {\n      \"column\": \"Average Turbidity FNU\",\n      \"properties\": {\n        \"dtype\": \"number\",\n        \"std\": 15.113178531101521,\n        \"min\": 13.0,\n        \"max\": 104.9,\n        \"num_unique_values\": 85,\n        \"samples\": [\n          19.9,\n          39.7,\n          37.0\n        ],\n        \"semantic_type\": \"\",\n        \"description\": \"\"\n      }\n    },\n    {\n      \"column\": \"Average Dissolved Oxygen mg/l\",\n      \"properties\": {\n        \"dtype\": \"number\",\n        \"std\": 1.843676969611326,\n        \"min\": 2.9,\n        \"max\": 9.9,\n        \"num_unique_values\": 47,\n        \"samples\": [\n          6.2,\n          4.0,\n          6.8\n        ],\n        \"semantic_type\": \"\",\n        \"description\": \"\"\n      }\n    },\n    {\n      \"column\": \"Average Temperature C +1 day\",\n      \"properties\": {\n        \"dtype\": \"number\",\n        \"std\": 3.572069244971931,\n        \"min\": 18.7,\n        \"max\": 31.1,\n        \"num_unique_values\": 70,\n        \"samples\": [\n          23.6,\n          20.0,\n          29.2\n        ],\n        \"semantic_type\": \"\",\n        \"description\": \"\"\n      }\n    },\n    {\n      \"column\": \"Average Temperature C +1 week\",\n      \"properties\": {\n        \"dtype\": \"number\",\n        \"std\": 3.221252549635499,\n        \"min\": 19.3,\n        \"max\": 31.1,\n        \"num_unique_values\": 66,\n        \"samples\": [\n          28.5,\n          27.4,\n          19.4\n        ],\n        \"semantic_type\": \"\",\n        \"description\": \"\"\n      }\n    },\n    {\n      \"column\": \"Average Temperature C +4 weeks\",\n      \"properties\": {\n        \"dtype\": \"number\",\n        \"std\": 1.9607532411841486,\n        \"min\": 23.0,\n        \"max\": 31.1,\n        \"num_unique_values\": 59,\n        \"samples\": [\n          24.1,\n          25.2,\n          30.8\n        ],\n        \"semantic_type\": \"\",\n        \"description\": \"\"\n      }\n    }\n  ]\n}"
            }
          },
          "metadata": {},
          "execution_count": 4
        }
      ]
    },
    {
      "cell_type": "markdown",
      "source": [
        "# 4. Preprocessing the Dataset"
      ],
      "metadata": {
        "id": "3ryP5LAfhmbn"
      }
    },
    {
      "cell_type": "markdown",
      "source": [
        "## 4.1 Separating the Dataset into Inputs and Target"
      ],
      "metadata": {
        "id": "MGapT96RhqX1"
      }
    },
    {
      "cell_type": "markdown",
      "source": [
        "Code Block 4A"
      ],
      "metadata": {
        "id": "4EjFdDKld-XB"
      }
    },
    {
      "cell_type": "code",
      "source": [
        "# Drop the 'Date' column and the target columns ('Average DO (1 day)', 'Average DO (1 week)', 'Average DO (4 weeks)')\n",
        "# from the DataFrame to create the input features DataFrame\n",
        "inputs = df.drop(['Date', 'Average Temperature C +1 day', 'Average Temperature C +1 week', 'Average Temperature C +4 weeks'], axis='columns')\n",
        "\n",
        "# Select the target columns ('Average DO (1 day)', 'Average DO (1 week)', 'Average DO (4 weeks)')\n",
        "# from the DataFrame to create the target DataFrame\n",
        "target = df[['Average Temperature C +1 day', 'Average Temperature C +1 week', 'Average Temperature C +4 weeks']]"
      ],
      "metadata": {
        "collapsed": true,
        "id": "5ZitDZEaCEI-"
      },
      "execution_count": null,
      "outputs": []
    },
    {
      "cell_type": "markdown",
      "source": [
        "Code Block 4B"
      ],
      "metadata": {
        "id": "V8g0TwTqeAAN"
      }
    },
    {
      "cell_type": "code",
      "source": [
        "# Convert the inputs DataFrame to a NumPy array with float data type\n",
        "inputs = np.array(inputs, dtype=float)\n",
        "\n",
        "# Convert the target DataFrame to a NumPy array with float data type\n",
        "target = np.array(target, dtype=float)"
      ],
      "metadata": {
        "id": "MvklElsGhHzA"
      },
      "execution_count": null,
      "outputs": []
    },
    {
      "cell_type": "markdown",
      "source": [
        "## 4.2 Splitting the Training and Testing Data"
      ],
      "metadata": {
        "id": "WsKm__jPiQau"
      }
    },
    {
      "cell_type": "markdown",
      "source": [
        "Code Block 4C"
      ],
      "metadata": {
        "id": "OxYFRqxieDks"
      }
    },
    {
      "cell_type": "code",
      "source": [
        "# Split the data into train and test sets (80% train, 20% test)\n",
        "X_train, X_test, y_train, y_test = train_test_split(inputs, target, test_size=0.2, random_state=42)\n",
        "\n",
        "print(\"X_train shape:\", X_train.shape)\n",
        "print(\"X_test shape:\", X_test.shape)\n",
        "print(\"y_train shape:\", y_train.shape)\n",
        "print(\"y_test shape:\", y_test.shape)"
      ],
      "metadata": {
        "id": "pm3iyBSRiTbf",
        "colab": {
          "base_uri": "https://localhost:8080/"
        },
        "outputId": "6b0d7f44-fc5d-4090-9c96-0d9dc1ac9a25"
      },
      "execution_count": null,
      "outputs": [
        {
          "output_type": "stream",
          "name": "stdout",
          "text": [
            "X_train shape: (73, 5)\n",
            "X_test shape: (19, 5)\n",
            "y_train shape: (73, 3)\n",
            "y_test shape: (19, 3)\n"
          ]
        }
      ]
    },
    {
      "cell_type": "markdown",
      "source": [
        "# 5. Training the Model\n"
      ],
      "metadata": {
        "id": "gCGvez2eiw_d"
      }
    },
    {
      "cell_type": "markdown",
      "source": [
        "Code Block 5A"
      ],
      "metadata": {
        "id": "IBiYoluDersc"
      }
    },
    {
      "cell_type": "code",
      "source": [
        "# Initialize a RandomForestRegressor model from the scikit-learn library\n",
        "model = RandomForestRegressor()"
      ],
      "metadata": {
        "id": "TIWoibtAhslE"
      },
      "execution_count": null,
      "outputs": []
    },
    {
      "cell_type": "markdown",
      "source": [
        "Code Block 5B"
      ],
      "metadata": {
        "id": "jtCvOAKzetsr"
      }
    },
    {
      "cell_type": "code",
      "source": [
        "# Fitting the model to the training data (X_train) and corresponding labels (y_train)\n",
        "model.fit(X_train, y_train)"
      ],
      "metadata": {
        "id": "eOo6Z-pbh3Qj",
        "colab": {
          "base_uri": "https://localhost:8080/",
          "height": 80
        },
        "outputId": "6eefcd92-7a28-4f1b-d2a6-d22976b87aa6"
      },
      "execution_count": null,
      "outputs": [
        {
          "output_type": "execute_result",
          "data": {
            "text/plain": [
              "RandomForestRegressor()"
            ],
            "text/html": [
              "<style>#sk-container-id-1 {\n",
              "  /* Definition of color scheme common for light and dark mode */\n",
              "  --sklearn-color-text: #000;\n",
              "  --sklearn-color-text-muted: #666;\n",
              "  --sklearn-color-line: gray;\n",
              "  /* Definition of color scheme for unfitted estimators */\n",
              "  --sklearn-color-unfitted-level-0: #fff5e6;\n",
              "  --sklearn-color-unfitted-level-1: #f6e4d2;\n",
              "  --sklearn-color-unfitted-level-2: #ffe0b3;\n",
              "  --sklearn-color-unfitted-level-3: chocolate;\n",
              "  /* Definition of color scheme for fitted estimators */\n",
              "  --sklearn-color-fitted-level-0: #f0f8ff;\n",
              "  --sklearn-color-fitted-level-1: #d4ebff;\n",
              "  --sklearn-color-fitted-level-2: #b3dbfd;\n",
              "  --sklearn-color-fitted-level-3: cornflowerblue;\n",
              "\n",
              "  /* Specific color for light theme */\n",
              "  --sklearn-color-text-on-default-background: var(--sg-text-color, var(--theme-code-foreground, var(--jp-content-font-color1, black)));\n",
              "  --sklearn-color-background: var(--sg-background-color, var(--theme-background, var(--jp-layout-color0, white)));\n",
              "  --sklearn-color-border-box: var(--sg-text-color, var(--theme-code-foreground, var(--jp-content-font-color1, black)));\n",
              "  --sklearn-color-icon: #696969;\n",
              "\n",
              "  @media (prefers-color-scheme: dark) {\n",
              "    /* Redefinition of color scheme for dark theme */\n",
              "    --sklearn-color-text-on-default-background: var(--sg-text-color, var(--theme-code-foreground, var(--jp-content-font-color1, white)));\n",
              "    --sklearn-color-background: var(--sg-background-color, var(--theme-background, var(--jp-layout-color0, #111)));\n",
              "    --sklearn-color-border-box: var(--sg-text-color, var(--theme-code-foreground, var(--jp-content-font-color1, white)));\n",
              "    --sklearn-color-icon: #878787;\n",
              "  }\n",
              "}\n",
              "\n",
              "#sk-container-id-1 {\n",
              "  color: var(--sklearn-color-text);\n",
              "}\n",
              "\n",
              "#sk-container-id-1 pre {\n",
              "  padding: 0;\n",
              "}\n",
              "\n",
              "#sk-container-id-1 input.sk-hidden--visually {\n",
              "  border: 0;\n",
              "  clip: rect(1px 1px 1px 1px);\n",
              "  clip: rect(1px, 1px, 1px, 1px);\n",
              "  height: 1px;\n",
              "  margin: -1px;\n",
              "  overflow: hidden;\n",
              "  padding: 0;\n",
              "  position: absolute;\n",
              "  width: 1px;\n",
              "}\n",
              "\n",
              "#sk-container-id-1 div.sk-dashed-wrapped {\n",
              "  border: 1px dashed var(--sklearn-color-line);\n",
              "  margin: 0 0.4em 0.5em 0.4em;\n",
              "  box-sizing: border-box;\n",
              "  padding-bottom: 0.4em;\n",
              "  background-color: var(--sklearn-color-background);\n",
              "}\n",
              "\n",
              "#sk-container-id-1 div.sk-container {\n",
              "  /* jupyter's `normalize.less` sets `[hidden] { display: none; }`\n",
              "     but bootstrap.min.css set `[hidden] { display: none !important; }`\n",
              "     so we also need the `!important` here to be able to override the\n",
              "     default hidden behavior on the sphinx rendered scikit-learn.org.\n",
              "     See: https://github.com/scikit-learn/scikit-learn/issues/21755 */\n",
              "  display: inline-block !important;\n",
              "  position: relative;\n",
              "}\n",
              "\n",
              "#sk-container-id-1 div.sk-text-repr-fallback {\n",
              "  display: none;\n",
              "}\n",
              "\n",
              "div.sk-parallel-item,\n",
              "div.sk-serial,\n",
              "div.sk-item {\n",
              "  /* draw centered vertical line to link estimators */\n",
              "  background-image: linear-gradient(var(--sklearn-color-text-on-default-background), var(--sklearn-color-text-on-default-background));\n",
              "  background-size: 2px 100%;\n",
              "  background-repeat: no-repeat;\n",
              "  background-position: center center;\n",
              "}\n",
              "\n",
              "/* Parallel-specific style estimator block */\n",
              "\n",
              "#sk-container-id-1 div.sk-parallel-item::after {\n",
              "  content: \"\";\n",
              "  width: 100%;\n",
              "  border-bottom: 2px solid var(--sklearn-color-text-on-default-background);\n",
              "  flex-grow: 1;\n",
              "}\n",
              "\n",
              "#sk-container-id-1 div.sk-parallel {\n",
              "  display: flex;\n",
              "  align-items: stretch;\n",
              "  justify-content: center;\n",
              "  background-color: var(--sklearn-color-background);\n",
              "  position: relative;\n",
              "}\n",
              "\n",
              "#sk-container-id-1 div.sk-parallel-item {\n",
              "  display: flex;\n",
              "  flex-direction: column;\n",
              "}\n",
              "\n",
              "#sk-container-id-1 div.sk-parallel-item:first-child::after {\n",
              "  align-self: flex-end;\n",
              "  width: 50%;\n",
              "}\n",
              "\n",
              "#sk-container-id-1 div.sk-parallel-item:last-child::after {\n",
              "  align-self: flex-start;\n",
              "  width: 50%;\n",
              "}\n",
              "\n",
              "#sk-container-id-1 div.sk-parallel-item:only-child::after {\n",
              "  width: 0;\n",
              "}\n",
              "\n",
              "/* Serial-specific style estimator block */\n",
              "\n",
              "#sk-container-id-1 div.sk-serial {\n",
              "  display: flex;\n",
              "  flex-direction: column;\n",
              "  align-items: center;\n",
              "  background-color: var(--sklearn-color-background);\n",
              "  padding-right: 1em;\n",
              "  padding-left: 1em;\n",
              "}\n",
              "\n",
              "\n",
              "/* Toggleable style: style used for estimator/Pipeline/ColumnTransformer box that is\n",
              "clickable and can be expanded/collapsed.\n",
              "- Pipeline and ColumnTransformer use this feature and define the default style\n",
              "- Estimators will overwrite some part of the style using the `sk-estimator` class\n",
              "*/\n",
              "\n",
              "/* Pipeline and ColumnTransformer style (default) */\n",
              "\n",
              "#sk-container-id-1 div.sk-toggleable {\n",
              "  /* Default theme specific background. It is overwritten whether we have a\n",
              "  specific estimator or a Pipeline/ColumnTransformer */\n",
              "  background-color: var(--sklearn-color-background);\n",
              "}\n",
              "\n",
              "/* Toggleable label */\n",
              "#sk-container-id-1 label.sk-toggleable__label {\n",
              "  cursor: pointer;\n",
              "  display: flex;\n",
              "  width: 100%;\n",
              "  margin-bottom: 0;\n",
              "  padding: 0.5em;\n",
              "  box-sizing: border-box;\n",
              "  text-align: center;\n",
              "  align-items: start;\n",
              "  justify-content: space-between;\n",
              "  gap: 0.5em;\n",
              "}\n",
              "\n",
              "#sk-container-id-1 label.sk-toggleable__label .caption {\n",
              "  font-size: 0.6rem;\n",
              "  font-weight: lighter;\n",
              "  color: var(--sklearn-color-text-muted);\n",
              "}\n",
              "\n",
              "#sk-container-id-1 label.sk-toggleable__label-arrow:before {\n",
              "  /* Arrow on the left of the label */\n",
              "  content: \"▸\";\n",
              "  float: left;\n",
              "  margin-right: 0.25em;\n",
              "  color: var(--sklearn-color-icon);\n",
              "}\n",
              "\n",
              "#sk-container-id-1 label.sk-toggleable__label-arrow:hover:before {\n",
              "  color: var(--sklearn-color-text);\n",
              "}\n",
              "\n",
              "/* Toggleable content - dropdown */\n",
              "\n",
              "#sk-container-id-1 div.sk-toggleable__content {\n",
              "  max-height: 0;\n",
              "  max-width: 0;\n",
              "  overflow: hidden;\n",
              "  text-align: left;\n",
              "  /* unfitted */\n",
              "  background-color: var(--sklearn-color-unfitted-level-0);\n",
              "}\n",
              "\n",
              "#sk-container-id-1 div.sk-toggleable__content.fitted {\n",
              "  /* fitted */\n",
              "  background-color: var(--sklearn-color-fitted-level-0);\n",
              "}\n",
              "\n",
              "#sk-container-id-1 div.sk-toggleable__content pre {\n",
              "  margin: 0.2em;\n",
              "  border-radius: 0.25em;\n",
              "  color: var(--sklearn-color-text);\n",
              "  /* unfitted */\n",
              "  background-color: var(--sklearn-color-unfitted-level-0);\n",
              "}\n",
              "\n",
              "#sk-container-id-1 div.sk-toggleable__content.fitted pre {\n",
              "  /* unfitted */\n",
              "  background-color: var(--sklearn-color-fitted-level-0);\n",
              "}\n",
              "\n",
              "#sk-container-id-1 input.sk-toggleable__control:checked~div.sk-toggleable__content {\n",
              "  /* Expand drop-down */\n",
              "  max-height: 200px;\n",
              "  max-width: 100%;\n",
              "  overflow: auto;\n",
              "}\n",
              "\n",
              "#sk-container-id-1 input.sk-toggleable__control:checked~label.sk-toggleable__label-arrow:before {\n",
              "  content: \"▾\";\n",
              "}\n",
              "\n",
              "/* Pipeline/ColumnTransformer-specific style */\n",
              "\n",
              "#sk-container-id-1 div.sk-label input.sk-toggleable__control:checked~label.sk-toggleable__label {\n",
              "  color: var(--sklearn-color-text);\n",
              "  background-color: var(--sklearn-color-unfitted-level-2);\n",
              "}\n",
              "\n",
              "#sk-container-id-1 div.sk-label.fitted input.sk-toggleable__control:checked~label.sk-toggleable__label {\n",
              "  background-color: var(--sklearn-color-fitted-level-2);\n",
              "}\n",
              "\n",
              "/* Estimator-specific style */\n",
              "\n",
              "/* Colorize estimator box */\n",
              "#sk-container-id-1 div.sk-estimator input.sk-toggleable__control:checked~label.sk-toggleable__label {\n",
              "  /* unfitted */\n",
              "  background-color: var(--sklearn-color-unfitted-level-2);\n",
              "}\n",
              "\n",
              "#sk-container-id-1 div.sk-estimator.fitted input.sk-toggleable__control:checked~label.sk-toggleable__label {\n",
              "  /* fitted */\n",
              "  background-color: var(--sklearn-color-fitted-level-2);\n",
              "}\n",
              "\n",
              "#sk-container-id-1 div.sk-label label.sk-toggleable__label,\n",
              "#sk-container-id-1 div.sk-label label {\n",
              "  /* The background is the default theme color */\n",
              "  color: var(--sklearn-color-text-on-default-background);\n",
              "}\n",
              "\n",
              "/* On hover, darken the color of the background */\n",
              "#sk-container-id-1 div.sk-label:hover label.sk-toggleable__label {\n",
              "  color: var(--sklearn-color-text);\n",
              "  background-color: var(--sklearn-color-unfitted-level-2);\n",
              "}\n",
              "\n",
              "/* Label box, darken color on hover, fitted */\n",
              "#sk-container-id-1 div.sk-label.fitted:hover label.sk-toggleable__label.fitted {\n",
              "  color: var(--sklearn-color-text);\n",
              "  background-color: var(--sklearn-color-fitted-level-2);\n",
              "}\n",
              "\n",
              "/* Estimator label */\n",
              "\n",
              "#sk-container-id-1 div.sk-label label {\n",
              "  font-family: monospace;\n",
              "  font-weight: bold;\n",
              "  display: inline-block;\n",
              "  line-height: 1.2em;\n",
              "}\n",
              "\n",
              "#sk-container-id-1 div.sk-label-container {\n",
              "  text-align: center;\n",
              "}\n",
              "\n",
              "/* Estimator-specific */\n",
              "#sk-container-id-1 div.sk-estimator {\n",
              "  font-family: monospace;\n",
              "  border: 1px dotted var(--sklearn-color-border-box);\n",
              "  border-radius: 0.25em;\n",
              "  box-sizing: border-box;\n",
              "  margin-bottom: 0.5em;\n",
              "  /* unfitted */\n",
              "  background-color: var(--sklearn-color-unfitted-level-0);\n",
              "}\n",
              "\n",
              "#sk-container-id-1 div.sk-estimator.fitted {\n",
              "  /* fitted */\n",
              "  background-color: var(--sklearn-color-fitted-level-0);\n",
              "}\n",
              "\n",
              "/* on hover */\n",
              "#sk-container-id-1 div.sk-estimator:hover {\n",
              "  /* unfitted */\n",
              "  background-color: var(--sklearn-color-unfitted-level-2);\n",
              "}\n",
              "\n",
              "#sk-container-id-1 div.sk-estimator.fitted:hover {\n",
              "  /* fitted */\n",
              "  background-color: var(--sklearn-color-fitted-level-2);\n",
              "}\n",
              "\n",
              "/* Specification for estimator info (e.g. \"i\" and \"?\") */\n",
              "\n",
              "/* Common style for \"i\" and \"?\" */\n",
              "\n",
              ".sk-estimator-doc-link,\n",
              "a:link.sk-estimator-doc-link,\n",
              "a:visited.sk-estimator-doc-link {\n",
              "  float: right;\n",
              "  font-size: smaller;\n",
              "  line-height: 1em;\n",
              "  font-family: monospace;\n",
              "  background-color: var(--sklearn-color-background);\n",
              "  border-radius: 1em;\n",
              "  height: 1em;\n",
              "  width: 1em;\n",
              "  text-decoration: none !important;\n",
              "  margin-left: 0.5em;\n",
              "  text-align: center;\n",
              "  /* unfitted */\n",
              "  border: var(--sklearn-color-unfitted-level-1) 1pt solid;\n",
              "  color: var(--sklearn-color-unfitted-level-1);\n",
              "}\n",
              "\n",
              ".sk-estimator-doc-link.fitted,\n",
              "a:link.sk-estimator-doc-link.fitted,\n",
              "a:visited.sk-estimator-doc-link.fitted {\n",
              "  /* fitted */\n",
              "  border: var(--sklearn-color-fitted-level-1) 1pt solid;\n",
              "  color: var(--sklearn-color-fitted-level-1);\n",
              "}\n",
              "\n",
              "/* On hover */\n",
              "div.sk-estimator:hover .sk-estimator-doc-link:hover,\n",
              ".sk-estimator-doc-link:hover,\n",
              "div.sk-label-container:hover .sk-estimator-doc-link:hover,\n",
              ".sk-estimator-doc-link:hover {\n",
              "  /* unfitted */\n",
              "  background-color: var(--sklearn-color-unfitted-level-3);\n",
              "  color: var(--sklearn-color-background);\n",
              "  text-decoration: none;\n",
              "}\n",
              "\n",
              "div.sk-estimator.fitted:hover .sk-estimator-doc-link.fitted:hover,\n",
              ".sk-estimator-doc-link.fitted:hover,\n",
              "div.sk-label-container:hover .sk-estimator-doc-link.fitted:hover,\n",
              ".sk-estimator-doc-link.fitted:hover {\n",
              "  /* fitted */\n",
              "  background-color: var(--sklearn-color-fitted-level-3);\n",
              "  color: var(--sklearn-color-background);\n",
              "  text-decoration: none;\n",
              "}\n",
              "\n",
              "/* Span, style for the box shown on hovering the info icon */\n",
              ".sk-estimator-doc-link span {\n",
              "  display: none;\n",
              "  z-index: 9999;\n",
              "  position: relative;\n",
              "  font-weight: normal;\n",
              "  right: .2ex;\n",
              "  padding: .5ex;\n",
              "  margin: .5ex;\n",
              "  width: min-content;\n",
              "  min-width: 20ex;\n",
              "  max-width: 50ex;\n",
              "  color: var(--sklearn-color-text);\n",
              "  box-shadow: 2pt 2pt 4pt #999;\n",
              "  /* unfitted */\n",
              "  background: var(--sklearn-color-unfitted-level-0);\n",
              "  border: .5pt solid var(--sklearn-color-unfitted-level-3);\n",
              "}\n",
              "\n",
              ".sk-estimator-doc-link.fitted span {\n",
              "  /* fitted */\n",
              "  background: var(--sklearn-color-fitted-level-0);\n",
              "  border: var(--sklearn-color-fitted-level-3);\n",
              "}\n",
              "\n",
              ".sk-estimator-doc-link:hover span {\n",
              "  display: block;\n",
              "}\n",
              "\n",
              "/* \"?\"-specific style due to the `<a>` HTML tag */\n",
              "\n",
              "#sk-container-id-1 a.estimator_doc_link {\n",
              "  float: right;\n",
              "  font-size: 1rem;\n",
              "  line-height: 1em;\n",
              "  font-family: monospace;\n",
              "  background-color: var(--sklearn-color-background);\n",
              "  border-radius: 1rem;\n",
              "  height: 1rem;\n",
              "  width: 1rem;\n",
              "  text-decoration: none;\n",
              "  /* unfitted */\n",
              "  color: var(--sklearn-color-unfitted-level-1);\n",
              "  border: var(--sklearn-color-unfitted-level-1) 1pt solid;\n",
              "}\n",
              "\n",
              "#sk-container-id-1 a.estimator_doc_link.fitted {\n",
              "  /* fitted */\n",
              "  border: var(--sklearn-color-fitted-level-1) 1pt solid;\n",
              "  color: var(--sklearn-color-fitted-level-1);\n",
              "}\n",
              "\n",
              "/* On hover */\n",
              "#sk-container-id-1 a.estimator_doc_link:hover {\n",
              "  /* unfitted */\n",
              "  background-color: var(--sklearn-color-unfitted-level-3);\n",
              "  color: var(--sklearn-color-background);\n",
              "  text-decoration: none;\n",
              "}\n",
              "\n",
              "#sk-container-id-1 a.estimator_doc_link.fitted:hover {\n",
              "  /* fitted */\n",
              "  background-color: var(--sklearn-color-fitted-level-3);\n",
              "}\n",
              "</style><div id=\"sk-container-id-1\" class=\"sk-top-container\"><div class=\"sk-text-repr-fallback\"><pre>RandomForestRegressor()</pre><b>In a Jupyter environment, please rerun this cell to show the HTML representation or trust the notebook. <br />On GitHub, the HTML representation is unable to render, please try loading this page with nbviewer.org.</b></div><div class=\"sk-container\" hidden><div class=\"sk-item\"><div class=\"sk-estimator fitted sk-toggleable\"><input class=\"sk-toggleable__control sk-hidden--visually\" id=\"sk-estimator-id-1\" type=\"checkbox\" checked><label for=\"sk-estimator-id-1\" class=\"sk-toggleable__label fitted sk-toggleable__label-arrow\"><div><div>RandomForestRegressor</div></div><div><a class=\"sk-estimator-doc-link fitted\" rel=\"noreferrer\" target=\"_blank\" href=\"https://scikit-learn.org/1.6/modules/generated/sklearn.ensemble.RandomForestRegressor.html\">?<span>Documentation for RandomForestRegressor</span></a><span class=\"sk-estimator-doc-link fitted\">i<span>Fitted</span></span></div></label><div class=\"sk-toggleable__content fitted\"><pre>RandomForestRegressor()</pre></div> </div></div></div></div>"
            ]
          },
          "metadata": {},
          "execution_count": 9
        }
      ]
    },
    {
      "cell_type": "markdown",
      "source": [
        "Code Block 5C"
      ],
      "metadata": {
        "id": "QvMZZIJHew5K"
      }
    },
    {
      "cell_type": "code",
      "source": [
        "# Using the trained model to make predictions on the test data (X_test)\n",
        "y_pred = model.predict(X_test)\n",
        "\n",
        "# Rounding to 1 decimal place\n",
        "rounded_y_pred = np.round(y_pred, 2)\n",
        "\n",
        "# Printing the predicted labels\n",
        "print(rounded_y_pred)"
      ],
      "metadata": {
        "id": "_qKQn5IFh84K",
        "colab": {
          "base_uri": "https://localhost:8080/"
        },
        "outputId": "90437a16-6804-496e-dee8-163a1d42e53e"
      },
      "execution_count": null,
      "outputs": [
        {
          "output_type": "stream",
          "name": "stdout",
          "text": [
            "[[27.18 27.17 29.25]\n",
            " [20.7  23.89 24.84]\n",
            " [28.68 28.53 28.69]\n",
            " [29.98 28.38 27.54]\n",
            " [20.34 21.23 24.84]\n",
            " [24.67 27.08 28.19]\n",
            " [27.09 27.1  28.94]\n",
            " [29.95 29.11 27.37]\n",
            " [21.66 20.35 28.11]\n",
            " [27.23 27.51 28.93]\n",
            " [29.73 27.69 25.68]\n",
            " [27.31 28.94 28.6 ]\n",
            " [26.97 26.78 28.41]\n",
            " [28.22 29.39 26.74]\n",
            " [21.52 19.89 28.02]\n",
            " [19.8  22.18 25.77]\n",
            " [20.72 22.01 25.92]\n",
            " [24.62 27.02 28.16]\n",
            " [24.28 28.25 28.13]]\n"
          ]
        }
      ]
    },
    {
      "cell_type": "code",
      "source": [
        "# Using the trained model to make predictions on the test data (X_test)\n",
        "y_pred = model.predict(X_test)\n",
        "\n",
        "# Rounding to 1 decimal place\n",
        "rounded_y_pred = np.round(y_pred, 2)\n",
        "\n",
        "# Printing the predicted labels\n",
        "print(rounded_y_pred)"
      ],
      "metadata": {
        "colab": {
          "base_uri": "https://localhost:8080/"
        },
        "id": "aVJQyhuDQ7aE",
        "outputId": "7c0a581b-44f7-4b4a-f739-876b8c229bf3"
      },
      "execution_count": null,
      "outputs": [
        {
          "output_type": "stream",
          "name": "stdout",
          "text": [
            "[[27.18 27.17 29.25]\n",
            " [20.7  23.89 24.84]\n",
            " [28.68 28.53 28.69]\n",
            " [29.98 28.38 27.54]\n",
            " [20.34 21.23 24.84]\n",
            " [24.67 27.08 28.19]\n",
            " [27.09 27.1  28.94]\n",
            " [29.95 29.11 27.37]\n",
            " [21.66 20.35 28.11]\n",
            " [27.23 27.51 28.93]\n",
            " [29.73 27.69 25.68]\n",
            " [27.31 28.94 28.6 ]\n",
            " [26.97 26.78 28.41]\n",
            " [28.22 29.39 26.74]\n",
            " [21.52 19.89 28.02]\n",
            " [19.8  22.18 25.77]\n",
            " [20.72 22.01 25.92]\n",
            " [24.62 27.02 28.16]\n",
            " [24.28 28.25 28.13]]\n"
          ]
        }
      ]
    },
    {
      "cell_type": "markdown",
      "source": [
        "Code Block 5D"
      ],
      "metadata": {
        "id": "NEb0rIgDey0h"
      }
    },
    {
      "cell_type": "code",
      "source": [
        "# Rounding to 1 decimal place\n",
        "rounded_y_test = np.round(y_test, 2)\n",
        "\n",
        "print(rounded_y_test)"
      ],
      "metadata": {
        "id": "2HXk0ZdEh_qz",
        "colab": {
          "base_uri": "https://localhost:8080/"
        },
        "outputId": "1425909d-cab0-4ccc-9273-c73f3bdefe0a"
      },
      "execution_count": null,
      "outputs": [
        {
          "output_type": "stream",
          "name": "stdout",
          "text": [
            "[[27.8 23.8 30.6]\n",
            " [21.8 23.7 24.5]\n",
            " [27.8 27.8 30.3]\n",
            " [30.  28.5 27.7]\n",
            " [20.  19.4 24.1]\n",
            " [24.5 25.2 29. ]\n",
            " [26.7 24.4 31.1]\n",
            " [30.6 29.  28.5]\n",
            " [22.5 21.  27.5]\n",
            " [25.5 25.4 30.8]\n",
            " [30.4 26.5 25.2]\n",
            " [28.9 28.7 28.3]\n",
            " [26.5 27.9 24.2]\n",
            " [28.3 30.  26.5]\n",
            " [21.7 19.8 26.7]\n",
            " [19.1 22.5 25.5]\n",
            " [19.8 22.4 24.4]\n",
            " [23.7 27.1 27.8]\n",
            " [24.5 27.8 27. ]]\n"
          ]
        }
      ]
    },
    {
      "cell_type": "markdown",
      "source": [
        "# 6. Feature Importance"
      ],
      "metadata": {
        "id": "q7iR3pu4fJWY"
      }
    },
    {
      "cell_type": "markdown",
      "source": [
        "Code Block 6A"
      ],
      "metadata": {
        "id": "RJ9OqYRml9aN"
      }
    },
    {
      "cell_type": "code",
      "source": [
        "# TODO: Change this value to view the other decision trees\n",
        "tree_number = 1\n",
        "\n",
        "# TODO: Change this value to change the depth of the decision tree\n",
        "max_depth = 3\n",
        "\n",
        "tree = model.estimators_[tree_number]\n",
        "\n",
        "feature_names = ['Average Dissolved Oxygen', 'Average Temperature C',\t'Average Turbidity FNU', 'Average pH', 'Average Specific Conductance μS/cm']\n",
        "\n",
        "dot_data = export_graphviz(tree, feature_names=feature_names, filled=True, rounded=True, max_depth=max_depth)\n",
        "\n",
        "graph = graphviz.Source(dot_data)\n",
        "graph.render(\"water_tree\")\n",
        "graph"
      ],
      "metadata": {
        "id": "E21aH2HIwsZ8",
        "colab": {
          "base_uri": "https://localhost:8080/",
          "height": 814
        },
        "outputId": "9f436803-60cc-47a9-d495-9386513ddcfd"
      },
      "execution_count": null,
      "outputs": [
        {
          "output_type": "execute_result",
          "data": {
            "image/svg+xml": "<?xml version=\"1.0\" encoding=\"UTF-8\" standalone=\"no\"?>\n<!DOCTYPE svg PUBLIC \"-//W3C//DTD SVG 1.1//EN\"\n \"http://www.w3.org/Graphics/SVG/1.1/DTD/svg11.dtd\">\n<!-- Generated by graphviz version 2.43.0 (0)\n -->\n<!-- Title: Tree Pages: 1 -->\n<svg width=\"1408pt\" height=\"580pt\"\n viewBox=\"0.00 0.00 1408.00 580.00\" xmlns=\"http://www.w3.org/2000/svg\" xmlns:xlink=\"http://www.w3.org/1999/xlink\">\n<g id=\"graph0\" class=\"graph\" transform=\"scale(1 1) rotate(0) translate(4 576)\">\n<title>Tree</title>\n<polygon fill=\"white\" stroke=\"transparent\" points=\"-4,4 -4,-576 1404,-576 1404,4 -4,4\"/>\n<!-- 0 -->\n<g id=\"node1\" class=\"node\">\n<title>0</title>\n<path fill=\"#ffffff\" stroke=\"black\" d=\"M659.5,-572C659.5,-572 453.5,-572 453.5,-572 447.5,-572 441.5,-566 441.5,-560 441.5,-560 441.5,-486 441.5,-486 441.5,-480 447.5,-474 453.5,-474 453.5,-474 659.5,-474 659.5,-474 665.5,-474 671.5,-480 671.5,-486 671.5,-486 671.5,-560 671.5,-560 671.5,-566 665.5,-572 659.5,-572\"/>\n<text text-anchor=\"middle\" x=\"556.5\" y=\"-556.8\" font-family=\"Helvetica,sans-Serif\" font-size=\"14.00\">Average Dissolved Oxygen &lt;= 22.1</text>\n<text text-anchor=\"middle\" x=\"556.5\" y=\"-541.8\" font-family=\"Helvetica,sans-Serif\" font-size=\"14.00\">squared_error = 8.352</text>\n<text text-anchor=\"middle\" x=\"556.5\" y=\"-526.8\" font-family=\"Helvetica,sans-Serif\" font-size=\"14.00\">samples = 48</text>\n<text text-anchor=\"middle\" x=\"556.5\" y=\"-511.8\" font-family=\"Helvetica,sans-Serif\" font-size=\"14.00\">value = [[25.682]</text>\n<text text-anchor=\"middle\" x=\"556.5\" y=\"-496.8\" font-family=\"Helvetica,sans-Serif\" font-size=\"14.00\">[26.619]</text>\n<text text-anchor=\"middle\" x=\"556.5\" y=\"-481.8\" font-family=\"Helvetica,sans-Serif\" font-size=\"14.00\">[27.449]]</text>\n</g>\n<!-- 1 -->\n<g id=\"node2\" class=\"node\">\n<title>1</title>\n<path fill=\"#eba06a\" stroke=\"black\" d=\"M533,-438C533,-438 330,-438 330,-438 324,-438 318,-432 318,-426 318,-426 318,-352 318,-352 318,-346 324,-340 330,-340 330,-340 533,-340 533,-340 539,-340 545,-346 545,-352 545,-352 545,-426 545,-426 545,-432 539,-438 533,-438\"/>\n<text text-anchor=\"middle\" x=\"431.5\" y=\"-422.8\" font-family=\"Helvetica,sans-Serif\" font-size=\"14.00\">Average Turbidity FNU &lt;= 1010.85</text>\n<text text-anchor=\"middle\" x=\"431.5\" y=\"-407.8\" font-family=\"Helvetica,sans-Serif\" font-size=\"14.00\">squared_error = 2.075</text>\n<text text-anchor=\"middle\" x=\"431.5\" y=\"-392.8\" font-family=\"Helvetica,sans-Serif\" font-size=\"14.00\">samples = 13</text>\n<text text-anchor=\"middle\" x=\"431.5\" y=\"-377.8\" font-family=\"Helvetica,sans-Serif\" font-size=\"14.00\">value = [[20.822]</text>\n<text text-anchor=\"middle\" x=\"431.5\" y=\"-362.8\" font-family=\"Helvetica,sans-Serif\" font-size=\"14.00\">[21.711]</text>\n<text text-anchor=\"middle\" x=\"431.5\" y=\"-347.8\" font-family=\"Helvetica,sans-Serif\" font-size=\"14.00\">[26.411]]</text>\n</g>\n<!-- 0&#45;&gt;1 -->\n<g id=\"edge1\" class=\"edge\">\n<title>0&#45;&gt;1</title>\n<path fill=\"none\" stroke=\"black\" d=\"M511.02,-473.97C502.32,-464.78 493.14,-455.09 484.23,-445.68\"/>\n<polygon fill=\"black\" stroke=\"black\" points=\"486.57,-443.07 477.16,-438.21 481.49,-447.88 486.57,-443.07\"/>\n<text text-anchor=\"middle\" x=\"476.48\" y=\"-459.5\" font-family=\"Helvetica,sans-Serif\" font-size=\"14.00\">True</text>\n</g>\n<!-- 26 -->\n<g id=\"node11\" class=\"node\">\n<title>26</title>\n<path fill=\"#efb388\" stroke=\"black\" d=\"M789.5,-438C789.5,-438 575.5,-438 575.5,-438 569.5,-438 563.5,-432 563.5,-426 563.5,-426 563.5,-352 563.5,-352 563.5,-346 569.5,-340 575.5,-340 575.5,-340 789.5,-340 789.5,-340 795.5,-340 801.5,-346 801.5,-352 801.5,-352 801.5,-426 801.5,-426 801.5,-432 795.5,-438 789.5,-438\"/>\n<text text-anchor=\"middle\" x=\"682.5\" y=\"-422.8\" font-family=\"Helvetica,sans-Serif\" font-size=\"14.00\">Average Dissolved Oxygen &lt;= 26.15</text>\n<text text-anchor=\"middle\" x=\"682.5\" y=\"-407.8\" font-family=\"Helvetica,sans-Serif\" font-size=\"14.00\">squared_error = 3.342</text>\n<text text-anchor=\"middle\" x=\"682.5\" y=\"-392.8\" font-family=\"Helvetica,sans-Serif\" font-size=\"14.00\">samples = 35</text>\n<text text-anchor=\"middle\" x=\"682.5\" y=\"-377.8\" font-family=\"Helvetica,sans-Serif\" font-size=\"14.00\">value = [[27.273]</text>\n<text text-anchor=\"middle\" x=\"682.5\" y=\"-362.8\" font-family=\"Helvetica,sans-Serif\" font-size=\"14.00\">[28.225]</text>\n<text text-anchor=\"middle\" x=\"682.5\" y=\"-347.8\" font-family=\"Helvetica,sans-Serif\" font-size=\"14.00\">[27.789]]</text>\n</g>\n<!-- 0&#45;&gt;26 -->\n<g id=\"edge10\" class=\"edge\">\n<title>0&#45;&gt;26</title>\n<path fill=\"none\" stroke=\"black\" d=\"M602.35,-473.97C611.12,-464.78 620.37,-455.09 629.35,-445.68\"/>\n<polygon fill=\"black\" stroke=\"black\" points=\"632.1,-447.86 636.48,-438.21 627.04,-443.03 632.1,-447.86\"/>\n<text text-anchor=\"middle\" x=\"637.06\" y=\"-459.51\" font-family=\"Helvetica,sans-Serif\" font-size=\"14.00\">False</text>\n</g>\n<!-- 2 -->\n<g id=\"node3\" class=\"node\">\n<title>2</title>\n<path fill=\"#e9965a\" stroke=\"black\" d=\"M335.5,-304C335.5,-304 129.5,-304 129.5,-304 123.5,-304 117.5,-298 117.5,-292 117.5,-292 117.5,-218 117.5,-218 117.5,-212 123.5,-206 129.5,-206 129.5,-206 335.5,-206 335.5,-206 341.5,-206 347.5,-212 347.5,-218 347.5,-218 347.5,-292 347.5,-292 347.5,-298 341.5,-304 335.5,-304\"/>\n<text text-anchor=\"middle\" x=\"232.5\" y=\"-288.8\" font-family=\"Helvetica,sans-Serif\" font-size=\"14.00\">Average Dissolved Oxygen &lt;= 21.2</text>\n<text text-anchor=\"middle\" x=\"232.5\" y=\"-273.8\" font-family=\"Helvetica,sans-Serif\" font-size=\"14.00\">squared_error = 1.405</text>\n<text text-anchor=\"middle\" x=\"232.5\" y=\"-258.8\" font-family=\"Helvetica,sans-Serif\" font-size=\"14.00\">samples = 12</text>\n<text text-anchor=\"middle\" x=\"232.5\" y=\"-243.8\" font-family=\"Helvetica,sans-Serif\" font-size=\"14.00\">value = [[20.625]</text>\n<text text-anchor=\"middle\" x=\"232.5\" y=\"-228.8\" font-family=\"Helvetica,sans-Serif\" font-size=\"14.00\">[21.2]</text>\n<text text-anchor=\"middle\" x=\"232.5\" y=\"-213.8\" font-family=\"Helvetica,sans-Serif\" font-size=\"14.00\">[26.313]]</text>\n</g>\n<!-- 1&#45;&gt;2 -->\n<g id=\"edge2\" class=\"edge\">\n<title>1&#45;&gt;2</title>\n<path fill=\"none\" stroke=\"black\" d=\"M359.09,-339.97C344.42,-330.24 328.89,-319.93 313.92,-310.01\"/>\n<polygon fill=\"black\" stroke=\"black\" points=\"315.45,-306.82 305.19,-304.21 311.58,-312.66 315.45,-306.82\"/>\n</g>\n<!-- 25 -->\n<g id=\"node10\" class=\"node\">\n<title>25</title>\n<path fill=\"#e58139\" stroke=\"black\" d=\"M493.5,-296.5C493.5,-296.5 377.5,-296.5 377.5,-296.5 371.5,-296.5 365.5,-290.5 365.5,-284.5 365.5,-284.5 365.5,-225.5 365.5,-225.5 365.5,-219.5 371.5,-213.5 377.5,-213.5 377.5,-213.5 493.5,-213.5 493.5,-213.5 499.5,-213.5 505.5,-219.5 505.5,-225.5 505.5,-225.5 505.5,-284.5 505.5,-284.5 505.5,-290.5 499.5,-296.5 493.5,-296.5\"/>\n<text text-anchor=\"middle\" x=\"435.5\" y=\"-281.3\" font-family=\"Helvetica,sans-Serif\" font-size=\"14.00\">squared_error = &#45;0.0</text>\n<text text-anchor=\"middle\" x=\"435.5\" y=\"-266.3\" font-family=\"Helvetica,sans-Serif\" font-size=\"14.00\">samples = 1</text>\n<text text-anchor=\"middle\" x=\"435.5\" y=\"-251.3\" font-family=\"Helvetica,sans-Serif\" font-size=\"14.00\">value = [[22.4]</text>\n<text text-anchor=\"middle\" x=\"435.5\" y=\"-236.3\" font-family=\"Helvetica,sans-Serif\" font-size=\"14.00\">[25.8]</text>\n<text text-anchor=\"middle\" x=\"435.5\" y=\"-221.3\" font-family=\"Helvetica,sans-Serif\" font-size=\"14.00\">[27.2]]</text>\n</g>\n<!-- 1&#45;&gt;25 -->\n<g id=\"edge9\" class=\"edge\">\n<title>1&#45;&gt;25</title>\n<path fill=\"none\" stroke=\"black\" d=\"M432.96,-339.97C433.28,-329.25 433.63,-317.84 433.95,-306.99\"/>\n<polygon fill=\"black\" stroke=\"black\" points=\"437.46,-306.92 434.26,-296.82 430.46,-306.71 437.46,-306.92\"/>\n</g>\n<!-- 3 -->\n<g id=\"node4\" class=\"node\">\n<title>3</title>\n<path fill=\"#e88f50\" stroke=\"black\" d=\"M139,-170C139,-170 12,-170 12,-170 6,-170 0,-164 0,-158 0,-158 0,-84 0,-84 0,-78 6,-72 12,-72 12,-72 139,-72 139,-72 145,-72 151,-78 151,-84 151,-84 151,-158 151,-158 151,-164 145,-170 139,-170\"/>\n<text text-anchor=\"middle\" x=\"75.5\" y=\"-154.8\" font-family=\"Helvetica,sans-Serif\" font-size=\"14.00\">Average pH &lt;= 42.25</text>\n<text text-anchor=\"middle\" x=\"75.5\" y=\"-139.8\" font-family=\"Helvetica,sans-Serif\" font-size=\"14.00\">squared_error = 0.953</text>\n<text text-anchor=\"middle\" x=\"75.5\" y=\"-124.8\" font-family=\"Helvetica,sans-Serif\" font-size=\"14.00\">samples = 9</text>\n<text text-anchor=\"middle\" x=\"75.5\" y=\"-109.8\" font-family=\"Helvetica,sans-Serif\" font-size=\"14.00\">value = [[20.369]</text>\n<text text-anchor=\"middle\" x=\"75.5\" y=\"-94.8\" font-family=\"Helvetica,sans-Serif\" font-size=\"14.00\">[21.5]</text>\n<text text-anchor=\"middle\" x=\"75.5\" y=\"-79.8\" font-family=\"Helvetica,sans-Serif\" font-size=\"14.00\">[25.823]]</text>\n</g>\n<!-- 2&#45;&gt;3 -->\n<g id=\"edge3\" class=\"edge\">\n<title>2&#45;&gt;3</title>\n<path fill=\"none\" stroke=\"black\" d=\"M175.38,-205.97C164.12,-196.51 152.23,-186.51 140.73,-176.84\"/>\n<polygon fill=\"black\" stroke=\"black\" points=\"142.75,-173.97 132.85,-170.21 138.25,-179.33 142.75,-173.97\"/>\n</g>\n<!-- 20 -->\n<g id=\"node7\" class=\"node\">\n<title>20</title>\n<path fill=\"#e68641\" stroke=\"black\" d=\"M308,-170C308,-170 181,-170 181,-170 175,-170 169,-164 169,-158 169,-158 169,-84 169,-84 169,-78 175,-72 181,-72 181,-72 308,-72 308,-72 314,-72 320,-78 320,-84 320,-84 320,-158 320,-158 320,-164 314,-170 308,-170\"/>\n<text text-anchor=\"middle\" x=\"244.5\" y=\"-154.8\" font-family=\"Helvetica,sans-Serif\" font-size=\"14.00\">Average pH &lt;= 25.0</text>\n<text text-anchor=\"middle\" x=\"244.5\" y=\"-139.8\" font-family=\"Helvetica,sans-Serif\" font-size=\"14.00\">squared_error = 0.321</text>\n<text text-anchor=\"middle\" x=\"244.5\" y=\"-124.8\" font-family=\"Helvetica,sans-Serif\" font-size=\"14.00\">samples = 3</text>\n<text text-anchor=\"middle\" x=\"244.5\" y=\"-109.8\" font-family=\"Helvetica,sans-Serif\" font-size=\"14.00\">value = [[21.733]</text>\n<text text-anchor=\"middle\" x=\"244.5\" y=\"-94.8\" font-family=\"Helvetica,sans-Serif\" font-size=\"14.00\">[19.9]</text>\n<text text-anchor=\"middle\" x=\"244.5\" y=\"-79.8\" font-family=\"Helvetica,sans-Serif\" font-size=\"14.00\">[28.433]]</text>\n</g>\n<!-- 2&#45;&gt;20 -->\n<g id=\"edge6\" class=\"edge\">\n<title>2&#45;&gt;20</title>\n<path fill=\"none\" stroke=\"black\" d=\"M236.87,-205.97C237.63,-197.6 238.43,-188.81 239.21,-180.2\"/>\n<polygon fill=\"black\" stroke=\"black\" points=\"242.7,-180.49 240.12,-170.21 235.73,-179.86 242.7,-180.49\"/>\n</g>\n<!-- 4 -->\n<g id=\"node5\" class=\"node\">\n<title>4</title>\n<path fill=\"#c0c0c0\" stroke=\"black\" d=\"M54.5,-36C54.5,-36 24.5,-36 24.5,-36 18.5,-36 12.5,-30 12.5,-24 12.5,-24 12.5,-12 12.5,-12 12.5,-6 18.5,0 24.5,0 24.5,0 54.5,0 54.5,0 60.5,0 66.5,-6 66.5,-12 66.5,-12 66.5,-24 66.5,-24 66.5,-30 60.5,-36 54.5,-36\"/>\n<text text-anchor=\"middle\" x=\"39.5\" y=\"-14.3\" font-family=\"Helvetica,sans-Serif\" font-size=\"14.00\">(...)</text>\n</g>\n<!-- 3&#45;&gt;4 -->\n<g id=\"edge4\" class=\"edge\">\n<title>3&#45;&gt;4</title>\n<path fill=\"none\" stroke=\"black\" d=\"M58.34,-71.87C55.13,-62.86 51.89,-53.76 49.02,-45.71\"/>\n<polygon fill=\"black\" stroke=\"black\" points=\"52.27,-44.39 45.61,-36.15 45.67,-46.74 52.27,-44.39\"/>\n</g>\n<!-- 19 -->\n<g id=\"node6\" class=\"node\">\n<title>19</title>\n<path fill=\"#c0c0c0\" stroke=\"black\" d=\"M126.5,-36C126.5,-36 96.5,-36 96.5,-36 90.5,-36 84.5,-30 84.5,-24 84.5,-24 84.5,-12 84.5,-12 84.5,-6 90.5,0 96.5,0 96.5,0 126.5,0 126.5,0 132.5,0 138.5,-6 138.5,-12 138.5,-12 138.5,-24 138.5,-24 138.5,-30 132.5,-36 126.5,-36\"/>\n<text text-anchor=\"middle\" x=\"111.5\" y=\"-14.3\" font-family=\"Helvetica,sans-Serif\" font-size=\"14.00\">(...)</text>\n</g>\n<!-- 3&#45;&gt;19 -->\n<g id=\"edge5\" class=\"edge\">\n<title>3&#45;&gt;19</title>\n<path fill=\"none\" stroke=\"black\" d=\"M92.66,-71.87C95.87,-62.86 99.11,-53.76 101.98,-45.71\"/>\n<polygon fill=\"black\" stroke=\"black\" points=\"105.33,-46.74 105.39,-36.15 98.73,-44.39 105.33,-46.74\"/>\n</g>\n<!-- 21 -->\n<g id=\"node8\" class=\"node\">\n<title>21</title>\n<path fill=\"#c0c0c0\" stroke=\"black\" d=\"M251.5,-36C251.5,-36 221.5,-36 221.5,-36 215.5,-36 209.5,-30 209.5,-24 209.5,-24 209.5,-12 209.5,-12 209.5,-6 215.5,0 221.5,0 221.5,0 251.5,0 251.5,0 257.5,0 263.5,-6 263.5,-12 263.5,-12 263.5,-24 263.5,-24 263.5,-30 257.5,-36 251.5,-36\"/>\n<text text-anchor=\"middle\" x=\"236.5\" y=\"-14.3\" font-family=\"Helvetica,sans-Serif\" font-size=\"14.00\">(...)</text>\n</g>\n<!-- 20&#45;&gt;21 -->\n<g id=\"edge7\" class=\"edge\">\n<title>20&#45;&gt;21</title>\n<path fill=\"none\" stroke=\"black\" d=\"M240.69,-71.87C239.99,-63.06 239.29,-54.17 238.66,-46.24\"/>\n<polygon fill=\"black\" stroke=\"black\" points=\"242.14,-45.84 237.86,-36.15 235.16,-46.39 242.14,-45.84\"/>\n</g>\n<!-- 24 -->\n<g id=\"node9\" class=\"node\">\n<title>24</title>\n<path fill=\"#c0c0c0\" stroke=\"black\" d=\"M323.5,-36C323.5,-36 293.5,-36 293.5,-36 287.5,-36 281.5,-30 281.5,-24 281.5,-24 281.5,-12 281.5,-12 281.5,-6 287.5,0 293.5,0 293.5,0 323.5,0 323.5,0 329.5,0 335.5,-6 335.5,-12 335.5,-12 335.5,-24 335.5,-24 335.5,-30 329.5,-36 323.5,-36\"/>\n<text text-anchor=\"middle\" x=\"308.5\" y=\"-14.3\" font-family=\"Helvetica,sans-Serif\" font-size=\"14.00\">(...)</text>\n</g>\n<!-- 20&#45;&gt;24 -->\n<g id=\"edge8\" class=\"edge\">\n<title>20&#45;&gt;24</title>\n<path fill=\"none\" stroke=\"black\" d=\"M275,-71.87C280.96,-62.46 286.99,-52.95 292.25,-44.64\"/>\n<polygon fill=\"black\" stroke=\"black\" points=\"295.24,-46.47 297.63,-36.15 289.33,-42.72 295.24,-46.47\"/>\n</g>\n<!-- 27 -->\n<g id=\"node12\" class=\"node\">\n<title>27</title>\n<path fill=\"#e99659\" stroke=\"black\" d=\"M814,-304C814,-304 543,-304 543,-304 537,-304 531,-298 531,-292 531,-292 531,-218 531,-218 531,-212 537,-206 543,-206 543,-206 814,-206 814,-206 820,-206 826,-212 826,-218 826,-218 826,-292 826,-292 826,-298 820,-304 814,-304\"/>\n<text text-anchor=\"middle\" x=\"678.5\" y=\"-288.8\" font-family=\"Helvetica,sans-Serif\" font-size=\"14.00\">Average Specific Conductance μS/cm &lt;= 7.15</text>\n<text text-anchor=\"middle\" x=\"678.5\" y=\"-273.8\" font-family=\"Helvetica,sans-Serif\" font-size=\"14.00\">squared_error = 1.366</text>\n<text text-anchor=\"middle\" x=\"678.5\" y=\"-258.8\" font-family=\"Helvetica,sans-Serif\" font-size=\"14.00\">samples = 12</text>\n<text text-anchor=\"middle\" x=\"678.5\" y=\"-243.8\" font-family=\"Helvetica,sans-Serif\" font-size=\"14.00\">value = [[24.779]</text>\n<text text-anchor=\"middle\" x=\"678.5\" y=\"-228.8\" font-family=\"Helvetica,sans-Serif\" font-size=\"14.00\">[27.574]</text>\n<text text-anchor=\"middle\" x=\"678.5\" y=\"-213.8\" font-family=\"Helvetica,sans-Serif\" font-size=\"14.00\">[28.074]]</text>\n</g>\n<!-- 26&#45;&gt;27 -->\n<g id=\"edge11\" class=\"edge\">\n<title>26&#45;&gt;27</title>\n<path fill=\"none\" stroke=\"black\" d=\"M681.04,-339.97C680.79,-331.69 680.53,-323 680.27,-314.48\"/>\n<polygon fill=\"black\" stroke=\"black\" points=\"683.76,-314.1 679.96,-304.21 676.77,-314.32 683.76,-314.1\"/>\n</g>\n<!-- 50 -->\n<g id=\"node19\" class=\"node\">\n<title>50</title>\n<path fill=\"#eda876\" stroke=\"black\" d=\"M1127,-304C1127,-304 856,-304 856,-304 850,-304 844,-298 844,-292 844,-292 844,-218 844,-218 844,-212 850,-206 856,-206 856,-206 1127,-206 1127,-206 1133,-206 1139,-212 1139,-218 1139,-218 1139,-292 1139,-292 1139,-298 1133,-304 1127,-304\"/>\n<text text-anchor=\"middle\" x=\"991.5\" y=\"-288.8\" font-family=\"Helvetica,sans-Serif\" font-size=\"14.00\">Average Specific Conductance μS/cm &lt;= 6.35</text>\n<text text-anchor=\"middle\" x=\"991.5\" y=\"-273.8\" font-family=\"Helvetica,sans-Serif\" font-size=\"14.00\">squared_error = 2.577</text>\n<text text-anchor=\"middle\" x=\"991.5\" y=\"-258.8\" font-family=\"Helvetica,sans-Serif\" font-size=\"14.00\">samples = 23</text>\n<text text-anchor=\"middle\" x=\"991.5\" y=\"-243.8\" font-family=\"Helvetica,sans-Serif\" font-size=\"14.00\">value = [[28.589]</text>\n<text text-anchor=\"middle\" x=\"991.5\" y=\"-228.8\" font-family=\"Helvetica,sans-Serif\" font-size=\"14.00\">[28.569]</text>\n<text text-anchor=\"middle\" x=\"991.5\" y=\"-213.8\" font-family=\"Helvetica,sans-Serif\" font-size=\"14.00\">[27.639]]</text>\n</g>\n<!-- 26&#45;&gt;50 -->\n<g id=\"edge18\" class=\"edge\">\n<title>26&#45;&gt;50</title>\n<path fill=\"none\" stroke=\"black\" d=\"M794.93,-339.97C819.18,-329.61 844.93,-318.61 869.53,-308.1\"/>\n<polygon fill=\"black\" stroke=\"black\" points=\"871.07,-311.25 878.89,-304.1 868.32,-304.81 871.07,-311.25\"/>\n</g>\n<!-- 28 -->\n<g id=\"node13\" class=\"node\">\n<title>28</title>\n<path fill=\"#e78a48\" stroke=\"black\" d=\"M580.5,-170C580.5,-170 366.5,-170 366.5,-170 360.5,-170 354.5,-164 354.5,-158 354.5,-158 354.5,-84 354.5,-84 354.5,-78 360.5,-72 366.5,-72 366.5,-72 580.5,-72 580.5,-72 586.5,-72 592.5,-78 592.5,-84 592.5,-84 592.5,-158 592.5,-158 592.5,-164 586.5,-170 580.5,-170\"/>\n<text text-anchor=\"middle\" x=\"473.5\" y=\"-154.8\" font-family=\"Helvetica,sans-Serif\" font-size=\"14.00\">Average Dissolved Oxygen &lt;= 24.95</text>\n<text text-anchor=\"middle\" x=\"473.5\" y=\"-139.8\" font-family=\"Helvetica,sans-Serif\" font-size=\"14.00\">squared_error = 0.626</text>\n<text text-anchor=\"middle\" x=\"473.5\" y=\"-124.8\" font-family=\"Helvetica,sans-Serif\" font-size=\"14.00\">samples = 7</text>\n<text text-anchor=\"middle\" x=\"473.5\" y=\"-109.8\" font-family=\"Helvetica,sans-Serif\" font-size=\"14.00\">value = [[25.956]</text>\n<text text-anchor=\"middle\" x=\"473.5\" y=\"-94.8\" font-family=\"Helvetica,sans-Serif\" font-size=\"14.00\">[27.744]</text>\n<text text-anchor=\"middle\" x=\"473.5\" y=\"-79.8\" font-family=\"Helvetica,sans-Serif\" font-size=\"14.00\">[27.456]]</text>\n</g>\n<!-- 27&#45;&gt;28 -->\n<g id=\"edge12\" class=\"edge\">\n<title>27&#45;&gt;28</title>\n<path fill=\"none\" stroke=\"black\" d=\"M603.91,-205.97C588.65,-196.14 572.49,-185.74 556.94,-175.73\"/>\n<polygon fill=\"black\" stroke=\"black\" points=\"558.68,-172.68 548.38,-170.21 554.89,-178.57 558.68,-172.68\"/>\n</g>\n<!-- 41 -->\n<g id=\"node16\" class=\"node\">\n<title>41</title>\n<path fill=\"#e89051\" stroke=\"black\" d=\"M810.5,-170C810.5,-170 622.5,-170 622.5,-170 616.5,-170 610.5,-164 610.5,-158 610.5,-158 610.5,-84 610.5,-84 610.5,-78 616.5,-72 622.5,-72 622.5,-72 810.5,-72 810.5,-72 816.5,-72 822.5,-78 822.5,-84 822.5,-84 822.5,-158 822.5,-158 822.5,-164 816.5,-170 810.5,-170\"/>\n<text text-anchor=\"middle\" x=\"716.5\" y=\"-154.8\" font-family=\"Helvetica,sans-Serif\" font-size=\"14.00\">Average Turbidity FNU &lt;= 965.8</text>\n<text text-anchor=\"middle\" x=\"716.5\" y=\"-139.8\" font-family=\"Helvetica,sans-Serif\" font-size=\"14.00\">squared_error = 1.008</text>\n<text text-anchor=\"middle\" x=\"716.5\" y=\"-124.8\" font-family=\"Helvetica,sans-Serif\" font-size=\"14.00\">samples = 5</text>\n<text text-anchor=\"middle\" x=\"716.5\" y=\"-109.8\" font-family=\"Helvetica,sans-Serif\" font-size=\"14.00\">value = [[23.72]</text>\n<text text-anchor=\"middle\" x=\"716.5\" y=\"-94.8\" font-family=\"Helvetica,sans-Serif\" font-size=\"14.00\">[27.42]</text>\n<text text-anchor=\"middle\" x=\"716.5\" y=\"-79.8\" font-family=\"Helvetica,sans-Serif\" font-size=\"14.00\">[28.63]]</text>\n</g>\n<!-- 27&#45;&gt;41 -->\n<g id=\"edge15\" class=\"edge\">\n<title>27&#45;&gt;41</title>\n<path fill=\"none\" stroke=\"black\" d=\"M692.33,-205.97C694.76,-197.51 697.32,-188.62 699.83,-179.92\"/>\n<polygon fill=\"black\" stroke=\"black\" points=\"703.22,-180.79 702.62,-170.21 696.49,-178.86 703.22,-180.79\"/>\n</g>\n<!-- 29 -->\n<g id=\"node14\" class=\"node\">\n<title>29</title>\n<path fill=\"#c0c0c0\" stroke=\"black\" d=\"M424.5,-36C424.5,-36 394.5,-36 394.5,-36 388.5,-36 382.5,-30 382.5,-24 382.5,-24 382.5,-12 382.5,-12 382.5,-6 388.5,0 394.5,0 394.5,0 424.5,0 424.5,0 430.5,0 436.5,-6 436.5,-12 436.5,-12 436.5,-24 436.5,-24 436.5,-30 430.5,-36 424.5,-36\"/>\n<text text-anchor=\"middle\" x=\"409.5\" y=\"-14.3\" font-family=\"Helvetica,sans-Serif\" font-size=\"14.00\">(...)</text>\n</g>\n<!-- 28&#45;&gt;29 -->\n<g id=\"edge13\" class=\"edge\">\n<title>28&#45;&gt;29</title>\n<path fill=\"none\" stroke=\"black\" d=\"M443,-71.87C437.04,-62.46 431.01,-52.95 425.75,-44.64\"/>\n<polygon fill=\"black\" stroke=\"black\" points=\"428.67,-42.72 420.37,-36.15 422.76,-46.47 428.67,-42.72\"/>\n</g>\n<!-- 32 -->\n<g id=\"node15\" class=\"node\">\n<title>32</title>\n<path fill=\"#c0c0c0\" stroke=\"black\" d=\"M496.5,-36C496.5,-36 466.5,-36 466.5,-36 460.5,-36 454.5,-30 454.5,-24 454.5,-24 454.5,-12 454.5,-12 454.5,-6 460.5,0 466.5,0 466.5,0 496.5,0 496.5,0 502.5,0 508.5,-6 508.5,-12 508.5,-12 508.5,-24 508.5,-24 508.5,-30 502.5,-36 496.5,-36\"/>\n<text text-anchor=\"middle\" x=\"481.5\" y=\"-14.3\" font-family=\"Helvetica,sans-Serif\" font-size=\"14.00\">(...)</text>\n</g>\n<!-- 28&#45;&gt;32 -->\n<g id=\"edge14\" class=\"edge\">\n<title>28&#45;&gt;32</title>\n<path fill=\"none\" stroke=\"black\" d=\"M477.31,-71.87C478.01,-63.06 478.71,-54.17 479.34,-46.24\"/>\n<polygon fill=\"black\" stroke=\"black\" points=\"482.84,-46.39 480.14,-36.15 475.86,-45.84 482.84,-46.39\"/>\n</g>\n<!-- 42 -->\n<g id=\"node17\" class=\"node\">\n<title>42</title>\n<path fill=\"#c0c0c0\" stroke=\"black\" d=\"M695.5,-36C695.5,-36 665.5,-36 665.5,-36 659.5,-36 653.5,-30 653.5,-24 653.5,-24 653.5,-12 653.5,-12 653.5,-6 659.5,0 665.5,0 665.5,0 695.5,0 695.5,0 701.5,0 707.5,-6 707.5,-12 707.5,-12 707.5,-24 707.5,-24 707.5,-30 701.5,-36 695.5,-36\"/>\n<text text-anchor=\"middle\" x=\"680.5\" y=\"-14.3\" font-family=\"Helvetica,sans-Serif\" font-size=\"14.00\">(...)</text>\n</g>\n<!-- 41&#45;&gt;42 -->\n<g id=\"edge16\" class=\"edge\">\n<title>41&#45;&gt;42</title>\n<path fill=\"none\" stroke=\"black\" d=\"M699.34,-71.87C696.13,-62.86 692.89,-53.76 690.02,-45.71\"/>\n<polygon fill=\"black\" stroke=\"black\" points=\"693.27,-44.39 686.61,-36.15 686.67,-46.74 693.27,-44.39\"/>\n</g>\n<!-- 47 -->\n<g id=\"node18\" class=\"node\">\n<title>47</title>\n<path fill=\"#c0c0c0\" stroke=\"black\" d=\"M767.5,-36C767.5,-36 737.5,-36 737.5,-36 731.5,-36 725.5,-30 725.5,-24 725.5,-24 725.5,-12 725.5,-12 725.5,-6 731.5,0 737.5,0 737.5,0 767.5,0 767.5,0 773.5,0 779.5,-6 779.5,-12 779.5,-12 779.5,-24 779.5,-24 779.5,-30 773.5,-36 767.5,-36\"/>\n<text text-anchor=\"middle\" x=\"752.5\" y=\"-14.3\" font-family=\"Helvetica,sans-Serif\" font-size=\"14.00\">(...)</text>\n</g>\n<!-- 41&#45;&gt;47 -->\n<g id=\"edge17\" class=\"edge\">\n<title>41&#45;&gt;47</title>\n<path fill=\"none\" stroke=\"black\" d=\"M733.66,-71.87C736.87,-62.86 740.11,-53.76 742.98,-45.71\"/>\n<polygon fill=\"black\" stroke=\"black\" points=\"746.33,-46.74 746.39,-36.15 739.73,-44.39 746.33,-46.74\"/>\n</g>\n<!-- 51 -->\n<g id=\"node20\" class=\"node\">\n<title>51</title>\n<path fill=\"#e99456\" stroke=\"black\" d=\"M1082.5,-170C1082.5,-170 876.5,-170 876.5,-170 870.5,-170 864.5,-164 864.5,-158 864.5,-158 864.5,-84 864.5,-84 864.5,-78 870.5,-72 876.5,-72 876.5,-72 1082.5,-72 1082.5,-72 1088.5,-72 1094.5,-78 1094.5,-84 1094.5,-84 1094.5,-158 1094.5,-158 1094.5,-164 1088.5,-170 1082.5,-170\"/>\n<text text-anchor=\"middle\" x=\"979.5\" y=\"-154.8\" font-family=\"Helvetica,sans-Serif\" font-size=\"14.00\">Average Dissolved Oxygen &lt;= 30.2</text>\n<text text-anchor=\"middle\" x=\"979.5\" y=\"-139.8\" font-family=\"Helvetica,sans-Serif\" font-size=\"14.00\">squared_error = 1.24</text>\n<text text-anchor=\"middle\" x=\"979.5\" y=\"-124.8\" font-family=\"Helvetica,sans-Serif\" font-size=\"14.00\">samples = 13</text>\n<text text-anchor=\"middle\" x=\"979.5\" y=\"-109.8\" font-family=\"Helvetica,sans-Serif\" font-size=\"14.00\">value = [[29.181]</text>\n<text text-anchor=\"middle\" x=\"979.5\" y=\"-94.8\" font-family=\"Helvetica,sans-Serif\" font-size=\"14.00\">[29.286]</text>\n<text text-anchor=\"middle\" x=\"979.5\" y=\"-79.8\" font-family=\"Helvetica,sans-Serif\" font-size=\"14.00\">[26.843]]</text>\n</g>\n<!-- 50&#45;&gt;51 -->\n<g id=\"edge19\" class=\"edge\">\n<title>50&#45;&gt;51</title>\n<path fill=\"none\" stroke=\"black\" d=\"M987.13,-205.97C986.37,-197.6 985.57,-188.81 984.79,-180.2\"/>\n<polygon fill=\"black\" stroke=\"black\" points=\"988.27,-179.86 983.88,-170.21 981.3,-180.49 988.27,-179.86\"/>\n</g>\n<!-- 76 -->\n<g id=\"node23\" class=\"node\">\n<title>76</title>\n<path fill=\"#eeab7b\" stroke=\"black\" d=\"M1388,-170C1388,-170 1125,-170 1125,-170 1119,-170 1113,-164 1113,-158 1113,-158 1113,-84 1113,-84 1113,-78 1119,-72 1125,-72 1125,-72 1388,-72 1388,-72 1394,-72 1400,-78 1400,-84 1400,-84 1400,-158 1400,-158 1400,-164 1394,-170 1388,-170\"/>\n<text text-anchor=\"middle\" x=\"1256.5\" y=\"-154.8\" font-family=\"Helvetica,sans-Serif\" font-size=\"14.00\">Average Specific Conductance μS/cm &lt;= 7.0</text>\n<text text-anchor=\"middle\" x=\"1256.5\" y=\"-139.8\" font-family=\"Helvetica,sans-Serif\" font-size=\"14.00\">squared_error = 2.773</text>\n<text text-anchor=\"middle\" x=\"1256.5\" y=\"-124.8\" font-family=\"Helvetica,sans-Serif\" font-size=\"14.00\">samples = 10</text>\n<text text-anchor=\"middle\" x=\"1256.5\" y=\"-109.8\" font-family=\"Helvetica,sans-Serif\" font-size=\"14.00\">value = [[27.76]</text>\n<text text-anchor=\"middle\" x=\"1256.5\" y=\"-94.8\" font-family=\"Helvetica,sans-Serif\" font-size=\"14.00\">[27.567]</text>\n<text text-anchor=\"middle\" x=\"1256.5\" y=\"-79.8\" font-family=\"Helvetica,sans-Serif\" font-size=\"14.00\">[28.753]]</text>\n</g>\n<!-- 50&#45;&gt;76 -->\n<g id=\"edge22\" class=\"edge\">\n<title>50&#45;&gt;76</title>\n<path fill=\"none\" stroke=\"black\" d=\"M1087.92,-205.97C1108.29,-195.83 1129.89,-185.07 1150.58,-174.76\"/>\n<polygon fill=\"black\" stroke=\"black\" points=\"1152.32,-177.81 1159.71,-170.21 1149.2,-171.54 1152.32,-177.81\"/>\n</g>\n<!-- 52 -->\n<g id=\"node21\" class=\"node\">\n<title>52</title>\n<path fill=\"#c0c0c0\" stroke=\"black\" d=\"M958.5,-36C958.5,-36 928.5,-36 928.5,-36 922.5,-36 916.5,-30 916.5,-24 916.5,-24 916.5,-12 916.5,-12 916.5,-6 922.5,0 928.5,0 928.5,0 958.5,0 958.5,0 964.5,0 970.5,-6 970.5,-12 970.5,-12 970.5,-24 970.5,-24 970.5,-30 964.5,-36 958.5,-36\"/>\n<text text-anchor=\"middle\" x=\"943.5\" y=\"-14.3\" font-family=\"Helvetica,sans-Serif\" font-size=\"14.00\">(...)</text>\n</g>\n<!-- 51&#45;&gt;52 -->\n<g id=\"edge20\" class=\"edge\">\n<title>51&#45;&gt;52</title>\n<path fill=\"none\" stroke=\"black\" d=\"M962.34,-71.87C959.13,-62.86 955.89,-53.76 953.02,-45.71\"/>\n<polygon fill=\"black\" stroke=\"black\" points=\"956.27,-44.39 949.61,-36.15 949.67,-46.74 956.27,-44.39\"/>\n</g>\n<!-- 69 -->\n<g id=\"node22\" class=\"node\">\n<title>69</title>\n<path fill=\"#c0c0c0\" stroke=\"black\" d=\"M1030.5,-36C1030.5,-36 1000.5,-36 1000.5,-36 994.5,-36 988.5,-30 988.5,-24 988.5,-24 988.5,-12 988.5,-12 988.5,-6 994.5,0 1000.5,0 1000.5,0 1030.5,0 1030.5,0 1036.5,0 1042.5,-6 1042.5,-12 1042.5,-12 1042.5,-24 1042.5,-24 1042.5,-30 1036.5,-36 1030.5,-36\"/>\n<text text-anchor=\"middle\" x=\"1015.5\" y=\"-14.3\" font-family=\"Helvetica,sans-Serif\" font-size=\"14.00\">(...)</text>\n</g>\n<!-- 51&#45;&gt;69 -->\n<g id=\"edge21\" class=\"edge\">\n<title>51&#45;&gt;69</title>\n<path fill=\"none\" stroke=\"black\" d=\"M996.66,-71.87C999.87,-62.86 1003.11,-53.76 1005.98,-45.71\"/>\n<polygon fill=\"black\" stroke=\"black\" points=\"1009.33,-46.74 1009.39,-36.15 1002.73,-44.39 1009.33,-46.74\"/>\n</g>\n<!-- 77 -->\n<g id=\"node24\" class=\"node\">\n<title>77</title>\n<path fill=\"#c0c0c0\" stroke=\"black\" d=\"M1235.5,-36C1235.5,-36 1205.5,-36 1205.5,-36 1199.5,-36 1193.5,-30 1193.5,-24 1193.5,-24 1193.5,-12 1193.5,-12 1193.5,-6 1199.5,0 1205.5,0 1205.5,0 1235.5,0 1235.5,0 1241.5,0 1247.5,-6 1247.5,-12 1247.5,-12 1247.5,-24 1247.5,-24 1247.5,-30 1241.5,-36 1235.5,-36\"/>\n<text text-anchor=\"middle\" x=\"1220.5\" y=\"-14.3\" font-family=\"Helvetica,sans-Serif\" font-size=\"14.00\">(...)</text>\n</g>\n<!-- 76&#45;&gt;77 -->\n<g id=\"edge23\" class=\"edge\">\n<title>76&#45;&gt;77</title>\n<path fill=\"none\" stroke=\"black\" d=\"M1239.34,-71.87C1236.13,-62.86 1232.89,-53.76 1230.02,-45.71\"/>\n<polygon fill=\"black\" stroke=\"black\" points=\"1233.27,-44.39 1226.61,-36.15 1226.67,-46.74 1233.27,-44.39\"/>\n</g>\n<!-- 88 -->\n<g id=\"node25\" class=\"node\">\n<title>88</title>\n<path fill=\"#c0c0c0\" stroke=\"black\" d=\"M1307.5,-36C1307.5,-36 1277.5,-36 1277.5,-36 1271.5,-36 1265.5,-30 1265.5,-24 1265.5,-24 1265.5,-12 1265.5,-12 1265.5,-6 1271.5,0 1277.5,0 1277.5,0 1307.5,0 1307.5,0 1313.5,0 1319.5,-6 1319.5,-12 1319.5,-12 1319.5,-24 1319.5,-24 1319.5,-30 1313.5,-36 1307.5,-36\"/>\n<text text-anchor=\"middle\" x=\"1292.5\" y=\"-14.3\" font-family=\"Helvetica,sans-Serif\" font-size=\"14.00\">(...)</text>\n</g>\n<!-- 76&#45;&gt;88 -->\n<g id=\"edge24\" class=\"edge\">\n<title>76&#45;&gt;88</title>\n<path fill=\"none\" stroke=\"black\" d=\"M1273.66,-71.87C1276.87,-62.86 1280.11,-53.76 1282.98,-45.71\"/>\n<polygon fill=\"black\" stroke=\"black\" points=\"1286.33,-46.74 1286.39,-36.15 1279.73,-44.39 1286.33,-46.74\"/>\n</g>\n</g>\n</svg>\n",
            "text/plain": [
              "<graphviz.sources.Source at 0x7fe6b66420b0>"
            ]
          },
          "metadata": {},
          "execution_count": 16
        }
      ]
    },
    {
      "cell_type": "markdown",
      "source": [
        "Code Block 6B"
      ],
      "metadata": {
        "id": "MsFq22pBfL4S"
      }
    },
    {
      "cell_type": "code",
      "source": [
        "# Feature importance\n",
        "importances = model.feature_importances_\n",
        "indices = np.argsort(importances)\n",
        "\n",
        "# Plot feature importance\n",
        "plt.figure(figsize=(10, 6))\n",
        "plt.title('Feature Importances')\n",
        "plt.barh(range(len(indices)), importances[indices], color='b', align='center')\n",
        "plt.yticks(range(len(indices)), [feature_names[i] for i in indices])\n",
        "plt.xlabel('Relative Importance')\n",
        "plt.show()"
      ],
      "metadata": {
        "id": "JFsieAjl5Qzy",
        "colab": {
          "base_uri": "https://localhost:8080/",
          "height": 564
        },
        "outputId": "f409c315-17c5-4b5a-ab7a-a9e23b413125"
      },
      "execution_count": null,
      "outputs": [
        {
          "output_type": "display_data",
          "data": {
            "text/plain": [
              "<Figure size 1000x600 with 1 Axes>"
            ],
            "image/png": "[encoded data removed]"
          },
          "metadata": {}
        }
      ]
    }
  ]
}