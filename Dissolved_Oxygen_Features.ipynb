{
  "nbformat": 4,
  "nbformat_minor": 0,
  "metadata": {
    "colab": {
      "provenance": [],
      "include_colab_link": true
    },
    "kernelspec": {
      "name": "python3",
      "display_name": "Python 3"
    },
    "language_info": {
      "name": "python"
    }
  },
  "cells": [
    {
      "cell_type": "markdown",
      "metadata": {
        "id": "view-in-github",
        "colab_type": "text"
      },
      "source": [
        "<a href=\"https://colab.research.google.com/github/niyaudinoor/HackathonNAAN/blob/main/Dissolved_Oxygen_Features.ipynb\" target=\"_parent\"><img src=\"https://colab.research.google.com/assets/colab-badge.svg\" alt=\"Open In Colab\"/></a>"
      ]
    },
    {
      "cell_type": "markdown",
      "source": [
        "#1.Importing Libraries"
      ],
      "metadata": {
        "id": "2YQ9TAHlgwSn"
      }
    },
    {
      "cell_type": "code",
      "execution_count": null,
      "metadata": {
        "id": "ap2--thogs0a"
      },
      "outputs": [],
      "source": [
        "# Data manipulation and analysis\n",
        "import pandas as pd\n",
        "import numpy as np\n",
        "from collections import Counter\n",
        "\n",
        "# Visualization\n",
        "import matplotlib.pyplot as plt\n",
        "import graphviz\n",
        "from IPython.display import display, HTML\n",
        "\n",
        "# Scikit-learn: Model selection and evaluation\n",
        "from sklearn.model_selection import train_test_split\n",
        "\n",
        "# Scikit-learn: Regression models\n",
        "from sklearn.ensemble import RandomForestRegressor\n",
        "\n",
        "# Scikit-learn: Metrics for evaluation\n",
        "from sklearn.metrics import accuracy_score, classification_report, confusion_matrix\n",
        "from sklearn.metrics import mean_squared_error, r2_score\n",
        "\n",
        "# Scikit-learn: Tree visualization\n",
        "from sklearn.tree import export_graphviz\n",
        "from sklearn import tree"
      ]
    },
    {
      "cell_type": "markdown",
      "source": [
        "# 2. Loading the Data into a Pandas DataFrame"
      ],
      "metadata": {
        "id": "FQI82urahE8R"
      }
    },
    {
      "cell_type": "markdown",
      "source": [
        "Code Block 2A"
      ],
      "metadata": {
        "id": "y9tzDDn1fhC_"
      }
    },
    {
      "cell_type": "code",
      "source": [
        "from google.colab import drive\n",
        "\n",
        "# Mount Google Drive\n",
        "drive.mount('/content/drive', force_remount=True)"
      ],
      "metadata": {
        "id": "t-Q3Z4Ybfj2b",
        "colab": {
          "base_uri": "https://localhost:8080/"
        },
        "outputId": "3a488e63-f2a8-4256-add1-ddfd37380b74"
      },
      "execution_count": null,
      "outputs": [
        {
          "output_type": "stream",
          "name": "stdout",
          "text": [
            "Mounted at /content/drive\n"
          ]
        }
      ]
    },
    {
      "cell_type": "markdown",
      "source": [
        "#3. Load the CSV File"
      ],
      "metadata": {
        "id": "ptTV8jznoQRb"
      }
    },
    {
      "cell_type": "markdown",
      "source": [
        "Code Block 3A"
      ],
      "metadata": {
        "id": "Pan1CQqPd7lf"
      }
    },
    {
      "cell_type": "code",
      "source": [
        "# Define the path to the CSV file containing water quality data\n",
        "csv_path = \"/content/drive/MyDrive/6. Colab Notebooks/2. Water Quality/water_data.csv\"\n",
        "\n",
        "# Read the CSV file into a DataFrame using pandas\n",
        "df = pd.read_csv(csv_path)\n",
        "\n",
        "df.head()"
      ],
      "metadata": {
        "id": "giMHTfdBhPb1",
        "colab": {
          "base_uri": "https://localhost:8080/",
          "height": 310
        },
        "outputId": "1436d479-c508-4273-facb-2a0897fac8b3"
      },
      "execution_count": null,
      "outputs": [
        {
          "output_type": "execute_result",
          "data": {
            "text/plain": [
              "         Date  Average Temperature C  Average pH  \\\n",
              "0  2024-05-01                   19.8         8.3   \n",
              "1  2024-05-02                   20.0         8.3   \n",
              "2  2024-05-03                   20.9         8.3   \n",
              "3  2024-05-04                   19.7         8.1   \n",
              "4  2024-05-05                   18.7         8.1   \n",
              "\n",
              "   Average Specific Conductance μS/cm  Average Turbidity FNU  \\\n",
              "0                              1185.3                   39.7   \n",
              "1                              1007.0                   43.1   \n",
              "2                               864.5                   41.4   \n",
              "3                               831.7                   37.6   \n",
              "4                               825.8                   33.8   \n",
              "\n",
              "   Average Dissolved Oxygen mg/l  Average Dissolved Oxygen +1 day mg/l  \\\n",
              "0                            9.9                                   9.8   \n",
              "1                            9.8                                   9.7   \n",
              "2                            9.7                                   8.7   \n",
              "3                            8.7                                   9.0   \n",
              "4                            9.0                                   9.4   \n",
              "\n",
              "   Average Dissolved Oxygen +1 week mg/l  \\\n",
              "0                                    9.5   \n",
              "1                                    9.5   \n",
              "2                                    9.4   \n",
              "3                                    9.4   \n",
              "4                                    9.3   \n",
              "\n",
              "   Average Dissolved Oxygen +4 weeks mg/l  \n",
              "0                                     7.3  \n",
              "1                                     7.1  \n",
              "2                                     6.9  \n",
              "3                                     6.6  \n",
              "4                                     6.4  "
            ],
            "text/html": [
              "\n",
              "  <div id=\"df-e0a108c9-07ac-4db6-a54b-163630b05657\" class=\"colab-df-container\">\n",
              "    <div>\n",
              "<style scoped>\n",
              "    .dataframe tbody tr th:only-of-type {\n",
              "        vertical-align: middle;\n",
              "    }\n",
              "\n",
              "    .dataframe tbody tr th {\n",
              "        vertical-align: top;\n",
              "    }\n",
              "\n",
              "    .dataframe thead th {\n",
              "        text-align: right;\n",
              "    }\n",
              "</style>\n",
              "<table border=\"1\" class=\"dataframe\">\n",
              "  <thead>\n",
              "    <tr style=\"text-align: right;\">\n",
              "      <th></th>\n",
              "      <th>Date</th>\n",
              "      <th>Average Temperature C</th>\n",
              "      <th>Average pH</th>\n",
              "      <th>Average Specific Conductance μS/cm</th>\n",
              "      <th>Average Turbidity FNU</th>\n",
              "      <th>Average Dissolved Oxygen mg/l</th>\n",
              "      <th>Average Dissolved Oxygen +1 day mg/l</th>\n",
              "      <th>Average Dissolved Oxygen +1 week mg/l</th>\n",
              "      <th>Average Dissolved Oxygen +4 weeks mg/l</th>\n",
              "    </tr>\n",
              "  </thead>\n",
              "  <tbody>\n",
              "    <tr>\n",
              "      <th>0</th>\n",
              "      <td>2024-05-01</td>\n",
              "      <td>19.8</td>\n",
              "      <td>8.3</td>\n",
              "      <td>1185.3</td>\n",
              "      <td>39.7</td>\n",
              "      <td>9.9</td>\n",
              "      <td>9.8</td>\n",
              "      <td>9.5</td>\n",
              "      <td>7.3</td>\n",
              "    </tr>\n",
              "    <tr>\n",
              "      <th>1</th>\n",
              "      <td>2024-05-02</td>\n",
              "      <td>20.0</td>\n",
              "      <td>8.3</td>\n",
              "      <td>1007.0</td>\n",
              "      <td>43.1</td>\n",
              "      <td>9.8</td>\n",
              "      <td>9.7</td>\n",
              "      <td>9.5</td>\n",
              "      <td>7.1</td>\n",
              "    </tr>\n",
              "    <tr>\n",
              "      <th>2</th>\n",
              "      <td>2024-05-03</td>\n",
              "      <td>20.9</td>\n",
              "      <td>8.3</td>\n",
              "      <td>864.5</td>\n",
              "      <td>41.4</td>\n",
              "      <td>9.7</td>\n",
              "      <td>8.7</td>\n",
              "      <td>9.4</td>\n",
              "      <td>6.9</td>\n",
              "    </tr>\n",
              "    <tr>\n",
              "      <th>3</th>\n",
              "      <td>2024-05-04</td>\n",
              "      <td>19.7</td>\n",
              "      <td>8.1</td>\n",
              "      <td>831.7</td>\n",
              "      <td>37.6</td>\n",
              "      <td>8.7</td>\n",
              "      <td>9.0</td>\n",
              "      <td>9.4</td>\n",
              "      <td>6.6</td>\n",
              "    </tr>\n",
              "    <tr>\n",
              "      <th>4</th>\n",
              "      <td>2024-05-05</td>\n",
              "      <td>18.7</td>\n",
              "      <td>8.1</td>\n",
              "      <td>825.8</td>\n",
              "      <td>33.8</td>\n",
              "      <td>9.0</td>\n",
              "      <td>9.4</td>\n",
              "      <td>9.3</td>\n",
              "      <td>6.4</td>\n",
              "    </tr>\n",
              "  </tbody>\n",
              "</table>\n",
              "</div>\n",
              "    <div class=\"colab-df-buttons\">\n",
              "\n",
              "  <div class=\"colab-df-container\">\n",
              "    <button class=\"colab-df-convert\" onclick=\"convertToInteractive('df-e0a108c9-07ac-4db6-a54b-163630b05657')\"\n",
              "            title=\"Convert this dataframe to an interactive table.\"\n",
              "            style=\"display:none;\">\n",
              "\n",
              "  <svg xmlns=\"http://www.w3.org/2000/svg\" height=\"24px\" viewBox=\"0 -960 960 960\">\n",
              "    <path d=\"M120-120v-720h720v720H120Zm60-500h600v-160H180v160Zm220 220h160v-160H400v160Zm0 220h160v-160H400v160ZM180-400h160v-160H180v160Zm440 0h160v-160H620v160ZM180-180h160v-160H180v160Zm440 0h160v-160H620v160Z\"/>\n",
              "  </svg>\n",
              "    </button>\n",
              "\n",
              "  <style>\n",
              "    .colab-df-container {\n",
              "      display:flex;\n",
              "      gap: 12px;\n",
              "    }\n",
              "\n",
              "    .colab-df-convert {\n",
              "      background-color: #E8F0FE;\n",
              "      border: none;\n",
              "      border-radius: 50%;\n",
              "      cursor: pointer;\n",
              "      display: none;\n",
              "      fill: #1967D2;\n",
              "      height: 32px;\n",
              "      padding: 0 0 0 0;\n",
              "      width: 32px;\n",
              "    }\n",
              "\n",
              "    .colab-df-convert:hover {\n",
              "      background-color: #E2EBFA;\n",
              "      box-shadow: 0px 1px 2px rgba(60, 64, 67, 0.3), 0px 1px 3px 1px rgba(60, 64, 67, 0.15);\n",
              "      fill: #174EA6;\n",
              "    }\n",
              "\n",
              "    .colab-df-buttons div {\n",
              "      margin-bottom: 4px;\n",
              "    }\n",
              "\n",
              "    [theme=dark] .colab-df-convert {\n",
              "      background-color: #3B4455;\n",
              "      fill: #D2E3FC;\n",
              "    }\n",
              "\n",
              "    [theme=dark] .colab-df-convert:hover {\n",
              "      background-color: #434B5C;\n",
              "      box-shadow: 0px 1px 3px 1px rgba(0, 0, 0, 0.15);\n",
              "      filter: drop-shadow(0px 1px 2px rgba(0, 0, 0, 0.3));\n",
              "      fill: #FFFFFF;\n",
              "    }\n",
              "  </style>\n",
              "\n",
              "    <script>\n",
              "      const buttonEl =\n",
              "        document.querySelector('#df-e0a108c9-07ac-4db6-a54b-163630b05657 button.colab-df-convert');\n",
              "      buttonEl.style.display =\n",
              "        google.colab.kernel.accessAllowed ? 'block' : 'none';\n",
              "\n",
              "      async function convertToInteractive(key) {\n",
              "        const element = document.querySelector('#df-e0a108c9-07ac-4db6-a54b-163630b05657');\n",
              "        const dataTable =\n",
              "          await google.colab.kernel.invokeFunction('convertToInteractive',\n",
              "                                                    [key], {});\n",
              "        if (!dataTable) return;\n",
              "\n",
              "        const docLinkHtml = 'Like what you see? Visit the ' +\n",
              "          '<a target=\"_blank\" href=https://colab.research.google.com/notebooks/data_table.ipynb>data table notebook</a>'\n",
              "          + ' to learn more about interactive tables.';\n",
              "        element.innerHTML = '';\n",
              "        dataTable['output_type'] = 'display_data';\n",
              "        await google.colab.output.renderOutput(dataTable, element);\n",
              "        const docLink = document.createElement('div');\n",
              "        docLink.innerHTML = docLinkHtml;\n",
              "        element.appendChild(docLink);\n",
              "      }\n",
              "    </script>\n",
              "  </div>\n",
              "\n",
              "\n",
              "<div id=\"df-dae5005e-9c32-4f5a-a91c-02a355dd2662\">\n",
              "  <button class=\"colab-df-quickchart\" onclick=\"quickchart('df-dae5005e-9c32-4f5a-a91c-02a355dd2662')\"\n",
              "            title=\"Suggest charts\"\n",
              "            style=\"display:none;\">\n",
              "\n",
              "<svg xmlns=\"http://www.w3.org/2000/svg\" height=\"24px\"viewBox=\"0 0 24 24\"\n",
              "     width=\"24px\">\n",
              "    <g>\n",
              "        <path d=\"M19 3H5c-1.1 0-2 .9-2 2v14c0 1.1.9 2 2 2h14c1.1 0 2-.9 2-2V5c0-1.1-.9-2-2-2zM9 17H7v-7h2v7zm4 0h-2V7h2v10zm4 0h-2v-4h2v4z\"/>\n",
              "    </g>\n",
              "</svg>\n",
              "  </button>\n",
              "\n",
              "<style>\n",
              "  .colab-df-quickchart {\n",
              "      --bg-color: #E8F0FE;\n",
              "      --fill-color: #1967D2;\n",
              "      --hover-bg-color: #E2EBFA;\n",
              "      --hover-fill-color: #174EA6;\n",
              "      --disabled-fill-color: #AAA;\n",
              "      --disabled-bg-color: #DDD;\n",
              "  }\n",
              "\n",
              "  [theme=dark] .colab-df-quickchart {\n",
              "      --bg-color: #3B4455;\n",
              "      --fill-color: #D2E3FC;\n",
              "      --hover-bg-color: #434B5C;\n",
              "      --hover-fill-color: #FFFFFF;\n",
              "      --disabled-bg-color: #3B4455;\n",
              "      --disabled-fill-color: #666;\n",
              "  }\n",
              "\n",
              "  .colab-df-quickchart {\n",
              "    background-color: var(--bg-color);\n",
              "    border: none;\n",
              "    border-radius: 50%;\n",
              "    cursor: pointer;\n",
              "    display: none;\n",
              "    fill: var(--fill-color);\n",
              "    height: 32px;\n",
              "    padding: 0;\n",
              "    width: 32px;\n",
              "  }\n",
              "\n",
              "  .colab-df-quickchart:hover {\n",
              "    background-color: var(--hover-bg-color);\n",
              "    box-shadow: 0 1px 2px rgba(60, 64, 67, 0.3), 0 1px 3px 1px rgba(60, 64, 67, 0.15);\n",
              "    fill: var(--button-hover-fill-color);\n",
              "  }\n",
              "\n",
              "  .colab-df-quickchart-complete:disabled,\n",
              "  .colab-df-quickchart-complete:disabled:hover {\n",
              "    background-color: var(--disabled-bg-color);\n",
              "    fill: var(--disabled-fill-color);\n",
              "    box-shadow: none;\n",
              "  }\n",
              "\n",
              "  .colab-df-spinner {\n",
              "    border: 2px solid var(--fill-color);\n",
              "    border-color: transparent;\n",
              "    border-bottom-color: var(--fill-color);\n",
              "    animation:\n",
              "      spin 1s steps(1) infinite;\n",
              "  }\n",
              "\n",
              "  @keyframes spin {\n",
              "    0% {\n",
              "      border-color: transparent;\n",
              "      border-bottom-color: var(--fill-color);\n",
              "      border-left-color: var(--fill-color);\n",
              "    }\n",
              "    20% {\n",
              "      border-color: transparent;\n",
              "      border-left-color: var(--fill-color);\n",
              "      border-top-color: var(--fill-color);\n",
              "    }\n",
              "    30% {\n",
              "      border-color: transparent;\n",
              "      border-left-color: var(--fill-color);\n",
              "      border-top-color: var(--fill-color);\n",
              "      border-right-color: var(--fill-color);\n",
              "    }\n",
              "    40% {\n",
              "      border-color: transparent;\n",
              "      border-right-color: var(--fill-color);\n",
              "      border-top-color: var(--fill-color);\n",
              "    }\n",
              "    60% {\n",
              "      border-color: transparent;\n",
              "      border-right-color: var(--fill-color);\n",
              "    }\n",
              "    80% {\n",
              "      border-color: transparent;\n",
              "      border-right-color: var(--fill-color);\n",
              "      border-bottom-color: var(--fill-color);\n",
              "    }\n",
              "    90% {\n",
              "      border-color: transparent;\n",
              "      border-bottom-color: var(--fill-color);\n",
              "    }\n",
              "  }\n",
              "</style>\n",
              "\n",
              "  <script>\n",
              "    async function quickchart(key) {\n",
              "      const quickchartButtonEl =\n",
              "        document.querySelector('#' + key + ' button');\n",
              "      quickchartButtonEl.disabled = true;  // To prevent multiple clicks.\n",
              "      quickchartButtonEl.classList.add('colab-df-spinner');\n",
              "      try {\n",
              "        const charts = await google.colab.kernel.invokeFunction(\n",
              "            'suggestCharts', [key], {});\n",
              "      } catch (error) {\n",
              "        console.error('Error during call to suggestCharts:', error);\n",
              "      }\n",
              "      quickchartButtonEl.classList.remove('colab-df-spinner');\n",
              "      quickchartButtonEl.classList.add('colab-df-quickchart-complete');\n",
              "    }\n",
              "    (() => {\n",
              "      let quickchartButtonEl =\n",
              "        document.querySelector('#df-dae5005e-9c32-4f5a-a91c-02a355dd2662 button');\n",
              "      quickchartButtonEl.style.display =\n",
              "        google.colab.kernel.accessAllowed ? 'block' : 'none';\n",
              "    })();\n",
              "  </script>\n",
              "</div>\n",
              "\n",
              "    </div>\n",
              "  </div>\n"
            ],
            "application/vnd.google.colaboratory.intrinsic+json": {
              "type": "dataframe",
              "variable_name": "df",
              "summary": "{\n  \"name\": \"df\",\n  \"rows\": 92,\n  \"fields\": [\n    {\n      \"column\": \"Date\",\n      \"properties\": {\n        \"dtype\": \"object\",\n        \"num_unique_values\": 92,\n        \"samples\": [\n          \"2024-06-10\",\n          \"2024-05-23\",\n          \"2024-06-25\"\n        ],\n        \"semantic_type\": \"\",\n        \"description\": \"\"\n      }\n    },\n    {\n      \"column\": \"Average Temperature C\",\n      \"properties\": {\n        \"dtype\": \"number\",\n        \"std\": 3.6140398506442764,\n        \"min\": 18.7,\n        \"max\": 31.1,\n        \"num_unique_values\": 69,\n        \"samples\": [\n          23.6,\n          19.8,\n          27.6\n        ],\n        \"semantic_type\": \"\",\n        \"description\": \"\"\n      }\n    },\n    {\n      \"column\": \"Average pH\",\n      \"properties\": {\n        \"dtype\": \"number\",\n        \"std\": 0.2437954387554349,\n        \"min\": 7.3,\n        \"max\": 8.3,\n        \"num_unique_values\": 11,\n        \"samples\": [\n          7.7,\n          8.3,\n          7.4\n        ],\n        \"semantic_type\": \"\",\n        \"description\": \"\"\n      }\n    },\n    {\n      \"column\": \"Average Specific Conductance \\u03bcS/cm\",\n      \"properties\": {\n        \"dtype\": \"number\",\n        \"std\": 267.60898469535715,\n        \"min\": 362.0,\n        \"max\": 1432.4,\n        \"num_unique_values\": 92,\n        \"samples\": [\n          1304.3,\n          666.4,\n          986.0\n        ],\n        \"semantic_type\": \"\",\n        \"description\": \"\"\n      }\n    },\n    {\n      \"column\": \"Average Turbidity FNU\",\n      \"properties\": {\n        \"dtype\": \"number\",\n        \"std\": 15.113178531101521,\n        \"min\": 13.0,\n        \"max\": 104.9,\n        \"num_unique_values\": 85,\n        \"samples\": [\n          19.9,\n          39.7,\n          37.0\n        ],\n        \"semantic_type\": \"\",\n        \"description\": \"\"\n      }\n    },\n    {\n      \"column\": \"Average Dissolved Oxygen mg/l\",\n      \"properties\": {\n        \"dtype\": \"number\",\n        \"std\": 1.843676969611326,\n        \"min\": 2.9,\n        \"max\": 9.9,\n        \"num_unique_values\": 47,\n        \"samples\": [\n          6.2,\n          4.0,\n          6.8\n        ],\n        \"semantic_type\": \"\",\n        \"description\": \"\"\n      }\n    },\n    {\n      \"column\": \"Average Dissolved Oxygen +1 day mg/l\",\n      \"properties\": {\n        \"dtype\": \"number\",\n        \"std\": 1.8239851650891683,\n        \"min\": 2.9,\n        \"max\": 9.8,\n        \"num_unique_values\": 46,\n        \"samples\": [\n          2.9,\n          6.8,\n          6.2\n        ],\n        \"semantic_type\": \"\",\n        \"description\": \"\"\n      }\n    },\n    {\n      \"column\": \"Average Dissolved Oxygen +1 week mg/l\",\n      \"properties\": {\n        \"dtype\": \"number\",\n        \"std\": 1.7264900915764083,\n        \"min\": 2.9,\n        \"max\": 9.6,\n        \"num_unique_values\": 46,\n        \"samples\": [\n          3.1,\n          6.0,\n          6.3\n        ],\n        \"semantic_type\": \"\",\n        \"description\": \"\"\n      }\n    },\n    {\n      \"column\": \"Average Dissolved Oxygen +4 weeks mg/l\",\n      \"properties\": {\n        \"dtype\": \"number\",\n        \"std\": 1.506661034382808,\n        \"min\": 2.9,\n        \"max\": 8.7,\n        \"num_unique_values\": 40,\n        \"samples\": [\n          4.8,\n          6.0,\n          6.2\n        ],\n        \"semantic_type\": \"\",\n        \"description\": \"\"\n      }\n    }\n  ]\n}"
            }
          },
          "metadata": {},
          "execution_count": 3
        }
      ]
    },
    {
      "cell_type": "markdown",
      "source": [
        "# 4. Preprocessing the Dataset"
      ],
      "metadata": {
        "id": "3ryP5LAfhmbn"
      }
    },
    {
      "cell_type": "markdown",
      "source": [
        "## 4.1 Separating the Dataset into Inputs and Target"
      ],
      "metadata": {
        "id": "MGapT96RhqX1"
      }
    },
    {
      "cell_type": "markdown",
      "source": [
        "Code Block 4A"
      ],
      "metadata": {
        "id": "4EjFdDKld-XB"
      }
    },
    {
      "cell_type": "code",
      "source": [
        "# Drop the 'Date' column and the target columns ('Average DO (1 day)', 'Average DO (1 week)', 'Average DO (4 weeks)')\n",
        "# from the DataFrame to create the input features DataFrame\n",
        "inputs = df.drop(['Date', 'Average Dissolved Oxygen +1 day mg/l', 'Average Dissolved Oxygen +1 week mg/l', 'Average Dissolved Oxygen +4 weeks mg/l'], axis='columns')\n",
        "\n",
        "# Select the target columns ('Average DO (1 day)', 'Average DO (1 week)', 'Average DO (4 weeks)')\n",
        "# from the DataFrame to create the target DataFrame\n",
        "target = df[[ 'Average Dissolved Oxygen +1 day mg/l', 'Average Dissolved Oxygen +1 week mg/l', 'Average Dissolved Oxygen +4 weeks mg/l']]"
      ],
      "metadata": {
        "collapsed": true,
        "id": "5ZitDZEaCEI-"
      },
      "execution_count": null,
      "outputs": []
    },
    {
      "cell_type": "markdown",
      "source": [
        "Code Block 4B"
      ],
      "metadata": {
        "id": "V8g0TwTqeAAN"
      }
    },
    {
      "cell_type": "code",
      "source": [
        "# Convert the inputs DataFrame to a NumPy array with float data type\n",
        "inputs = np.array(inputs, dtype=float)\n",
        "\n",
        "# Convert the target DataFrame to a NumPy array with float data type\n",
        "target = np.array(target, dtype=float)"
      ],
      "metadata": {
        "id": "MvklElsGhHzA"
      },
      "execution_count": null,
      "outputs": []
    },
    {
      "cell_type": "markdown",
      "source": [
        "## 4.2 Splitting the Training and Testing Data"
      ],
      "metadata": {
        "id": "WsKm__jPiQau"
      }
    },
    {
      "cell_type": "markdown",
      "source": [
        "Code Block 4C"
      ],
      "metadata": {
        "id": "OxYFRqxieDks"
      }
    },
    {
      "cell_type": "code",
      "source": [
        "# Split the data into train and test sets (80% train, 20% test)\n",
        "X_train, X_test, y_train, y_test = train_test_split(inputs, target, test_size=0.2, random_state=42)\n",
        "\n",
        "print(\"X_train shape:\", X_train.shape)\n",
        "print(\"X_test shape:\", X_test.shape)\n",
        "print(\"y_train shape:\", y_train.shape)\n",
        "print(\"y_test shape:\", y_test.shape)"
      ],
      "metadata": {
        "id": "pm3iyBSRiTbf",
        "colab": {
          "base_uri": "https://localhost:8080/"
        },
        "outputId": "d0875e97-b164-40c4-82a4-f720a9add36f"
      },
      "execution_count": null,
      "outputs": [
        {
          "output_type": "stream",
          "name": "stdout",
          "text": [
            "X_train shape: (73, 5)\n",
            "X_test shape: (19, 5)\n",
            "y_train shape: (73, 3)\n",
            "y_test shape: (19, 3)\n"
          ]
        }
      ]
    },
    {
      "cell_type": "markdown",
      "source": [
        "# 5. Training the Model\n"
      ],
      "metadata": {
        "id": "gCGvez2eiw_d"
      }
    },
    {
      "cell_type": "markdown",
      "source": [
        "Code Block 5A"
      ],
      "metadata": {
        "id": "IBiYoluDersc"
      }
    },
    {
      "cell_type": "code",
      "source": [
        "# Initialize a RandomForestRegressor model from the scikit-learn library\n",
        "model = RandomForestRegressor()"
      ],
      "metadata": {
        "id": "TIWoibtAhslE"
      },
      "execution_count": null,
      "outputs": []
    },
    {
      "cell_type": "markdown",
      "source": [
        "Code Block 5B"
      ],
      "metadata": {
        "id": "jtCvOAKzetsr"
      }
    },
    {
      "cell_type": "code",
      "source": [
        "# Fitting the model to the training data (X_train) and corresponding labels (y_train)\n",
        "model.fit(X_train, y_train)"
      ],
      "metadata": {
        "id": "eOo6Z-pbh3Qj",
        "colab": {
          "base_uri": "https://localhost:8080/",
          "height": 80
        },
        "outputId": "88e4fa7f-ad18-4e37-d0d7-556c5bb29b28"
      },
      "execution_count": null,
      "outputs": [
        {
          "output_type": "execute_result",
          "data": {
            "text/plain": [
              "RandomForestRegressor()"
            ],
            "text/html": [
              "<style>#sk-container-id-1 {\n",
              "  /* Definition of color scheme common for light and dark mode */\n",
              "  --sklearn-color-text: #000;\n",
              "  --sklearn-color-text-muted: #666;\n",
              "  --sklearn-color-line: gray;\n",
              "  /* Definition of color scheme for unfitted estimators */\n",
              "  --sklearn-color-unfitted-level-0: #fff5e6;\n",
              "  --sklearn-color-unfitted-level-1: #f6e4d2;\n",
              "  --sklearn-color-unfitted-level-2: #ffe0b3;\n",
              "  --sklearn-color-unfitted-level-3: chocolate;\n",
              "  /* Definition of color scheme for fitted estimators */\n",
              "  --sklearn-color-fitted-level-0: #f0f8ff;\n",
              "  --sklearn-color-fitted-level-1: #d4ebff;\n",
              "  --sklearn-color-fitted-level-2: #b3dbfd;\n",
              "  --sklearn-color-fitted-level-3: cornflowerblue;\n",
              "\n",
              "  /* Specific color for light theme */\n",
              "  --sklearn-color-text-on-default-background: var(--sg-text-color, var(--theme-code-foreground, var(--jp-content-font-color1, black)));\n",
              "  --sklearn-color-background: var(--sg-background-color, var(--theme-background, var(--jp-layout-color0, white)));\n",
              "  --sklearn-color-border-box: var(--sg-text-color, var(--theme-code-foreground, var(--jp-content-font-color1, black)));\n",
              "  --sklearn-color-icon: #696969;\n",
              "\n",
              "  @media (prefers-color-scheme: dark) {\n",
              "    /* Redefinition of color scheme for dark theme */\n",
              "    --sklearn-color-text-on-default-background: var(--sg-text-color, var(--theme-code-foreground, var(--jp-content-font-color1, white)));\n",
              "    --sklearn-color-background: var(--sg-background-color, var(--theme-background, var(--jp-layout-color0, #111)));\n",
              "    --sklearn-color-border-box: var(--sg-text-color, var(--theme-code-foreground, var(--jp-content-font-color1, white)));\n",
              "    --sklearn-color-icon: #878787;\n",
              "  }\n",
              "}\n",
              "\n",
              "#sk-container-id-1 {\n",
              "  color: var(--sklearn-color-text);\n",
              "}\n",
              "\n",
              "#sk-container-id-1 pre {\n",
              "  padding: 0;\n",
              "}\n",
              "\n",
              "#sk-container-id-1 input.sk-hidden--visually {\n",
              "  border: 0;\n",
              "  clip: rect(1px 1px 1px 1px);\n",
              "  clip: rect(1px, 1px, 1px, 1px);\n",
              "  height: 1px;\n",
              "  margin: -1px;\n",
              "  overflow: hidden;\n",
              "  padding: 0;\n",
              "  position: absolute;\n",
              "  width: 1px;\n",
              "}\n",
              "\n",
              "#sk-container-id-1 div.sk-dashed-wrapped {\n",
              "  border: 1px dashed var(--sklearn-color-line);\n",
              "  margin: 0 0.4em 0.5em 0.4em;\n",
              "  box-sizing: border-box;\n",
              "  padding-bottom: 0.4em;\n",
              "  background-color: var(--sklearn-color-background);\n",
              "}\n",
              "\n",
              "#sk-container-id-1 div.sk-container {\n",
              "  /* jupyter's `normalize.less` sets `[hidden] { display: none; }`\n",
              "     but bootstrap.min.css set `[hidden] { display: none !important; }`\n",
              "     so we also need the `!important` here to be able to override the\n",
              "     default hidden behavior on the sphinx rendered scikit-learn.org.\n",
              "     See: https://github.com/scikit-learn/scikit-learn/issues/21755 */\n",
              "  display: inline-block !important;\n",
              "  position: relative;\n",
              "}\n",
              "\n",
              "#sk-container-id-1 div.sk-text-repr-fallback {\n",
              "  display: none;\n",
              "}\n",
              "\n",
              "div.sk-parallel-item,\n",
              "div.sk-serial,\n",
              "div.sk-item {\n",
              "  /* draw centered vertical line to link estimators */\n",
              "  background-image: linear-gradient(var(--sklearn-color-text-on-default-background), var(--sklearn-color-text-on-default-background));\n",
              "  background-size: 2px 100%;\n",
              "  background-repeat: no-repeat;\n",
              "  background-position: center center;\n",
              "}\n",
              "\n",
              "/* Parallel-specific style estimator block */\n",
              "\n",
              "#sk-container-id-1 div.sk-parallel-item::after {\n",
              "  content: \"\";\n",
              "  width: 100%;\n",
              "  border-bottom: 2px solid var(--sklearn-color-text-on-default-background);\n",
              "  flex-grow: 1;\n",
              "}\n",
              "\n",
              "#sk-container-id-1 div.sk-parallel {\n",
              "  display: flex;\n",
              "  align-items: stretch;\n",
              "  justify-content: center;\n",
              "  background-color: var(--sklearn-color-background);\n",
              "  position: relative;\n",
              "}\n",
              "\n",
              "#sk-container-id-1 div.sk-parallel-item {\n",
              "  display: flex;\n",
              "  flex-direction: column;\n",
              "}\n",
              "\n",
              "#sk-container-id-1 div.sk-parallel-item:first-child::after {\n",
              "  align-self: flex-end;\n",
              "  width: 50%;\n",
              "}\n",
              "\n",
              "#sk-container-id-1 div.sk-parallel-item:last-child::after {\n",
              "  align-self: flex-start;\n",
              "  width: 50%;\n",
              "}\n",
              "\n",
              "#sk-container-id-1 div.sk-parallel-item:only-child::after {\n",
              "  width: 0;\n",
              "}\n",
              "\n",
              "/* Serial-specific style estimator block */\n",
              "\n",
              "#sk-container-id-1 div.sk-serial {\n",
              "  display: flex;\n",
              "  flex-direction: column;\n",
              "  align-items: center;\n",
              "  background-color: var(--sklearn-color-background);\n",
              "  padding-right: 1em;\n",
              "  padding-left: 1em;\n",
              "}\n",
              "\n",
              "\n",
              "/* Toggleable style: style used for estimator/Pipeline/ColumnTransformer box that is\n",
              "clickable and can be expanded/collapsed.\n",
              "- Pipeline and ColumnTransformer use this feature and define the default style\n",
              "- Estimators will overwrite some part of the style using the `sk-estimator` class\n",
              "*/\n",
              "\n",
              "/* Pipeline and ColumnTransformer style (default) */\n",
              "\n",
              "#sk-container-id-1 div.sk-toggleable {\n",
              "  /* Default theme specific background. It is overwritten whether we have a\n",
              "  specific estimator or a Pipeline/ColumnTransformer */\n",
              "  background-color: var(--sklearn-color-background);\n",
              "}\n",
              "\n",
              "/* Toggleable label */\n",
              "#sk-container-id-1 label.sk-toggleable__label {\n",
              "  cursor: pointer;\n",
              "  display: flex;\n",
              "  width: 100%;\n",
              "  margin-bottom: 0;\n",
              "  padding: 0.5em;\n",
              "  box-sizing: border-box;\n",
              "  text-align: center;\n",
              "  align-items: start;\n",
              "  justify-content: space-between;\n",
              "  gap: 0.5em;\n",
              "}\n",
              "\n",
              "#sk-container-id-1 label.sk-toggleable__label .caption {\n",
              "  font-size: 0.6rem;\n",
              "  font-weight: lighter;\n",
              "  color: var(--sklearn-color-text-muted);\n",
              "}\n",
              "\n",
              "#sk-container-id-1 label.sk-toggleable__label-arrow:before {\n",
              "  /* Arrow on the left of the label */\n",
              "  content: \"▸\";\n",
              "  float: left;\n",
              "  margin-right: 0.25em;\n",
              "  color: var(--sklearn-color-icon);\n",
              "}\n",
              "\n",
              "#sk-container-id-1 label.sk-toggleable__label-arrow:hover:before {\n",
              "  color: var(--sklearn-color-text);\n",
              "}\n",
              "\n",
              "/* Toggleable content - dropdown */\n",
              "\n",
              "#sk-container-id-1 div.sk-toggleable__content {\n",
              "  max-height: 0;\n",
              "  max-width: 0;\n",
              "  overflow: hidden;\n",
              "  text-align: left;\n",
              "  /* unfitted */\n",
              "  background-color: var(--sklearn-color-unfitted-level-0);\n",
              "}\n",
              "\n",
              "#sk-container-id-1 div.sk-toggleable__content.fitted {\n",
              "  /* fitted */\n",
              "  background-color: var(--sklearn-color-fitted-level-0);\n",
              "}\n",
              "\n",
              "#sk-container-id-1 div.sk-toggleable__content pre {\n",
              "  margin: 0.2em;\n",
              "  border-radius: 0.25em;\n",
              "  color: var(--sklearn-color-text);\n",
              "  /* unfitted */\n",
              "  background-color: var(--sklearn-color-unfitted-level-0);\n",
              "}\n",
              "\n",
              "#sk-container-id-1 div.sk-toggleable__content.fitted pre {\n",
              "  /* unfitted */\n",
              "  background-color: var(--sklearn-color-fitted-level-0);\n",
              "}\n",
              "\n",
              "#sk-container-id-1 input.sk-toggleable__control:checked~div.sk-toggleable__content {\n",
              "  /* Expand drop-down */\n",
              "  max-height: 200px;\n",
              "  max-width: 100%;\n",
              "  overflow: auto;\n",
              "}\n",
              "\n",
              "#sk-container-id-1 input.sk-toggleable__control:checked~label.sk-toggleable__label-arrow:before {\n",
              "  content: \"▾\";\n",
              "}\n",
              "\n",
              "/* Pipeline/ColumnTransformer-specific style */\n",
              "\n",
              "#sk-container-id-1 div.sk-label input.sk-toggleable__control:checked~label.sk-toggleable__label {\n",
              "  color: var(--sklearn-color-text);\n",
              "  background-color: var(--sklearn-color-unfitted-level-2);\n",
              "}\n",
              "\n",
              "#sk-container-id-1 div.sk-label.fitted input.sk-toggleable__control:checked~label.sk-toggleable__label {\n",
              "  background-color: var(--sklearn-color-fitted-level-2);\n",
              "}\n",
              "\n",
              "/* Estimator-specific style */\n",
              "\n",
              "/* Colorize estimator box */\n",
              "#sk-container-id-1 div.sk-estimator input.sk-toggleable__control:checked~label.sk-toggleable__label {\n",
              "  /* unfitted */\n",
              "  background-color: var(--sklearn-color-unfitted-level-2);\n",
              "}\n",
              "\n",
              "#sk-container-id-1 div.sk-estimator.fitted input.sk-toggleable__control:checked~label.sk-toggleable__label {\n",
              "  /* fitted */\n",
              "  background-color: var(--sklearn-color-fitted-level-2);\n",
              "}\n",
              "\n",
              "#sk-container-id-1 div.sk-label label.sk-toggleable__label,\n",
              "#sk-container-id-1 div.sk-label label {\n",
              "  /* The background is the default theme color */\n",
              "  color: var(--sklearn-color-text-on-default-background);\n",
              "}\n",
              "\n",
              "/* On hover, darken the color of the background */\n",
              "#sk-container-id-1 div.sk-label:hover label.sk-toggleable__label {\n",
              "  color: var(--sklearn-color-text);\n",
              "  background-color: var(--sklearn-color-unfitted-level-2);\n",
              "}\n",
              "\n",
              "/* Label box, darken color on hover, fitted */\n",
              "#sk-container-id-1 div.sk-label.fitted:hover label.sk-toggleable__label.fitted {\n",
              "  color: var(--sklearn-color-text);\n",
              "  background-color: var(--sklearn-color-fitted-level-2);\n",
              "}\n",
              "\n",
              "/* Estimator label */\n",
              "\n",
              "#sk-container-id-1 div.sk-label label {\n",
              "  font-family: monospace;\n",
              "  font-weight: bold;\n",
              "  display: inline-block;\n",
              "  line-height: 1.2em;\n",
              "}\n",
              "\n",
              "#sk-container-id-1 div.sk-label-container {\n",
              "  text-align: center;\n",
              "}\n",
              "\n",
              "/* Estimator-specific */\n",
              "#sk-container-id-1 div.sk-estimator {\n",
              "  font-family: monospace;\n",
              "  border: 1px dotted var(--sklearn-color-border-box);\n",
              "  border-radius: 0.25em;\n",
              "  box-sizing: border-box;\n",
              "  margin-bottom: 0.5em;\n",
              "  /* unfitted */\n",
              "  background-color: var(--sklearn-color-unfitted-level-0);\n",
              "}\n",
              "\n",
              "#sk-container-id-1 div.sk-estimator.fitted {\n",
              "  /* fitted */\n",
              "  background-color: var(--sklearn-color-fitted-level-0);\n",
              "}\n",
              "\n",
              "/* on hover */\n",
              "#sk-container-id-1 div.sk-estimator:hover {\n",
              "  /* unfitted */\n",
              "  background-color: var(--sklearn-color-unfitted-level-2);\n",
              "}\n",
              "\n",
              "#sk-container-id-1 div.sk-estimator.fitted:hover {\n",
              "  /* fitted */\n",
              "  background-color: var(--sklearn-color-fitted-level-2);\n",
              "}\n",
              "\n",
              "/* Specification for estimator info (e.g. \"i\" and \"?\") */\n",
              "\n",
              "/* Common style for \"i\" and \"?\" */\n",
              "\n",
              ".sk-estimator-doc-link,\n",
              "a:link.sk-estimator-doc-link,\n",
              "a:visited.sk-estimator-doc-link {\n",
              "  float: right;\n",
              "  font-size: smaller;\n",
              "  line-height: 1em;\n",
              "  font-family: monospace;\n",
              "  background-color: var(--sklearn-color-background);\n",
              "  border-radius: 1em;\n",
              "  height: 1em;\n",
              "  width: 1em;\n",
              "  text-decoration: none !important;\n",
              "  margin-left: 0.5em;\n",
              "  text-align: center;\n",
              "  /* unfitted */\n",
              "  border: var(--sklearn-color-unfitted-level-1) 1pt solid;\n",
              "  color: var(--sklearn-color-unfitted-level-1);\n",
              "}\n",
              "\n",
              ".sk-estimator-doc-link.fitted,\n",
              "a:link.sk-estimator-doc-link.fitted,\n",
              "a:visited.sk-estimator-doc-link.fitted {\n",
              "  /* fitted */\n",
              "  border: var(--sklearn-color-fitted-level-1) 1pt solid;\n",
              "  color: var(--sklearn-color-fitted-level-1);\n",
              "}\n",
              "\n",
              "/* On hover */\n",
              "div.sk-estimator:hover .sk-estimator-doc-link:hover,\n",
              ".sk-estimator-doc-link:hover,\n",
              "div.sk-label-container:hover .sk-estimator-doc-link:hover,\n",
              ".sk-estimator-doc-link:hover {\n",
              "  /* unfitted */\n",
              "  background-color: var(--sklearn-color-unfitted-level-3);\n",
              "  color: var(--sklearn-color-background);\n",
              "  text-decoration: none;\n",
              "}\n",
              "\n",
              "div.sk-estimator.fitted:hover .sk-estimator-doc-link.fitted:hover,\n",
              ".sk-estimator-doc-link.fitted:hover,\n",
              "div.sk-label-container:hover .sk-estimator-doc-link.fitted:hover,\n",
              ".sk-estimator-doc-link.fitted:hover {\n",
              "  /* fitted */\n",
              "  background-color: var(--sklearn-color-fitted-level-3);\n",
              "  color: var(--sklearn-color-background);\n",
              "  text-decoration: none;\n",
              "}\n",
              "\n",
              "/* Span, style for the box shown on hovering the info icon */\n",
              ".sk-estimator-doc-link span {\n",
              "  display: none;\n",
              "  z-index: 9999;\n",
              "  position: relative;\n",
              "  font-weight: normal;\n",
              "  right: .2ex;\n",
              "  padding: .5ex;\n",
              "  margin: .5ex;\n",
              "  width: min-content;\n",
              "  min-width: 20ex;\n",
              "  max-width: 50ex;\n",
              "  color: var(--sklearn-color-text);\n",
              "  box-shadow: 2pt 2pt 4pt #999;\n",
              "  /* unfitted */\n",
              "  background: var(--sklearn-color-unfitted-level-0);\n",
              "  border: .5pt solid var(--sklearn-color-unfitted-level-3);\n",
              "}\n",
              "\n",
              ".sk-estimator-doc-link.fitted span {\n",
              "  /* fitted */\n",
              "  background: var(--sklearn-color-fitted-level-0);\n",
              "  border: var(--sklearn-color-fitted-level-3);\n",
              "}\n",
              "\n",
              ".sk-estimator-doc-link:hover span {\n",
              "  display: block;\n",
              "}\n",
              "\n",
              "/* \"?\"-specific style due to the `<a>` HTML tag */\n",
              "\n",
              "#sk-container-id-1 a.estimator_doc_link {\n",
              "  float: right;\n",
              "  font-size: 1rem;\n",
              "  line-height: 1em;\n",
              "  font-family: monospace;\n",
              "  background-color: var(--sklearn-color-background);\n",
              "  border-radius: 1rem;\n",
              "  height: 1rem;\n",
              "  width: 1rem;\n",
              "  text-decoration: none;\n",
              "  /* unfitted */\n",
              "  color: var(--sklearn-color-unfitted-level-1);\n",
              "  border: var(--sklearn-color-unfitted-level-1) 1pt solid;\n",
              "}\n",
              "\n",
              "#sk-container-id-1 a.estimator_doc_link.fitted {\n",
              "  /* fitted */\n",
              "  border: var(--sklearn-color-fitted-level-1) 1pt solid;\n",
              "  color: var(--sklearn-color-fitted-level-1);\n",
              "}\n",
              "\n",
              "/* On hover */\n",
              "#sk-container-id-1 a.estimator_doc_link:hover {\n",
              "  /* unfitted */\n",
              "  background-color: var(--sklearn-color-unfitted-level-3);\n",
              "  color: var(--sklearn-color-background);\n",
              "  text-decoration: none;\n",
              "}\n",
              "\n",
              "#sk-container-id-1 a.estimator_doc_link.fitted:hover {\n",
              "  /* fitted */\n",
              "  background-color: var(--sklearn-color-fitted-level-3);\n",
              "}\n",
              "</style><div id=\"sk-container-id-1\" class=\"sk-top-container\"><div class=\"sk-text-repr-fallback\"><pre>RandomForestRegressor()</pre><b>In a Jupyter environment, please rerun this cell to show the HTML representation or trust the notebook. <br />On GitHub, the HTML representation is unable to render, please try loading this page with nbviewer.org.</b></div><div class=\"sk-container\" hidden><div class=\"sk-item\"><div class=\"sk-estimator fitted sk-toggleable\"><input class=\"sk-toggleable__control sk-hidden--visually\" id=\"sk-estimator-id-1\" type=\"checkbox\" checked><label for=\"sk-estimator-id-1\" class=\"sk-toggleable__label fitted sk-toggleable__label-arrow\"><div><div>RandomForestRegressor</div></div><div><a class=\"sk-estimator-doc-link fitted\" rel=\"noreferrer\" target=\"_blank\" href=\"https://scikit-learn.org/1.6/modules/generated/sklearn.ensemble.RandomForestRegressor.html\">?<span>Documentation for RandomForestRegressor</span></a><span class=\"sk-estimator-doc-link fitted\">i<span>Fitted</span></span></div></label><div class=\"sk-toggleable__content fitted\"><pre>RandomForestRegressor()</pre></div> </div></div></div></div>"
            ]
          },
          "metadata": {},
          "execution_count": 8
        }
      ]
    },
    {
      "cell_type": "markdown",
      "source": [
        "Code Block 5C"
      ],
      "metadata": {
        "id": "QvMZZIJHew5K"
      }
    },
    {
      "cell_type": "code",
      "source": [
        "# Using the trained model to make predictions on the test data (X_test)\n",
        "y_pred = model.predict(X_test)\n",
        "\n",
        "# Rounding to 1 decimal place\n",
        "rounded_y_pred = np.round(y_pred, 2)\n",
        "\n",
        "# Printing the predicted labels\n",
        "print(rounded_y_pred)"
      ],
      "metadata": {
        "id": "_qKQn5IFh84K",
        "colab": {
          "base_uri": "https://localhost:8080/"
        },
        "outputId": "5c4bc884-96b9-441f-af8b-feb1ddd14ce3"
      },
      "execution_count": null,
      "outputs": [
        {
          "output_type": "stream",
          "name": "stdout",
          "text": [
            "[[7.3  6.7  4.99]\n",
            " [8.45 7.79 6.97]\n",
            " [6.41 5.42 5.54]\n",
            " [3.62 5.25 8.03]\n",
            " [9.43 9.44 6.97]\n",
            " [7.26 6.5  6.43]\n",
            " [7.41 6.95 5.09]\n",
            " [4.13 5.72 7.92]\n",
            " [9.25 8.92 7.23]\n",
            " [7.2  6.78 4.91]\n",
            " [4.35 7.89 8.01]\n",
            " [6.7  6.06 6.34]\n",
            " [6.94 6.96 3.88]\n",
            " [6.09 3.77 8.12]\n",
            " [9.21 8.62 7.05]\n",
            " [8.87 8.67 7.  ]\n",
            " [8.89 7.58 7.36]\n",
            " [7.2  6.56 6.26]\n",
            " [7.38 6.69 5.9 ]]\n"
          ]
        }
      ]
    },
    {
      "cell_type": "code",
      "source": [
        "# Using the trained model to make predictions on the test data (X_test)\n",
        "y_pred = model.predict(X_test)\n",
        "\n",
        "# Rounding to 1 decimal place\n",
        "rounded_y_pred = np.round(y_pred, 2)\n",
        "\n",
        "# Printing the predicted labels\n",
        "print(rounded_y_pred)"
      ],
      "metadata": {
        "colab": {
          "base_uri": "https://localhost:8080/"
        },
        "id": "aVJQyhuDQ7aE",
        "outputId": "4f263bff-b7d3-45f6-c41d-fc75f830cb9c"
      },
      "execution_count": null,
      "outputs": [
        {
          "output_type": "stream",
          "name": "stdout",
          "text": [
            "[[7.3  6.7  4.99]\n",
            " [8.45 7.79 6.97]\n",
            " [6.41 5.42 5.54]\n",
            " [3.62 5.25 8.03]\n",
            " [9.43 9.44 6.97]\n",
            " [7.26 6.5  6.43]\n",
            " [7.41 6.95 5.09]\n",
            " [4.13 5.72 7.92]\n",
            " [9.25 8.92 7.23]\n",
            " [7.2  6.78 4.91]\n",
            " [4.35 7.89 8.01]\n",
            " [6.7  6.06 6.34]\n",
            " [6.94 6.96 3.88]\n",
            " [6.09 3.77 8.12]\n",
            " [9.21 8.62 7.05]\n",
            " [8.87 8.67 7.  ]\n",
            " [8.89 7.58 7.36]\n",
            " [7.2  6.56 6.26]\n",
            " [7.38 6.69 5.9 ]]\n"
          ]
        }
      ]
    },
    {
      "cell_type": "markdown",
      "source": [
        "Code Block 5D"
      ],
      "metadata": {
        "id": "NEb0rIgDey0h"
      }
    },
    {
      "cell_type": "code",
      "source": [
        "# Rounding to 1 decimal place\n",
        "rounded_y_test = np.round(y_test, 2)\n",
        "\n",
        "print(rounded_y_test)"
      ],
      "metadata": {
        "id": "2HXk0ZdEh_qz",
        "colab": {
          "base_uri": "https://localhost:8080/"
        },
        "outputId": "1d4c32d4-e500-46c8-c163-826e9d57a1e0"
      },
      "execution_count": null,
      "outputs": [
        {
          "output_type": "stream",
          "name": "stdout",
          "text": [
            "[[7.3 7.6 3.6]\n",
            " [7.5 7.1 7.5]\n",
            " [6.5 6.2 3.6]\n",
            " [5.8 4.  8.4]\n",
            " [9.8 9.5 7.3]\n",
            " [7.2 6.5 6.5]\n",
            " [7.7 7.6 4.8]\n",
            " [3.6 5.8 7.4]\n",
            " [9.3 9.2 8. ]\n",
            " [7.5 7.1 3.4]\n",
            " [4.4 8.7 8. ]\n",
            " [6.6 7.  6.2]\n",
            " [8.7 7.7 7.9]\n",
            " [6.2 3.7 8.7]\n",
            " [9.6 8.8 7.7]\n",
            " [9.4 9.3 6.4]\n",
            " [8.8 7.4 7.6]\n",
            " [7.1 6.5 6.5]\n",
            " [7.5 6.5 6.2]]\n"
          ]
        }
      ]
    },
    {
      "cell_type": "markdown",
      "source": [
        "# 6. Feature Importance"
      ],
      "metadata": {
        "id": "qVX8XBlce6P5"
      }
    },
    {
      "cell_type": "markdown",
      "source": [
        "Code Block 6A"
      ],
      "metadata": {
        "id": "PCDMOth3e8C5"
      }
    },
    {
      "cell_type": "code",
      "source": [
        "# TODO: Change this value to view the other decision trees\n",
        "tree_number = 1\n",
        "\n",
        "# TODO: Change this value to change the depth of the decision tree\n",
        "max_depth = 3\n",
        "\n",
        "tree = model.estimators_[tree_number]\n",
        "\n",
        "feature_names = ['Average Dissolved Oxygen', 'Average Temperature C',\t'Average Turbidity FNU', 'Average pH', 'Average Specific Conductance μS/cm']\n",
        "\n",
        "dot_data = export_graphviz(tree, feature_names=feature_names, filled=True, rounded=True, max_depth=max_depth)\n",
        "\n",
        "graph = graphviz.Source(dot_data)\n",
        "graph.render(\"water_tree\")\n",
        "graph"
      ],
      "metadata": {
        "id": "E21aH2HIwsZ8",
        "colab": {
          "base_uri": "https://localhost:8080/",
          "height": 814
        },
        "outputId": "3cf547a0-0b20-4678-f261-08d54e4dfb9f"
      },
      "execution_count": null,
      "outputs": [
        {
          "output_type": "execute_result",
          "data": {
            "image/svg+xml": "<?xml version=\"1.0\" encoding=\"UTF-8\" standalone=\"no\"?>\n<!DOCTYPE svg PUBLIC \"-//W3C//DTD SVG 1.1//EN\"\n \"http://www.w3.org/Graphics/SVG/1.1/DTD/svg11.dtd\">\n<!-- Generated by graphviz version 2.43.0 (0)\n -->\n<!-- Title: Tree Pages: 1 -->\n<svg width=\"1903pt\" height=\"580pt\"\n viewBox=\"0.00 0.00 1902.50 580.00\" xmlns=\"http://www.w3.org/2000/svg\" xmlns:xlink=\"http://www.w3.org/1999/xlink\">\n<g id=\"graph0\" class=\"graph\" transform=\"scale(1 1) rotate(0) translate(4 576)\">\n<title>Tree</title>\n<polygon fill=\"white\" stroke=\"transparent\" points=\"-4,4 -4,-576 1898.5,-576 1898.5,4 -4,4\"/>\n<!-- 0 -->\n<g id=\"node1\" class=\"node\">\n<title>0</title>\n<path fill=\"#ffffff\" stroke=\"black\" d=\"M973,-572C973,-572 702,-572 702,-572 696,-572 690,-566 690,-560 690,-560 690,-486 690,-486 690,-480 696,-474 702,-474 702,-474 973,-474 973,-474 979,-474 985,-480 985,-486 985,-486 985,-560 985,-560 985,-566 979,-572 973,-572\"/>\n<text text-anchor=\"middle\" x=\"837.5\" y=\"-556.8\" font-family=\"Helvetica,sans-Serif\" font-size=\"14.00\">Average Specific Conductance μS/cm &lt;= 6.35</text>\n<text text-anchor=\"middle\" x=\"837.5\" y=\"-541.8\" font-family=\"Helvetica,sans-Serif\" font-size=\"14.00\">squared_error = 3.032</text>\n<text text-anchor=\"middle\" x=\"837.5\" y=\"-526.8\" font-family=\"Helvetica,sans-Serif\" font-size=\"14.00\">samples = 46</text>\n<text text-anchor=\"middle\" x=\"837.5\" y=\"-511.8\" font-family=\"Helvetica,sans-Serif\" font-size=\"14.00\">value = [[6.618]</text>\n<text text-anchor=\"middle\" x=\"837.5\" y=\"-496.8\" font-family=\"Helvetica,sans-Serif\" font-size=\"14.00\">[6.622]</text>\n<text text-anchor=\"middle\" x=\"837.5\" y=\"-481.8\" font-family=\"Helvetica,sans-Serif\" font-size=\"14.00\">[7.003]]</text>\n</g>\n<!-- 1 -->\n<g id=\"node2\" class=\"node\">\n<title>1</title>\n<path fill=\"#f3c5a3\" stroke=\"black\" d=\"M732,-438C732,-438 461,-438 461,-438 455,-438 449,-432 449,-426 449,-426 449,-352 449,-352 449,-346 455,-340 461,-340 461,-340 732,-340 732,-340 738,-340 744,-346 744,-352 744,-352 744,-426 744,-426 744,-432 738,-438 732,-438\"/>\n<text text-anchor=\"middle\" x=\"596.5\" y=\"-422.8\" font-family=\"Helvetica,sans-Serif\" font-size=\"14.00\">Average Specific Conductance μS/cm &lt;= 5.45</text>\n<text text-anchor=\"middle\" x=\"596.5\" y=\"-407.8\" font-family=\"Helvetica,sans-Serif\" font-size=\"14.00\">squared_error = 1.626</text>\n<text text-anchor=\"middle\" x=\"596.5\" y=\"-392.8\" font-family=\"Helvetica,sans-Serif\" font-size=\"14.00\">samples = 18</text>\n<text text-anchor=\"middle\" x=\"596.5\" y=\"-377.8\" font-family=\"Helvetica,sans-Serif\" font-size=\"14.00\">value = [[4.653]</text>\n<text text-anchor=\"middle\" x=\"596.5\" y=\"-362.8\" font-family=\"Helvetica,sans-Serif\" font-size=\"14.00\">[5.323]</text>\n<text text-anchor=\"middle\" x=\"596.5\" y=\"-347.8\" font-family=\"Helvetica,sans-Serif\" font-size=\"14.00\">[7.987]]</text>\n</g>\n<!-- 0&#45;&gt;1 -->\n<g id=\"edge1\" class=\"edge\">\n<title>0&#45;&gt;1</title>\n<path fill=\"none\" stroke=\"black\" d=\"M749.81,-473.97C731.45,-463.92 712,-453.26 693.33,-443.04\"/>\n<polygon fill=\"black\" stroke=\"black\" points=\"694.98,-439.95 684.53,-438.21 691.62,-446.09 694.98,-439.95\"/>\n<text text-anchor=\"middle\" x=\"691.54\" y=\"-458.51\" font-family=\"Helvetica,sans-Serif\" font-size=\"14.00\">True</text>\n</g>\n<!-- 36 -->\n<g id=\"node17\" class=\"node\">\n<title>36</title>\n<path fill=\"#f1bd97\" stroke=\"black\" d=\"M1267,-438C1267,-438 996,-438 996,-438 990,-438 984,-432 984,-426 984,-426 984,-352 984,-352 984,-346 990,-340 996,-340 996,-340 1267,-340 1267,-340 1273,-340 1279,-346 1279,-352 1279,-352 1279,-426 1279,-426 1279,-432 1273,-438 1267,-438\"/>\n<text text-anchor=\"middle\" x=\"1131.5\" y=\"-422.8\" font-family=\"Helvetica,sans-Serif\" font-size=\"14.00\">Average Specific Conductance μS/cm &lt;= 8.15</text>\n<text text-anchor=\"middle\" x=\"1131.5\" y=\"-407.8\" font-family=\"Helvetica,sans-Serif\" font-size=\"14.00\">squared_error = 1.442</text>\n<text text-anchor=\"middle\" x=\"1131.5\" y=\"-392.8\" font-family=\"Helvetica,sans-Serif\" font-size=\"14.00\">samples = 28</text>\n<text text-anchor=\"middle\" x=\"1131.5\" y=\"-377.8\" font-family=\"Helvetica,sans-Serif\" font-size=\"14.00\">value = [[7.988]</text>\n<text text-anchor=\"middle\" x=\"1131.5\" y=\"-362.8\" font-family=\"Helvetica,sans-Serif\" font-size=\"14.00\">[7.528]</text>\n<text text-anchor=\"middle\" x=\"1131.5\" y=\"-347.8\" font-family=\"Helvetica,sans-Serif\" font-size=\"14.00\">[6.316]]</text>\n</g>\n<!-- 0&#45;&gt;36 -->\n<g id=\"edge16\" class=\"edge\">\n<title>0&#45;&gt;36</title>\n<path fill=\"none\" stroke=\"black\" d=\"M944.47,-473.97C967.37,-463.69 991.68,-452.78 1014.92,-442.34\"/>\n<polygon fill=\"black\" stroke=\"black\" points=\"1016.43,-445.5 1024.11,-438.21 1013.56,-439.12 1016.43,-445.5\"/>\n<text text-anchor=\"middle\" x=\"1015.23\" y=\"-457.88\" font-family=\"Helvetica,sans-Serif\" font-size=\"14.00\">False</text>\n</g>\n<!-- 2 -->\n<g id=\"node3\" class=\"node\">\n<title>2</title>\n<path fill=\"#eca470\" stroke=\"black\" d=\"M368,-304C368,-304 241,-304 241,-304 235,-304 229,-298 229,-292 229,-292 229,-218 229,-218 229,-212 235,-206 241,-206 241,-206 368,-206 368,-206 374,-206 380,-212 380,-218 380,-218 380,-292 380,-292 380,-298 374,-304 368,-304\"/>\n<text text-anchor=\"middle\" x=\"304.5\" y=\"-288.8\" font-family=\"Helvetica,sans-Serif\" font-size=\"14.00\">Average pH &lt;= 41.85</text>\n<text text-anchor=\"middle\" x=\"304.5\" y=\"-273.8\" font-family=\"Helvetica,sans-Serif\" font-size=\"14.00\">squared_error = 0.835</text>\n<text text-anchor=\"middle\" x=\"304.5\" y=\"-258.8\" font-family=\"Helvetica,sans-Serif\" font-size=\"14.00\">samples = 11</text>\n<text text-anchor=\"middle\" x=\"304.5\" y=\"-243.8\" font-family=\"Helvetica,sans-Serif\" font-size=\"14.00\">value = [[3.942]</text>\n<text text-anchor=\"middle\" x=\"304.5\" y=\"-228.8\" font-family=\"Helvetica,sans-Serif\" font-size=\"14.00\">[6.474]</text>\n<text text-anchor=\"middle\" x=\"304.5\" y=\"-213.8\" font-family=\"Helvetica,sans-Serif\" font-size=\"14.00\">[8.005]]</text>\n</g>\n<!-- 1&#45;&gt;2 -->\n<g id=\"edge2\" class=\"edge\">\n<title>1&#45;&gt;2</title>\n<path fill=\"none\" stroke=\"black\" d=\"M490.26,-339.97C457.01,-324.94 420.79,-308.57 389.23,-294.3\"/>\n<polygon fill=\"black\" stroke=\"black\" points=\"390.58,-291.07 380.03,-290.14 387.7,-297.45 390.58,-291.07\"/>\n</g>\n<!-- 23 -->\n<g id=\"node10\" class=\"node\">\n<title>23</title>\n<path fill=\"#e68641\" stroke=\"black\" d=\"M698,-304C698,-304 495,-304 495,-304 489,-304 483,-298 483,-292 483,-292 483,-218 483,-218 483,-212 489,-206 495,-206 495,-206 698,-206 698,-206 704,-206 710,-212 710,-218 710,-218 710,-292 710,-292 710,-298 704,-304 698,-304\"/>\n<text text-anchor=\"middle\" x=\"596.5\" y=\"-288.8\" font-family=\"Helvetica,sans-Serif\" font-size=\"14.00\">Average Turbidity FNU &lt;= 1000.45</text>\n<text text-anchor=\"middle\" x=\"596.5\" y=\"-273.8\" font-family=\"Helvetica,sans-Serif\" font-size=\"14.00\">squared_error = 0.118</text>\n<text text-anchor=\"middle\" x=\"596.5\" y=\"-258.8\" font-family=\"Helvetica,sans-Serif\" font-size=\"14.00\">samples = 7</text>\n<text text-anchor=\"middle\" x=\"596.5\" y=\"-243.8\" font-family=\"Helvetica,sans-Serif\" font-size=\"14.00\">value = [[5.882]</text>\n<text text-anchor=\"middle\" x=\"596.5\" y=\"-228.8\" font-family=\"Helvetica,sans-Serif\" font-size=\"14.00\">[3.336]</text>\n<text text-anchor=\"middle\" x=\"596.5\" y=\"-213.8\" font-family=\"Helvetica,sans-Serif\" font-size=\"14.00\">[7.955]]</text>\n</g>\n<!-- 1&#45;&gt;23 -->\n<g id=\"edge9\" class=\"edge\">\n<title>1&#45;&gt;23</title>\n<path fill=\"none\" stroke=\"black\" d=\"M596.5,-339.97C596.5,-331.69 596.5,-323 596.5,-314.48\"/>\n<polygon fill=\"black\" stroke=\"black\" points=\"600,-314.21 596.5,-304.21 593,-314.21 600,-314.21\"/>\n</g>\n<!-- 3 -->\n<g id=\"node4\" class=\"node\">\n<title>3</title>\n<path fill=\"#e68844\" stroke=\"black\" d=\"M199,-170C199,-170 12,-170 12,-170 6,-170 0,-164 0,-158 0,-158 0,-84 0,-84 0,-78 6,-72 12,-72 12,-72 199,-72 199,-72 205,-72 211,-78 211,-84 211,-84 211,-158 211,-158 211,-164 205,-170 199,-170\"/>\n<text text-anchor=\"middle\" x=\"105.5\" y=\"-154.8\" font-family=\"Helvetica,sans-Serif\" font-size=\"14.00\">Average Temperature C &lt;= 7.45</text>\n<text text-anchor=\"middle\" x=\"105.5\" y=\"-139.8\" font-family=\"Helvetica,sans-Serif\" font-size=\"14.00\">squared_error = 0.166</text>\n<text text-anchor=\"middle\" x=\"105.5\" y=\"-124.8\" font-family=\"Helvetica,sans-Serif\" font-size=\"14.00\">samples = 4</text>\n<text text-anchor=\"middle\" x=\"105.5\" y=\"-109.8\" font-family=\"Helvetica,sans-Serif\" font-size=\"14.00\">value = [[4.278]</text>\n<text text-anchor=\"middle\" x=\"105.5\" y=\"-94.8\" font-family=\"Helvetica,sans-Serif\" font-size=\"14.00\">[7.844]</text>\n<text text-anchor=\"middle\" x=\"105.5\" y=\"-79.8\" font-family=\"Helvetica,sans-Serif\" font-size=\"14.00\">[7.911]]</text>\n</g>\n<!-- 2&#45;&gt;3 -->\n<g id=\"edge3\" class=\"edge\">\n<title>2&#45;&gt;3</title>\n<path fill=\"none\" stroke=\"black\" d=\"M232.09,-205.97C217.42,-196.24 201.89,-185.93 186.92,-176.01\"/>\n<polygon fill=\"black\" stroke=\"black\" points=\"188.45,-172.82 178.19,-170.21 184.58,-178.66 188.45,-172.82\"/>\n</g>\n<!-- 10 -->\n<g id=\"node7\" class=\"node\">\n<title>10</title>\n<path fill=\"#e88d4c\" stroke=\"black\" d=\"M368,-170C368,-170 241,-170 241,-170 235,-170 229,-164 229,-158 229,-158 229,-84 229,-84 229,-78 235,-72 241,-72 241,-72 368,-72 368,-72 374,-72 380,-78 380,-84 380,-84 380,-158 380,-158 380,-164 374,-170 368,-170\"/>\n<text text-anchor=\"middle\" x=\"304.5\" y=\"-154.8\" font-family=\"Helvetica,sans-Serif\" font-size=\"14.00\">Average pH &lt;= 69.0</text>\n<text text-anchor=\"middle\" x=\"304.5\" y=\"-139.8\" font-family=\"Helvetica,sans-Serif\" font-size=\"14.00\">squared_error = 0.297</text>\n<text text-anchor=\"middle\" x=\"304.5\" y=\"-124.8\" font-family=\"Helvetica,sans-Serif\" font-size=\"14.00\">samples = 7</text>\n<text text-anchor=\"middle\" x=\"304.5\" y=\"-109.8\" font-family=\"Helvetica,sans-Serif\" font-size=\"14.00\">value = [[3.64]</text>\n<text text-anchor=\"middle\" x=\"304.5\" y=\"-94.8\" font-family=\"Helvetica,sans-Serif\" font-size=\"14.00\">[5.24]</text>\n<text text-anchor=\"middle\" x=\"304.5\" y=\"-79.8\" font-family=\"Helvetica,sans-Serif\" font-size=\"14.00\">[8.09]]</text>\n</g>\n<!-- 2&#45;&gt;10 -->\n<g id=\"edge6\" class=\"edge\">\n<title>2&#45;&gt;10</title>\n<path fill=\"none\" stroke=\"black\" d=\"M304.5,-205.97C304.5,-197.69 304.5,-189 304.5,-180.48\"/>\n<polygon fill=\"black\" stroke=\"black\" points=\"308,-180.21 304.5,-170.21 301,-180.21 308,-180.21\"/>\n</g>\n<!-- 4 -->\n<g id=\"node5\" class=\"node\">\n<title>4</title>\n<path fill=\"#c0c0c0\" stroke=\"black\" d=\"M84.5,-36C84.5,-36 54.5,-36 54.5,-36 48.5,-36 42.5,-30 42.5,-24 42.5,-24 42.5,-12 42.5,-12 42.5,-6 48.5,0 54.5,0 54.5,0 84.5,0 84.5,0 90.5,0 96.5,-6 96.5,-12 96.5,-12 96.5,-24 96.5,-24 96.5,-30 90.5,-36 84.5,-36\"/>\n<text text-anchor=\"middle\" x=\"69.5\" y=\"-14.3\" font-family=\"Helvetica,sans-Serif\" font-size=\"14.00\">(...)</text>\n</g>\n<!-- 3&#45;&gt;4 -->\n<g id=\"edge4\" class=\"edge\">\n<title>3&#45;&gt;4</title>\n<path fill=\"none\" stroke=\"black\" d=\"M88.34,-71.87C85.13,-62.86 81.89,-53.76 79.02,-45.71\"/>\n<polygon fill=\"black\" stroke=\"black\" points=\"82.27,-44.39 75.61,-36.15 75.67,-46.74 82.27,-44.39\"/>\n</g>\n<!-- 5 -->\n<g id=\"node6\" class=\"node\">\n<title>5</title>\n<path fill=\"#c0c0c0\" stroke=\"black\" d=\"M156.5,-36C156.5,-36 126.5,-36 126.5,-36 120.5,-36 114.5,-30 114.5,-24 114.5,-24 114.5,-12 114.5,-12 114.5,-6 120.5,0 126.5,0 126.5,0 156.5,0 156.5,0 162.5,0 168.5,-6 168.5,-12 168.5,-12 168.5,-24 168.5,-24 168.5,-30 162.5,-36 156.5,-36\"/>\n<text text-anchor=\"middle\" x=\"141.5\" y=\"-14.3\" font-family=\"Helvetica,sans-Serif\" font-size=\"14.00\">(...)</text>\n</g>\n<!-- 3&#45;&gt;5 -->\n<g id=\"edge5\" class=\"edge\">\n<title>3&#45;&gt;5</title>\n<path fill=\"none\" stroke=\"black\" d=\"M122.66,-71.87C125.87,-62.86 129.11,-53.76 131.98,-45.71\"/>\n<polygon fill=\"black\" stroke=\"black\" points=\"135.33,-46.74 135.39,-36.15 128.73,-44.39 135.33,-46.74\"/>\n</g>\n<!-- 11 -->\n<g id=\"node8\" class=\"node\">\n<title>11</title>\n<path fill=\"#c0c0c0\" stroke=\"black\" d=\"M297.5,-36C297.5,-36 267.5,-36 267.5,-36 261.5,-36 255.5,-30 255.5,-24 255.5,-24 255.5,-12 255.5,-12 255.5,-6 261.5,0 267.5,0 267.5,0 297.5,0 297.5,0 303.5,0 309.5,-6 309.5,-12 309.5,-12 309.5,-24 309.5,-24 309.5,-30 303.5,-36 297.5,-36\"/>\n<text text-anchor=\"middle\" x=\"282.5\" y=\"-14.3\" font-family=\"Helvetica,sans-Serif\" font-size=\"14.00\">(...)</text>\n</g>\n<!-- 10&#45;&gt;11 -->\n<g id=\"edge7\" class=\"edge\">\n<title>10&#45;&gt;11</title>\n<path fill=\"none\" stroke=\"black\" d=\"M294.02,-71.87C292.08,-62.96 290.12,-53.96 288.38,-45.97\"/>\n<polygon fill=\"black\" stroke=\"black\" points=\"291.78,-45.17 286.24,-36.15 284.94,-46.66 291.78,-45.17\"/>\n</g>\n<!-- 18 -->\n<g id=\"node9\" class=\"node\">\n<title>18</title>\n<path fill=\"#c0c0c0\" stroke=\"black\" d=\"M369.5,-36C369.5,-36 339.5,-36 339.5,-36 333.5,-36 327.5,-30 327.5,-24 327.5,-24 327.5,-12 327.5,-12 327.5,-6 333.5,0 339.5,0 339.5,0 369.5,0 369.5,0 375.5,0 381.5,-6 381.5,-12 381.5,-12 381.5,-24 381.5,-24 381.5,-30 375.5,-36 369.5,-36\"/>\n<text text-anchor=\"middle\" x=\"354.5\" y=\"-14.3\" font-family=\"Helvetica,sans-Serif\" font-size=\"14.00\">(...)</text>\n</g>\n<!-- 10&#45;&gt;18 -->\n<g id=\"edge8\" class=\"edge\">\n<title>10&#45;&gt;18</title>\n<path fill=\"none\" stroke=\"black\" d=\"M328.33,-71.87C332.88,-62.66 337.49,-53.36 341.54,-45.17\"/>\n<polygon fill=\"black\" stroke=\"black\" points=\"344.71,-46.66 346.01,-36.15 338.44,-43.56 344.71,-46.66\"/>\n</g>\n<!-- 24 -->\n<g id=\"node11\" class=\"node\">\n<title>24</title>\n<path fill=\"#e5833c\" stroke=\"black\" d=\"M598.5,-170C598.5,-170 410.5,-170 410.5,-170 404.5,-170 398.5,-164 398.5,-158 398.5,-158 398.5,-84 398.5,-84 398.5,-78 404.5,-72 410.5,-72 410.5,-72 598.5,-72 598.5,-72 604.5,-72 610.5,-78 610.5,-84 610.5,-84 610.5,-158 610.5,-158 610.5,-164 604.5,-170 598.5,-170\"/>\n<text text-anchor=\"middle\" x=\"504.5\" y=\"-154.8\" font-family=\"Helvetica,sans-Serif\" font-size=\"14.00\">Average Turbidity FNU &lt;= 953.8</text>\n<text text-anchor=\"middle\" x=\"504.5\" y=\"-139.8\" font-family=\"Helvetica,sans-Serif\" font-size=\"14.00\">squared_error = 0.052</text>\n<text text-anchor=\"middle\" x=\"504.5\" y=\"-124.8\" font-family=\"Helvetica,sans-Serif\" font-size=\"14.00\">samples = 3</text>\n<text text-anchor=\"middle\" x=\"504.5\" y=\"-109.8\" font-family=\"Helvetica,sans-Serif\" font-size=\"14.00\">value = [[6.2]</text>\n<text text-anchor=\"middle\" x=\"504.5\" y=\"-94.8\" font-family=\"Helvetica,sans-Serif\" font-size=\"14.00\">[3.8]</text>\n<text text-anchor=\"middle\" x=\"504.5\" y=\"-79.8\" font-family=\"Helvetica,sans-Serif\" font-size=\"14.00\">[8.275]]</text>\n</g>\n<!-- 23&#45;&gt;24 -->\n<g id=\"edge10\" class=\"edge\">\n<title>23&#45;&gt;24</title>\n<path fill=\"none\" stroke=\"black\" d=\"M563.03,-205.97C556.81,-197.05 550.27,-187.66 543.89,-178.52\"/>\n<polygon fill=\"black\" stroke=\"black\" points=\"546.69,-176.42 538.1,-170.21 540.95,-180.42 546.69,-176.42\"/>\n</g>\n<!-- 29 -->\n<g id=\"node14\" class=\"node\">\n<title>29</title>\n<path fill=\"#e5823b\" stroke=\"black\" d=\"M854.5,-170C854.5,-170 640.5,-170 640.5,-170 634.5,-170 628.5,-164 628.5,-158 628.5,-158 628.5,-84 628.5,-84 628.5,-78 634.5,-72 640.5,-72 640.5,-72 854.5,-72 854.5,-72 860.5,-72 866.5,-78 866.5,-84 866.5,-84 866.5,-158 866.5,-158 866.5,-164 860.5,-170 854.5,-170\"/>\n<text text-anchor=\"middle\" x=\"747.5\" y=\"-154.8\" font-family=\"Helvetica,sans-Serif\" font-size=\"14.00\">Average Dissolved Oxygen &lt;= 28.95</text>\n<text text-anchor=\"middle\" x=\"747.5\" y=\"-139.8\" font-family=\"Helvetica,sans-Serif\" font-size=\"14.00\">squared_error = 0.031</text>\n<text text-anchor=\"middle\" x=\"747.5\" y=\"-124.8\" font-family=\"Helvetica,sans-Serif\" font-size=\"14.00\">samples = 4</text>\n<text text-anchor=\"middle\" x=\"747.5\" y=\"-109.8\" font-family=\"Helvetica,sans-Serif\" font-size=\"14.00\">value = [[5.7]</text>\n<text text-anchor=\"middle\" x=\"747.5\" y=\"-94.8\" font-family=\"Helvetica,sans-Serif\" font-size=\"14.00\">[3.071]</text>\n<text text-anchor=\"middle\" x=\"747.5\" y=\"-79.8\" font-family=\"Helvetica,sans-Serif\" font-size=\"14.00\">[7.771]]</text>\n</g>\n<!-- 23&#45;&gt;29 -->\n<g id=\"edge13\" class=\"edge\">\n<title>23&#45;&gt;29</title>\n<path fill=\"none\" stroke=\"black\" d=\"M651.44,-205.97C662.27,-196.51 673.7,-186.51 684.76,-176.84\"/>\n<polygon fill=\"black\" stroke=\"black\" points=\"687.12,-179.43 692.35,-170.21 682.51,-174.16 687.12,-179.43\"/>\n</g>\n<!-- 25 -->\n<g id=\"node12\" class=\"node\">\n<title>25</title>\n<path fill=\"#c0c0c0\" stroke=\"black\" d=\"M469.5,-36C469.5,-36 439.5,-36 439.5,-36 433.5,-36 427.5,-30 427.5,-24 427.5,-24 427.5,-12 427.5,-12 427.5,-6 433.5,0 439.5,0 439.5,0 469.5,0 469.5,0 475.5,0 481.5,-6 481.5,-12 481.5,-12 481.5,-24 481.5,-24 481.5,-30 475.5,-36 469.5,-36\"/>\n<text text-anchor=\"middle\" x=\"454.5\" y=\"-14.3\" font-family=\"Helvetica,sans-Serif\" font-size=\"14.00\">(...)</text>\n</g>\n<!-- 24&#45;&gt;25 -->\n<g id=\"edge11\" class=\"edge\">\n<title>24&#45;&gt;25</title>\n<path fill=\"none\" stroke=\"black\" d=\"M480.67,-71.87C476.12,-62.66 471.51,-53.36 467.46,-45.17\"/>\n<polygon fill=\"black\" stroke=\"black\" points=\"470.56,-43.56 462.99,-36.15 464.29,-46.66 470.56,-43.56\"/>\n</g>\n<!-- 28 -->\n<g id=\"node13\" class=\"node\">\n<title>28</title>\n<path fill=\"#c0c0c0\" stroke=\"black\" d=\"M541.5,-36C541.5,-36 511.5,-36 511.5,-36 505.5,-36 499.5,-30 499.5,-24 499.5,-24 499.5,-12 499.5,-12 499.5,-6 505.5,0 511.5,0 511.5,0 541.5,0 541.5,0 547.5,0 553.5,-6 553.5,-12 553.5,-12 553.5,-24 553.5,-24 553.5,-30 547.5,-36 541.5,-36\"/>\n<text text-anchor=\"middle\" x=\"526.5\" y=\"-14.3\" font-family=\"Helvetica,sans-Serif\" font-size=\"14.00\">(...)</text>\n</g>\n<!-- 24&#45;&gt;28 -->\n<g id=\"edge12\" class=\"edge\">\n<title>24&#45;&gt;28</title>\n<path fill=\"none\" stroke=\"black\" d=\"M514.98,-71.87C516.92,-62.96 518.88,-53.96 520.62,-45.97\"/>\n<polygon fill=\"black\" stroke=\"black\" points=\"524.06,-46.66 522.76,-36.15 517.22,-45.17 524.06,-46.66\"/>\n</g>\n<!-- 30 -->\n<g id=\"node15\" class=\"node\">\n<title>30</title>\n<path fill=\"#c0c0c0\" stroke=\"black\" d=\"M726.5,-36C726.5,-36 696.5,-36 696.5,-36 690.5,-36 684.5,-30 684.5,-24 684.5,-24 684.5,-12 684.5,-12 684.5,-6 690.5,0 696.5,0 696.5,0 726.5,0 726.5,0 732.5,0 738.5,-6 738.5,-12 738.5,-12 738.5,-24 738.5,-24 738.5,-30 732.5,-36 726.5,-36\"/>\n<text text-anchor=\"middle\" x=\"711.5\" y=\"-14.3\" font-family=\"Helvetica,sans-Serif\" font-size=\"14.00\">(...)</text>\n</g>\n<!-- 29&#45;&gt;30 -->\n<g id=\"edge14\" class=\"edge\">\n<title>29&#45;&gt;30</title>\n<path fill=\"none\" stroke=\"black\" d=\"M730.34,-71.87C727.13,-62.86 723.89,-53.76 721.02,-45.71\"/>\n<polygon fill=\"black\" stroke=\"black\" points=\"724.27,-44.39 717.61,-36.15 717.67,-46.74 724.27,-44.39\"/>\n</g>\n<!-- 31 -->\n<g id=\"node16\" class=\"node\">\n<title>31</title>\n<path fill=\"#c0c0c0\" stroke=\"black\" d=\"M798.5,-36C798.5,-36 768.5,-36 768.5,-36 762.5,-36 756.5,-30 756.5,-24 756.5,-24 756.5,-12 756.5,-12 756.5,-6 762.5,0 768.5,0 768.5,0 798.5,0 798.5,0 804.5,0 810.5,-6 810.5,-12 810.5,-12 810.5,-24 810.5,-24 810.5,-30 804.5,-36 798.5,-36\"/>\n<text text-anchor=\"middle\" x=\"783.5\" y=\"-14.3\" font-family=\"Helvetica,sans-Serif\" font-size=\"14.00\">(...)</text>\n</g>\n<!-- 29&#45;&gt;31 -->\n<g id=\"edge15\" class=\"edge\">\n<title>29&#45;&gt;31</title>\n<path fill=\"none\" stroke=\"black\" d=\"M764.66,-71.87C767.87,-62.86 771.11,-53.76 773.98,-45.71\"/>\n<polygon fill=\"black\" stroke=\"black\" points=\"777.33,-46.74 777.39,-36.15 770.73,-44.39 777.33,-46.74\"/>\n</g>\n<!-- 37 -->\n<g id=\"node18\" class=\"node\">\n<title>37</title>\n<path fill=\"#eca46f\" stroke=\"black\" d=\"M1234.5,-304C1234.5,-304 1028.5,-304 1028.5,-304 1022.5,-304 1016.5,-298 1016.5,-292 1016.5,-292 1016.5,-218 1016.5,-218 1016.5,-212 1022.5,-206 1028.5,-206 1028.5,-206 1234.5,-206 1234.5,-206 1240.5,-206 1246.5,-212 1246.5,-218 1246.5,-218 1246.5,-292 1246.5,-292 1246.5,-298 1240.5,-304 1234.5,-304\"/>\n<text text-anchor=\"middle\" x=\"1131.5\" y=\"-288.8\" font-family=\"Helvetica,sans-Serif\" font-size=\"14.00\">Average Dissolved Oxygen &lt;= 26.1</text>\n<text text-anchor=\"middle\" x=\"1131.5\" y=\"-273.8\" font-family=\"Helvetica,sans-Serif\" font-size=\"14.00\">squared_error = 0.832</text>\n<text text-anchor=\"middle\" x=\"1131.5\" y=\"-258.8\" font-family=\"Helvetica,sans-Serif\" font-size=\"14.00\">samples = 19</text>\n<text text-anchor=\"middle\" x=\"1131.5\" y=\"-243.8\" font-family=\"Helvetica,sans-Serif\" font-size=\"14.00\">value = [[7.148]</text>\n<text text-anchor=\"middle\" x=\"1131.5\" y=\"-228.8\" font-family=\"Helvetica,sans-Serif\" font-size=\"14.00\">[6.68]</text>\n<text text-anchor=\"middle\" x=\"1131.5\" y=\"-213.8\" font-family=\"Helvetica,sans-Serif\" font-size=\"14.00\">[5.748]]</text>\n</g>\n<!-- 36&#45;&gt;37 -->\n<g id=\"edge17\" class=\"edge\">\n<title>36&#45;&gt;37</title>\n<path fill=\"none\" stroke=\"black\" d=\"M1131.5,-339.97C1131.5,-331.69 1131.5,-323 1131.5,-314.48\"/>\n<polygon fill=\"black\" stroke=\"black\" points=\"1135,-314.21 1131.5,-304.21 1128,-314.21 1135,-314.21\"/>\n</g>\n<!-- 74 -->\n<g id=\"node25\" class=\"node\">\n<title>74</title>\n<path fill=\"#e89050\" stroke=\"black\" d=\"M1634.5,-304C1634.5,-304 1446.5,-304 1446.5,-304 1440.5,-304 1434.5,-298 1434.5,-292 1434.5,-292 1434.5,-218 1434.5,-218 1434.5,-212 1440.5,-206 1446.5,-206 1446.5,-206 1634.5,-206 1634.5,-206 1640.5,-206 1646.5,-212 1646.5,-218 1646.5,-218 1646.5,-292 1646.5,-292 1646.5,-298 1640.5,-304 1634.5,-304\"/>\n<text text-anchor=\"middle\" x=\"1540.5\" y=\"-288.8\" font-family=\"Helvetica,sans-Serif\" font-size=\"14.00\">Average Turbidity FNU &lt;= 461.1</text>\n<text text-anchor=\"middle\" x=\"1540.5\" y=\"-273.8\" font-family=\"Helvetica,sans-Serif\" font-size=\"14.00\">squared_error = 0.355</text>\n<text text-anchor=\"middle\" x=\"1540.5\" y=\"-258.8\" font-family=\"Helvetica,sans-Serif\" font-size=\"14.00\">samples = 9</text>\n<text text-anchor=\"middle\" x=\"1540.5\" y=\"-243.8\" font-family=\"Helvetica,sans-Serif\" font-size=\"14.00\">value = [[9.156]</text>\n<text text-anchor=\"middle\" x=\"1540.5\" y=\"-228.8\" font-family=\"Helvetica,sans-Serif\" font-size=\"14.00\">[8.706]</text>\n<text text-anchor=\"middle\" x=\"1540.5\" y=\"-213.8\" font-family=\"Helvetica,sans-Serif\" font-size=\"14.00\">[7.106]]</text>\n</g>\n<!-- 36&#45;&gt;74 -->\n<g id=\"edge24\" class=\"edge\">\n<title>36&#45;&gt;74</title>\n<path fill=\"none\" stroke=\"black\" d=\"M1279.16,-340.34C1327.12,-324.87 1379.6,-307.93 1424.88,-293.32\"/>\n<polygon fill=\"black\" stroke=\"black\" points=\"1425.98,-296.64 1434.42,-290.23 1423.83,-289.98 1425.98,-296.64\"/>\n</g>\n<!-- 38 -->\n<g id=\"node19\" class=\"node\">\n<title>38</title>\n<path fill=\"#e88f4f\" stroke=\"black\" d=\"M1092,-170C1092,-170 897,-170 897,-170 891,-170 885,-164 885,-158 885,-158 885,-84 885,-84 885,-78 891,-72 897,-72 897,-72 1092,-72 1092,-72 1098,-72 1104,-78 1104,-84 1104,-84 1104,-158 1104,-158 1104,-164 1098,-170 1092,-170\"/>\n<text text-anchor=\"middle\" x=\"994.5\" y=\"-154.8\" font-family=\"Helvetica,sans-Serif\" font-size=\"14.00\">Average Turbidity FNU &lt;= 907.05</text>\n<text text-anchor=\"middle\" x=\"994.5\" y=\"-139.8\" font-family=\"Helvetica,sans-Serif\" font-size=\"14.00\">squared_error = 0.335</text>\n<text text-anchor=\"middle\" x=\"994.5\" y=\"-124.8\" font-family=\"Helvetica,sans-Serif\" font-size=\"14.00\">samples = 11</text>\n<text text-anchor=\"middle\" x=\"994.5\" y=\"-109.8\" font-family=\"Helvetica,sans-Serif\" font-size=\"14.00\">value = [[7.179]</text>\n<text text-anchor=\"middle\" x=\"994.5\" y=\"-94.8\" font-family=\"Helvetica,sans-Serif\" font-size=\"14.00\">[6.893]</text>\n<text text-anchor=\"middle\" x=\"994.5\" y=\"-79.8\" font-family=\"Helvetica,sans-Serif\" font-size=\"14.00\">[6.286]]</text>\n</g>\n<!-- 37&#45;&gt;38 -->\n<g id=\"edge18\" class=\"edge\">\n<title>37&#45;&gt;38</title>\n<path fill=\"none\" stroke=\"black\" d=\"M1081.65,-205.97C1072.02,-196.69 1061.85,-186.9 1052,-177.4\"/>\n<polygon fill=\"black\" stroke=\"black\" points=\"1054.17,-174.63 1044.54,-170.21 1049.31,-179.67 1054.17,-174.63\"/>\n</g>\n<!-- 59 -->\n<g id=\"node22\" class=\"node\">\n<title>59</title>\n<path fill=\"#efb084\" stroke=\"black\" d=\"M1405,-170C1405,-170 1134,-170 1134,-170 1128,-170 1122,-164 1122,-158 1122,-158 1122,-84 1122,-84 1122,-78 1128,-72 1134,-72 1134,-72 1405,-72 1405,-72 1411,-72 1417,-78 1417,-84 1417,-84 1417,-158 1417,-158 1417,-164 1411,-170 1405,-170\"/>\n<text text-anchor=\"middle\" x=\"1269.5\" y=\"-154.8\" font-family=\"Helvetica,sans-Serif\" font-size=\"14.00\">Average Specific Conductance μS/cm &lt;= 6.55</text>\n<text text-anchor=\"middle\" x=\"1269.5\" y=\"-139.8\" font-family=\"Helvetica,sans-Serif\" font-size=\"14.00\">squared_error = 1.143</text>\n<text text-anchor=\"middle\" x=\"1269.5\" y=\"-124.8\" font-family=\"Helvetica,sans-Serif\" font-size=\"14.00\">samples = 8</text>\n<text text-anchor=\"middle\" x=\"1269.5\" y=\"-109.8\" font-family=\"Helvetica,sans-Serif\" font-size=\"14.00\">value = [[7.109]</text>\n<text text-anchor=\"middle\" x=\"1269.5\" y=\"-94.8\" font-family=\"Helvetica,sans-Serif\" font-size=\"14.00\">[6.409]</text>\n<text text-anchor=\"middle\" x=\"1269.5\" y=\"-79.8\" font-family=\"Helvetica,sans-Serif\" font-size=\"14.00\">[5.064]]</text>\n</g>\n<!-- 37&#45;&gt;59 -->\n<g id=\"edge21\" class=\"edge\">\n<title>37&#45;&gt;59</title>\n<path fill=\"none\" stroke=\"black\" d=\"M1181.71,-205.97C1191.41,-196.69 1201.65,-186.9 1211.58,-177.4\"/>\n<polygon fill=\"black\" stroke=\"black\" points=\"1214.29,-179.66 1219.09,-170.21 1209.45,-174.6 1214.29,-179.66\"/>\n</g>\n<!-- 39 -->\n<g id=\"node20\" class=\"node\">\n<title>39</title>\n<path fill=\"#c0c0c0\" stroke=\"black\" d=\"M973.5,-36C973.5,-36 943.5,-36 943.5,-36 937.5,-36 931.5,-30 931.5,-24 931.5,-24 931.5,-12 931.5,-12 931.5,-6 937.5,0 943.5,0 943.5,0 973.5,0 973.5,0 979.5,0 985.5,-6 985.5,-12 985.5,-12 985.5,-24 985.5,-24 985.5,-30 979.5,-36 973.5,-36\"/>\n<text text-anchor=\"middle\" x=\"958.5\" y=\"-14.3\" font-family=\"Helvetica,sans-Serif\" font-size=\"14.00\">(...)</text>\n</g>\n<!-- 38&#45;&gt;39 -->\n<g id=\"edge19\" class=\"edge\">\n<title>38&#45;&gt;39</title>\n<path fill=\"none\" stroke=\"black\" d=\"M977.34,-71.87C974.13,-62.86 970.89,-53.76 968.02,-45.71\"/>\n<polygon fill=\"black\" stroke=\"black\" points=\"971.27,-44.39 964.61,-36.15 964.67,-46.74 971.27,-44.39\"/>\n</g>\n<!-- 44 -->\n<g id=\"node21\" class=\"node\">\n<title>44</title>\n<path fill=\"#c0c0c0\" stroke=\"black\" d=\"M1045.5,-36C1045.5,-36 1015.5,-36 1015.5,-36 1009.5,-36 1003.5,-30 1003.5,-24 1003.5,-24 1003.5,-12 1003.5,-12 1003.5,-6 1009.5,0 1015.5,0 1015.5,0 1045.5,0 1045.5,0 1051.5,0 1057.5,-6 1057.5,-12 1057.5,-12 1057.5,-24 1057.5,-24 1057.5,-30 1051.5,-36 1045.5,-36\"/>\n<text text-anchor=\"middle\" x=\"1030.5\" y=\"-14.3\" font-family=\"Helvetica,sans-Serif\" font-size=\"14.00\">(...)</text>\n</g>\n<!-- 38&#45;&gt;44 -->\n<g id=\"edge20\" class=\"edge\">\n<title>38&#45;&gt;44</title>\n<path fill=\"none\" stroke=\"black\" d=\"M1011.66,-71.87C1014.87,-62.86 1018.11,-53.76 1020.98,-45.71\"/>\n<polygon fill=\"black\" stroke=\"black\" points=\"1024.33,-46.74 1024.39,-36.15 1017.73,-44.39 1024.33,-46.74\"/>\n</g>\n<!-- 60 -->\n<g id=\"node23\" class=\"node\">\n<title>60</title>\n<path fill=\"#c0c0c0\" stroke=\"black\" d=\"M1248.5,-36C1248.5,-36 1218.5,-36 1218.5,-36 1212.5,-36 1206.5,-30 1206.5,-24 1206.5,-24 1206.5,-12 1206.5,-12 1206.5,-6 1212.5,0 1218.5,0 1218.5,0 1248.5,0 1248.5,0 1254.5,0 1260.5,-6 1260.5,-12 1260.5,-12 1260.5,-24 1260.5,-24 1260.5,-30 1254.5,-36 1248.5,-36\"/>\n<text text-anchor=\"middle\" x=\"1233.5\" y=\"-14.3\" font-family=\"Helvetica,sans-Serif\" font-size=\"14.00\">(...)</text>\n</g>\n<!-- 59&#45;&gt;60 -->\n<g id=\"edge22\" class=\"edge\">\n<title>59&#45;&gt;60</title>\n<path fill=\"none\" stroke=\"black\" d=\"M1252.34,-71.87C1249.13,-62.86 1245.89,-53.76 1243.02,-45.71\"/>\n<polygon fill=\"black\" stroke=\"black\" points=\"1246.27,-44.39 1239.61,-36.15 1239.67,-46.74 1246.27,-44.39\"/>\n</g>\n<!-- 61 -->\n<g id=\"node24\" class=\"node\">\n<title>61</title>\n<path fill=\"#c0c0c0\" stroke=\"black\" d=\"M1320.5,-36C1320.5,-36 1290.5,-36 1290.5,-36 1284.5,-36 1278.5,-30 1278.5,-24 1278.5,-24 1278.5,-12 1278.5,-12 1278.5,-6 1284.5,0 1290.5,0 1290.5,0 1320.5,0 1320.5,0 1326.5,0 1332.5,-6 1332.5,-12 1332.5,-12 1332.5,-24 1332.5,-24 1332.5,-30 1326.5,-36 1320.5,-36\"/>\n<text text-anchor=\"middle\" x=\"1305.5\" y=\"-14.3\" font-family=\"Helvetica,sans-Serif\" font-size=\"14.00\">(...)</text>\n</g>\n<!-- 59&#45;&gt;61 -->\n<g id=\"edge23\" class=\"edge\">\n<title>59&#45;&gt;61</title>\n<path fill=\"none\" stroke=\"black\" d=\"M1286.66,-71.87C1289.87,-62.86 1293.11,-53.76 1295.98,-45.71\"/>\n<polygon fill=\"black\" stroke=\"black\" points=\"1299.33,-46.74 1299.39,-36.15 1292.73,-44.39 1299.33,-46.74\"/>\n</g>\n<!-- 75 -->\n<g id=\"node26\" class=\"node\">\n<title>75</title>\n<path fill=\"#e5823b\" stroke=\"black\" d=\"M1634,-170C1634,-170 1447,-170 1447,-170 1441,-170 1435,-164 1435,-158 1435,-158 1435,-84 1435,-84 1435,-78 1441,-72 1447,-72 1447,-72 1634,-72 1634,-72 1640,-72 1646,-78 1646,-84 1646,-84 1646,-158 1646,-158 1646,-164 1640,-170 1634,-170\"/>\n<text text-anchor=\"middle\" x=\"1540.5\" y=\"-154.8\" font-family=\"Helvetica,sans-Serif\" font-size=\"14.00\">Average Temperature C &lt;= 7.75</text>\n<text text-anchor=\"middle\" x=\"1540.5\" y=\"-139.8\" font-family=\"Helvetica,sans-Serif\" font-size=\"14.00\">squared_error = 0.028</text>\n<text text-anchor=\"middle\" x=\"1540.5\" y=\"-124.8\" font-family=\"Helvetica,sans-Serif\" font-size=\"14.00\">samples = 3</text>\n<text text-anchor=\"middle\" x=\"1540.5\" y=\"-109.8\" font-family=\"Helvetica,sans-Serif\" font-size=\"14.00\">value = [[8.9]</text>\n<text text-anchor=\"middle\" x=\"1540.5\" y=\"-94.8\" font-family=\"Helvetica,sans-Serif\" font-size=\"14.00\">[7.35]</text>\n<text text-anchor=\"middle\" x=\"1540.5\" y=\"-79.8\" font-family=\"Helvetica,sans-Serif\" font-size=\"14.00\">[7.5]]</text>\n</g>\n<!-- 74&#45;&gt;75 -->\n<g id=\"edge25\" class=\"edge\">\n<title>74&#45;&gt;75</title>\n<path fill=\"none\" stroke=\"black\" d=\"M1540.5,-205.97C1540.5,-197.69 1540.5,-189 1540.5,-180.48\"/>\n<polygon fill=\"black\" stroke=\"black\" points=\"1544,-180.21 1540.5,-170.21 1537,-180.21 1544,-180.21\"/>\n</g>\n<!-- 80 -->\n<g id=\"node29\" class=\"node\">\n<title>80</title>\n<path fill=\"#e78946\" stroke=\"black\" d=\"M1882.5,-170C1882.5,-170 1676.5,-170 1676.5,-170 1670.5,-170 1664.5,-164 1664.5,-158 1664.5,-158 1664.5,-84 1664.5,-84 1664.5,-78 1670.5,-72 1676.5,-72 1676.5,-72 1882.5,-72 1882.5,-72 1888.5,-72 1894.5,-78 1894.5,-84 1894.5,-84 1894.5,-158 1894.5,-158 1894.5,-164 1888.5,-170 1882.5,-170\"/>\n<text text-anchor=\"middle\" x=\"1779.5\" y=\"-154.8\" font-family=\"Helvetica,sans-Serif\" font-size=\"14.00\">Average Dissolved Oxygen &lt;= 24.1</text>\n<text text-anchor=\"middle\" x=\"1779.5\" y=\"-139.8\" font-family=\"Helvetica,sans-Serif\" font-size=\"14.00\">squared_error = 0.196</text>\n<text text-anchor=\"middle\" x=\"1779.5\" y=\"-124.8\" font-family=\"Helvetica,sans-Serif\" font-size=\"14.00\">samples = 6</text>\n<text text-anchor=\"middle\" x=\"1779.5\" y=\"-109.8\" font-family=\"Helvetica,sans-Serif\" font-size=\"14.00\">value = [[9.229]</text>\n<text text-anchor=\"middle\" x=\"1779.5\" y=\"-94.8\" font-family=\"Helvetica,sans-Serif\" font-size=\"14.00\">[9.093]</text>\n<text text-anchor=\"middle\" x=\"1779.5\" y=\"-79.8\" font-family=\"Helvetica,sans-Serif\" font-size=\"14.00\">[6.993]]</text>\n</g>\n<!-- 74&#45;&gt;80 -->\n<g id=\"edge28\" class=\"edge\">\n<title>74&#45;&gt;80</title>\n<path fill=\"none\" stroke=\"black\" d=\"M1627.46,-205.97C1645.58,-195.96 1664.79,-185.36 1683.22,-175.17\"/>\n<polygon fill=\"black\" stroke=\"black\" points=\"1685.14,-178.11 1692.2,-170.21 1681.76,-171.98 1685.14,-178.11\"/>\n</g>\n<!-- 76 -->\n<g id=\"node27\" class=\"node\">\n<title>76</title>\n<path fill=\"#c0c0c0\" stroke=\"black\" d=\"M1519.5,-36C1519.5,-36 1489.5,-36 1489.5,-36 1483.5,-36 1477.5,-30 1477.5,-24 1477.5,-24 1477.5,-12 1477.5,-12 1477.5,-6 1483.5,0 1489.5,0 1489.5,0 1519.5,0 1519.5,0 1525.5,0 1531.5,-6 1531.5,-12 1531.5,-12 1531.5,-24 1531.5,-24 1531.5,-30 1525.5,-36 1519.5,-36\"/>\n<text text-anchor=\"middle\" x=\"1504.5\" y=\"-14.3\" font-family=\"Helvetica,sans-Serif\" font-size=\"14.00\">(...)</text>\n</g>\n<!-- 75&#45;&gt;76 -->\n<g id=\"edge26\" class=\"edge\">\n<title>75&#45;&gt;76</title>\n<path fill=\"none\" stroke=\"black\" d=\"M1523.34,-71.87C1520.13,-62.86 1516.89,-53.76 1514.02,-45.71\"/>\n<polygon fill=\"black\" stroke=\"black\" points=\"1517.27,-44.39 1510.61,-36.15 1510.67,-46.74 1517.27,-44.39\"/>\n</g>\n<!-- 77 -->\n<g id=\"node28\" class=\"node\">\n<title>77</title>\n<path fill=\"#c0c0c0\" stroke=\"black\" d=\"M1591.5,-36C1591.5,-36 1561.5,-36 1561.5,-36 1555.5,-36 1549.5,-30 1549.5,-24 1549.5,-24 1549.5,-12 1549.5,-12 1549.5,-6 1555.5,0 1561.5,0 1561.5,0 1591.5,0 1591.5,0 1597.5,0 1603.5,-6 1603.5,-12 1603.5,-12 1603.5,-24 1603.5,-24 1603.5,-30 1597.5,-36 1591.5,-36\"/>\n<text text-anchor=\"middle\" x=\"1576.5\" y=\"-14.3\" font-family=\"Helvetica,sans-Serif\" font-size=\"14.00\">(...)</text>\n</g>\n<!-- 75&#45;&gt;77 -->\n<g id=\"edge27\" class=\"edge\">\n<title>75&#45;&gt;77</title>\n<path fill=\"none\" stroke=\"black\" d=\"M1557.66,-71.87C1560.87,-62.86 1564.11,-53.76 1566.98,-45.71\"/>\n<polygon fill=\"black\" stroke=\"black\" points=\"1570.33,-46.74 1570.39,-36.15 1563.73,-44.39 1570.33,-46.74\"/>\n</g>\n<!-- 81 -->\n<g id=\"node30\" class=\"node\">\n<title>81</title>\n<path fill=\"#c0c0c0\" stroke=\"black\" d=\"M1758.5,-36C1758.5,-36 1728.5,-36 1728.5,-36 1722.5,-36 1716.5,-30 1716.5,-24 1716.5,-24 1716.5,-12 1716.5,-12 1716.5,-6 1722.5,0 1728.5,0 1728.5,0 1758.5,0 1758.5,0 1764.5,0 1770.5,-6 1770.5,-12 1770.5,-12 1770.5,-24 1770.5,-24 1770.5,-30 1764.5,-36 1758.5,-36\"/>\n<text text-anchor=\"middle\" x=\"1743.5\" y=\"-14.3\" font-family=\"Helvetica,sans-Serif\" font-size=\"14.00\">(...)</text>\n</g>\n<!-- 80&#45;&gt;81 -->\n<g id=\"edge29\" class=\"edge\">\n<title>80&#45;&gt;81</title>\n<path fill=\"none\" stroke=\"black\" d=\"M1762.34,-71.87C1759.13,-62.86 1755.89,-53.76 1753.02,-45.71\"/>\n<polygon fill=\"black\" stroke=\"black\" points=\"1756.27,-44.39 1749.61,-36.15 1749.67,-46.74 1756.27,-44.39\"/>\n</g>\n<!-- 90 -->\n<g id=\"node31\" class=\"node\">\n<title>90</title>\n<path fill=\"#c0c0c0\" stroke=\"black\" d=\"M1830.5,-36C1830.5,-36 1800.5,-36 1800.5,-36 1794.5,-36 1788.5,-30 1788.5,-24 1788.5,-24 1788.5,-12 1788.5,-12 1788.5,-6 1794.5,0 1800.5,0 1800.5,0 1830.5,0 1830.5,0 1836.5,0 1842.5,-6 1842.5,-12 1842.5,-12 1842.5,-24 1842.5,-24 1842.5,-30 1836.5,-36 1830.5,-36\"/>\n<text text-anchor=\"middle\" x=\"1815.5\" y=\"-14.3\" font-family=\"Helvetica,sans-Serif\" font-size=\"14.00\">(...)</text>\n</g>\n<!-- 80&#45;&gt;90 -->\n<g id=\"edge30\" class=\"edge\">\n<title>80&#45;&gt;90</title>\n<path fill=\"none\" stroke=\"black\" d=\"M1796.66,-71.87C1799.87,-62.86 1803.11,-53.76 1805.98,-45.71\"/>\n<polygon fill=\"black\" stroke=\"black\" points=\"1809.33,-46.74 1809.39,-36.15 1802.73,-44.39 1809.33,-46.74\"/>\n</g>\n</g>\n</svg>\n",
            "text/plain": [
              "<graphviz.sources.Source at 0x7ec03c594370>"
            ]
          },
          "metadata": {},
          "execution_count": 15
        }
      ]
    },
    {
      "cell_type": "markdown",
      "source": [
        "Code Block 6B"
      ],
      "metadata": {
        "id": "KGEr9lT2e-hC"
      }
    },
    {
      "cell_type": "code",
      "source": [
        "# Feature importance\n",
        "importances = model.feature_importances_\n",
        "indices = np.argsort(importances)\n",
        "\n",
        "# Plot feature importance\n",
        "plt.figure(figsize=(10, 6))\n",
        "plt.title('Feature Importances')\n",
        "plt.barh(range(len(indices)), importances[indices], color='b', align='center')\n",
        "plt.yticks(range(len(indices)), [feature_names[i] for i in indices])\n",
        "plt.xlabel('Relative Importance')\n",
        "plt.show()"
      ],
      "metadata": {
        "id": "JFsieAjl5Qzy",
        "colab": {
          "base_uri": "https://localhost:8080/",
          "height": 564
        },
        "outputId": "d2ecf219-ce8b-4c32-9f73-709a1a72ae4e"
      },
      "execution_count": null,
      "outputs": [
        {
          "output_type": "display_data",
          "data": {
            "text/plain": [
              "<Figure size 1000x600 with 1 Axes>"
            ],
            "image/png": "[encoded data removed]"
          },
          "metadata": {}
        }
      ]
    }
  ]
}