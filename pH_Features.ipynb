{
  "nbformat": 4,
  "nbformat_minor": 0,
  "metadata": {
    "colab": {
      "provenance": [],
      "include_colab_link": true
    },
    "kernelspec": {
      "name": "python3",
      "display_name": "Python 3"
    },
    "language_info": {
      "name": "python"
    }
  },
  "cells": [
    {
      "cell_type": "markdown",
      "metadata": {
        "id": "view-in-github",
        "colab_type": "text"
      },
      "source": [
        "<a href=\"https://colab.research.google.com/github/niyaudinoor/HackathonNAAN/blob/main/pH_Features.ipynb\" target=\"_parent\"><img src=\"https://colab.research.google.com/assets/colab-badge.svg\" alt=\"Open In Colab\"/></a>"
      ]
    },
    {
      "cell_type": "markdown",
      "source": [
        "# Importing Libraries"
      ],
      "metadata": {
        "id": "2YQ9TAHlgwSn"
      }
    },
    {
      "cell_type": "code",
      "execution_count": null,
      "metadata": {
        "id": "ap2--thogs0a"
      },
      "outputs": [],
      "source": [
        "# Data manipulation and analysis\n",
        "import pandas as pd\n",
        "import numpy as np\n",
        "from collections import Counter\n",
        "\n",
        "# Visualization\n",
        "import matplotlib.pyplot as plt\n",
        "import graphviz\n",
        "from IPython.display import display, HTML\n",
        "\n",
        "# Scikit-learn: Model selection and evaluation\n",
        "from sklearn.model_selection import train_test_split\n",
        "\n",
        "# Scikit-learn: Regression models\n",
        "from sklearn.ensemble import RandomForestRegressor\n",
        "\n",
        "# Scikit-learn: Metrics for evaluation\n",
        "from sklearn.metrics import accuracy_score, classification_report, confusion_matrix\n",
        "from sklearn.metrics import mean_squared_error, r2_score\n",
        "\n",
        "# Scikit-learn: Tree visualization\n",
        "from sklearn.tree import export_graphviz\n",
        "from sklearn import tree"
      ]
    },
    {
      "cell_type": "markdown",
      "source": [
        "# 2. Loading the Data into a Pandas DataFrame"
      ],
      "metadata": {
        "id": "FQI82urahE8R"
      }
    },
    {
      "cell_type": "markdown",
      "source": [
        "Code Block 2A"
      ],
      "metadata": {
        "id": "y9tzDDn1fhC_"
      }
    },
    {
      "cell_type": "code",
      "source": [
        "from google.colab import drive\n",
        "\n",
        "# Mount Google Drive\n",
        "drive.mount('/content/drive', force_remount=True)"
      ],
      "metadata": {
        "id": "t-Q3Z4Ybfj2b",
        "colab": {
          "base_uri": "https://localhost:8080/"
        },
        "outputId": "1e94fece-fcdc-4f88-a9bb-c425c5baf4aa"
      },
      "execution_count": null,
      "outputs": [
        {
          "output_type": "stream",
          "name": "stdout",
          "text": [
            "Mounted at /content/drive\n"
          ]
        }
      ]
    },
    {
      "cell_type": "markdown",
      "source": [
        "# 3. Load the CSV File"
      ],
      "metadata": {
        "id": "wUfnu0wvna-r"
      }
    },
    {
      "cell_type": "markdown",
      "source": [
        "Code Block 3A"
      ],
      "metadata": {
        "id": "jDwzVzZrng_0"
      }
    },
    {
      "cell_type": "code",
      "source": [
        "# Define the path to the CSV file containing water quality data\n",
        "csv_path = \"/content/drive/MyDrive/6. Colab Notebooks/2. Water Quality/PH_Features - Final.csv\"\n",
        "\n",
        "# Read the CSV file into a DataFrame using pandas\n",
        "df = pd.read_csv(csv_path)\n",
        "\n",
        "df.head()"
      ],
      "metadata": {
        "colab": {
          "base_uri": "https://localhost:8080/",
          "height": 310
        },
        "id": "NDKrXUUBiN2F",
        "outputId": "67ac0319-9aa9-4b43-b97d-913d8d952deb"
      },
      "execution_count": null,
      "outputs": [
        {
          "output_type": "execute_result",
          "data": {
            "text/plain": [
              "         Date  Average Temperature C  Average pH  \\\n",
              "0  2024-05-01                   19.8         8.3   \n",
              "1  2024-05-02                   20.0         8.3   \n",
              "2  2024-05-03                   20.9         8.3   \n",
              "3  2024-05-04                   19.7         8.1   \n",
              "4  2024-05-05                   18.7         8.1   \n",
              "\n",
              "   Average Specific Conductance μS/cm  Average Turbidity FNU  \\\n",
              "0                              1185.3                   39.7   \n",
              "1                              1007.0                   43.1   \n",
              "2                               864.5                   41.4   \n",
              "3                               831.7                   37.6   \n",
              "4                               825.8                   33.8   \n",
              "\n",
              "   Average Dissolved Oxygen mg/l  Average pH + 1 day  Average pH + 1 week  \\\n",
              "0                            9.9                 8.3                  8.1   \n",
              "1                            9.8                 8.3                  8.2   \n",
              "2                            9.7                 8.1                  8.1   \n",
              "3                            8.7                 8.1                  8.1   \n",
              "4                            9.0                 8.1                  8.1   \n",
              "\n",
              "   Average pH + 4 weeks  \n",
              "0                   7.7  \n",
              "1                   7.7  \n",
              "2                   7.7  \n",
              "3                   7.7  \n",
              "4                   7.6  "
            ],
            "text/html": [
              "\n",
              "  <div id=\"df-26333f8c-88a2-469f-a2a2-55a1e8e591cf\" class=\"colab-df-container\">\n",
              "    <div>\n",
              "<style scoped>\n",
              "    .dataframe tbody tr th:only-of-type {\n",
              "        vertical-align: middle;\n",
              "    }\n",
              "\n",
              "    .dataframe tbody tr th {\n",
              "        vertical-align: top;\n",
              "    }\n",
              "\n",
              "    .dataframe thead th {\n",
              "        text-align: right;\n",
              "    }\n",
              "</style>\n",
              "<table border=\"1\" class=\"dataframe\">\n",
              "  <thead>\n",
              "    <tr style=\"text-align: right;\">\n",
              "      <th></th>\n",
              "      <th>Date</th>\n",
              "      <th>Average Temperature C</th>\n",
              "      <th>Average pH</th>\n",
              "      <th>Average Specific Conductance μS/cm</th>\n",
              "      <th>Average Turbidity FNU</th>\n",
              "      <th>Average Dissolved Oxygen mg/l</th>\n",
              "      <th>Average pH + 1 day</th>\n",
              "      <th>Average pH + 1 week</th>\n",
              "      <th>Average pH + 4 weeks</th>\n",
              "    </tr>\n",
              "  </thead>\n",
              "  <tbody>\n",
              "    <tr>\n",
              "      <th>0</th>\n",
              "      <td>2024-05-01</td>\n",
              "      <td>19.8</td>\n",
              "      <td>8.3</td>\n",
              "      <td>1185.3</td>\n",
              "      <td>39.7</td>\n",
              "      <td>9.9</td>\n",
              "      <td>8.3</td>\n",
              "      <td>8.1</td>\n",
              "      <td>7.7</td>\n",
              "    </tr>\n",
              "    <tr>\n",
              "      <th>1</th>\n",
              "      <td>2024-05-02</td>\n",
              "      <td>20.0</td>\n",
              "      <td>8.3</td>\n",
              "      <td>1007.0</td>\n",
              "      <td>43.1</td>\n",
              "      <td>9.8</td>\n",
              "      <td>8.3</td>\n",
              "      <td>8.2</td>\n",
              "      <td>7.7</td>\n",
              "    </tr>\n",
              "    <tr>\n",
              "      <th>2</th>\n",
              "      <td>2024-05-03</td>\n",
              "      <td>20.9</td>\n",
              "      <td>8.3</td>\n",
              "      <td>864.5</td>\n",
              "      <td>41.4</td>\n",
              "      <td>9.7</td>\n",
              "      <td>8.1</td>\n",
              "      <td>8.1</td>\n",
              "      <td>7.7</td>\n",
              "    </tr>\n",
              "    <tr>\n",
              "      <th>3</th>\n",
              "      <td>2024-05-04</td>\n",
              "      <td>19.7</td>\n",
              "      <td>8.1</td>\n",
              "      <td>831.7</td>\n",
              "      <td>37.6</td>\n",
              "      <td>8.7</td>\n",
              "      <td>8.1</td>\n",
              "      <td>8.1</td>\n",
              "      <td>7.7</td>\n",
              "    </tr>\n",
              "    <tr>\n",
              "      <th>4</th>\n",
              "      <td>2024-05-05</td>\n",
              "      <td>18.7</td>\n",
              "      <td>8.1</td>\n",
              "      <td>825.8</td>\n",
              "      <td>33.8</td>\n",
              "      <td>9.0</td>\n",
              "      <td>8.1</td>\n",
              "      <td>8.1</td>\n",
              "      <td>7.6</td>\n",
              "    </tr>\n",
              "  </tbody>\n",
              "</table>\n",
              "</div>\n",
              "    <div class=\"colab-df-buttons\">\n",
              "\n",
              "  <div class=\"colab-df-container\">\n",
              "    <button class=\"colab-df-convert\" onclick=\"convertToInteractive('df-26333f8c-88a2-469f-a2a2-55a1e8e591cf')\"\n",
              "            title=\"Convert this dataframe to an interactive table.\"\n",
              "            style=\"display:none;\">\n",
              "\n",
              "  <svg xmlns=\"http://www.w3.org/2000/svg\" height=\"24px\" viewBox=\"0 -960 960 960\">\n",
              "    <path d=\"M120-120v-720h720v720H120Zm60-500h600v-160H180v160Zm220 220h160v-160H400v160Zm0 220h160v-160H400v160ZM180-400h160v-160H180v160Zm440 0h160v-160H620v160ZM180-180h160v-160H180v160Zm440 0h160v-160H620v160Z\"/>\n",
              "  </svg>\n",
              "    </button>\n",
              "\n",
              "  <style>\n",
              "    .colab-df-container {\n",
              "      display:flex;\n",
              "      gap: 12px;\n",
              "    }\n",
              "\n",
              "    .colab-df-convert {\n",
              "      background-color: #E8F0FE;\n",
              "      border: none;\n",
              "      border-radius: 50%;\n",
              "      cursor: pointer;\n",
              "      display: none;\n",
              "      fill: #1967D2;\n",
              "      height: 32px;\n",
              "      padding: 0 0 0 0;\n",
              "      width: 32px;\n",
              "    }\n",
              "\n",
              "    .colab-df-convert:hover {\n",
              "      background-color: #E2EBFA;\n",
              "      box-shadow: 0px 1px 2px rgba(60, 64, 67, 0.3), 0px 1px 3px 1px rgba(60, 64, 67, 0.15);\n",
              "      fill: #174EA6;\n",
              "    }\n",
              "\n",
              "    .colab-df-buttons div {\n",
              "      margin-bottom: 4px;\n",
              "    }\n",
              "\n",
              "    [theme=dark] .colab-df-convert {\n",
              "      background-color: #3B4455;\n",
              "      fill: #D2E3FC;\n",
              "    }\n",
              "\n",
              "    [theme=dark] .colab-df-convert:hover {\n",
              "      background-color: #434B5C;\n",
              "      box-shadow: 0px 1px 3px 1px rgba(0, 0, 0, 0.15);\n",
              "      filter: drop-shadow(0px 1px 2px rgba(0, 0, 0, 0.3));\n",
              "      fill: #FFFFFF;\n",
              "    }\n",
              "  </style>\n",
              "\n",
              "    <script>\n",
              "      const buttonEl =\n",
              "        document.querySelector('#df-26333f8c-88a2-469f-a2a2-55a1e8e591cf button.colab-df-convert');\n",
              "      buttonEl.style.display =\n",
              "        google.colab.kernel.accessAllowed ? 'block' : 'none';\n",
              "\n",
              "      async function convertToInteractive(key) {\n",
              "        const element = document.querySelector('#df-26333f8c-88a2-469f-a2a2-55a1e8e591cf');\n",
              "        const dataTable =\n",
              "          await google.colab.kernel.invokeFunction('convertToInteractive',\n",
              "                                                    [key], {});\n",
              "        if (!dataTable) return;\n",
              "\n",
              "        const docLinkHtml = 'Like what you see? Visit the ' +\n",
              "          '<a target=\"_blank\" href=https://colab.research.google.com/notebooks/data_table.ipynb>data table notebook</a>'\n",
              "          + ' to learn more about interactive tables.';\n",
              "        element.innerHTML = '';\n",
              "        dataTable['output_type'] = 'display_data';\n",
              "        await google.colab.output.renderOutput(dataTable, element);\n",
              "        const docLink = document.createElement('div');\n",
              "        docLink.innerHTML = docLinkHtml;\n",
              "        element.appendChild(docLink);\n",
              "      }\n",
              "    </script>\n",
              "  </div>\n",
              "\n",
              "\n",
              "<div id=\"df-6897fe77-8dc6-4953-8170-d872bcb71cf3\">\n",
              "  <button class=\"colab-df-quickchart\" onclick=\"quickchart('df-6897fe77-8dc6-4953-8170-d872bcb71cf3')\"\n",
              "            title=\"Suggest charts\"\n",
              "            style=\"display:none;\">\n",
              "\n",
              "<svg xmlns=\"http://www.w3.org/2000/svg\" height=\"24px\"viewBox=\"0 0 24 24\"\n",
              "     width=\"24px\">\n",
              "    <g>\n",
              "        <path d=\"M19 3H5c-1.1 0-2 .9-2 2v14c0 1.1.9 2 2 2h14c1.1 0 2-.9 2-2V5c0-1.1-.9-2-2-2zM9 17H7v-7h2v7zm4 0h-2V7h2v10zm4 0h-2v-4h2v4z\"/>\n",
              "    </g>\n",
              "</svg>\n",
              "  </button>\n",
              "\n",
              "<style>\n",
              "  .colab-df-quickchart {\n",
              "      --bg-color: #E8F0FE;\n",
              "      --fill-color: #1967D2;\n",
              "      --hover-bg-color: #E2EBFA;\n",
              "      --hover-fill-color: #174EA6;\n",
              "      --disabled-fill-color: #AAA;\n",
              "      --disabled-bg-color: #DDD;\n",
              "  }\n",
              "\n",
              "  [theme=dark] .colab-df-quickchart {\n",
              "      --bg-color: #3B4455;\n",
              "      --fill-color: #D2E3FC;\n",
              "      --hover-bg-color: #434B5C;\n",
              "      --hover-fill-color: #FFFFFF;\n",
              "      --disabled-bg-color: #3B4455;\n",
              "      --disabled-fill-color: #666;\n",
              "  }\n",
              "\n",
              "  .colab-df-quickchart {\n",
              "    background-color: var(--bg-color);\n",
              "    border: none;\n",
              "    border-radius: 50%;\n",
              "    cursor: pointer;\n",
              "    display: none;\n",
              "    fill: var(--fill-color);\n",
              "    height: 32px;\n",
              "    padding: 0;\n",
              "    width: 32px;\n",
              "  }\n",
              "\n",
              "  .colab-df-quickchart:hover {\n",
              "    background-color: var(--hover-bg-color);\n",
              "    box-shadow: 0 1px 2px rgba(60, 64, 67, 0.3), 0 1px 3px 1px rgba(60, 64, 67, 0.15);\n",
              "    fill: var(--button-hover-fill-color);\n",
              "  }\n",
              "\n",
              "  .colab-df-quickchart-complete:disabled,\n",
              "  .colab-df-quickchart-complete:disabled:hover {\n",
              "    background-color: var(--disabled-bg-color);\n",
              "    fill: var(--disabled-fill-color);\n",
              "    box-shadow: none;\n",
              "  }\n",
              "\n",
              "  .colab-df-spinner {\n",
              "    border: 2px solid var(--fill-color);\n",
              "    border-color: transparent;\n",
              "    border-bottom-color: var(--fill-color);\n",
              "    animation:\n",
              "      spin 1s steps(1) infinite;\n",
              "  }\n",
              "\n",
              "  @keyframes spin {\n",
              "    0% {\n",
              "      border-color: transparent;\n",
              "      border-bottom-color: var(--fill-color);\n",
              "      border-left-color: var(--fill-color);\n",
              "    }\n",
              "    20% {\n",
              "      border-color: transparent;\n",
              "      border-left-color: var(--fill-color);\n",
              "      border-top-color: var(--fill-color);\n",
              "    }\n",
              "    30% {\n",
              "      border-color: transparent;\n",
              "      border-left-color: var(--fill-color);\n",
              "      border-top-color: var(--fill-color);\n",
              "      border-right-color: var(--fill-color);\n",
              "    }\n",
              "    40% {\n",
              "      border-color: transparent;\n",
              "      border-right-color: var(--fill-color);\n",
              "      border-top-color: var(--fill-color);\n",
              "    }\n",
              "    60% {\n",
              "      border-color: transparent;\n",
              "      border-right-color: var(--fill-color);\n",
              "    }\n",
              "    80% {\n",
              "      border-color: transparent;\n",
              "      border-right-color: var(--fill-color);\n",
              "      border-bottom-color: var(--fill-color);\n",
              "    }\n",
              "    90% {\n",
              "      border-color: transparent;\n",
              "      border-bottom-color: var(--fill-color);\n",
              "    }\n",
              "  }\n",
              "</style>\n",
              "\n",
              "  <script>\n",
              "    async function quickchart(key) {\n",
              "      const quickchartButtonEl =\n",
              "        document.querySelector('#' + key + ' button');\n",
              "      quickchartButtonEl.disabled = true;  // To prevent multiple clicks.\n",
              "      quickchartButtonEl.classList.add('colab-df-spinner');\n",
              "      try {\n",
              "        const charts = await google.colab.kernel.invokeFunction(\n",
              "            'suggestCharts', [key], {});\n",
              "      } catch (error) {\n",
              "        console.error('Error during call to suggestCharts:', error);\n",
              "      }\n",
              "      quickchartButtonEl.classList.remove('colab-df-spinner');\n",
              "      quickchartButtonEl.classList.add('colab-df-quickchart-complete');\n",
              "    }\n",
              "    (() => {\n",
              "      let quickchartButtonEl =\n",
              "        document.querySelector('#df-6897fe77-8dc6-4953-8170-d872bcb71cf3 button');\n",
              "      quickchartButtonEl.style.display =\n",
              "        google.colab.kernel.accessAllowed ? 'block' : 'none';\n",
              "    })();\n",
              "  </script>\n",
              "</div>\n",
              "\n",
              "    </div>\n",
              "  </div>\n"
            ],
            "application/vnd.google.colaboratory.intrinsic+json": {
              "type": "dataframe",
              "variable_name": "df",
              "summary": "{\n  \"name\": \"df\",\n  \"rows\": 92,\n  \"fields\": [\n    {\n      \"column\": \"Date\",\n      \"properties\": {\n        \"dtype\": \"object\",\n        \"num_unique_values\": 92,\n        \"samples\": [\n          \"2024-06-10\",\n          \"2024-05-23\",\n          \"2024-06-25\"\n        ],\n        \"semantic_type\": \"\",\n        \"description\": \"\"\n      }\n    },\n    {\n      \"column\": \"Average Temperature C\",\n      \"properties\": {\n        \"dtype\": \"number\",\n        \"std\": 3.6140398506442764,\n        \"min\": 18.7,\n        \"max\": 31.1,\n        \"num_unique_values\": 69,\n        \"samples\": [\n          23.6,\n          19.8,\n          27.6\n        ],\n        \"semantic_type\": \"\",\n        \"description\": \"\"\n      }\n    },\n    {\n      \"column\": \"Average pH\",\n      \"properties\": {\n        \"dtype\": \"number\",\n        \"std\": 0.2437954387554349,\n        \"min\": 7.3,\n        \"max\": 8.3,\n        \"num_unique_values\": 11,\n        \"samples\": [\n          7.7,\n          8.3,\n          7.4\n        ],\n        \"semantic_type\": \"\",\n        \"description\": \"\"\n      }\n    },\n    {\n      \"column\": \"Average Specific Conductance \\u03bcS/cm\",\n      \"properties\": {\n        \"dtype\": \"number\",\n        \"std\": 267.60898469535715,\n        \"min\": 362.0,\n        \"max\": 1432.4,\n        \"num_unique_values\": 92,\n        \"samples\": [\n          1304.3,\n          666.4,\n          986.0\n        ],\n        \"semantic_type\": \"\",\n        \"description\": \"\"\n      }\n    },\n    {\n      \"column\": \"Average Turbidity FNU\",\n      \"properties\": {\n        \"dtype\": \"number\",\n        \"std\": 15.113178531101521,\n        \"min\": 13.0,\n        \"max\": 104.9,\n        \"num_unique_values\": 85,\n        \"samples\": [\n          19.9,\n          39.7,\n          37.0\n        ],\n        \"semantic_type\": \"\",\n        \"description\": \"\"\n      }\n    },\n    {\n      \"column\": \"Average Dissolved Oxygen mg/l\",\n      \"properties\": {\n        \"dtype\": \"number\",\n        \"std\": 1.843676969611326,\n        \"min\": 2.9,\n        \"max\": 9.9,\n        \"num_unique_values\": 47,\n        \"samples\": [\n          6.2,\n          4.0,\n          6.8\n        ],\n        \"semantic_type\": \"\",\n        \"description\": \"\"\n      }\n    },\n    {\n      \"column\": \"Average pH + 1 day\",\n      \"properties\": {\n        \"dtype\": \"number\",\n        \"std\": 0.23955485074813496,\n        \"min\": 7.3,\n        \"max\": 8.3,\n        \"num_unique_values\": 11,\n        \"samples\": [\n          7.7,\n          8.3,\n          7.4\n        ],\n        \"semantic_type\": \"\",\n        \"description\": \"\"\n      }\n    },\n    {\n      \"column\": \"Average pH + 1 week\",\n      \"properties\": {\n        \"dtype\": \"number\",\n        \"std\": 0.219008319594486,\n        \"min\": 7.3,\n        \"max\": 8.2,\n        \"num_unique_values\": 10,\n        \"samples\": [\n          7.4,\n          8.2,\n          7.6\n        ],\n        \"semantic_type\": \"\",\n        \"description\": \"\"\n      }\n    },\n    {\n      \"column\": \"Average pH + 4 weeks\",\n      \"properties\": {\n        \"dtype\": \"number\",\n        \"std\": 0.20395925789722702,\n        \"min\": 7.3,\n        \"max\": 8.2,\n        \"num_unique_values\": 10,\n        \"samples\": [\n          8.1,\n          7.6,\n          7.4\n        ],\n        \"semantic_type\": \"\",\n        \"description\": \"\"\n      }\n    }\n  ]\n}"
            }
          },
          "metadata": {},
          "execution_count": 13
        }
      ]
    },
    {
      "cell_type": "markdown",
      "source": [
        "# 4. Preprocessing the Dataset"
      ],
      "metadata": {
        "id": "3ryP5LAfhmbn"
      }
    },
    {
      "cell_type": "markdown",
      "source": [
        "## 4.1 Separating the Dataset into Inputs and Target"
      ],
      "metadata": {
        "id": "MGapT96RhqX1"
      }
    },
    {
      "cell_type": "markdown",
      "source": [
        "Code Block 4A"
      ],
      "metadata": {
        "id": "4EjFdDKld-XB"
      }
    },
    {
      "cell_type": "code",
      "source": [
        "# Drop the 'Date' column and the target columns ('Average DO (1 day)', 'Average DO (1 week)', 'Average DO (4 weeks)')\n",
        "# from the DataFrame to create the input features DataFrame\n",
        "inputs = df.drop(['Date', 'Average pH + 1 day', 'Average pH + 1 week', 'Average pH + 4 weeks'], axis='columns')\n",
        "\n",
        "# Select the target columns ('Average DO (1 day)', 'Average DO (1 week)', 'Average DO (4 weeks)')\n",
        "# from the DataFrame to create the target DataFrame\n",
        "target = df[['Average pH + 1 day', 'Average pH + 1 week', 'Average pH + 4 weeks']]"
      ],
      "metadata": {
        "collapsed": true,
        "id": "5ZitDZEaCEI-"
      },
      "execution_count": null,
      "outputs": []
    },
    {
      "cell_type": "markdown",
      "source": [
        "Code Block 4B"
      ],
      "metadata": {
        "id": "V8g0TwTqeAAN"
      }
    },
    {
      "cell_type": "code",
      "source": [
        "# Convert the inputs DataFrame to a NumPy array with float data type\n",
        "inputs = np.array(inputs, dtype=float)\n",
        "\n",
        "# Convert the target DataFrame to a NumPy array with float data type\n",
        "target = np.array(target, dtype=float)"
      ],
      "metadata": {
        "id": "MvklElsGhHzA"
      },
      "execution_count": null,
      "outputs": []
    },
    {
      "cell_type": "markdown",
      "source": [
        "## 4.2 Splitting the Training and Testing Data"
      ],
      "metadata": {
        "id": "WsKm__jPiQau"
      }
    },
    {
      "cell_type": "markdown",
      "source": [
        "Code Block 4C"
      ],
      "metadata": {
        "id": "OxYFRqxieDks"
      }
    },
    {
      "cell_type": "code",
      "source": [
        "# Split the data into train and test sets (80% train, 20% test)\n",
        "X_train, X_test, y_train, y_test = train_test_split(inputs, target, test_size=0.2, random_state=42)\n",
        "\n",
        "print(\"X_train shape:\", X_train.shape)\n",
        "print(\"X_test shape:\", X_test.shape)\n",
        "print(\"y_train shape:\", y_train.shape)\n",
        "print(\"y_test shape:\", y_test.shape)"
      ],
      "metadata": {
        "id": "pm3iyBSRiTbf",
        "colab": {
          "base_uri": "https://localhost:8080/"
        },
        "outputId": "5d5cbb94-68e8-4207-cf0b-03ab5c826098"
      },
      "execution_count": null,
      "outputs": [
        {
          "output_type": "stream",
          "name": "stdout",
          "text": [
            "X_train shape: (73, 5)\n",
            "X_test shape: (19, 5)\n",
            "y_train shape: (73, 3)\n",
            "y_test shape: (19, 3)\n"
          ]
        }
      ]
    },
    {
      "cell_type": "markdown",
      "source": [
        "# 5. Training the Model\n"
      ],
      "metadata": {
        "id": "gCGvez2eiw_d"
      }
    },
    {
      "cell_type": "markdown",
      "source": [
        "Code Block 5A"
      ],
      "metadata": {
        "id": "IBiYoluDersc"
      }
    },
    {
      "cell_type": "code",
      "source": [
        "# Initialize a RandomForestRegressor model from the scikit-learn library\n",
        "model = RandomForestRegressor()"
      ],
      "metadata": {
        "id": "TIWoibtAhslE"
      },
      "execution_count": null,
      "outputs": []
    },
    {
      "cell_type": "markdown",
      "source": [
        "Code Block 5B"
      ],
      "metadata": {
        "id": "jtCvOAKzetsr"
      }
    },
    {
      "cell_type": "code",
      "source": [
        "# Fitting the model to the training data (X_train) and corresponding labels (y_train)\n",
        "model.fit(X_train, y_train)"
      ],
      "metadata": {
        "id": "eOo6Z-pbh3Qj",
        "colab": {
          "base_uri": "https://localhost:8080/",
          "height": 80
        },
        "outputId": "eb46689e-6f7c-40dd-ef03-b3b6baed420b"
      },
      "execution_count": null,
      "outputs": [
        {
          "output_type": "execute_result",
          "data": {
            "text/plain": [
              "RandomForestRegressor()"
            ],
            "text/html": [
              "<style>#sk-container-id-1 {\n",
              "  /* Definition of color scheme common for light and dark mode */\n",
              "  --sklearn-color-text: #000;\n",
              "  --sklearn-color-text-muted: #666;\n",
              "  --sklearn-color-line: gray;\n",
              "  /* Definition of color scheme for unfitted estimators */\n",
              "  --sklearn-color-unfitted-level-0: #fff5e6;\n",
              "  --sklearn-color-unfitted-level-1: #f6e4d2;\n",
              "  --sklearn-color-unfitted-level-2: #ffe0b3;\n",
              "  --sklearn-color-unfitted-level-3: chocolate;\n",
              "  /* Definition of color scheme for fitted estimators */\n",
              "  --sklearn-color-fitted-level-0: #f0f8ff;\n",
              "  --sklearn-color-fitted-level-1: #d4ebff;\n",
              "  --sklearn-color-fitted-level-2: #b3dbfd;\n",
              "  --sklearn-color-fitted-level-3: cornflowerblue;\n",
              "\n",
              "  /* Specific color for light theme */\n",
              "  --sklearn-color-text-on-default-background: var(--sg-text-color, var(--theme-code-foreground, var(--jp-content-font-color1, black)));\n",
              "  --sklearn-color-background: var(--sg-background-color, var(--theme-background, var(--jp-layout-color0, white)));\n",
              "  --sklearn-color-border-box: var(--sg-text-color, var(--theme-code-foreground, var(--jp-content-font-color1, black)));\n",
              "  --sklearn-color-icon: #696969;\n",
              "\n",
              "  @media (prefers-color-scheme: dark) {\n",
              "    /* Redefinition of color scheme for dark theme */\n",
              "    --sklearn-color-text-on-default-background: var(--sg-text-color, var(--theme-code-foreground, var(--jp-content-font-color1, white)));\n",
              "    --sklearn-color-background: var(--sg-background-color, var(--theme-background, var(--jp-layout-color0, #111)));\n",
              "    --sklearn-color-border-box: var(--sg-text-color, var(--theme-code-foreground, var(--jp-content-font-color1, white)));\n",
              "    --sklearn-color-icon: #878787;\n",
              "  }\n",
              "}\n",
              "\n",
              "#sk-container-id-1 {\n",
              "  color: var(--sklearn-color-text);\n",
              "}\n",
              "\n",
              "#sk-container-id-1 pre {\n",
              "  padding: 0;\n",
              "}\n",
              "\n",
              "#sk-container-id-1 input.sk-hidden--visually {\n",
              "  border: 0;\n",
              "  clip: rect(1px 1px 1px 1px);\n",
              "  clip: rect(1px, 1px, 1px, 1px);\n",
              "  height: 1px;\n",
              "  margin: -1px;\n",
              "  overflow: hidden;\n",
              "  padding: 0;\n",
              "  position: absolute;\n",
              "  width: 1px;\n",
              "}\n",
              "\n",
              "#sk-container-id-1 div.sk-dashed-wrapped {\n",
              "  border: 1px dashed var(--sklearn-color-line);\n",
              "  margin: 0 0.4em 0.5em 0.4em;\n",
              "  box-sizing: border-box;\n",
              "  padding-bottom: 0.4em;\n",
              "  background-color: var(--sklearn-color-background);\n",
              "}\n",
              "\n",
              "#sk-container-id-1 div.sk-container {\n",
              "  /* jupyter's `normalize.less` sets `[hidden] { display: none; }`\n",
              "     but bootstrap.min.css set `[hidden] { display: none !important; }`\n",
              "     so we also need the `!important` here to be able to override the\n",
              "     default hidden behavior on the sphinx rendered scikit-learn.org.\n",
              "     See: https://github.com/scikit-learn/scikit-learn/issues/21755 */\n",
              "  display: inline-block !important;\n",
              "  position: relative;\n",
              "}\n",
              "\n",
              "#sk-container-id-1 div.sk-text-repr-fallback {\n",
              "  display: none;\n",
              "}\n",
              "\n",
              "div.sk-parallel-item,\n",
              "div.sk-serial,\n",
              "div.sk-item {\n",
              "  /* draw centered vertical line to link estimators */\n",
              "  background-image: linear-gradient(var(--sklearn-color-text-on-default-background), var(--sklearn-color-text-on-default-background));\n",
              "  background-size: 2px 100%;\n",
              "  background-repeat: no-repeat;\n",
              "  background-position: center center;\n",
              "}\n",
              "\n",
              "/* Parallel-specific style estimator block */\n",
              "\n",
              "#sk-container-id-1 div.sk-parallel-item::after {\n",
              "  content: \"\";\n",
              "  width: 100%;\n",
              "  border-bottom: 2px solid var(--sklearn-color-text-on-default-background);\n",
              "  flex-grow: 1;\n",
              "}\n",
              "\n",
              "#sk-container-id-1 div.sk-parallel {\n",
              "  display: flex;\n",
              "  align-items: stretch;\n",
              "  justify-content: center;\n",
              "  background-color: var(--sklearn-color-background);\n",
              "  position: relative;\n",
              "}\n",
              "\n",
              "#sk-container-id-1 div.sk-parallel-item {\n",
              "  display: flex;\n",
              "  flex-direction: column;\n",
              "}\n",
              "\n",
              "#sk-container-id-1 div.sk-parallel-item:first-child::after {\n",
              "  align-self: flex-end;\n",
              "  width: 50%;\n",
              "}\n",
              "\n",
              "#sk-container-id-1 div.sk-parallel-item:last-child::after {\n",
              "  align-self: flex-start;\n",
              "  width: 50%;\n",
              "}\n",
              "\n",
              "#sk-container-id-1 div.sk-parallel-item:only-child::after {\n",
              "  width: 0;\n",
              "}\n",
              "\n",
              "/* Serial-specific style estimator block */\n",
              "\n",
              "#sk-container-id-1 div.sk-serial {\n",
              "  display: flex;\n",
              "  flex-direction: column;\n",
              "  align-items: center;\n",
              "  background-color: var(--sklearn-color-background);\n",
              "  padding-right: 1em;\n",
              "  padding-left: 1em;\n",
              "}\n",
              "\n",
              "\n",
              "/* Toggleable style: style used for estimator/Pipeline/ColumnTransformer box that is\n",
              "clickable and can be expanded/collapsed.\n",
              "- Pipeline and ColumnTransformer use this feature and define the default style\n",
              "- Estimators will overwrite some part of the style using the `sk-estimator` class\n",
              "*/\n",
              "\n",
              "/* Pipeline and ColumnTransformer style (default) */\n",
              "\n",
              "#sk-container-id-1 div.sk-toggleable {\n",
              "  /* Default theme specific background. It is overwritten whether we have a\n",
              "  specific estimator or a Pipeline/ColumnTransformer */\n",
              "  background-color: var(--sklearn-color-background);\n",
              "}\n",
              "\n",
              "/* Toggleable label */\n",
              "#sk-container-id-1 label.sk-toggleable__label {\n",
              "  cursor: pointer;\n",
              "  display: flex;\n",
              "  width: 100%;\n",
              "  margin-bottom: 0;\n",
              "  padding: 0.5em;\n",
              "  box-sizing: border-box;\n",
              "  text-align: center;\n",
              "  align-items: start;\n",
              "  justify-content: space-between;\n",
              "  gap: 0.5em;\n",
              "}\n",
              "\n",
              "#sk-container-id-1 label.sk-toggleable__label .caption {\n",
              "  font-size: 0.6rem;\n",
              "  font-weight: lighter;\n",
              "  color: var(--sklearn-color-text-muted);\n",
              "}\n",
              "\n",
              "#sk-container-id-1 label.sk-toggleable__label-arrow:before {\n",
              "  /* Arrow on the left of the label */\n",
              "  content: \"▸\";\n",
              "  float: left;\n",
              "  margin-right: 0.25em;\n",
              "  color: var(--sklearn-color-icon);\n",
              "}\n",
              "\n",
              "#sk-container-id-1 label.sk-toggleable__label-arrow:hover:before {\n",
              "  color: var(--sklearn-color-text);\n",
              "}\n",
              "\n",
              "/* Toggleable content - dropdown */\n",
              "\n",
              "#sk-container-id-1 div.sk-toggleable__content {\n",
              "  max-height: 0;\n",
              "  max-width: 0;\n",
              "  overflow: hidden;\n",
              "  text-align: left;\n",
              "  /* unfitted */\n",
              "  background-color: var(--sklearn-color-unfitted-level-0);\n",
              "}\n",
              "\n",
              "#sk-container-id-1 div.sk-toggleable__content.fitted {\n",
              "  /* fitted */\n",
              "  background-color: var(--sklearn-color-fitted-level-0);\n",
              "}\n",
              "\n",
              "#sk-container-id-1 div.sk-toggleable__content pre {\n",
              "  margin: 0.2em;\n",
              "  border-radius: 0.25em;\n",
              "  color: var(--sklearn-color-text);\n",
              "  /* unfitted */\n",
              "  background-color: var(--sklearn-color-unfitted-level-0);\n",
              "}\n",
              "\n",
              "#sk-container-id-1 div.sk-toggleable__content.fitted pre {\n",
              "  /* unfitted */\n",
              "  background-color: var(--sklearn-color-fitted-level-0);\n",
              "}\n",
              "\n",
              "#sk-container-id-1 input.sk-toggleable__control:checked~div.sk-toggleable__content {\n",
              "  /* Expand drop-down */\n",
              "  max-height: 200px;\n",
              "  max-width: 100%;\n",
              "  overflow: auto;\n",
              "}\n",
              "\n",
              "#sk-container-id-1 input.sk-toggleable__control:checked~label.sk-toggleable__label-arrow:before {\n",
              "  content: \"▾\";\n",
              "}\n",
              "\n",
              "/* Pipeline/ColumnTransformer-specific style */\n",
              "\n",
              "#sk-container-id-1 div.sk-label input.sk-toggleable__control:checked~label.sk-toggleable__label {\n",
              "  color: var(--sklearn-color-text);\n",
              "  background-color: var(--sklearn-color-unfitted-level-2);\n",
              "}\n",
              "\n",
              "#sk-container-id-1 div.sk-label.fitted input.sk-toggleable__control:checked~label.sk-toggleable__label {\n",
              "  background-color: var(--sklearn-color-fitted-level-2);\n",
              "}\n",
              "\n",
              "/* Estimator-specific style */\n",
              "\n",
              "/* Colorize estimator box */\n",
              "#sk-container-id-1 div.sk-estimator input.sk-toggleable__control:checked~label.sk-toggleable__label {\n",
              "  /* unfitted */\n",
              "  background-color: var(--sklearn-color-unfitted-level-2);\n",
              "}\n",
              "\n",
              "#sk-container-id-1 div.sk-estimator.fitted input.sk-toggleable__control:checked~label.sk-toggleable__label {\n",
              "  /* fitted */\n",
              "  background-color: var(--sklearn-color-fitted-level-2);\n",
              "}\n",
              "\n",
              "#sk-container-id-1 div.sk-label label.sk-toggleable__label,\n",
              "#sk-container-id-1 div.sk-label label {\n",
              "  /* The background is the default theme color */\n",
              "  color: var(--sklearn-color-text-on-default-background);\n",
              "}\n",
              "\n",
              "/* On hover, darken the color of the background */\n",
              "#sk-container-id-1 div.sk-label:hover label.sk-toggleable__label {\n",
              "  color: var(--sklearn-color-text);\n",
              "  background-color: var(--sklearn-color-unfitted-level-2);\n",
              "}\n",
              "\n",
              "/* Label box, darken color on hover, fitted */\n",
              "#sk-container-id-1 div.sk-label.fitted:hover label.sk-toggleable__label.fitted {\n",
              "  color: var(--sklearn-color-text);\n",
              "  background-color: var(--sklearn-color-fitted-level-2);\n",
              "}\n",
              "\n",
              "/* Estimator label */\n",
              "\n",
              "#sk-container-id-1 div.sk-label label {\n",
              "  font-family: monospace;\n",
              "  font-weight: bold;\n",
              "  display: inline-block;\n",
              "  line-height: 1.2em;\n",
              "}\n",
              "\n",
              "#sk-container-id-1 div.sk-label-container {\n",
              "  text-align: center;\n",
              "}\n",
              "\n",
              "/* Estimator-specific */\n",
              "#sk-container-id-1 div.sk-estimator {\n",
              "  font-family: monospace;\n",
              "  border: 1px dotted var(--sklearn-color-border-box);\n",
              "  border-radius: 0.25em;\n",
              "  box-sizing: border-box;\n",
              "  margin-bottom: 0.5em;\n",
              "  /* unfitted */\n",
              "  background-color: var(--sklearn-color-unfitted-level-0);\n",
              "}\n",
              "\n",
              "#sk-container-id-1 div.sk-estimator.fitted {\n",
              "  /* fitted */\n",
              "  background-color: var(--sklearn-color-fitted-level-0);\n",
              "}\n",
              "\n",
              "/* on hover */\n",
              "#sk-container-id-1 div.sk-estimator:hover {\n",
              "  /* unfitted */\n",
              "  background-color: var(--sklearn-color-unfitted-level-2);\n",
              "}\n",
              "\n",
              "#sk-container-id-1 div.sk-estimator.fitted:hover {\n",
              "  /* fitted */\n",
              "  background-color: var(--sklearn-color-fitted-level-2);\n",
              "}\n",
              "\n",
              "/* Specification for estimator info (e.g. \"i\" and \"?\") */\n",
              "\n",
              "/* Common style for \"i\" and \"?\" */\n",
              "\n",
              ".sk-estimator-doc-link,\n",
              "a:link.sk-estimator-doc-link,\n",
              "a:visited.sk-estimator-doc-link {\n",
              "  float: right;\n",
              "  font-size: smaller;\n",
              "  line-height: 1em;\n",
              "  font-family: monospace;\n",
              "  background-color: var(--sklearn-color-background);\n",
              "  border-radius: 1em;\n",
              "  height: 1em;\n",
              "  width: 1em;\n",
              "  text-decoration: none !important;\n",
              "  margin-left: 0.5em;\n",
              "  text-align: center;\n",
              "  /* unfitted */\n",
              "  border: var(--sklearn-color-unfitted-level-1) 1pt solid;\n",
              "  color: var(--sklearn-color-unfitted-level-1);\n",
              "}\n",
              "\n",
              ".sk-estimator-doc-link.fitted,\n",
              "a:link.sk-estimator-doc-link.fitted,\n",
              "a:visited.sk-estimator-doc-link.fitted {\n",
              "  /* fitted */\n",
              "  border: var(--sklearn-color-fitted-level-1) 1pt solid;\n",
              "  color: var(--sklearn-color-fitted-level-1);\n",
              "}\n",
              "\n",
              "/* On hover */\n",
              "div.sk-estimator:hover .sk-estimator-doc-link:hover,\n",
              ".sk-estimator-doc-link:hover,\n",
              "div.sk-label-container:hover .sk-estimator-doc-link:hover,\n",
              ".sk-estimator-doc-link:hover {\n",
              "  /* unfitted */\n",
              "  background-color: var(--sklearn-color-unfitted-level-3);\n",
              "  color: var(--sklearn-color-background);\n",
              "  text-decoration: none;\n",
              "}\n",
              "\n",
              "div.sk-estimator.fitted:hover .sk-estimator-doc-link.fitted:hover,\n",
              ".sk-estimator-doc-link.fitted:hover,\n",
              "div.sk-label-container:hover .sk-estimator-doc-link.fitted:hover,\n",
              ".sk-estimator-doc-link.fitted:hover {\n",
              "  /* fitted */\n",
              "  background-color: var(--sklearn-color-fitted-level-3);\n",
              "  color: var(--sklearn-color-background);\n",
              "  text-decoration: none;\n",
              "}\n",
              "\n",
              "/* Span, style for the box shown on hovering the info icon */\n",
              ".sk-estimator-doc-link span {\n",
              "  display: none;\n",
              "  z-index: 9999;\n",
              "  position: relative;\n",
              "  font-weight: normal;\n",
              "  right: .2ex;\n",
              "  padding: .5ex;\n",
              "  margin: .5ex;\n",
              "  width: min-content;\n",
              "  min-width: 20ex;\n",
              "  max-width: 50ex;\n",
              "  color: var(--sklearn-color-text);\n",
              "  box-shadow: 2pt 2pt 4pt #999;\n",
              "  /* unfitted */\n",
              "  background: var(--sklearn-color-unfitted-level-0);\n",
              "  border: .5pt solid var(--sklearn-color-unfitted-level-3);\n",
              "}\n",
              "\n",
              ".sk-estimator-doc-link.fitted span {\n",
              "  /* fitted */\n",
              "  background: var(--sklearn-color-fitted-level-0);\n",
              "  border: var(--sklearn-color-fitted-level-3);\n",
              "}\n",
              "\n",
              ".sk-estimator-doc-link:hover span {\n",
              "  display: block;\n",
              "}\n",
              "\n",
              "/* \"?\"-specific style due to the `<a>` HTML tag */\n",
              "\n",
              "#sk-container-id-1 a.estimator_doc_link {\n",
              "  float: right;\n",
              "  font-size: 1rem;\n",
              "  line-height: 1em;\n",
              "  font-family: monospace;\n",
              "  background-color: var(--sklearn-color-background);\n",
              "  border-radius: 1rem;\n",
              "  height: 1rem;\n",
              "  width: 1rem;\n",
              "  text-decoration: none;\n",
              "  /* unfitted */\n",
              "  color: var(--sklearn-color-unfitted-level-1);\n",
              "  border: var(--sklearn-color-unfitted-level-1) 1pt solid;\n",
              "}\n",
              "\n",
              "#sk-container-id-1 a.estimator_doc_link.fitted {\n",
              "  /* fitted */\n",
              "  border: var(--sklearn-color-fitted-level-1) 1pt solid;\n",
              "  color: var(--sklearn-color-fitted-level-1);\n",
              "}\n",
              "\n",
              "/* On hover */\n",
              "#sk-container-id-1 a.estimator_doc_link:hover {\n",
              "  /* unfitted */\n",
              "  background-color: var(--sklearn-color-unfitted-level-3);\n",
              "  color: var(--sklearn-color-background);\n",
              "  text-decoration: none;\n",
              "}\n",
              "\n",
              "#sk-container-id-1 a.estimator_doc_link.fitted:hover {\n",
              "  /* fitted */\n",
              "  background-color: var(--sklearn-color-fitted-level-3);\n",
              "}\n",
              "</style><div id=\"sk-container-id-1\" class=\"sk-top-container\"><div class=\"sk-text-repr-fallback\"><pre>RandomForestRegressor()</pre><b>In a Jupyter environment, please rerun this cell to show the HTML representation or trust the notebook. <br />On GitHub, the HTML representation is unable to render, please try loading this page with nbviewer.org.</b></div><div class=\"sk-container\" hidden><div class=\"sk-item\"><div class=\"sk-estimator fitted sk-toggleable\"><input class=\"sk-toggleable__control sk-hidden--visually\" id=\"sk-estimator-id-1\" type=\"checkbox\" checked><label for=\"sk-estimator-id-1\" class=\"sk-toggleable__label fitted sk-toggleable__label-arrow\"><div><div>RandomForestRegressor</div></div><div><a class=\"sk-estimator-doc-link fitted\" rel=\"noreferrer\" target=\"_blank\" href=\"https://scikit-learn.org/1.6/modules/generated/sklearn.ensemble.RandomForestRegressor.html\">?<span>Documentation for RandomForestRegressor</span></a><span class=\"sk-estimator-doc-link fitted\">i<span>Fitted</span></span></div></label><div class=\"sk-toggleable__content fitted\"><pre>RandomForestRegressor()</pre></div> </div></div></div></div>"
            ]
          },
          "metadata": {},
          "execution_count": 18
        }
      ]
    },
    {
      "cell_type": "markdown",
      "source": [
        "Code Block 5C"
      ],
      "metadata": {
        "id": "QvMZZIJHew5K"
      }
    },
    {
      "cell_type": "code",
      "source": [
        "# Using the trained model to make predictions on the test data (X_test)\n",
        "y_pred = model.predict(X_test)\n",
        "\n",
        "# Rounding to 1 decimal place\n",
        "rounded_y_pred = np.round(y_pred, 2)\n",
        "\n",
        "# Printing the predicted labels\n",
        "print(rounded_y_pred)"
      ],
      "metadata": {
        "id": "_qKQn5IFh84K",
        "colab": {
          "base_uri": "https://localhost:8080/"
        },
        "outputId": "d400c1ec-7a3c-44eb-d9bc-ed56a26e54a7"
      },
      "execution_count": null,
      "outputs": [
        {
          "output_type": "stream",
          "name": "stdout",
          "text": [
            "[[7.74 7.66 7.59]\n",
            " [7.61 7.64 7.69]\n",
            " [7.6  7.54 7.62]\n",
            " [7.4  7.61 7.96]\n",
            " [8.21 8.15 7.7 ]\n",
            " [7.68 7.62 7.61]\n",
            " [7.77 7.72 7.6 ]\n",
            " [7.53 7.53 8.  ]\n",
            " [8.09 7.9  7.77]\n",
            " [7.74 7.6  7.55]\n",
            " [7.54 8.06 7.94]\n",
            " [7.68 7.67 7.59]\n",
            " [7.76 7.66 7.59]\n",
            " [7.6  7.42 8.05]\n",
            " [8.05 7.65 7.75]\n",
            " [8.11 8.09 7.64]\n",
            " [7.83 7.62 7.76]\n",
            " [7.7  7.62 7.61]\n",
            " [7.65 7.62 7.63]]\n"
          ]
        }
      ]
    },
    {
      "cell_type": "code",
      "source": [
        "# Using the trained model to make predictions on the test data (X_test)\n",
        "y_pred = model.predict(X_test)\n",
        "\n",
        "# Rounding to 1 decimal place\n",
        "rounded_y_pred = np.round(y_pred, 2)\n",
        "\n",
        "# Printing the predicted labels\n",
        "print(rounded_y_pred)"
      ],
      "metadata": {
        "colab": {
          "base_uri": "https://localhost:8080/"
        },
        "id": "aVJQyhuDQ7aE",
        "outputId": "0579f03f-dee8-4f55-88d1-cfe752095b92"
      },
      "execution_count": null,
      "outputs": [
        {
          "output_type": "stream",
          "name": "stdout",
          "text": [
            "[[7.74 7.66 7.59]\n",
            " [7.61 7.64 7.69]\n",
            " [7.6  7.54 7.62]\n",
            " [7.4  7.61 7.96]\n",
            " [8.21 8.15 7.7 ]\n",
            " [7.68 7.62 7.61]\n",
            " [7.77 7.72 7.6 ]\n",
            " [7.53 7.53 8.  ]\n",
            " [8.09 7.9  7.77]\n",
            " [7.74 7.6  7.55]\n",
            " [7.54 8.06 7.94]\n",
            " [7.68 7.67 7.59]\n",
            " [7.76 7.66 7.59]\n",
            " [7.6  7.42 8.05]\n",
            " [8.05 7.65 7.75]\n",
            " [8.11 8.09 7.64]\n",
            " [7.83 7.62 7.76]\n",
            " [7.7  7.62 7.61]\n",
            " [7.65 7.62 7.63]]\n"
          ]
        }
      ]
    },
    {
      "cell_type": "markdown",
      "source": [
        "Code Block 5D"
      ],
      "metadata": {
        "id": "NEb0rIgDey0h"
      }
    },
    {
      "cell_type": "code",
      "source": [
        "# Rounding to 1 decimal place\n",
        "rounded_y_test = np.round(y_test, 2)\n",
        "\n",
        "print(rounded_y_test)"
      ],
      "metadata": {
        "id": "2HXk0ZdEh_qz",
        "colab": {
          "base_uri": "https://localhost:8080/"
        },
        "outputId": "bd78c23c-3e45-421c-82bd-dbaa2dccd696"
      },
      "execution_count": null,
      "outputs": [
        {
          "output_type": "stream",
          "name": "stdout",
          "text": [
            "[[7.8 7.8 7.4]\n",
            " [7.6 7.7 7.6]\n",
            " [7.6 7.5 7.5]\n",
            " [7.6 7.6 8. ]\n",
            " [8.3 8.1 7.7]\n",
            " [7.6 7.6 7.6]\n",
            " [7.8 7.8 7.5]\n",
            " [7.4 7.7 7.9]\n",
            " [8.1 8.  7.9]\n",
            " [7.8 7.6 7.4]\n",
            " [7.5 8.2 7.9]\n",
            " [7.7 7.7 7.5]\n",
            " [8.2 7.9 7.8]\n",
            " [7.5 7.4 8.2]\n",
            " [8.2 7.7 7.8]\n",
            " [8.1 8.1 7.6]\n",
            " [7.7 7.6 7.8]\n",
            " [7.7 7.6 7.6]\n",
            " [7.6 7.6 7.8]]\n"
          ]
        }
      ]
    },
    {
      "cell_type": "markdown",
      "source": [
        "# 6. Feature Importance"
      ],
      "metadata": {
        "id": "qVX8XBlce6P5"
      }
    },
    {
      "cell_type": "markdown",
      "source": [
        "Code Block 6A"
      ],
      "metadata": {
        "id": "PCDMOth3e8C5"
      }
    },
    {
      "cell_type": "code",
      "source": [
        "# TODO: Change this value to view the other decision trees\n",
        "tree_number = 1\n",
        "\n",
        "# TODO: Change this value to change the depth of the decision tree\n",
        "max_depth = 3\n",
        "\n",
        "tree = model.estimators_[tree_number]\n",
        "\n",
        "feature_names = ['Average Dissolved Oxygen', 'Average Temperature C',\t'Average Turbidity FNU', 'Average pH', 'Average Specific Conductance μS/cm']\n",
        "\n",
        "dot_data = export_graphviz(tree, feature_names=feature_names, filled=True, rounded=True, max_depth=max_depth)\n",
        "\n",
        "graph = graphviz.Source(dot_data)\n",
        "graph.render(\"water_tree\")\n",
        "graph"
      ],
      "metadata": {
        "id": "E21aH2HIwsZ8",
        "colab": {
          "base_uri": "https://localhost:8080/",
          "height": 814
        },
        "outputId": "e6ffb370-f762-4aee-8333-e7c8ced57749"
      },
      "execution_count": null,
      "outputs": [
        {
          "output_type": "execute_result",
          "data": {
            "image/svg+xml": "<?xml version=\"1.0\" encoding=\"UTF-8\" standalone=\"no\"?>\n<!DOCTYPE svg PUBLIC \"-//W3C//DTD SVG 1.1//EN\"\n \"http://www.w3.org/Graphics/SVG/1.1/DTD/svg11.dtd\">\n<!-- Generated by graphviz version 2.43.0 (0)\n -->\n<!-- Title: Tree Pages: 1 -->\n<svg width=\"1568pt\" height=\"580pt\"\n viewBox=\"0.00 0.00 1567.50 580.00\" xmlns=\"http://www.w3.org/2000/svg\" xmlns:xlink=\"http://www.w3.org/1999/xlink\">\n<g id=\"graph0\" class=\"graph\" transform=\"scale(1 1) rotate(0) translate(4 576)\">\n<title>Tree</title>\n<polygon fill=\"white\" stroke=\"transparent\" points=\"-4,4 -4,-576 1563.5,-576 1563.5,4 -4,4\"/>\n<!-- 0 -->\n<g id=\"node1\" class=\"node\">\n<title>0</title>\n<path fill=\"#ffffff\" stroke=\"black\" d=\"M946,-572C946,-572 759,-572 759,-572 753,-572 747,-566 747,-560 747,-560 747,-486 747,-486 747,-480 753,-474 759,-474 759,-474 946,-474 946,-474 952,-474 958,-480 958,-486 958,-486 958,-560 958,-560 958,-566 952,-572 946,-572\"/>\n<text text-anchor=\"middle\" x=\"852.5\" y=\"-556.8\" font-family=\"Helvetica,sans-Serif\" font-size=\"14.00\">Average Temperature C &lt;= 8.05</text>\n<text text-anchor=\"middle\" x=\"852.5\" y=\"-541.8\" font-family=\"Helvetica,sans-Serif\" font-size=\"14.00\">squared_error = 0.048</text>\n<text text-anchor=\"middle\" x=\"852.5\" y=\"-526.8\" font-family=\"Helvetica,sans-Serif\" font-size=\"14.00\">samples = 48</text>\n<text text-anchor=\"middle\" x=\"852.5\" y=\"-511.8\" font-family=\"Helvetica,sans-Serif\" font-size=\"14.00\">value = [[7.734]</text>\n<text text-anchor=\"middle\" x=\"852.5\" y=\"-496.8\" font-family=\"Helvetica,sans-Serif\" font-size=\"14.00\">[7.744]</text>\n<text text-anchor=\"middle\" x=\"852.5\" y=\"-481.8\" font-family=\"Helvetica,sans-Serif\" font-size=\"14.00\">[7.748]]</text>\n</g>\n<!-- 1 -->\n<g id=\"node2\" class=\"node\">\n<title>1</title>\n<path fill=\"#f5ceb2\" stroke=\"black\" d=\"M814,-438C814,-438 543,-438 543,-438 537,-438 531,-432 531,-426 531,-426 531,-352 531,-352 531,-346 537,-340 543,-340 543,-340 814,-340 814,-340 820,-340 826,-346 826,-352 826,-352 826,-426 826,-426 826,-432 820,-438 814,-438\"/>\n<text text-anchor=\"middle\" x=\"678.5\" y=\"-422.8\" font-family=\"Helvetica,sans-Serif\" font-size=\"14.00\">Average Specific Conductance μS/cm &lt;= 6.35</text>\n<text text-anchor=\"middle\" x=\"678.5\" y=\"-407.8\" font-family=\"Helvetica,sans-Serif\" font-size=\"14.00\">squared_error = 0.029</text>\n<text text-anchor=\"middle\" x=\"678.5\" y=\"-392.8\" font-family=\"Helvetica,sans-Serif\" font-size=\"14.00\">samples = 38</text>\n<text text-anchor=\"middle\" x=\"678.5\" y=\"-377.8\" font-family=\"Helvetica,sans-Serif\" font-size=\"14.00\">value = [[7.62]</text>\n<text text-anchor=\"middle\" x=\"678.5\" y=\"-362.8\" font-family=\"Helvetica,sans-Serif\" font-size=\"14.00\">[7.654]</text>\n<text text-anchor=\"middle\" x=\"678.5\" y=\"-347.8\" font-family=\"Helvetica,sans-Serif\" font-size=\"14.00\">[7.764]]</text>\n</g>\n<!-- 0&#45;&gt;1 -->\n<g id=\"edge1\" class=\"edge\">\n<title>0&#45;&gt;1</title>\n<path fill=\"none\" stroke=\"black\" d=\"M789.19,-473.97C776.48,-464.33 763.03,-454.13 750.06,-444.29\"/>\n<polygon fill=\"black\" stroke=\"black\" points=\"752.14,-441.47 742.05,-438.21 747.91,-447.05 752.14,-441.47\"/>\n<text text-anchor=\"middle\" x=\"745.45\" y=\"-459.28\" font-family=\"Helvetica,sans-Serif\" font-size=\"14.00\">True</text>\n</g>\n<!-- 72 -->\n<g id=\"node17\" class=\"node\">\n<title>72</title>\n<path fill=\"#e9965a\" stroke=\"black\" d=\"M1010,-438C1010,-438 883,-438 883,-438 877,-438 871,-432 871,-426 871,-426 871,-352 871,-352 871,-346 877,-340 883,-340 883,-340 1010,-340 1010,-340 1016,-340 1022,-346 1022,-352 1022,-352 1022,-426 1022,-426 1022,-432 1016,-438 1010,-438\"/>\n<text text-anchor=\"middle\" x=\"946.5\" y=\"-422.8\" font-family=\"Helvetica,sans-Serif\" font-size=\"14.00\">Average pH &lt;= 20.75</text>\n<text text-anchor=\"middle\" x=\"946.5\" y=\"-407.8\" font-family=\"Helvetica,sans-Serif\" font-size=\"14.00\">squared_error = 0.008</text>\n<text text-anchor=\"middle\" x=\"946.5\" y=\"-392.8\" font-family=\"Helvetica,sans-Serif\" font-size=\"14.00\">samples = 10</text>\n<text text-anchor=\"middle\" x=\"946.5\" y=\"-377.8\" font-family=\"Helvetica,sans-Serif\" font-size=\"14.00\">value = [[8.112]</text>\n<text text-anchor=\"middle\" x=\"946.5\" y=\"-362.8\" font-family=\"Helvetica,sans-Serif\" font-size=\"14.00\">[8.041]</text>\n<text text-anchor=\"middle\" x=\"946.5\" y=\"-347.8\" font-family=\"Helvetica,sans-Serif\" font-size=\"14.00\">[7.694]]</text>\n</g>\n<!-- 0&#45;&gt;72 -->\n<g id=\"edge16\" class=\"edge\">\n<title>0&#45;&gt;72</title>\n<path fill=\"none\" stroke=\"black\" d=\"M886.7,-473.97C893.05,-465.05 899.74,-455.66 906.25,-446.52\"/>\n<polygon fill=\"black\" stroke=\"black\" points=\"909.22,-448.39 912.17,-438.21 903.51,-444.33 909.22,-448.39\"/>\n<text text-anchor=\"middle\" x=\"916.31\" y=\"-459.17\" font-family=\"Helvetica,sans-Serif\" font-size=\"14.00\">False</text>\n</g>\n<!-- 2 -->\n<g id=\"node3\" class=\"node\">\n<title>2</title>\n<path fill=\"#f3c7a7\" stroke=\"black\" d=\"M444,-304C444,-304 317,-304 317,-304 311,-304 305,-298 305,-292 305,-292 305,-218 305,-218 305,-212 311,-206 317,-206 317,-206 444,-206 444,-206 450,-206 456,-212 456,-218 456,-218 456,-292 456,-292 456,-298 450,-304 444,-304\"/>\n<text text-anchor=\"middle\" x=\"380.5\" y=\"-288.8\" font-family=\"Helvetica,sans-Serif\" font-size=\"14.00\">Average pH &lt;= 32.45</text>\n<text text-anchor=\"middle\" x=\"380.5\" y=\"-273.8\" font-family=\"Helvetica,sans-Serif\" font-size=\"14.00\">squared_error = 0.027</text>\n<text text-anchor=\"middle\" x=\"380.5\" y=\"-258.8\" font-family=\"Helvetica,sans-Serif\" font-size=\"14.00\">samples = 16</text>\n<text text-anchor=\"middle\" x=\"380.5\" y=\"-243.8\" font-family=\"Helvetica,sans-Serif\" font-size=\"14.00\">value = [[7.542]</text>\n<text text-anchor=\"middle\" x=\"380.5\" y=\"-228.8\" font-family=\"Helvetica,sans-Serif\" font-size=\"14.00\">[7.658]</text>\n<text text-anchor=\"middle\" x=\"380.5\" y=\"-213.8\" font-family=\"Helvetica,sans-Serif\" font-size=\"14.00\">[7.95]]</text>\n</g>\n<!-- 1&#45;&gt;2 -->\n<g id=\"edge2\" class=\"edge\">\n<title>1&#45;&gt;2</title>\n<path fill=\"none\" stroke=\"black\" d=\"M570.07,-339.97C535.69,-324.74 498.19,-308.13 465.68,-293.73\"/>\n<polygon fill=\"black\" stroke=\"black\" points=\"466.77,-290.39 456.21,-289.54 463.93,-296.79 466.77,-290.39\"/>\n</g>\n<!-- 29 -->\n<g id=\"node10\" class=\"node\">\n<title>29</title>\n<path fill=\"#eca571\" stroke=\"black\" d=\"M810,-304C810,-304 547,-304 547,-304 541,-304 535,-298 535,-292 535,-292 535,-218 535,-218 535,-212 541,-206 547,-206 547,-206 810,-206 810,-206 816,-206 822,-212 822,-218 822,-218 822,-292 822,-292 822,-298 816,-304 810,-304\"/>\n<text text-anchor=\"middle\" x=\"678.5\" y=\"-288.8\" font-family=\"Helvetica,sans-Serif\" font-size=\"14.00\">Average Specific Conductance μS/cm &lt;= 9.0</text>\n<text text-anchor=\"middle\" x=\"678.5\" y=\"-273.8\" font-family=\"Helvetica,sans-Serif\" font-size=\"14.00\">squared_error = 0.014</text>\n<text text-anchor=\"middle\" x=\"678.5\" y=\"-258.8\" font-family=\"Helvetica,sans-Serif\" font-size=\"14.00\">samples = 22</text>\n<text text-anchor=\"middle\" x=\"678.5\" y=\"-243.8\" font-family=\"Helvetica,sans-Serif\" font-size=\"14.00\">value = [[7.678]</text>\n<text text-anchor=\"middle\" x=\"678.5\" y=\"-228.8\" font-family=\"Helvetica,sans-Serif\" font-size=\"14.00\">[7.65]</text>\n<text text-anchor=\"middle\" x=\"678.5\" y=\"-213.8\" font-family=\"Helvetica,sans-Serif\" font-size=\"14.00\">[7.625]]</text>\n</g>\n<!-- 1&#45;&gt;29 -->\n<g id=\"edge9\" class=\"edge\">\n<title>1&#45;&gt;29</title>\n<path fill=\"none\" stroke=\"black\" d=\"M678.5,-339.97C678.5,-331.69 678.5,-323 678.5,-314.48\"/>\n<polygon fill=\"black\" stroke=\"black\" points=\"682,-314.21 678.5,-304.21 675,-314.21 682,-314.21\"/>\n</g>\n<!-- 3 -->\n<g id=\"node4\" class=\"node\">\n<title>3</title>\n<path fill=\"#ea985d\" stroke=\"black\" d=\"M207,-170C207,-170 12,-170 12,-170 6,-170 0,-164 0,-158 0,-158 0,-84 0,-84 0,-78 6,-72 12,-72 12,-72 207,-72 207,-72 213,-72 219,-78 219,-84 219,-84 219,-158 219,-158 219,-164 213,-170 207,-170\"/>\n<text text-anchor=\"middle\" x=\"109.5\" y=\"-154.8\" font-family=\"Helvetica,sans-Serif\" font-size=\"14.00\">Average Turbidity FNU &lt;= 1012.3</text>\n<text text-anchor=\"middle\" x=\"109.5\" y=\"-139.8\" font-family=\"Helvetica,sans-Serif\" font-size=\"14.00\">squared_error = 0.009</text>\n<text text-anchor=\"middle\" x=\"109.5\" y=\"-124.8\" font-family=\"Helvetica,sans-Serif\" font-size=\"14.00\">samples = 3</text>\n<text text-anchor=\"middle\" x=\"109.5\" y=\"-109.8\" font-family=\"Helvetica,sans-Serif\" font-size=\"14.00\">value = [[7.75]</text>\n<text text-anchor=\"middle\" x=\"109.5\" y=\"-94.8\" font-family=\"Helvetica,sans-Serif\" font-size=\"14.00\">[7.95]</text>\n<text text-anchor=\"middle\" x=\"109.5\" y=\"-79.8\" font-family=\"Helvetica,sans-Serif\" font-size=\"14.00\">[7.817]]</text>\n</g>\n<!-- 2&#45;&gt;3 -->\n<g id=\"edge3\" class=\"edge\">\n<title>2&#45;&gt;3</title>\n<path fill=\"none\" stroke=\"black\" d=\"M304.65,-217.06C277.55,-203.85 246.46,-188.71 217.19,-174.46\"/>\n<polygon fill=\"black\" stroke=\"black\" points=\"218.69,-171.29 208.17,-170.06 215.63,-177.59 218.69,-171.29\"/>\n</g>\n<!-- 8 -->\n<g id=\"node7\" class=\"node\">\n<title>8</title>\n<path fill=\"#eb9e66\" stroke=\"black\" d=\"M512,-170C512,-170 249,-170 249,-170 243,-170 237,-164 237,-158 237,-158 237,-84 237,-84 237,-78 243,-72 249,-72 249,-72 512,-72 512,-72 518,-72 524,-78 524,-84 524,-84 524,-158 524,-158 524,-164 518,-170 512,-170\"/>\n<text text-anchor=\"middle\" x=\"380.5\" y=\"-154.8\" font-family=\"Helvetica,sans-Serif\" font-size=\"14.00\">Average Specific Conductance μS/cm &lt;= 4.2</text>\n<text text-anchor=\"middle\" x=\"380.5\" y=\"-139.8\" font-family=\"Helvetica,sans-Serif\" font-size=\"14.00\">squared_error = 0.011</text>\n<text text-anchor=\"middle\" x=\"380.5\" y=\"-124.8\" font-family=\"Helvetica,sans-Serif\" font-size=\"14.00\">samples = 13</text>\n<text text-anchor=\"middle\" x=\"380.5\" y=\"-109.8\" font-family=\"Helvetica,sans-Serif\" font-size=\"14.00\">value = [[7.472]</text>\n<text text-anchor=\"middle\" x=\"380.5\" y=\"-94.8\" font-family=\"Helvetica,sans-Serif\" font-size=\"14.00\">[7.561]</text>\n<text text-anchor=\"middle\" x=\"380.5\" y=\"-79.8\" font-family=\"Helvetica,sans-Serif\" font-size=\"14.00\">[7.994]]</text>\n</g>\n<!-- 2&#45;&gt;8 -->\n<g id=\"edge6\" class=\"edge\">\n<title>2&#45;&gt;8</title>\n<path fill=\"none\" stroke=\"black\" d=\"M380.5,-205.97C380.5,-197.69 380.5,-189 380.5,-180.48\"/>\n<polygon fill=\"black\" stroke=\"black\" points=\"384,-180.21 380.5,-170.21 377,-180.21 384,-180.21\"/>\n</g>\n<!-- 4 -->\n<g id=\"node5\" class=\"node\">\n<title>4</title>\n<path fill=\"#c0c0c0\" stroke=\"black\" d=\"M88.5,-36C88.5,-36 58.5,-36 58.5,-36 52.5,-36 46.5,-30 46.5,-24 46.5,-24 46.5,-12 46.5,-12 46.5,-6 52.5,0 58.5,0 58.5,0 88.5,0 88.5,0 94.5,0 100.5,-6 100.5,-12 100.5,-12 100.5,-24 100.5,-24 100.5,-30 94.5,-36 88.5,-36\"/>\n<text text-anchor=\"middle\" x=\"73.5\" y=\"-14.3\" font-family=\"Helvetica,sans-Serif\" font-size=\"14.00\">(...)</text>\n</g>\n<!-- 3&#45;&gt;4 -->\n<g id=\"edge4\" class=\"edge\">\n<title>3&#45;&gt;4</title>\n<path fill=\"none\" stroke=\"black\" d=\"M92.34,-71.87C89.13,-62.86 85.89,-53.76 83.02,-45.71\"/>\n<polygon fill=\"black\" stroke=\"black\" points=\"86.27,-44.39 79.61,-36.15 79.67,-46.74 86.27,-44.39\"/>\n</g>\n<!-- 7 -->\n<g id=\"node6\" class=\"node\">\n<title>7</title>\n<path fill=\"#c0c0c0\" stroke=\"black\" d=\"M160.5,-36C160.5,-36 130.5,-36 130.5,-36 124.5,-36 118.5,-30 118.5,-24 118.5,-24 118.5,-12 118.5,-12 118.5,-6 124.5,0 130.5,0 130.5,0 160.5,0 160.5,0 166.5,0 172.5,-6 172.5,-12 172.5,-12 172.5,-24 172.5,-24 172.5,-30 166.5,-36 160.5,-36\"/>\n<text text-anchor=\"middle\" x=\"145.5\" y=\"-14.3\" font-family=\"Helvetica,sans-Serif\" font-size=\"14.00\">(...)</text>\n</g>\n<!-- 3&#45;&gt;7 -->\n<g id=\"edge5\" class=\"edge\">\n<title>3&#45;&gt;7</title>\n<path fill=\"none\" stroke=\"black\" d=\"M126.66,-71.87C129.87,-62.86 133.11,-53.76 135.98,-45.71\"/>\n<polygon fill=\"black\" stroke=\"black\" points=\"139.33,-46.74 139.39,-36.15 132.73,-44.39 139.33,-46.74\"/>\n</g>\n<!-- 9 -->\n<g id=\"node8\" class=\"node\">\n<title>9</title>\n<path fill=\"#c0c0c0\" stroke=\"black\" d=\"M359.5,-36C359.5,-36 329.5,-36 329.5,-36 323.5,-36 317.5,-30 317.5,-24 317.5,-24 317.5,-12 317.5,-12 317.5,-6 323.5,0 329.5,0 329.5,0 359.5,0 359.5,0 365.5,0 371.5,-6 371.5,-12 371.5,-12 371.5,-24 371.5,-24 371.5,-30 365.5,-36 359.5,-36\"/>\n<text text-anchor=\"middle\" x=\"344.5\" y=\"-14.3\" font-family=\"Helvetica,sans-Serif\" font-size=\"14.00\">(...)</text>\n</g>\n<!-- 8&#45;&gt;9 -->\n<g id=\"edge7\" class=\"edge\">\n<title>8&#45;&gt;9</title>\n<path fill=\"none\" stroke=\"black\" d=\"M363.34,-71.87C360.13,-62.86 356.89,-53.76 354.02,-45.71\"/>\n<polygon fill=\"black\" stroke=\"black\" points=\"357.27,-44.39 350.61,-36.15 350.67,-46.74 357.27,-44.39\"/>\n</g>\n<!-- 18 -->\n<g id=\"node9\" class=\"node\">\n<title>18</title>\n<path fill=\"#c0c0c0\" stroke=\"black\" d=\"M431.5,-36C431.5,-36 401.5,-36 401.5,-36 395.5,-36 389.5,-30 389.5,-24 389.5,-24 389.5,-12 389.5,-12 389.5,-6 395.5,0 401.5,0 401.5,0 431.5,0 431.5,0 437.5,0 443.5,-6 443.5,-12 443.5,-12 443.5,-24 443.5,-24 443.5,-30 437.5,-36 431.5,-36\"/>\n<text text-anchor=\"middle\" x=\"416.5\" y=\"-14.3\" font-family=\"Helvetica,sans-Serif\" font-size=\"14.00\">(...)</text>\n</g>\n<!-- 8&#45;&gt;18 -->\n<g id=\"edge8\" class=\"edge\">\n<title>8&#45;&gt;18</title>\n<path fill=\"none\" stroke=\"black\" d=\"M397.66,-71.87C400.87,-62.86 404.11,-53.76 406.98,-45.71\"/>\n<polygon fill=\"black\" stroke=\"black\" points=\"410.33,-46.74 410.39,-36.15 403.73,-44.39 410.33,-46.74\"/>\n</g>\n<!-- 30 -->\n<g id=\"node11\" class=\"node\">\n<title>30</title>\n<path fill=\"#eb9d65\" stroke=\"black\" d=\"M749,-170C749,-170 554,-170 554,-170 548,-170 542,-164 542,-158 542,-158 542,-84 542,-84 542,-78 548,-72 554,-72 554,-72 749,-72 749,-72 755,-72 761,-78 761,-84 761,-84 761,-158 761,-158 761,-164 755,-170 749,-170\"/>\n<text text-anchor=\"middle\" x=\"651.5\" y=\"-154.8\" font-family=\"Helvetica,sans-Serif\" font-size=\"14.00\">Average Turbidity FNU &lt;= 1331.8</text>\n<text text-anchor=\"middle\" x=\"651.5\" y=\"-139.8\" font-family=\"Helvetica,sans-Serif\" font-size=\"14.00\">squared_error = 0.011</text>\n<text text-anchor=\"middle\" x=\"651.5\" y=\"-124.8\" font-family=\"Helvetica,sans-Serif\" font-size=\"14.00\">samples = 20</text>\n<text text-anchor=\"middle\" x=\"651.5\" y=\"-109.8\" font-family=\"Helvetica,sans-Serif\" font-size=\"14.00\">value = [[7.648]</text>\n<text text-anchor=\"middle\" x=\"651.5\" y=\"-94.8\" font-family=\"Helvetica,sans-Serif\" font-size=\"14.00\">[7.655]</text>\n<text text-anchor=\"middle\" x=\"651.5\" y=\"-79.8\" font-family=\"Helvetica,sans-Serif\" font-size=\"14.00\">[7.607]]</text>\n</g>\n<!-- 29&#45;&gt;30 -->\n<g id=\"edge10\" class=\"edge\">\n<title>29&#45;&gt;30</title>\n<path fill=\"none\" stroke=\"black\" d=\"M668.68,-205.97C666.96,-197.6 665.17,-188.81 663.4,-180.2\"/>\n<polygon fill=\"black\" stroke=\"black\" points=\"666.79,-179.31 661.36,-170.21 659.94,-180.71 666.79,-179.31\"/>\n</g>\n<!-- 69 -->\n<g id=\"node14\" class=\"node\">\n<title>69</title>\n<path fill=\"#e5833c\" stroke=\"black\" d=\"M1062,-170C1062,-170 791,-170 791,-170 785,-170 779,-164 779,-158 779,-158 779,-84 779,-84 779,-78 785,-72 791,-72 791,-72 1062,-72 1062,-72 1068,-72 1074,-78 1074,-84 1074,-84 1074,-158 1074,-158 1074,-164 1068,-170 1062,-170\"/>\n<text text-anchor=\"middle\" x=\"926.5\" y=\"-154.8\" font-family=\"Helvetica,sans-Serif\" font-size=\"14.00\">Average Specific Conductance μS/cm &lt;= 9.25</text>\n<text text-anchor=\"middle\" x=\"926.5\" y=\"-139.8\" font-family=\"Helvetica,sans-Serif\" font-size=\"14.00\">squared_error = 0.001</text>\n<text text-anchor=\"middle\" x=\"926.5\" y=\"-124.8\" font-family=\"Helvetica,sans-Serif\" font-size=\"14.00\">samples = 2</text>\n<text text-anchor=\"middle\" x=\"926.5\" y=\"-109.8\" font-family=\"Helvetica,sans-Serif\" font-size=\"14.00\">value = [[7.967]</text>\n<text text-anchor=\"middle\" x=\"926.5\" y=\"-94.8\" font-family=\"Helvetica,sans-Serif\" font-size=\"14.00\">[7.6]</text>\n<text text-anchor=\"middle\" x=\"926.5\" y=\"-79.8\" font-family=\"Helvetica,sans-Serif\" font-size=\"14.00\">[7.8]]</text>\n</g>\n<!-- 29&#45;&gt;69 -->\n<g id=\"edge13\" class=\"edge\">\n<title>29&#45;&gt;69</title>\n<path fill=\"none\" stroke=\"black\" d=\"M768.74,-205.97C787.63,-195.92 807.65,-185.26 826.86,-175.04\"/>\n<polygon fill=\"black\" stroke=\"black\" points=\"828.73,-178 835.92,-170.21 825.44,-171.82 828.73,-178\"/>\n</g>\n<!-- 31 -->\n<g id=\"node12\" class=\"node\">\n<title>31</title>\n<path fill=\"#c0c0c0\" stroke=\"black\" d=\"M630.5,-36C630.5,-36 600.5,-36 600.5,-36 594.5,-36 588.5,-30 588.5,-24 588.5,-24 588.5,-12 588.5,-12 588.5,-6 594.5,0 600.5,0 600.5,0 630.5,0 630.5,0 636.5,0 642.5,-6 642.5,-12 642.5,-12 642.5,-24 642.5,-24 642.5,-30 636.5,-36 630.5,-36\"/>\n<text text-anchor=\"middle\" x=\"615.5\" y=\"-14.3\" font-family=\"Helvetica,sans-Serif\" font-size=\"14.00\">(...)</text>\n</g>\n<!-- 30&#45;&gt;31 -->\n<g id=\"edge11\" class=\"edge\">\n<title>30&#45;&gt;31</title>\n<path fill=\"none\" stroke=\"black\" d=\"M634.34,-71.87C631.13,-62.86 627.89,-53.76 625.02,-45.71\"/>\n<polygon fill=\"black\" stroke=\"black\" points=\"628.27,-44.39 621.61,-36.15 621.67,-46.74 628.27,-44.39\"/>\n</g>\n<!-- 60 -->\n<g id=\"node13\" class=\"node\">\n<title>60</title>\n<path fill=\"#c0c0c0\" stroke=\"black\" d=\"M702.5,-36C702.5,-36 672.5,-36 672.5,-36 666.5,-36 660.5,-30 660.5,-24 660.5,-24 660.5,-12 660.5,-12 660.5,-6 666.5,0 672.5,0 672.5,0 702.5,0 702.5,0 708.5,0 714.5,-6 714.5,-12 714.5,-12 714.5,-24 714.5,-24 714.5,-30 708.5,-36 702.5,-36\"/>\n<text text-anchor=\"middle\" x=\"687.5\" y=\"-14.3\" font-family=\"Helvetica,sans-Serif\" font-size=\"14.00\">(...)</text>\n</g>\n<!-- 30&#45;&gt;60 -->\n<g id=\"edge12\" class=\"edge\">\n<title>30&#45;&gt;60</title>\n<path fill=\"none\" stroke=\"black\" d=\"M668.66,-71.87C671.87,-62.86 675.11,-53.76 677.98,-45.71\"/>\n<polygon fill=\"black\" stroke=\"black\" points=\"681.33,-46.74 681.39,-36.15 674.73,-44.39 681.33,-46.74\"/>\n</g>\n<!-- 70 -->\n<g id=\"node15\" class=\"node\">\n<title>70</title>\n<path fill=\"#c0c0c0\" stroke=\"black\" d=\"M905.5,-36C905.5,-36 875.5,-36 875.5,-36 869.5,-36 863.5,-30 863.5,-24 863.5,-24 863.5,-12 863.5,-12 863.5,-6 869.5,0 875.5,0 875.5,0 905.5,0 905.5,0 911.5,0 917.5,-6 917.5,-12 917.5,-12 917.5,-24 917.5,-24 917.5,-30 911.5,-36 905.5,-36\"/>\n<text text-anchor=\"middle\" x=\"890.5\" y=\"-14.3\" font-family=\"Helvetica,sans-Serif\" font-size=\"14.00\">(...)</text>\n</g>\n<!-- 69&#45;&gt;70 -->\n<g id=\"edge14\" class=\"edge\">\n<title>69&#45;&gt;70</title>\n<path fill=\"none\" stroke=\"black\" d=\"M909.34,-71.87C906.13,-62.86 902.89,-53.76 900.02,-45.71\"/>\n<polygon fill=\"black\" stroke=\"black\" points=\"903.27,-44.39 896.61,-36.15 896.67,-46.74 903.27,-44.39\"/>\n</g>\n<!-- 71 -->\n<g id=\"node16\" class=\"node\">\n<title>71</title>\n<path fill=\"#c0c0c0\" stroke=\"black\" d=\"M977.5,-36C977.5,-36 947.5,-36 947.5,-36 941.5,-36 935.5,-30 935.5,-24 935.5,-24 935.5,-12 935.5,-12 935.5,-6 941.5,0 947.5,0 947.5,0 977.5,0 977.5,0 983.5,0 989.5,-6 989.5,-12 989.5,-12 989.5,-24 989.5,-24 989.5,-30 983.5,-36 977.5,-36\"/>\n<text text-anchor=\"middle\" x=\"962.5\" y=\"-14.3\" font-family=\"Helvetica,sans-Serif\" font-size=\"14.00\">(...)</text>\n</g>\n<!-- 69&#45;&gt;71 -->\n<g id=\"edge15\" class=\"edge\">\n<title>69&#45;&gt;71</title>\n<path fill=\"none\" stroke=\"black\" d=\"M943.66,-71.87C946.87,-62.86 950.11,-53.76 952.98,-45.71\"/>\n<polygon fill=\"black\" stroke=\"black\" points=\"956.33,-46.74 956.39,-36.15 949.73,-44.39 956.33,-46.74\"/>\n</g>\n<!-- 73 -->\n<g id=\"node18\" class=\"node\">\n<title>73</title>\n<path fill=\"#e58139\" stroke=\"black\" d=\"M1002.5,-296.5C1002.5,-296.5 890.5,-296.5 890.5,-296.5 884.5,-296.5 878.5,-290.5 878.5,-284.5 878.5,-284.5 878.5,-225.5 878.5,-225.5 878.5,-219.5 884.5,-213.5 890.5,-213.5 890.5,-213.5 1002.5,-213.5 1002.5,-213.5 1008.5,-213.5 1014.5,-219.5 1014.5,-225.5 1014.5,-225.5 1014.5,-284.5 1014.5,-284.5 1014.5,-290.5 1008.5,-296.5 1002.5,-296.5\"/>\n<text text-anchor=\"middle\" x=\"946.5\" y=\"-281.3\" font-family=\"Helvetica,sans-Serif\" font-size=\"14.00\">squared_error = 0.0</text>\n<text text-anchor=\"middle\" x=\"946.5\" y=\"-266.3\" font-family=\"Helvetica,sans-Serif\" font-size=\"14.00\">samples = 1</text>\n<text text-anchor=\"middle\" x=\"946.5\" y=\"-251.3\" font-family=\"Helvetica,sans-Serif\" font-size=\"14.00\">value = [[8.1]</text>\n<text text-anchor=\"middle\" x=\"946.5\" y=\"-236.3\" font-family=\"Helvetica,sans-Serif\" font-size=\"14.00\">[7.6]</text>\n<text text-anchor=\"middle\" x=\"946.5\" y=\"-221.3\" font-family=\"Helvetica,sans-Serif\" font-size=\"14.00\">[7.8]]</text>\n</g>\n<!-- 72&#45;&gt;73 -->\n<g id=\"edge17\" class=\"edge\">\n<title>72&#45;&gt;73</title>\n<path fill=\"none\" stroke=\"black\" d=\"M946.5,-339.97C946.5,-329.25 946.5,-317.84 946.5,-306.99\"/>\n<polygon fill=\"black\" stroke=\"black\" points=\"950,-306.82 946.5,-296.82 943,-306.82 950,-306.82\"/>\n</g>\n<!-- 74 -->\n<g id=\"node19\" class=\"node\">\n<title>74</title>\n<path fill=\"#e78b49\" stroke=\"black\" d=\"M1304.5,-304C1304.5,-304 1098.5,-304 1098.5,-304 1092.5,-304 1086.5,-298 1086.5,-292 1086.5,-292 1086.5,-218 1086.5,-218 1086.5,-212 1092.5,-206 1098.5,-206 1098.5,-206 1304.5,-206 1304.5,-206 1310.5,-206 1316.5,-212 1316.5,-218 1316.5,-218 1316.5,-292 1316.5,-292 1316.5,-298 1310.5,-304 1304.5,-304\"/>\n<text text-anchor=\"middle\" x=\"1201.5\" y=\"-288.8\" font-family=\"Helvetica,sans-Serif\" font-size=\"14.00\">Average Dissolved Oxygen &lt;= 19.6</text>\n<text text-anchor=\"middle\" x=\"1201.5\" y=\"-273.8\" font-family=\"Helvetica,sans-Serif\" font-size=\"14.00\">squared_error = 0.004</text>\n<text text-anchor=\"middle\" x=\"1201.5\" y=\"-258.8\" font-family=\"Helvetica,sans-Serif\" font-size=\"14.00\">samples = 9</text>\n<text text-anchor=\"middle\" x=\"1201.5\" y=\"-243.8\" font-family=\"Helvetica,sans-Serif\" font-size=\"14.00\">value = [[8.113]</text>\n<text text-anchor=\"middle\" x=\"1201.5\" y=\"-228.8\" font-family=\"Helvetica,sans-Serif\" font-size=\"14.00\">[8.069]</text>\n<text text-anchor=\"middle\" x=\"1201.5\" y=\"-213.8\" font-family=\"Helvetica,sans-Serif\" font-size=\"14.00\">[7.688]]</text>\n</g>\n<!-- 72&#45;&gt;74 -->\n<g id=\"edge18\" class=\"edge\">\n<title>72&#45;&gt;74</title>\n<path fill=\"none\" stroke=\"black\" d=\"M1022.32,-348.75C1046.48,-336.24 1073.63,-322.19 1099.34,-308.88\"/>\n<polygon fill=\"black\" stroke=\"black\" points=\"1101.1,-311.91 1108.37,-304.21 1097.88,-305.7 1101.1,-311.91\"/>\n</g>\n<!-- 75 -->\n<g id=\"node20\" class=\"node\">\n<title>75</title>\n<path fill=\"#e6843e\" stroke=\"black\" d=\"M1299,-170C1299,-170 1104,-170 1104,-170 1098,-170 1092,-164 1092,-158 1092,-158 1092,-84 1092,-84 1092,-78 1098,-72 1104,-72 1104,-72 1299,-72 1299,-72 1305,-72 1311,-78 1311,-84 1311,-84 1311,-158 1311,-158 1311,-164 1305,-170 1299,-170\"/>\n<text text-anchor=\"middle\" x=\"1201.5\" y=\"-154.8\" font-family=\"Helvetica,sans-Serif\" font-size=\"14.00\">Average Turbidity FNU &lt;= 707.05</text>\n<text text-anchor=\"middle\" x=\"1201.5\" y=\"-139.8\" font-family=\"Helvetica,sans-Serif\" font-size=\"14.00\">squared_error = 0.001</text>\n<text text-anchor=\"middle\" x=\"1201.5\" y=\"-124.8\" font-family=\"Helvetica,sans-Serif\" font-size=\"14.00\">samples = 3</text>\n<text text-anchor=\"middle\" x=\"1201.5\" y=\"-109.8\" font-family=\"Helvetica,sans-Serif\" font-size=\"14.00\">value = [[8.12]</text>\n<text text-anchor=\"middle\" x=\"1201.5\" y=\"-94.8\" font-family=\"Helvetica,sans-Serif\" font-size=\"14.00\">[8.14]</text>\n<text text-anchor=\"middle\" x=\"1201.5\" y=\"-79.8\" font-family=\"Helvetica,sans-Serif\" font-size=\"14.00\">[7.6]]</text>\n</g>\n<!-- 74&#45;&gt;75 -->\n<g id=\"edge19\" class=\"edge\">\n<title>74&#45;&gt;75</title>\n<path fill=\"none\" stroke=\"black\" d=\"M1201.5,-205.97C1201.5,-197.69 1201.5,-189 1201.5,-180.48\"/>\n<polygon fill=\"black\" stroke=\"black\" points=\"1205,-180.21 1201.5,-170.21 1198,-180.21 1205,-180.21\"/>\n</g>\n<!-- 80 -->\n<g id=\"node23\" class=\"node\">\n<title>80</title>\n<path fill=\"#e68743\" stroke=\"black\" d=\"M1547.5,-170C1547.5,-170 1341.5,-170 1341.5,-170 1335.5,-170 1329.5,-164 1329.5,-158 1329.5,-158 1329.5,-84 1329.5,-84 1329.5,-78 1335.5,-72 1341.5,-72 1341.5,-72 1547.5,-72 1547.5,-72 1553.5,-72 1559.5,-78 1559.5,-84 1559.5,-84 1559.5,-158 1559.5,-158 1559.5,-164 1553.5,-170 1547.5,-170\"/>\n<text text-anchor=\"middle\" x=\"1444.5\" y=\"-154.8\" font-family=\"Helvetica,sans-Serif\" font-size=\"14.00\">Average Dissolved Oxygen &lt;= 21.7</text>\n<text text-anchor=\"middle\" x=\"1444.5\" y=\"-139.8\" font-family=\"Helvetica,sans-Serif\" font-size=\"14.00\">squared_error = 0.002</text>\n<text text-anchor=\"middle\" x=\"1444.5\" y=\"-124.8\" font-family=\"Helvetica,sans-Serif\" font-size=\"14.00\">samples = 6</text>\n<text text-anchor=\"middle\" x=\"1444.5\" y=\"-109.8\" font-family=\"Helvetica,sans-Serif\" font-size=\"14.00\">value = [[8.109]</text>\n<text text-anchor=\"middle\" x=\"1444.5\" y=\"-94.8\" font-family=\"Helvetica,sans-Serif\" font-size=\"14.00\">[8.036]</text>\n<text text-anchor=\"middle\" x=\"1444.5\" y=\"-79.8\" font-family=\"Helvetica,sans-Serif\" font-size=\"14.00\">[7.727]]</text>\n</g>\n<!-- 74&#45;&gt;80 -->\n<g id=\"edge22\" class=\"edge\">\n<title>74&#45;&gt;80</title>\n<path fill=\"none\" stroke=\"black\" d=\"M1289.92,-205.97C1308.43,-195.92 1328.04,-185.26 1346.87,-175.04\"/>\n<polygon fill=\"black\" stroke=\"black\" points=\"1348.63,-178.06 1355.74,-170.21 1345.28,-171.91 1348.63,-178.06\"/>\n</g>\n<!-- 76 -->\n<g id=\"node21\" class=\"node\">\n<title>76</title>\n<path fill=\"#c0c0c0\" stroke=\"black\" d=\"M1180.5,-36C1180.5,-36 1150.5,-36 1150.5,-36 1144.5,-36 1138.5,-30 1138.5,-24 1138.5,-24 1138.5,-12 1138.5,-12 1138.5,-6 1144.5,0 1150.5,0 1150.5,0 1180.5,0 1180.5,0 1186.5,0 1192.5,-6 1192.5,-12 1192.5,-12 1192.5,-24 1192.5,-24 1192.5,-30 1186.5,-36 1180.5,-36\"/>\n<text text-anchor=\"middle\" x=\"1165.5\" y=\"-14.3\" font-family=\"Helvetica,sans-Serif\" font-size=\"14.00\">(...)</text>\n</g>\n<!-- 75&#45;&gt;76 -->\n<g id=\"edge20\" class=\"edge\">\n<title>75&#45;&gt;76</title>\n<path fill=\"none\" stroke=\"black\" d=\"M1184.34,-71.87C1181.13,-62.86 1177.89,-53.76 1175.02,-45.71\"/>\n<polygon fill=\"black\" stroke=\"black\" points=\"1178.27,-44.39 1171.61,-36.15 1171.67,-46.74 1178.27,-44.39\"/>\n</g>\n<!-- 77 -->\n<g id=\"node22\" class=\"node\">\n<title>77</title>\n<path fill=\"#c0c0c0\" stroke=\"black\" d=\"M1252.5,-36C1252.5,-36 1222.5,-36 1222.5,-36 1216.5,-36 1210.5,-30 1210.5,-24 1210.5,-24 1210.5,-12 1210.5,-12 1210.5,-6 1216.5,0 1222.5,0 1222.5,0 1252.5,0 1252.5,0 1258.5,0 1264.5,-6 1264.5,-12 1264.5,-12 1264.5,-24 1264.5,-24 1264.5,-30 1258.5,-36 1252.5,-36\"/>\n<text text-anchor=\"middle\" x=\"1237.5\" y=\"-14.3\" font-family=\"Helvetica,sans-Serif\" font-size=\"14.00\">(...)</text>\n</g>\n<!-- 75&#45;&gt;77 -->\n<g id=\"edge21\" class=\"edge\">\n<title>75&#45;&gt;77</title>\n<path fill=\"none\" stroke=\"black\" d=\"M1218.66,-71.87C1221.87,-62.86 1225.11,-53.76 1227.98,-45.71\"/>\n<polygon fill=\"black\" stroke=\"black\" points=\"1231.33,-46.74 1231.39,-36.15 1224.73,-44.39 1231.33,-46.74\"/>\n</g>\n<!-- 81 -->\n<g id=\"node24\" class=\"node\">\n<title>81</title>\n<path fill=\"#c0c0c0\" stroke=\"black\" d=\"M1423.5,-36C1423.5,-36 1393.5,-36 1393.5,-36 1387.5,-36 1381.5,-30 1381.5,-24 1381.5,-24 1381.5,-12 1381.5,-12 1381.5,-6 1387.5,0 1393.5,0 1393.5,0 1423.5,0 1423.5,0 1429.5,0 1435.5,-6 1435.5,-12 1435.5,-12 1435.5,-24 1435.5,-24 1435.5,-30 1429.5,-36 1423.5,-36\"/>\n<text text-anchor=\"middle\" x=\"1408.5\" y=\"-14.3\" font-family=\"Helvetica,sans-Serif\" font-size=\"14.00\">(...)</text>\n</g>\n<!-- 80&#45;&gt;81 -->\n<g id=\"edge23\" class=\"edge\">\n<title>80&#45;&gt;81</title>\n<path fill=\"none\" stroke=\"black\" d=\"M1427.34,-71.87C1424.13,-62.86 1420.89,-53.76 1418.02,-45.71\"/>\n<polygon fill=\"black\" stroke=\"black\" points=\"1421.27,-44.39 1414.61,-36.15 1414.67,-46.74 1421.27,-44.39\"/>\n</g>\n<!-- 86 -->\n<g id=\"node25\" class=\"node\">\n<title>86</title>\n<path fill=\"#c0c0c0\" stroke=\"black\" d=\"M1495.5,-36C1495.5,-36 1465.5,-36 1465.5,-36 1459.5,-36 1453.5,-30 1453.5,-24 1453.5,-24 1453.5,-12 1453.5,-12 1453.5,-6 1459.5,0 1465.5,0 1465.5,0 1495.5,0 1495.5,0 1501.5,0 1507.5,-6 1507.5,-12 1507.5,-12 1507.5,-24 1507.5,-24 1507.5,-30 1501.5,-36 1495.5,-36\"/>\n<text text-anchor=\"middle\" x=\"1480.5\" y=\"-14.3\" font-family=\"Helvetica,sans-Serif\" font-size=\"14.00\">(...)</text>\n</g>\n<!-- 80&#45;&gt;86 -->\n<g id=\"edge24\" class=\"edge\">\n<title>80&#45;&gt;86</title>\n<path fill=\"none\" stroke=\"black\" d=\"M1461.66,-71.87C1464.87,-62.86 1468.11,-53.76 1470.98,-45.71\"/>\n<polygon fill=\"black\" stroke=\"black\" points=\"1474.33,-46.74 1474.39,-36.15 1467.73,-44.39 1474.33,-46.74\"/>\n</g>\n</g>\n</svg>\n",
            "text/plain": [
              "<graphviz.sources.Source at 0x7948c599b5b0>"
            ]
          },
          "metadata": {},
          "execution_count": 25
        }
      ]
    },
    {
      "cell_type": "markdown",
      "source": [
        "Code Block 6B"
      ],
      "metadata": {
        "id": "KGEr9lT2e-hC"
      }
    },
    {
      "cell_type": "code",
      "source": [
        "# Feature importance\n",
        "importances = model.feature_importances_\n",
        "indices = np.argsort(importances)\n",
        "\n",
        "# Plot feature importance\n",
        "plt.figure(figsize=(10, 6))\n",
        "plt.title('Feature Importances')\n",
        "plt.barh(range(len(indices)), importances[indices], color='b', align='center')\n",
        "plt.yticks(range(len(indices)), [feature_names[i] for i in indices])\n",
        "plt.xlabel('Relative Importance')\n",
        "plt.show()"
      ],
      "metadata": {
        "id": "JFsieAjl5Qzy",
        "colab": {
          "base_uri": "https://localhost:8080/",
          "height": 564
        },
        "outputId": "be314a72-1174-4ed7-d901-6fc04a2c5b59"
      },
      "execution_count": null,
      "outputs": [
        {
          "output_type": "display_data",
          "data": {
            "text/plain": [
              "<Figure size 1000x600 with 1 Axes>"
            ],
            "image/png": "[encoded data removed]"
          },
          "metadata": {}
        }
      ]
    }
  ]
}