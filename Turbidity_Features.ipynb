{
  "nbformat": 4,
  "nbformat_minor": 0,
  "metadata": {
    "colab": {
      "provenance": [],
      "include_colab_link": true
    },
    "kernelspec": {
      "name": "python3",
      "display_name": "Python 3"
    },
    "language_info": {
      "name": "python"
    }
  },
  "cells": [
    {
      "cell_type": "markdown",
      "metadata": {
        "id": "view-in-github",
        "colab_type": "text"
      },
      "source": [
        "<a href=\"https://colab.research.google.com/github/niyaudinoor/HackathonNAAN/blob/main/Turbidity_Features.ipynb\" target=\"_parent\"><img src=\"https://colab.research.google.com/assets/colab-badge.svg\" alt=\"Open In Colab\"/></a>"
      ]
    },
    {
      "cell_type": "code",
      "execution_count": null,
      "metadata": {
        "id": "C9LUMQaDVjus"
      },
      "outputs": [],
      "source": [
        "# Data manipulation and analysis\n",
        "import pandas as pd\n",
        "import numpy as np\n",
        "from collections import Counter\n",
        "\n",
        "# Visualization\n",
        "import matplotlib.pyplot as plt\n",
        "import graphviz\n",
        "from IPython.display import display, HTML\n",
        "\n",
        "# Scikit-learn: Model selection and evaluation\n",
        "from sklearn.model_selection import train_test_split\n",
        "\n",
        "# Scikit-learn: Regression models\n",
        "from sklearn.ensemble import RandomForestRegressor\n",
        "\n",
        "# Scikit-learn: Metrics for evaluation\n",
        "from sklearn.metrics import accuracy_score, classification_report, confusion_matrix\n",
        "from sklearn.metrics import mean_squared_error, r2_score\n",
        "\n",
        "# Scikit-learn: Tree visualization\n",
        "from sklearn.tree import export_graphviz\n",
        "from sklearn import tree"
      ]
    },
    {
      "cell_type": "code",
      "source": [
        "from google.colab import drive\n",
        "\n",
        "# Mount Google Drive\n",
        "drive.mount('/content/drive', force_remount=True)"
      ],
      "metadata": {
        "colab": {
          "base_uri": "https://localhost:8080/"
        },
        "id": "_sYiHWZoVygb",
        "outputId": "d1b572ba-3dc6-44ca-a5ec-e0ded108834d"
      },
      "execution_count": null,
      "outputs": [
        {
          "output_type": "stream",
          "name": "stdout",
          "text": [
            "Mounted at /content/drive\n"
          ]
        }
      ]
    },
    {
      "cell_type": "code",
      "source": [
        "# Define the path to the CSV file containing water quality data\n",
        "csv_path = \"/content/drive/MyDrive/6. Colab Notebooks/2. Water Quality/Conductance_Turbidity_Test - Sheet2.csv\"\n",
        "\n",
        "# Read the CSV file into a DataFrame using pandas\n",
        "df = pd.read_csv(csv_path)\n",
        "\n",
        "df.head()"
      ],
      "metadata": {
        "colab": {
          "base_uri": "https://localhost:8080/",
          "height": 310
        },
        "id": "MAE6EY0OVzQg",
        "outputId": "a9927ac6-854f-41f2-ca64-7919317deaab"
      },
      "execution_count": null,
      "outputs": [
        {
          "output_type": "execute_result",
          "data": {
            "text/plain": [
              "         Date  Average Specific Conductance μS/cm  Average Turbidity FNU  \\\n",
              "0  2024-05-01                              1185.3                   39.7   \n",
              "1  2024-05-02                              1007.0                   43.1   \n",
              "2  2024-05-03                               864.5                   41.4   \n",
              "3  2024-05-04                               831.7                   37.6   \n",
              "4  2024-05-05                               825.8                   33.8   \n",
              "\n",
              "   Average Temperature C  Average pH  Average Dissolved Oxygen mg/l  \\\n",
              "0                   19.8         8.3                            9.9   \n",
              "1                   20.0         8.3                            9.8   \n",
              "2                   20.9         8.3                            9.7   \n",
              "3                   19.7         8.1                            8.7   \n",
              "4                   18.7         8.1                            9.0   \n",
              "\n",
              "   Average Turbidity FNU + 1 day  Average Turbidity FNU + 1 week  \\\n",
              "0                           43.1                            36.0   \n",
              "1                           41.4                            34.8   \n",
              "2                           37.6                            30.9   \n",
              "3                           33.8                            25.2   \n",
              "4                           32.2                            22.4   \n",
              "\n",
              "   Average Turbidity FNU + 4 weeks  \n",
              "0                             47.1  \n",
              "1                             43.9  \n",
              "2                             39.1  \n",
              "3                             39.3  \n",
              "4                             41.1  "
            ],
            "text/html": [
              "\n",
              "  <div id=\"df-5ffcc20d-de48-4a2c-84ae-4621f16397e5\" class=\"colab-df-container\">\n",
              "    <div>\n",
              "<style scoped>\n",
              "    .dataframe tbody tr th:only-of-type {\n",
              "        vertical-align: middle;\n",
              "    }\n",
              "\n",
              "    .dataframe tbody tr th {\n",
              "        vertical-align: top;\n",
              "    }\n",
              "\n",
              "    .dataframe thead th {\n",
              "        text-align: right;\n",
              "    }\n",
              "</style>\n",
              "<table border=\"1\" class=\"dataframe\">\n",
              "  <thead>\n",
              "    <tr style=\"text-align: right;\">\n",
              "      <th></th>\n",
              "      <th>Date</th>\n",
              "      <th>Average Specific Conductance μS/cm</th>\n",
              "      <th>Average Turbidity FNU</th>\n",
              "      <th>Average Temperature C</th>\n",
              "      <th>Average pH</th>\n",
              "      <th>Average Dissolved Oxygen mg/l</th>\n",
              "      <th>Average Turbidity FNU + 1 day</th>\n",
              "      <th>Average Turbidity FNU + 1 week</th>\n",
              "      <th>Average Turbidity FNU + 4 weeks</th>\n",
              "    </tr>\n",
              "  </thead>\n",
              "  <tbody>\n",
              "    <tr>\n",
              "      <th>0</th>\n",
              "      <td>2024-05-01</td>\n",
              "      <td>1185.3</td>\n",
              "      <td>39.7</td>\n",
              "      <td>19.8</td>\n",
              "      <td>8.3</td>\n",
              "      <td>9.9</td>\n",
              "      <td>43.1</td>\n",
              "      <td>36.0</td>\n",
              "      <td>47.1</td>\n",
              "    </tr>\n",
              "    <tr>\n",
              "      <th>1</th>\n",
              "      <td>2024-05-02</td>\n",
              "      <td>1007.0</td>\n",
              "      <td>43.1</td>\n",
              "      <td>20.0</td>\n",
              "      <td>8.3</td>\n",
              "      <td>9.8</td>\n",
              "      <td>41.4</td>\n",
              "      <td>34.8</td>\n",
              "      <td>43.9</td>\n",
              "    </tr>\n",
              "    <tr>\n",
              "      <th>2</th>\n",
              "      <td>2024-05-03</td>\n",
              "      <td>864.5</td>\n",
              "      <td>41.4</td>\n",
              "      <td>20.9</td>\n",
              "      <td>8.3</td>\n",
              "      <td>9.7</td>\n",
              "      <td>37.6</td>\n",
              "      <td>30.9</td>\n",
              "      <td>39.1</td>\n",
              "    </tr>\n",
              "    <tr>\n",
              "      <th>3</th>\n",
              "      <td>2024-05-04</td>\n",
              "      <td>831.7</td>\n",
              "      <td>37.6</td>\n",
              "      <td>19.7</td>\n",
              "      <td>8.1</td>\n",
              "      <td>8.7</td>\n",
              "      <td>33.8</td>\n",
              "      <td>25.2</td>\n",
              "      <td>39.3</td>\n",
              "    </tr>\n",
              "    <tr>\n",
              "      <th>4</th>\n",
              "      <td>2024-05-05</td>\n",
              "      <td>825.8</td>\n",
              "      <td>33.8</td>\n",
              "      <td>18.7</td>\n",
              "      <td>8.1</td>\n",
              "      <td>9.0</td>\n",
              "      <td>32.2</td>\n",
              "      <td>22.4</td>\n",
              "      <td>41.1</td>\n",
              "    </tr>\n",
              "  </tbody>\n",
              "</table>\n",
              "</div>\n",
              "    <div class=\"colab-df-buttons\">\n",
              "\n",
              "  <div class=\"colab-df-container\">\n",
              "    <button class=\"colab-df-convert\" onclick=\"convertToInteractive('df-5ffcc20d-de48-4a2c-84ae-4621f16397e5')\"\n",
              "            title=\"Convert this dataframe to an interactive table.\"\n",
              "            style=\"display:none;\">\n",
              "\n",
              "  <svg xmlns=\"http://www.w3.org/2000/svg\" height=\"24px\" viewBox=\"0 -960 960 960\">\n",
              "    <path d=\"M120-120v-720h720v720H120Zm60-500h600v-160H180v160Zm220 220h160v-160H400v160Zm0 220h160v-160H400v160ZM180-400h160v-160H180v160Zm440 0h160v-160H620v160ZM180-180h160v-160H180v160Zm440 0h160v-160H620v160Z\"/>\n",
              "  </svg>\n",
              "    </button>\n",
              "\n",
              "  <style>\n",
              "    .colab-df-container {\n",
              "      display:flex;\n",
              "      gap: 12px;\n",
              "    }\n",
              "\n",
              "    .colab-df-convert {\n",
              "      background-color: #E8F0FE;\n",
              "      border: none;\n",
              "      border-radius: 50%;\n",
              "      cursor: pointer;\n",
              "      display: none;\n",
              "      fill: #1967D2;\n",
              "      height: 32px;\n",
              "      padding: 0 0 0 0;\n",
              "      width: 32px;\n",
              "    }\n",
              "\n",
              "    .colab-df-convert:hover {\n",
              "      background-color: #E2EBFA;\n",
              "      box-shadow: 0px 1px 2px rgba(60, 64, 67, 0.3), 0px 1px 3px 1px rgba(60, 64, 67, 0.15);\n",
              "      fill: #174EA6;\n",
              "    }\n",
              "\n",
              "    .colab-df-buttons div {\n",
              "      margin-bottom: 4px;\n",
              "    }\n",
              "\n",
              "    [theme=dark] .colab-df-convert {\n",
              "      background-color: #3B4455;\n",
              "      fill: #D2E3FC;\n",
              "    }\n",
              "\n",
              "    [theme=dark] .colab-df-convert:hover {\n",
              "      background-color: #434B5C;\n",
              "      box-shadow: 0px 1px 3px 1px rgba(0, 0, 0, 0.15);\n",
              "      filter: drop-shadow(0px 1px 2px rgba(0, 0, 0, 0.3));\n",
              "      fill: #FFFFFF;\n",
              "    }\n",
              "  </style>\n",
              "\n",
              "    <script>\n",
              "      const buttonEl =\n",
              "        document.querySelector('#df-5ffcc20d-de48-4a2c-84ae-4621f16397e5 button.colab-df-convert');\n",
              "      buttonEl.style.display =\n",
              "        google.colab.kernel.accessAllowed ? 'block' : 'none';\n",
              "\n",
              "      async function convertToInteractive(key) {\n",
              "        const element = document.querySelector('#df-5ffcc20d-de48-4a2c-84ae-4621f16397e5');\n",
              "        const dataTable =\n",
              "          await google.colab.kernel.invokeFunction('convertToInteractive',\n",
              "                                                    [key], {});\n",
              "        if (!dataTable) return;\n",
              "\n",
              "        const docLinkHtml = 'Like what you see? Visit the ' +\n",
              "          '<a target=\"_blank\" href=https://colab.research.google.com/notebooks/data_table.ipynb>data table notebook</a>'\n",
              "          + ' to learn more about interactive tables.';\n",
              "        element.innerHTML = '';\n",
              "        dataTable['output_type'] = 'display_data';\n",
              "        await google.colab.output.renderOutput(dataTable, element);\n",
              "        const docLink = document.createElement('div');\n",
              "        docLink.innerHTML = docLinkHtml;\n",
              "        element.appendChild(docLink);\n",
              "      }\n",
              "    </script>\n",
              "  </div>\n",
              "\n",
              "\n",
              "<div id=\"df-e3388a39-a8d9-4b24-a041-d068d71fb4b6\">\n",
              "  <button class=\"colab-df-quickchart\" onclick=\"quickchart('df-e3388a39-a8d9-4b24-a041-d068d71fb4b6')\"\n",
              "            title=\"Suggest charts\"\n",
              "            style=\"display:none;\">\n",
              "\n",
              "<svg xmlns=\"http://www.w3.org/2000/svg\" height=\"24px\"viewBox=\"0 0 24 24\"\n",
              "     width=\"24px\">\n",
              "    <g>\n",
              "        <path d=\"M19 3H5c-1.1 0-2 .9-2 2v14c0 1.1.9 2 2 2h14c1.1 0 2-.9 2-2V5c0-1.1-.9-2-2-2zM9 17H7v-7h2v7zm4 0h-2V7h2v10zm4 0h-2v-4h2v4z\"/>\n",
              "    </g>\n",
              "</svg>\n",
              "  </button>\n",
              "\n",
              "<style>\n",
              "  .colab-df-quickchart {\n",
              "      --bg-color: #E8F0FE;\n",
              "      --fill-color: #1967D2;\n",
              "      --hover-bg-color: #E2EBFA;\n",
              "      --hover-fill-color: #174EA6;\n",
              "      --disabled-fill-color: #AAA;\n",
              "      --disabled-bg-color: #DDD;\n",
              "  }\n",
              "\n",
              "  [theme=dark] .colab-df-quickchart {\n",
              "      --bg-color: #3B4455;\n",
              "      --fill-color: #D2E3FC;\n",
              "      --hover-bg-color: #434B5C;\n",
              "      --hover-fill-color: #FFFFFF;\n",
              "      --disabled-bg-color: #3B4455;\n",
              "      --disabled-fill-color: #666;\n",
              "  }\n",
              "\n",
              "  .colab-df-quickchart {\n",
              "    background-color: var(--bg-color);\n",
              "    border: none;\n",
              "    border-radius: 50%;\n",
              "    cursor: pointer;\n",
              "    display: none;\n",
              "    fill: var(--fill-color);\n",
              "    height: 32px;\n",
              "    padding: 0;\n",
              "    width: 32px;\n",
              "  }\n",
              "\n",
              "  .colab-df-quickchart:hover {\n",
              "    background-color: var(--hover-bg-color);\n",
              "    box-shadow: 0 1px 2px rgba(60, 64, 67, 0.3), 0 1px 3px 1px rgba(60, 64, 67, 0.15);\n",
              "    fill: var(--button-hover-fill-color);\n",
              "  }\n",
              "\n",
              "  .colab-df-quickchart-complete:disabled,\n",
              "  .colab-df-quickchart-complete:disabled:hover {\n",
              "    background-color: var(--disabled-bg-color);\n",
              "    fill: var(--disabled-fill-color);\n",
              "    box-shadow: none;\n",
              "  }\n",
              "\n",
              "  .colab-df-spinner {\n",
              "    border: 2px solid var(--fill-color);\n",
              "    border-color: transparent;\n",
              "    border-bottom-color: var(--fill-color);\n",
              "    animation:\n",
              "      spin 1s steps(1) infinite;\n",
              "  }\n",
              "\n",
              "  @keyframes spin {\n",
              "    0% {\n",
              "      border-color: transparent;\n",
              "      border-bottom-color: var(--fill-color);\n",
              "      border-left-color: var(--fill-color);\n",
              "    }\n",
              "    20% {\n",
              "      border-color: transparent;\n",
              "      border-left-color: var(--fill-color);\n",
              "      border-top-color: var(--fill-color);\n",
              "    }\n",
              "    30% {\n",
              "      border-color: transparent;\n",
              "      border-left-color: var(--fill-color);\n",
              "      border-top-color: var(--fill-color);\n",
              "      border-right-color: var(--fill-color);\n",
              "    }\n",
              "    40% {\n",
              "      border-color: transparent;\n",
              "      border-right-color: var(--fill-color);\n",
              "      border-top-color: var(--fill-color);\n",
              "    }\n",
              "    60% {\n",
              "      border-color: transparent;\n",
              "      border-right-color: var(--fill-color);\n",
              "    }\n",
              "    80% {\n",
              "      border-color: transparent;\n",
              "      border-right-color: var(--fill-color);\n",
              "      border-bottom-color: var(--fill-color);\n",
              "    }\n",
              "    90% {\n",
              "      border-color: transparent;\n",
              "      border-bottom-color: var(--fill-color);\n",
              "    }\n",
              "  }\n",
              "</style>\n",
              "\n",
              "  <script>\n",
              "    async function quickchart(key) {\n",
              "      const quickchartButtonEl =\n",
              "        document.querySelector('#' + key + ' button');\n",
              "      quickchartButtonEl.disabled = true;  // To prevent multiple clicks.\n",
              "      quickchartButtonEl.classList.add('colab-df-spinner');\n",
              "      try {\n",
              "        const charts = await google.colab.kernel.invokeFunction(\n",
              "            'suggestCharts', [key], {});\n",
              "      } catch (error) {\n",
              "        console.error('Error during call to suggestCharts:', error);\n",
              "      }\n",
              "      quickchartButtonEl.classList.remove('colab-df-spinner');\n",
              "      quickchartButtonEl.classList.add('colab-df-quickchart-complete');\n",
              "    }\n",
              "    (() => {\n",
              "      let quickchartButtonEl =\n",
              "        document.querySelector('#df-e3388a39-a8d9-4b24-a041-d068d71fb4b6 button');\n",
              "      quickchartButtonEl.style.display =\n",
              "        google.colab.kernel.accessAllowed ? 'block' : 'none';\n",
              "    })();\n",
              "  </script>\n",
              "</div>\n",
              "\n",
              "    </div>\n",
              "  </div>\n"
            ],
            "application/vnd.google.colaboratory.intrinsic+json": {
              "type": "dataframe",
              "variable_name": "df",
              "summary": "{\n  \"name\": \"df\",\n  \"rows\": 92,\n  \"fields\": [\n    {\n      \"column\": \"Date\",\n      \"properties\": {\n        \"dtype\": \"object\",\n        \"num_unique_values\": 92,\n        \"samples\": [\n          \"2024-06-10\",\n          \"2024-05-23\",\n          \"2024-06-25\"\n        ],\n        \"semantic_type\": \"\",\n        \"description\": \"\"\n      }\n    },\n    {\n      \"column\": \"Average Specific Conductance \\u03bcS/cm\",\n      \"properties\": {\n        \"dtype\": \"number\",\n        \"std\": 267.60898469535715,\n        \"min\": 362.0,\n        \"max\": 1432.4,\n        \"num_unique_values\": 92,\n        \"samples\": [\n          1304.3,\n          666.4,\n          986.0\n        ],\n        \"semantic_type\": \"\",\n        \"description\": \"\"\n      }\n    },\n    {\n      \"column\": \"Average Turbidity FNU\",\n      \"properties\": {\n        \"dtype\": \"number\",\n        \"std\": 15.113178531101521,\n        \"min\": 13.0,\n        \"max\": 104.9,\n        \"num_unique_values\": 85,\n        \"samples\": [\n          19.9,\n          39.7,\n          37.0\n        ],\n        \"semantic_type\": \"\",\n        \"description\": \"\"\n      }\n    },\n    {\n      \"column\": \"Average Temperature C\",\n      \"properties\": {\n        \"dtype\": \"number\",\n        \"std\": 3.6140398506442764,\n        \"min\": 18.7,\n        \"max\": 31.1,\n        \"num_unique_values\": 69,\n        \"samples\": [\n          23.6,\n          19.8,\n          27.6\n        ],\n        \"semantic_type\": \"\",\n        \"description\": \"\"\n      }\n    },\n    {\n      \"column\": \"Average pH\",\n      \"properties\": {\n        \"dtype\": \"number\",\n        \"std\": 0.2437954387554349,\n        \"min\": 7.3,\n        \"max\": 8.3,\n        \"num_unique_values\": 11,\n        \"samples\": [\n          7.7,\n          8.3,\n          7.4\n        ],\n        \"semantic_type\": \"\",\n        \"description\": \"\"\n      }\n    },\n    {\n      \"column\": \"Average Dissolved Oxygen mg/l\",\n      \"properties\": {\n        \"dtype\": \"number\",\n        \"std\": 1.843676969611326,\n        \"min\": 2.9,\n        \"max\": 9.9,\n        \"num_unique_values\": 47,\n        \"samples\": [\n          6.2,\n          4.0,\n          6.8\n        ],\n        \"semantic_type\": \"\",\n        \"description\": \"\"\n      }\n    },\n    {\n      \"column\": \"Average Turbidity FNU + 1 day\",\n      \"properties\": {\n        \"dtype\": \"number\",\n        \"std\": 15.116203024714126,\n        \"min\": 13.0,\n        \"max\": 104.9,\n        \"num_unique_values\": 83,\n        \"samples\": [\n          41.1,\n          43.1,\n          40.0\n        ],\n        \"semantic_type\": \"\",\n        \"description\": \"\"\n      }\n    },\n    {\n      \"column\": \"Average Turbidity FNU + 1 week\",\n      \"properties\": {\n        \"dtype\": \"number\",\n        \"std\": 15.108726670232524,\n        \"min\": 13.0,\n        \"max\": 104.9,\n        \"num_unique_values\": 81,\n        \"samples\": [\n          32.1,\n          36.0,\n          39.1\n        ],\n        \"semantic_type\": \"\",\n        \"description\": \"\"\n      }\n    },\n    {\n      \"column\": \"Average Turbidity FNU + 4 weeks\",\n      \"properties\": {\n        \"dtype\": \"number\",\n        \"std\": 13.173016903619624,\n        \"min\": 17.8,\n        \"max\": 104.9,\n        \"num_unique_values\": 81,\n        \"samples\": [\n          33.5,\n          47.1,\n          36.1\n        ],\n        \"semantic_type\": \"\",\n        \"description\": \"\"\n      }\n    }\n  ]\n}"
            }
          },
          "metadata": {},
          "execution_count": 3
        }
      ]
    },
    {
      "cell_type": "markdown",
      "source": [
        "# 4. Preprocessing the Dataset"
      ],
      "metadata": {
        "id": "3ryP5LAfhmbn"
      }
    },
    {
      "cell_type": "markdown",
      "source": [
        "## 4.1 Separating the Dataset into Inputs and Target"
      ],
      "metadata": {
        "id": "MGapT96RhqX1"
      }
    },
    {
      "cell_type": "markdown",
      "source": [
        "Code Block 4A"
      ],
      "metadata": {
        "id": "4EjFdDKld-XB"
      }
    },
    {
      "cell_type": "code",
      "source": [
        "# Drop the 'Date' column and the target columns ('Average DO (1 day)', 'Average DO (1 week)', 'Average DO (4 weeks)')\n",
        "# from the DataFrame to create the input features DataFrame\n",
        "inputs = df.drop(['Date', 'Average Turbidity FNU + 1 day','Average Turbidity FNU + 1 week','Average Turbidity FNU + 4 weeks'], axis='columns')\n",
        "\n",
        "# Select the target columns ('Average DO (1 day)', 'Average DO (1 week)', 'Average DO (4 weeks)')\n",
        "# from the DataFrame to create the target DataFrame\n",
        "target = df[['Average Turbidity FNU + 1 day','Average Turbidity FNU + 1 week','Average Turbidity FNU + 4 weeks']]"
      ],
      "metadata": {
        "collapsed": true,
        "id": "5ZitDZEaCEI-"
      },
      "execution_count": null,
      "outputs": []
    },
    {
      "cell_type": "markdown",
      "source": [
        "Code Block 4B"
      ],
      "metadata": {
        "id": "V8g0TwTqeAAN"
      }
    },
    {
      "cell_type": "code",
      "source": [
        "# Convert the inputs DataFrame to a NumPy array with float data type\n",
        "inputs = np.array(inputs, dtype=float)\n",
        "\n",
        "# Convert the target DataFrame to a NumPy array with float data type\n",
        "target = np.array(target, dtype=float)"
      ],
      "metadata": {
        "id": "MvklElsGhHzA"
      },
      "execution_count": null,
      "outputs": []
    },
    {
      "cell_type": "markdown",
      "source": [
        "## 4.2 Splitting the Training and Testing Data"
      ],
      "metadata": {
        "id": "WsKm__jPiQau"
      }
    },
    {
      "cell_type": "markdown",
      "source": [
        "Code Block 4C"
      ],
      "metadata": {
        "id": "OxYFRqxieDks"
      }
    },
    {
      "cell_type": "code",
      "source": [
        "# Split the data into train and test sets (80% train, 20% test)\n",
        "X_train, X_test, y_train, y_test = train_test_split(inputs, target, test_size=0.2, random_state=42)\n",
        "\n",
        "print(\"X_train shape:\", X_train.shape)\n",
        "print(\"X_test shape:\", X_test.shape)\n",
        "print(\"y_train shape:\", y_train.shape)\n",
        "print(\"y_test shape:\", y_test.shape)"
      ],
      "metadata": {
        "id": "pm3iyBSRiTbf",
        "colab": {
          "base_uri": "https://localhost:8080/"
        },
        "outputId": "30226612-5132-43d4-8fb1-4b2f34705c6f"
      },
      "execution_count": null,
      "outputs": [
        {
          "output_type": "stream",
          "name": "stdout",
          "text": [
            "X_train shape: (73, 5)\n",
            "X_test shape: (19, 5)\n",
            "y_train shape: (73, 3)\n",
            "y_test shape: (19, 3)\n"
          ]
        }
      ]
    },
    {
      "cell_type": "markdown",
      "source": [
        "# 5. Training the Model\n"
      ],
      "metadata": {
        "id": "gCGvez2eiw_d"
      }
    },
    {
      "cell_type": "markdown",
      "source": [
        "Code Block 5A"
      ],
      "metadata": {
        "id": "IBiYoluDersc"
      }
    },
    {
      "cell_type": "code",
      "source": [
        "# Initialize a RandomForestRegressor model from the scikit-learn library\n",
        "model = RandomForestRegressor()"
      ],
      "metadata": {
        "id": "TIWoibtAhslE"
      },
      "execution_count": null,
      "outputs": []
    },
    {
      "cell_type": "markdown",
      "source": [
        "Code Block 5B"
      ],
      "metadata": {
        "id": "jtCvOAKzetsr"
      }
    },
    {
      "cell_type": "code",
      "source": [
        "# Fitting the model to the training data (X_train) and corresponding labels (y_train)\n",
        "model.fit(X_train, y_train)"
      ],
      "metadata": {
        "id": "eOo6Z-pbh3Qj",
        "colab": {
          "base_uri": "https://localhost:8080/",
          "height": 80
        },
        "outputId": "6daa8574-bb04-4068-9d98-7301559c1363"
      },
      "execution_count": null,
      "outputs": [
        {
          "output_type": "execute_result",
          "data": {
            "text/plain": [
              "RandomForestRegressor()"
            ],
            "text/html": [
              "<style>#sk-container-id-1 {\n",
              "  /* Definition of color scheme common for light and dark mode */\n",
              "  --sklearn-color-text: #000;\n",
              "  --sklearn-color-text-muted: #666;\n",
              "  --sklearn-color-line: gray;\n",
              "  /* Definition of color scheme for unfitted estimators */\n",
              "  --sklearn-color-unfitted-level-0: #fff5e6;\n",
              "  --sklearn-color-unfitted-level-1: #f6e4d2;\n",
              "  --sklearn-color-unfitted-level-2: #ffe0b3;\n",
              "  --sklearn-color-unfitted-level-3: chocolate;\n",
              "  /* Definition of color scheme for fitted estimators */\n",
              "  --sklearn-color-fitted-level-0: #f0f8ff;\n",
              "  --sklearn-color-fitted-level-1: #d4ebff;\n",
              "  --sklearn-color-fitted-level-2: #b3dbfd;\n",
              "  --sklearn-color-fitted-level-3: cornflowerblue;\n",
              "\n",
              "  /* Specific color for light theme */\n",
              "  --sklearn-color-text-on-default-background: var(--sg-text-color, var(--theme-code-foreground, var(--jp-content-font-color1, black)));\n",
              "  --sklearn-color-background: var(--sg-background-color, var(--theme-background, var(--jp-layout-color0, white)));\n",
              "  --sklearn-color-border-box: var(--sg-text-color, var(--theme-code-foreground, var(--jp-content-font-color1, black)));\n",
              "  --sklearn-color-icon: #696969;\n",
              "\n",
              "  @media (prefers-color-scheme: dark) {\n",
              "    /* Redefinition of color scheme for dark theme */\n",
              "    --sklearn-color-text-on-default-background: var(--sg-text-color, var(--theme-code-foreground, var(--jp-content-font-color1, white)));\n",
              "    --sklearn-color-background: var(--sg-background-color, var(--theme-background, var(--jp-layout-color0, #111)));\n",
              "    --sklearn-color-border-box: var(--sg-text-color, var(--theme-code-foreground, var(--jp-content-font-color1, white)));\n",
              "    --sklearn-color-icon: #878787;\n",
              "  }\n",
              "}\n",
              "\n",
              "#sk-container-id-1 {\n",
              "  color: var(--sklearn-color-text);\n",
              "}\n",
              "\n",
              "#sk-container-id-1 pre {\n",
              "  padding: 0;\n",
              "}\n",
              "\n",
              "#sk-container-id-1 input.sk-hidden--visually {\n",
              "  border: 0;\n",
              "  clip: rect(1px 1px 1px 1px);\n",
              "  clip: rect(1px, 1px, 1px, 1px);\n",
              "  height: 1px;\n",
              "  margin: -1px;\n",
              "  overflow: hidden;\n",
              "  padding: 0;\n",
              "  position: absolute;\n",
              "  width: 1px;\n",
              "}\n",
              "\n",
              "#sk-container-id-1 div.sk-dashed-wrapped {\n",
              "  border: 1px dashed var(--sklearn-color-line);\n",
              "  margin: 0 0.4em 0.5em 0.4em;\n",
              "  box-sizing: border-box;\n",
              "  padding-bottom: 0.4em;\n",
              "  background-color: var(--sklearn-color-background);\n",
              "}\n",
              "\n",
              "#sk-container-id-1 div.sk-container {\n",
              "  /* jupyter's `normalize.less` sets `[hidden] { display: none; }`\n",
              "     but bootstrap.min.css set `[hidden] { display: none !important; }`\n",
              "     so we also need the `!important` here to be able to override the\n",
              "     default hidden behavior on the sphinx rendered scikit-learn.org.\n",
              "     See: https://github.com/scikit-learn/scikit-learn/issues/21755 */\n",
              "  display: inline-block !important;\n",
              "  position: relative;\n",
              "}\n",
              "\n",
              "#sk-container-id-1 div.sk-text-repr-fallback {\n",
              "  display: none;\n",
              "}\n",
              "\n",
              "div.sk-parallel-item,\n",
              "div.sk-serial,\n",
              "div.sk-item {\n",
              "  /* draw centered vertical line to link estimators */\n",
              "  background-image: linear-gradient(var(--sklearn-color-text-on-default-background), var(--sklearn-color-text-on-default-background));\n",
              "  background-size: 2px 100%;\n",
              "  background-repeat: no-repeat;\n",
              "  background-position: center center;\n",
              "}\n",
              "\n",
              "/* Parallel-specific style estimator block */\n",
              "\n",
              "#sk-container-id-1 div.sk-parallel-item::after {\n",
              "  content: \"\";\n",
              "  width: 100%;\n",
              "  border-bottom: 2px solid var(--sklearn-color-text-on-default-background);\n",
              "  flex-grow: 1;\n",
              "}\n",
              "\n",
              "#sk-container-id-1 div.sk-parallel {\n",
              "  display: flex;\n",
              "  align-items: stretch;\n",
              "  justify-content: center;\n",
              "  background-color: var(--sklearn-color-background);\n",
              "  position: relative;\n",
              "}\n",
              "\n",
              "#sk-container-id-1 div.sk-parallel-item {\n",
              "  display: flex;\n",
              "  flex-direction: column;\n",
              "}\n",
              "\n",
              "#sk-container-id-1 div.sk-parallel-item:first-child::after {\n",
              "  align-self: flex-end;\n",
              "  width: 50%;\n",
              "}\n",
              "\n",
              "#sk-container-id-1 div.sk-parallel-item:last-child::after {\n",
              "  align-self: flex-start;\n",
              "  width: 50%;\n",
              "}\n",
              "\n",
              "#sk-container-id-1 div.sk-parallel-item:only-child::after {\n",
              "  width: 0;\n",
              "}\n",
              "\n",
              "/* Serial-specific style estimator block */\n",
              "\n",
              "#sk-container-id-1 div.sk-serial {\n",
              "  display: flex;\n",
              "  flex-direction: column;\n",
              "  align-items: center;\n",
              "  background-color: var(--sklearn-color-background);\n",
              "  padding-right: 1em;\n",
              "  padding-left: 1em;\n",
              "}\n",
              "\n",
              "\n",
              "/* Toggleable style: style used for estimator/Pipeline/ColumnTransformer box that is\n",
              "clickable and can be expanded/collapsed.\n",
              "- Pipeline and ColumnTransformer use this feature and define the default style\n",
              "- Estimators will overwrite some part of the style using the `sk-estimator` class\n",
              "*/\n",
              "\n",
              "/* Pipeline and ColumnTransformer style (default) */\n",
              "\n",
              "#sk-container-id-1 div.sk-toggleable {\n",
              "  /* Default theme specific background. It is overwritten whether we have a\n",
              "  specific estimator or a Pipeline/ColumnTransformer */\n",
              "  background-color: var(--sklearn-color-background);\n",
              "}\n",
              "\n",
              "/* Toggleable label */\n",
              "#sk-container-id-1 label.sk-toggleable__label {\n",
              "  cursor: pointer;\n",
              "  display: flex;\n",
              "  width: 100%;\n",
              "  margin-bottom: 0;\n",
              "  padding: 0.5em;\n",
              "  box-sizing: border-box;\n",
              "  text-align: center;\n",
              "  align-items: start;\n",
              "  justify-content: space-between;\n",
              "  gap: 0.5em;\n",
              "}\n",
              "\n",
              "#sk-container-id-1 label.sk-toggleable__label .caption {\n",
              "  font-size: 0.6rem;\n",
              "  font-weight: lighter;\n",
              "  color: var(--sklearn-color-text-muted);\n",
              "}\n",
              "\n",
              "#sk-container-id-1 label.sk-toggleable__label-arrow:before {\n",
              "  /* Arrow on the left of the label */\n",
              "  content: \"▸\";\n",
              "  float: left;\n",
              "  margin-right: 0.25em;\n",
              "  color: var(--sklearn-color-icon);\n",
              "}\n",
              "\n",
              "#sk-container-id-1 label.sk-toggleable__label-arrow:hover:before {\n",
              "  color: var(--sklearn-color-text);\n",
              "}\n",
              "\n",
              "/* Toggleable content - dropdown */\n",
              "\n",
              "#sk-container-id-1 div.sk-toggleable__content {\n",
              "  max-height: 0;\n",
              "  max-width: 0;\n",
              "  overflow: hidden;\n",
              "  text-align: left;\n",
              "  /* unfitted */\n",
              "  background-color: var(--sklearn-color-unfitted-level-0);\n",
              "}\n",
              "\n",
              "#sk-container-id-1 div.sk-toggleable__content.fitted {\n",
              "  /* fitted */\n",
              "  background-color: var(--sklearn-color-fitted-level-0);\n",
              "}\n",
              "\n",
              "#sk-container-id-1 div.sk-toggleable__content pre {\n",
              "  margin: 0.2em;\n",
              "  border-radius: 0.25em;\n",
              "  color: var(--sklearn-color-text);\n",
              "  /* unfitted */\n",
              "  background-color: var(--sklearn-color-unfitted-level-0);\n",
              "}\n",
              "\n",
              "#sk-container-id-1 div.sk-toggleable__content.fitted pre {\n",
              "  /* unfitted */\n",
              "  background-color: var(--sklearn-color-fitted-level-0);\n",
              "}\n",
              "\n",
              "#sk-container-id-1 input.sk-toggleable__control:checked~div.sk-toggleable__content {\n",
              "  /* Expand drop-down */\n",
              "  max-height: 200px;\n",
              "  max-width: 100%;\n",
              "  overflow: auto;\n",
              "}\n",
              "\n",
              "#sk-container-id-1 input.sk-toggleable__control:checked~label.sk-toggleable__label-arrow:before {\n",
              "  content: \"▾\";\n",
              "}\n",
              "\n",
              "/* Pipeline/ColumnTransformer-specific style */\n",
              "\n",
              "#sk-container-id-1 div.sk-label input.sk-toggleable__control:checked~label.sk-toggleable__label {\n",
              "  color: var(--sklearn-color-text);\n",
              "  background-color: var(--sklearn-color-unfitted-level-2);\n",
              "}\n",
              "\n",
              "#sk-container-id-1 div.sk-label.fitted input.sk-toggleable__control:checked~label.sk-toggleable__label {\n",
              "  background-color: var(--sklearn-color-fitted-level-2);\n",
              "}\n",
              "\n",
              "/* Estimator-specific style */\n",
              "\n",
              "/* Colorize estimator box */\n",
              "#sk-container-id-1 div.sk-estimator input.sk-toggleable__control:checked~label.sk-toggleable__label {\n",
              "  /* unfitted */\n",
              "  background-color: var(--sklearn-color-unfitted-level-2);\n",
              "}\n",
              "\n",
              "#sk-container-id-1 div.sk-estimator.fitted input.sk-toggleable__control:checked~label.sk-toggleable__label {\n",
              "  /* fitted */\n",
              "  background-color: var(--sklearn-color-fitted-level-2);\n",
              "}\n",
              "\n",
              "#sk-container-id-1 div.sk-label label.sk-toggleable__label,\n",
              "#sk-container-id-1 div.sk-label label {\n",
              "  /* The background is the default theme color */\n",
              "  color: var(--sklearn-color-text-on-default-background);\n",
              "}\n",
              "\n",
              "/* On hover, darken the color of the background */\n",
              "#sk-container-id-1 div.sk-label:hover label.sk-toggleable__label {\n",
              "  color: var(--sklearn-color-text);\n",
              "  background-color: var(--sklearn-color-unfitted-level-2);\n",
              "}\n",
              "\n",
              "/* Label box, darken color on hover, fitted */\n",
              "#sk-container-id-1 div.sk-label.fitted:hover label.sk-toggleable__label.fitted {\n",
              "  color: var(--sklearn-color-text);\n",
              "  background-color: var(--sklearn-color-fitted-level-2);\n",
              "}\n",
              "\n",
              "/* Estimator label */\n",
              "\n",
              "#sk-container-id-1 div.sk-label label {\n",
              "  font-family: monospace;\n",
              "  font-weight: bold;\n",
              "  display: inline-block;\n",
              "  line-height: 1.2em;\n",
              "}\n",
              "\n",
              "#sk-container-id-1 div.sk-label-container {\n",
              "  text-align: center;\n",
              "}\n",
              "\n",
              "/* Estimator-specific */\n",
              "#sk-container-id-1 div.sk-estimator {\n",
              "  font-family: monospace;\n",
              "  border: 1px dotted var(--sklearn-color-border-box);\n",
              "  border-radius: 0.25em;\n",
              "  box-sizing: border-box;\n",
              "  margin-bottom: 0.5em;\n",
              "  /* unfitted */\n",
              "  background-color: var(--sklearn-color-unfitted-level-0);\n",
              "}\n",
              "\n",
              "#sk-container-id-1 div.sk-estimator.fitted {\n",
              "  /* fitted */\n",
              "  background-color: var(--sklearn-color-fitted-level-0);\n",
              "}\n",
              "\n",
              "/* on hover */\n",
              "#sk-container-id-1 div.sk-estimator:hover {\n",
              "  /* unfitted */\n",
              "  background-color: var(--sklearn-color-unfitted-level-2);\n",
              "}\n",
              "\n",
              "#sk-container-id-1 div.sk-estimator.fitted:hover {\n",
              "  /* fitted */\n",
              "  background-color: var(--sklearn-color-fitted-level-2);\n",
              "}\n",
              "\n",
              "/* Specification for estimator info (e.g. \"i\" and \"?\") */\n",
              "\n",
              "/* Common style for \"i\" and \"?\" */\n",
              "\n",
              ".sk-estimator-doc-link,\n",
              "a:link.sk-estimator-doc-link,\n",
              "a:visited.sk-estimator-doc-link {\n",
              "  float: right;\n",
              "  font-size: smaller;\n",
              "  line-height: 1em;\n",
              "  font-family: monospace;\n",
              "  background-color: var(--sklearn-color-background);\n",
              "  border-radius: 1em;\n",
              "  height: 1em;\n",
              "  width: 1em;\n",
              "  text-decoration: none !important;\n",
              "  margin-left: 0.5em;\n",
              "  text-align: center;\n",
              "  /* unfitted */\n",
              "  border: var(--sklearn-color-unfitted-level-1) 1pt solid;\n",
              "  color: var(--sklearn-color-unfitted-level-1);\n",
              "}\n",
              "\n",
              ".sk-estimator-doc-link.fitted,\n",
              "a:link.sk-estimator-doc-link.fitted,\n",
              "a:visited.sk-estimator-doc-link.fitted {\n",
              "  /* fitted */\n",
              "  border: var(--sklearn-color-fitted-level-1) 1pt solid;\n",
              "  color: var(--sklearn-color-fitted-level-1);\n",
              "}\n",
              "\n",
              "/* On hover */\n",
              "div.sk-estimator:hover .sk-estimator-doc-link:hover,\n",
              ".sk-estimator-doc-link:hover,\n",
              "div.sk-label-container:hover .sk-estimator-doc-link:hover,\n",
              ".sk-estimator-doc-link:hover {\n",
              "  /* unfitted */\n",
              "  background-color: var(--sklearn-color-unfitted-level-3);\n",
              "  color: var(--sklearn-color-background);\n",
              "  text-decoration: none;\n",
              "}\n",
              "\n",
              "div.sk-estimator.fitted:hover .sk-estimator-doc-link.fitted:hover,\n",
              ".sk-estimator-doc-link.fitted:hover,\n",
              "div.sk-label-container:hover .sk-estimator-doc-link.fitted:hover,\n",
              ".sk-estimator-doc-link.fitted:hover {\n",
              "  /* fitted */\n",
              "  background-color: var(--sklearn-color-fitted-level-3);\n",
              "  color: var(--sklearn-color-background);\n",
              "  text-decoration: none;\n",
              "}\n",
              "\n",
              "/* Span, style for the box shown on hovering the info icon */\n",
              ".sk-estimator-doc-link span {\n",
              "  display: none;\n",
              "  z-index: 9999;\n",
              "  position: relative;\n",
              "  font-weight: normal;\n",
              "  right: .2ex;\n",
              "  padding: .5ex;\n",
              "  margin: .5ex;\n",
              "  width: min-content;\n",
              "  min-width: 20ex;\n",
              "  max-width: 50ex;\n",
              "  color: var(--sklearn-color-text);\n",
              "  box-shadow: 2pt 2pt 4pt #999;\n",
              "  /* unfitted */\n",
              "  background: var(--sklearn-color-unfitted-level-0);\n",
              "  border: .5pt solid var(--sklearn-color-unfitted-level-3);\n",
              "}\n",
              "\n",
              ".sk-estimator-doc-link.fitted span {\n",
              "  /* fitted */\n",
              "  background: var(--sklearn-color-fitted-level-0);\n",
              "  border: var(--sklearn-color-fitted-level-3);\n",
              "}\n",
              "\n",
              ".sk-estimator-doc-link:hover span {\n",
              "  display: block;\n",
              "}\n",
              "\n",
              "/* \"?\"-specific style due to the `<a>` HTML tag */\n",
              "\n",
              "#sk-container-id-1 a.estimator_doc_link {\n",
              "  float: right;\n",
              "  font-size: 1rem;\n",
              "  line-height: 1em;\n",
              "  font-family: monospace;\n",
              "  background-color: var(--sklearn-color-background);\n",
              "  border-radius: 1rem;\n",
              "  height: 1rem;\n",
              "  width: 1rem;\n",
              "  text-decoration: none;\n",
              "  /* unfitted */\n",
              "  color: var(--sklearn-color-unfitted-level-1);\n",
              "  border: var(--sklearn-color-unfitted-level-1) 1pt solid;\n",
              "}\n",
              "\n",
              "#sk-container-id-1 a.estimator_doc_link.fitted {\n",
              "  /* fitted */\n",
              "  border: var(--sklearn-color-fitted-level-1) 1pt solid;\n",
              "  color: var(--sklearn-color-fitted-level-1);\n",
              "}\n",
              "\n",
              "/* On hover */\n",
              "#sk-container-id-1 a.estimator_doc_link:hover {\n",
              "  /* unfitted */\n",
              "  background-color: var(--sklearn-color-unfitted-level-3);\n",
              "  color: var(--sklearn-color-background);\n",
              "  text-decoration: none;\n",
              "}\n",
              "\n",
              "#sk-container-id-1 a.estimator_doc_link.fitted:hover {\n",
              "  /* fitted */\n",
              "  background-color: var(--sklearn-color-fitted-level-3);\n",
              "}\n",
              "</style><div id=\"sk-container-id-1\" class=\"sk-top-container\"><div class=\"sk-text-repr-fallback\"><pre>RandomForestRegressor()</pre><b>In a Jupyter environment, please rerun this cell to show the HTML representation or trust the notebook. <br />On GitHub, the HTML representation is unable to render, please try loading this page with nbviewer.org.</b></div><div class=\"sk-container\" hidden><div class=\"sk-item\"><div class=\"sk-estimator fitted sk-toggleable\"><input class=\"sk-toggleable__control sk-hidden--visually\" id=\"sk-estimator-id-1\" type=\"checkbox\" checked><label for=\"sk-estimator-id-1\" class=\"sk-toggleable__label fitted sk-toggleable__label-arrow\"><div><div>RandomForestRegressor</div></div><div><a class=\"sk-estimator-doc-link fitted\" rel=\"noreferrer\" target=\"_blank\" href=\"https://scikit-learn.org/1.6/modules/generated/sklearn.ensemble.RandomForestRegressor.html\">?<span>Documentation for RandomForestRegressor</span></a><span class=\"sk-estimator-doc-link fitted\">i<span>Fitted</span></span></div></label><div class=\"sk-toggleable__content fitted\"><pre>RandomForestRegressor()</pre></div> </div></div></div></div>"
            ]
          },
          "metadata": {},
          "execution_count": 8
        }
      ]
    },
    {
      "cell_type": "markdown",
      "source": [
        "Code Block 5C"
      ],
      "metadata": {
        "id": "QvMZZIJHew5K"
      }
    },
    {
      "cell_type": "code",
      "source": [
        "# Using the trained model to make predictions on the test data (X_test)\n",
        "y_pred = model.predict(X_test)\n",
        "\n",
        "# Rounding to 1 decimal place\n",
        "rounded_y_pred = np.round(y_pred, 1)\n",
        "\n",
        "# Printing the predicted labels\n",
        "print(rounded_y_pred)"
      ],
      "metadata": {
        "id": "_qKQn5IFh84K",
        "colab": {
          "base_uri": "https://localhost:8080/"
        },
        "outputId": "a9630144-10bc-4a74-e51f-d2f9c72c3c13"
      },
      "execution_count": null,
      "outputs": [
        {
          "output_type": "stream",
          "name": "stdout",
          "text": [
            "[[34.8 47.3 43.6]\n",
            " [21.9 40.5 39.9]\n",
            " [37.3 51.6 42.2]\n",
            " [73.4 42.9 35.1]\n",
            " [39.8 33.2 40.8]\n",
            " [41.6 40.1 34.7]\n",
            " [31.1 39.3 43.2]\n",
            " [75.9 43.3 37. ]\n",
            " [22.1 15.6 34.5]\n",
            " [42.  37.  40.8]\n",
            " [25.  38.2 37.2]\n",
            " [41.2 39.3 39.1]\n",
            " [30.6 39.2 39.4]\n",
            " [39.5 50.9 41.4]\n",
            " [17.8 18.1 37.5]\n",
            " [34.1 30.7 40.8]\n",
            " [15.7 39.5 42. ]\n",
            " [48.9 37.9 32.8]\n",
            " [34.8 32.3 47. ]]\n"
          ]
        }
      ]
    },
    {
      "cell_type": "code",
      "source": [
        "# Using the trained model to make predictions on the test data (X_test)\n",
        "y_pred = model.predict(X_test)\n",
        "\n",
        "# Rounding to 1 decimal place\n",
        "rounded_y_pred = np.round(y_pred, 1)\n",
        "\n",
        "# Printing the predicted labels\n",
        "print(rounded_y_pred)"
      ],
      "metadata": {
        "colab": {
          "base_uri": "https://localhost:8080/"
        },
        "id": "aVJQyhuDQ7aE",
        "outputId": "3df26a05-4401-4905-9ec2-f10d3af786a3"
      },
      "execution_count": null,
      "outputs": [
        {
          "output_type": "stream",
          "name": "stdout",
          "text": [
            "[[34.8 47.3 43.6]\n",
            " [21.9 40.5 39.9]\n",
            " [37.3 51.6 42.2]\n",
            " [73.4 42.9 35.1]\n",
            " [39.8 33.2 40.8]\n",
            " [41.6 40.1 34.7]\n",
            " [31.1 39.3 43.2]\n",
            " [75.9 43.3 37. ]\n",
            " [22.1 15.6 34.5]\n",
            " [42.  37.  40.8]\n",
            " [25.  38.2 37.2]\n",
            " [41.2 39.3 39.1]\n",
            " [30.6 39.2 39.4]\n",
            " [39.5 50.9 41.4]\n",
            " [17.8 18.1 37.5]\n",
            " [34.1 30.7 40.8]\n",
            " [15.7 39.5 42. ]\n",
            " [48.9 37.9 32.8]\n",
            " [34.8 32.3 47. ]]\n"
          ]
        }
      ]
    },
    {
      "cell_type": "markdown",
      "source": [
        "Code Block 5D"
      ],
      "metadata": {
        "id": "NEb0rIgDey0h"
      }
    },
    {
      "cell_type": "code",
      "source": [
        "# Rounding to 1 decimal place\n",
        "rounded_y_test = np.round(y_test, 1)\n",
        "\n",
        "print(rounded_y_test)"
      ],
      "metadata": {
        "id": "2HXk0ZdEh_qz",
        "colab": {
          "base_uri": "https://localhost:8080/"
        },
        "outputId": "fa70685b-af5e-4a89-9a84-3e751eaeda31"
      },
      "execution_count": null,
      "outputs": [
        {
          "output_type": "stream",
          "name": "stdout",
          "text": [
            "[[36.4 40.2 78.9]\n",
            " [37.7 43.9 36.1]\n",
            " [35.8 36.9 17.8]\n",
            " [39.3 45.5 27.5]\n",
            " [43.1 36.  47.1]\n",
            " [45.2 40.3 28.6]\n",
            " [31.6 41.8 73.8]\n",
            " [78.9 37.  42. ]\n",
            " [22.4 13.  32.1]\n",
            " [43.6 33.1 64.4]\n",
            " [25.3 37.7 35.7]\n",
            " [40.8 40.1 31.2]\n",
            " [37.7 36.8 37.8]\n",
            " [31.2 76.9 37.7]\n",
            " [19.1 18.8 31.6]\n",
            " [32.2 22.4 41.1]\n",
            " [18.8 40.6 41.8]\n",
            " [43.9 38.7 35.8]\n",
            " [36.1 35.8 58.7]]\n"
          ]
        }
      ]
    },
    {
      "cell_type": "markdown",
      "source": [
        "# 6. Evaluating the Model"
      ],
      "metadata": {
        "id": "qVX8XBlce6P5"
      }
    },
    {
      "cell_type": "markdown",
      "source": [
        "Code Block 6A"
      ],
      "metadata": {
        "id": "PCDMOth3e8C5"
      }
    },
    {
      "cell_type": "code",
      "source": [
        "# Calculate Mean Absolute Error\n",
        "mae = np.mean(np.abs(y_test - y_pred))\n",
        "mae_1day = np.mean(np.abs(y_test[0] - y_pred[0]))\n",
        "mae_7days = np.mean(np.abs(y_test[1] - y_pred[1]))\n",
        "mae_30days = np.mean(np.abs(y_test[2] - y_pred[2]))\n",
        "\n",
        "print(\"Overall Mean Absolute Error:\", mae)\n",
        "print(\"1 day Mean Absolute Error:\", mae_1day)\n",
        "print(\"1 Week Mean Absolute Error:\", mae_7days)\n",
        "print(\"4 weeks Mean Absolute Error:\", mae_30days)"
      ],
      "metadata": {
        "id": "pEHFdozah-Ib",
        "colab": {
          "base_uri": "https://localhost:8080/"
        },
        "outputId": "c0958bcd-0e9d-45d8-926d-e4115ba9edf9"
      },
      "execution_count": null,
      "outputs": [
        {
          "output_type": "stream",
          "name": "stdout",
          "text": [
            "Overall Mean Absolute Error: 6.401017543859648\n",
            "1 day Mean Absolute Error: 14.682999999999987\n",
            "1 Week Mean Absolute Error: 7.64666666666668\n",
            "4 weeks Mean Absolute Error: 13.531666666666652\n"
          ]
        }
      ]
    },
    {
      "cell_type": "markdown",
      "source": [
        "Code Block 6B"
      ],
      "metadata": {
        "id": "KGEr9lT2e-hC"
      }
    },
    {
      "cell_type": "code",
      "source": [
        "# Define a function to calculate the Mean Absolute Percentage Error (MAPE)\n",
        "# between the true values (y_true) and the predicted values (y_pred)\n",
        "def mean_absolute_percentage_error(y_true, y_pred):\n",
        "    y_true, y_pred = np.array(y_true), np.array(y_pred)\n",
        "    return np.mean(np.abs((y_true - y_pred) / y_true)) * 100\n",
        "\n",
        "mape = mean_absolute_percentage_error(y_test, y_pred)\n",
        "mape_1day = mean_absolute_percentage_error(y_test[0], y_pred[0])\n",
        "mape_7days = mean_absolute_percentage_error(y_test[1], y_pred[1])\n",
        "mape_30days = mean_absolute_percentage_error(y_test[2], y_pred[2])\n",
        "\n",
        "print(\"Overall Mean Absolute Percentage Error:\", mape)\n",
        "print(\"1 day Mean Absolute Percentage Error:\", mape_1day)\n",
        "print(\"1 Week Mean Absolute Percentage Error:\", mape_7days)\n",
        "print(\"4 Weeks Mean Absolute Percentage Error:\", mape_30days)"
      ],
      "metadata": {
        "id": "e9VlN1ghPdZY",
        "colab": {
          "base_uri": "https://localhost:8080/"
        },
        "outputId": "08514cdd-a24c-4b27-f73d-40d1e9967949"
      },
      "execution_count": null,
      "outputs": [
        {
          "output_type": "stream",
          "name": "stdout",
          "text": [
            "Overall Mean Absolute Percentage Error: 16.33722122955436\n",
            "1 day Mean Absolute Percentage Error: 22.287269120351773\n",
            "1 Week Mean Absolute Percentage Error: 20.00936553420416\n",
            "4 Weeks Mean Absolute Percentage Error: 60.33155208008877\n"
          ]
        }
      ]
    },
    {
      "cell_type": "markdown",
      "source": [
        "# 7. Visualize the Data"
      ],
      "metadata": {
        "id": "rnqNjEvRwpse"
      }
    },
    {
      "cell_type": "markdown",
      "source": [
        "Code Block 7A"
      ],
      "metadata": {
        "id": "x2aMHdU4fDK_"
      }
    },
    {
      "cell_type": "code",
      "source": [
        "# Number of features\n",
        "n_features = y_test.shape[1]\n",
        "\n",
        "# Create subplots\n",
        "fig, axes = plt.subplots(1, n_features, figsize=(15, 5))\n",
        "\n",
        "# Titles for each subplot\n",
        "titles = ['1 day(Turbidity)', '1 week(Turbidity)', '4 weeks(Turbidity)']\n",
        "\n",
        "# Determine common axis limits\n",
        "x_min = min(y_test.min(), y_pred.min())\n",
        "x_max = max(y_test.max(), y_pred.max())\n",
        "\n",
        "for i in range(n_features):\n",
        "    axes[i].scatter(y_test[:, i], y_pred[:, i], c='blue')\n",
        "    axes[i].plot([x_min, x_max], [x_min, x_max], 'r--')\n",
        "    axes[i].set_xlim(x_min, x_max)\n",
        "    axes[i].set_ylim(x_min, x_max)\n",
        "    axes[i].set_xlabel('Actual')\n",
        "    axes[i].set_ylabel('Predicted')\n",
        "    axes[i].set_title(titles[i])\n",
        "\n",
        "    # Calculate and annotate R² value\n",
        "    r2 = r2_score(y_test[:, i], y_pred[:, i])\n",
        "    axes[i].text(0.05, 0.95, f'R² = {r2:.2f}', transform=axes[i].transAxes,\n",
        "                 verticalalignment='top', fontsize=12, bbox=dict(facecolor='white', alpha=0.5))\n",
        "\n",
        "plt.tight_layout()\n",
        "plt.show()"
      ],
      "metadata": {
        "id": "HmOSNFM79A2Q",
        "colab": {
          "base_uri": "https://localhost:8080/",
          "height": 507
        },
        "outputId": "4e52a983-705d-4384-ebab-4c93e85ebf07"
      },
      "execution_count": null,
      "outputs": [
        {
          "output_type": "display_data",
          "data": {
            "text/plain": [
              "<Figure size 1500x500 with 3 Axes>"
            ],
            "image/png": "[encoded data removed]"
          },
          "metadata": {}
        }
      ]
    },
    {
      "cell_type": "code",
      "source": [
        "# TODO: Change this value to view the other decision trees\n",
        "tree_number = 1\n",
        "\n",
        "# TODO: Change this value to change the depth of the decision tree\n",
        "max_depth = 3\n",
        "\n",
        "tree = model.estimators_[tree_number]\n",
        "\n",
        "feature_names = ['Average Dissolved Oxygen', 'Average Temperature C',\t'Average Turbidity FNU', 'Average pH', 'Average Specific Conductance μS/cm']\n",
        "\n",
        "dot_data = export_graphviz(tree, feature_names=feature_names, filled=True, rounded=True, max_depth=max_depth)\n",
        "\n",
        "graph = graphviz.Source(dot_data)\n",
        "graph.render(\"water_tree\")\n",
        "graph"
      ],
      "metadata": {
        "colab": {
          "base_uri": "https://localhost:8080/",
          "height": 814
        },
        "id": "otx22JCkQS2U",
        "outputId": "f62e3088-2a49-404d-d99f-6ecb3d5e89a0"
      },
      "execution_count": null,
      "outputs": [
        {
          "output_type": "execute_result",
          "data": {
            "image/svg+xml": "<?xml version=\"1.0\" encoding=\"UTF-8\" standalone=\"no\"?>\n<!DOCTYPE svg PUBLIC \"-//W3C//DTD SVG 1.1//EN\"\n \"http://www.w3.org/Graphics/SVG/1.1/DTD/svg11.dtd\">\n<!-- Generated by graphviz version 2.43.0 (0)\n -->\n<!-- Title: Tree Pages: 1 -->\n<svg width=\"1294pt\" height=\"580pt\"\n viewBox=\"0.00 0.00 1294.00 580.00\" xmlns=\"http://www.w3.org/2000/svg\" xmlns:xlink=\"http://www.w3.org/1999/xlink\">\n<g id=\"graph0\" class=\"graph\" transform=\"scale(1 1) rotate(0) translate(4 576)\">\n<title>Tree</title>\n<polygon fill=\"white\" stroke=\"transparent\" points=\"-4,4 -4,-576 1290,-576 1290,4 -4,4\"/>\n<!-- 0 -->\n<g id=\"node1\" class=\"node\">\n<title>0</title>\n<path fill=\"#f5d0b5\" stroke=\"black\" d=\"M962,-572C962,-572 768,-572 768,-572 762,-572 756,-566 756,-560 756,-560 756,-486 756,-486 756,-480 762,-474 768,-474 768,-474 962,-474 962,-474 968,-474 974,-480 974,-486 974,-486 974,-560 974,-560 974,-566 968,-572 962,-572\"/>\n<text text-anchor=\"middle\" x=\"865\" y=\"-556.8\" font-family=\"Helvetica,sans-Serif\" font-size=\"14.00\">Average Temperature C &lt;= 44.35</text>\n<text text-anchor=\"middle\" x=\"865\" y=\"-541.8\" font-family=\"Helvetica,sans-Serif\" font-size=\"14.00\">squared_error = 220.714</text>\n<text text-anchor=\"middle\" x=\"865\" y=\"-526.8\" font-family=\"Helvetica,sans-Serif\" font-size=\"14.00\">samples = 48</text>\n<text text-anchor=\"middle\" x=\"865\" y=\"-511.8\" font-family=\"Helvetica,sans-Serif\" font-size=\"14.00\">value = [[38.774]</text>\n<text text-anchor=\"middle\" x=\"865\" y=\"-496.8\" font-family=\"Helvetica,sans-Serif\" font-size=\"14.00\">[38.811]</text>\n<text text-anchor=\"middle\" x=\"865\" y=\"-481.8\" font-family=\"Helvetica,sans-Serif\" font-size=\"14.00\">[39.753]]</text>\n</g>\n<!-- 1 -->\n<g id=\"node2\" class=\"node\">\n<title>1</title>\n<path fill=\"#f1bc95\" stroke=\"black\" d=\"M745,-438C745,-438 551,-438 551,-438 545,-438 539,-432 539,-426 539,-426 539,-352 539,-352 539,-346 545,-340 551,-340 551,-340 745,-340 745,-340 751,-340 757,-346 757,-352 757,-352 757,-426 757,-426 757,-432 751,-438 745,-438\"/>\n<text text-anchor=\"middle\" x=\"648\" y=\"-422.8\" font-family=\"Helvetica,sans-Serif\" font-size=\"14.00\">Average Temperature C &lt;= 32.15</text>\n<text text-anchor=\"middle\" x=\"648\" y=\"-407.8\" font-family=\"Helvetica,sans-Serif\" font-size=\"14.00\">squared_error = 164.19</text>\n<text text-anchor=\"middle\" x=\"648\" y=\"-392.8\" font-family=\"Helvetica,sans-Serif\" font-size=\"14.00\">samples = 38</text>\n<text text-anchor=\"middle\" x=\"648\" y=\"-377.8\" font-family=\"Helvetica,sans-Serif\" font-size=\"14.00\">value = [[32.859]</text>\n<text text-anchor=\"middle\" x=\"648\" y=\"-362.8\" font-family=\"Helvetica,sans-Serif\" font-size=\"14.00\">[39.874]</text>\n<text text-anchor=\"middle\" x=\"648\" y=\"-347.8\" font-family=\"Helvetica,sans-Serif\" font-size=\"14.00\">[42.053]]</text>\n</g>\n<!-- 0&#45;&gt;1 -->\n<g id=\"edge1\" class=\"edge\">\n<title>0&#45;&gt;1</title>\n<path fill=\"none\" stroke=\"black\" d=\"M786.04,-473.97C769.74,-464.05 752.47,-453.55 735.87,-443.45\"/>\n<polygon fill=\"black\" stroke=\"black\" points=\"737.62,-440.42 727.26,-438.21 733.99,-446.4 737.62,-440.42\"/>\n<text text-anchor=\"middle\" x=\"733.18\" y=\"-458.8\" font-family=\"Helvetica,sans-Serif\" font-size=\"14.00\">True</text>\n</g>\n<!-- 76 -->\n<g id=\"node17\" class=\"node\">\n<title>76</title>\n<path fill=\"#f2c19e\" stroke=\"black\" d=\"M1084,-438C1084,-438 890,-438 890,-438 884,-438 878,-432 878,-426 878,-426 878,-352 878,-352 878,-346 884,-340 890,-340 890,-340 1084,-340 1084,-340 1090,-340 1096,-346 1096,-352 1096,-352 1096,-426 1096,-426 1096,-432 1090,-438 1084,-438\"/>\n<text text-anchor=\"middle\" x=\"987\" y=\"-422.8\" font-family=\"Helvetica,sans-Serif\" font-size=\"14.00\">Average Temperature C &lt;= 70.05</text>\n<text text-anchor=\"middle\" x=\"987\" y=\"-407.8\" font-family=\"Helvetica,sans-Serif\" font-size=\"14.00\">squared_error = 179.515</text>\n<text text-anchor=\"middle\" x=\"987\" y=\"-392.8\" font-family=\"Helvetica,sans-Serif\" font-size=\"14.00\">samples = 10</text>\n<text text-anchor=\"middle\" x=\"987\" y=\"-377.8\" font-family=\"Helvetica,sans-Serif\" font-size=\"14.00\">value = [[61.647]</text>\n<text text-anchor=\"middle\" x=\"987\" y=\"-362.8\" font-family=\"Helvetica,sans-Serif\" font-size=\"14.00\">[34.7]</text>\n<text text-anchor=\"middle\" x=\"987\" y=\"-347.8\" font-family=\"Helvetica,sans-Serif\" font-size=\"14.00\">[30.86]]</text>\n</g>\n<!-- 0&#45;&gt;76 -->\n<g id=\"edge16\" class=\"edge\">\n<title>0&#45;&gt;76</title>\n<path fill=\"none\" stroke=\"black\" d=\"M909.39,-473.97C917.88,-464.78 926.84,-455.09 935.54,-445.68\"/>\n<polygon fill=\"black\" stroke=\"black\" points=\"938.22,-447.93 942.44,-438.21 933.08,-443.18 938.22,-447.93\"/>\n<text text-anchor=\"middle\" x=\"943.42\" y=\"-459.49\" font-family=\"Helvetica,sans-Serif\" font-size=\"14.00\">False</text>\n</g>\n<!-- 2 -->\n<g id=\"node3\" class=\"node\">\n<title>2</title>\n<path fill=\"#eeac7c\" stroke=\"black\" d=\"M416,-304C416,-304 222,-304 222,-304 216,-304 210,-298 210,-292 210,-292 210,-218 210,-218 210,-212 216,-206 222,-206 222,-206 416,-206 416,-206 422,-206 428,-212 428,-218 428,-218 428,-292 428,-292 428,-298 422,-304 416,-304\"/>\n<text text-anchor=\"middle\" x=\"319\" y=\"-288.8\" font-family=\"Helvetica,sans-Serif\" font-size=\"14.00\">Average Temperature C &lt;= 31.05</text>\n<text text-anchor=\"middle\" x=\"319\" y=\"-273.8\" font-family=\"Helvetica,sans-Serif\" font-size=\"14.00\">squared_error = 119.538</text>\n<text text-anchor=\"middle\" x=\"319\" y=\"-258.8\" font-family=\"Helvetica,sans-Serif\" font-size=\"14.00\">samples = 14</text>\n<text text-anchor=\"middle\" x=\"319\" y=\"-243.8\" font-family=\"Helvetica,sans-Serif\" font-size=\"14.00\">value = [[24.032]</text>\n<text text-anchor=\"middle\" x=\"319\" y=\"-228.8\" font-family=\"Helvetica,sans-Serif\" font-size=\"14.00\">[44.177]</text>\n<text text-anchor=\"middle\" x=\"319\" y=\"-213.8\" font-family=\"Helvetica,sans-Serif\" font-size=\"14.00\">[42.982]]</text>\n</g>\n<!-- 1&#45;&gt;2 -->\n<g id=\"edge2\" class=\"edge\">\n<title>1&#45;&gt;2</title>\n<path fill=\"none\" stroke=\"black\" d=\"M538.9,-344.23C506.47,-331.22 470.79,-316.9 437.77,-303.65\"/>\n<polygon fill=\"black\" stroke=\"black\" points=\"438.66,-300.24 428.08,-299.76 436.06,-306.74 438.66,-300.24\"/>\n</g>\n<!-- 29 -->\n<g id=\"node10\" class=\"node\">\n<title>29</title>\n<path fill=\"#f1ba92\" stroke=\"black\" d=\"M742,-304C742,-304 554,-304 554,-304 548,-304 542,-298 542,-292 542,-292 542,-218 542,-218 542,-212 548,-206 554,-206 554,-206 742,-206 742,-206 748,-206 754,-212 754,-218 754,-218 754,-292 754,-292 754,-298 748,-304 742,-304\"/>\n<text text-anchor=\"middle\" x=\"648\" y=\"-288.8\" font-family=\"Helvetica,sans-Serif\" font-size=\"14.00\">Average Turbidity FNU &lt;= 28.25</text>\n<text text-anchor=\"middle\" x=\"648\" y=\"-273.8\" font-family=\"Helvetica,sans-Serif\" font-size=\"14.00\">squared_error = 159.547</text>\n<text text-anchor=\"middle\" x=\"648\" y=\"-258.8\" font-family=\"Helvetica,sans-Serif\" font-size=\"14.00\">samples = 24</text>\n<text text-anchor=\"middle\" x=\"648\" y=\"-243.8\" font-family=\"Helvetica,sans-Serif\" font-size=\"14.00\">value = [[38.253]</text>\n<text text-anchor=\"middle\" x=\"648\" y=\"-228.8\" font-family=\"Helvetica,sans-Serif\" font-size=\"14.00\">[37.244]</text>\n<text text-anchor=\"middle\" x=\"648\" y=\"-213.8\" font-family=\"Helvetica,sans-Serif\" font-size=\"14.00\">[41.486]]</text>\n</g>\n<!-- 1&#45;&gt;29 -->\n<g id=\"edge9\" class=\"edge\">\n<title>1&#45;&gt;29</title>\n<path fill=\"none\" stroke=\"black\" d=\"M648,-339.97C648,-331.69 648,-323 648,-314.48\"/>\n<polygon fill=\"black\" stroke=\"black\" points=\"651.5,-314.21 648,-304.21 644.5,-314.21 651.5,-314.21\"/>\n</g>\n<!-- 3 -->\n<g id=\"node4\" class=\"node\">\n<title>3</title>\n<path fill=\"#e89153\" stroke=\"black\" d=\"M206,-170C206,-170 12,-170 12,-170 6,-170 0,-164 0,-158 0,-158 0,-84 0,-84 0,-78 6,-72 12,-72 12,-72 206,-72 206,-72 212,-72 218,-78 218,-84 218,-84 218,-158 218,-158 218,-164 212,-170 206,-170\"/>\n<text text-anchor=\"middle\" x=\"109\" y=\"-154.8\" font-family=\"Helvetica,sans-Serif\" font-size=\"14.00\">Average Temperature C &lt;= 30.35</text>\n<text text-anchor=\"middle\" x=\"109\" y=\"-139.8\" font-family=\"Helvetica,sans-Serif\" font-size=\"14.00\">squared_error = 46.141</text>\n<text text-anchor=\"middle\" x=\"109\" y=\"-124.8\" font-family=\"Helvetica,sans-Serif\" font-size=\"14.00\">samples = 11</text>\n<text text-anchor=\"middle\" x=\"109\" y=\"-109.8\" font-family=\"Helvetica,sans-Serif\" font-size=\"14.00\">value = [[22.065]</text>\n<text text-anchor=\"middle\" x=\"109\" y=\"-94.8\" font-family=\"Helvetica,sans-Serif\" font-size=\"14.00\">[39.588]</text>\n<text text-anchor=\"middle\" x=\"109\" y=\"-79.8\" font-family=\"Helvetica,sans-Serif\" font-size=\"14.00\">[40.018]]</text>\n</g>\n<!-- 2&#45;&gt;3 -->\n<g id=\"edge3\" class=\"edge\">\n<title>2&#45;&gt;3</title>\n<path fill=\"none\" stroke=\"black\" d=\"M242.59,-205.97C226.96,-196.14 210.41,-185.74 194.48,-175.73\"/>\n<polygon fill=\"black\" stroke=\"black\" points=\"196.03,-172.57 185.7,-170.21 192.31,-178.5 196.03,-172.57\"/>\n</g>\n<!-- 24 -->\n<g id=\"node7\" class=\"node\">\n<title>24</title>\n<path fill=\"#f4c9aa\" stroke=\"black\" d=\"M390,-170C390,-170 248,-170 248,-170 242,-170 236,-164 236,-158 236,-158 236,-84 236,-84 236,-78 242,-72 248,-72 248,-72 390,-72 390,-72 396,-72 402,-78 402,-84 402,-84 402,-158 402,-158 402,-164 396,-170 390,-170\"/>\n<text text-anchor=\"middle\" x=\"319\" y=\"-154.8\" font-family=\"Helvetica,sans-Serif\" font-size=\"14.00\">Average pH &lt;= 7.55</text>\n<text text-anchor=\"middle\" x=\"319\" y=\"-139.8\" font-family=\"Helvetica,sans-Serif\" font-size=\"14.00\">squared_error = 200.963</text>\n<text text-anchor=\"middle\" x=\"319\" y=\"-124.8\" font-family=\"Helvetica,sans-Serif\" font-size=\"14.00\">samples = 3</text>\n<text text-anchor=\"middle\" x=\"319\" y=\"-109.8\" font-family=\"Helvetica,sans-Serif\" font-size=\"14.00\">value = [[30.72]</text>\n<text text-anchor=\"middle\" x=\"319\" y=\"-94.8\" font-family=\"Helvetica,sans-Serif\" font-size=\"14.00\">[59.78]</text>\n<text text-anchor=\"middle\" x=\"319\" y=\"-79.8\" font-family=\"Helvetica,sans-Serif\" font-size=\"14.00\">[53.06]]</text>\n</g>\n<!-- 2&#45;&gt;24 -->\n<g id=\"edge6\" class=\"edge\">\n<title>2&#45;&gt;24</title>\n<path fill=\"none\" stroke=\"black\" d=\"M319,-205.97C319,-197.69 319,-189 319,-180.48\"/>\n<polygon fill=\"black\" stroke=\"black\" points=\"322.5,-180.21 319,-170.21 315.5,-180.21 322.5,-180.21\"/>\n</g>\n<!-- 4 -->\n<g id=\"node5\" class=\"node\">\n<title>4</title>\n<path fill=\"#c0c0c0\" stroke=\"black\" d=\"M88,-36C88,-36 58,-36 58,-36 52,-36 46,-30 46,-24 46,-24 46,-12 46,-12 46,-6 52,0 58,0 58,0 88,0 88,0 94,0 100,-6 100,-12 100,-12 100,-24 100,-24 100,-30 94,-36 88,-36\"/>\n<text text-anchor=\"middle\" x=\"73\" y=\"-14.3\" font-family=\"Helvetica,sans-Serif\" font-size=\"14.00\">(...)</text>\n</g>\n<!-- 3&#45;&gt;4 -->\n<g id=\"edge4\" class=\"edge\">\n<title>3&#45;&gt;4</title>\n<path fill=\"none\" stroke=\"black\" d=\"M91.84,-71.87C88.63,-62.86 85.39,-53.76 82.52,-45.71\"/>\n<polygon fill=\"black\" stroke=\"black\" points=\"85.77,-44.39 79.11,-36.15 79.17,-46.74 85.77,-44.39\"/>\n</g>\n<!-- 23 -->\n<g id=\"node6\" class=\"node\">\n<title>23</title>\n<path fill=\"#c0c0c0\" stroke=\"black\" d=\"M160,-36C160,-36 130,-36 130,-36 124,-36 118,-30 118,-24 118,-24 118,-12 118,-12 118,-6 124,0 130,0 130,0 160,0 160,0 166,0 172,-6 172,-12 172,-12 172,-24 172,-24 172,-30 166,-36 160,-36\"/>\n<text text-anchor=\"middle\" x=\"145\" y=\"-14.3\" font-family=\"Helvetica,sans-Serif\" font-size=\"14.00\">(...)</text>\n</g>\n<!-- 3&#45;&gt;23 -->\n<g id=\"edge5\" class=\"edge\">\n<title>3&#45;&gt;23</title>\n<path fill=\"none\" stroke=\"black\" d=\"M126.16,-71.87C129.37,-62.86 132.61,-53.76 135.48,-45.71\"/>\n<polygon fill=\"black\" stroke=\"black\" points=\"138.83,-46.74 138.89,-36.15 132.23,-44.39 138.83,-46.74\"/>\n</g>\n<!-- 25 -->\n<g id=\"node8\" class=\"node\">\n<title>25</title>\n<path fill=\"#c0c0c0\" stroke=\"black\" d=\"M313,-36C313,-36 283,-36 283,-36 277,-36 271,-30 271,-24 271,-24 271,-12 271,-12 271,-6 277,0 283,0 283,0 313,0 313,0 319,0 325,-6 325,-12 325,-12 325,-24 325,-24 325,-30 319,-36 313,-36\"/>\n<text text-anchor=\"middle\" x=\"298\" y=\"-14.3\" font-family=\"Helvetica,sans-Serif\" font-size=\"14.00\">(...)</text>\n</g>\n<!-- 24&#45;&gt;25 -->\n<g id=\"edge7\" class=\"edge\">\n<title>24&#45;&gt;25</title>\n<path fill=\"none\" stroke=\"black\" d=\"M308.99,-71.87C307.14,-62.96 305.27,-53.96 303.61,-45.97\"/>\n<polygon fill=\"black\" stroke=\"black\" points=\"307.03,-45.23 301.57,-36.15 300.17,-46.65 307.03,-45.23\"/>\n</g>\n<!-- 26 -->\n<g id=\"node9\" class=\"node\">\n<title>26</title>\n<path fill=\"#c0c0c0\" stroke=\"black\" d=\"M385,-36C385,-36 355,-36 355,-36 349,-36 343,-30 343,-24 343,-24 343,-12 343,-12 343,-6 349,0 355,0 355,0 385,0 385,0 391,0 397,-6 397,-12 397,-12 397,-24 397,-24 397,-30 391,-36 385,-36\"/>\n<text text-anchor=\"middle\" x=\"370\" y=\"-14.3\" font-family=\"Helvetica,sans-Serif\" font-size=\"14.00\">(...)</text>\n</g>\n<!-- 24&#45;&gt;26 -->\n<g id=\"edge8\" class=\"edge\">\n<title>24&#45;&gt;26</title>\n<path fill=\"none\" stroke=\"black\" d=\"M343.31,-71.87C347.95,-62.66 352.65,-53.36 356.79,-45.17\"/>\n<polygon fill=\"black\" stroke=\"black\" points=\"359.96,-46.65 361.34,-36.15 353.71,-43.5 359.96,-46.65\"/>\n</g>\n<!-- 30 -->\n<g id=\"node11\" class=\"node\">\n<title>30</title>\n<path fill=\"#eb9e67\" stroke=\"black\" d=\"M612,-170C612,-170 432,-170 432,-170 426,-170 420,-164 420,-158 420,-158 420,-84 420,-84 420,-78 426,-72 432,-72 432,-72 612,-72 612,-72 618,-72 624,-78 624,-84 624,-84 624,-158 624,-158 624,-164 618,-170 612,-170\"/>\n<text text-anchor=\"middle\" x=\"522\" y=\"-154.8\" font-family=\"Helvetica,sans-Serif\" font-size=\"14.00\">Average Turbidity FNU &lt;= 27.5</text>\n<text text-anchor=\"middle\" x=\"522\" y=\"-139.8\" font-family=\"Helvetica,sans-Serif\" font-size=\"14.00\">squared_error = 82.574</text>\n<text text-anchor=\"middle\" x=\"522\" y=\"-124.8\" font-family=\"Helvetica,sans-Serif\" font-size=\"14.00\">samples = 20</text>\n<text text-anchor=\"middle\" x=\"522\" y=\"-109.8\" font-family=\"Helvetica,sans-Serif\" font-size=\"14.00\">value = [[38.317]</text>\n<text text-anchor=\"middle\" x=\"522\" y=\"-94.8\" font-family=\"Helvetica,sans-Serif\" font-size=\"14.00\">[35.545]</text>\n<text text-anchor=\"middle\" x=\"522\" y=\"-79.8\" font-family=\"Helvetica,sans-Serif\" font-size=\"14.00\">[37.648]]</text>\n</g>\n<!-- 29&#45;&gt;30 -->\n<g id=\"edge10\" class=\"edge\">\n<title>29&#45;&gt;30</title>\n<path fill=\"none\" stroke=\"black\" d=\"M602.15,-205.97C593.38,-196.78 584.13,-187.09 575.15,-177.68\"/>\n<polygon fill=\"black\" stroke=\"black\" points=\"577.46,-175.03 568.02,-170.21 572.4,-179.86 577.46,-175.03\"/>\n</g>\n<!-- 69 -->\n<g id=\"node14\" class=\"node\">\n<title>69</title>\n<path fill=\"#ffffff\" stroke=\"black\" d=\"M834,-170C834,-170 654,-170 654,-170 648,-170 642,-164 642,-158 642,-158 642,-84 642,-84 642,-78 648,-72 654,-72 654,-72 834,-72 834,-72 840,-72 846,-78 846,-84 846,-84 846,-158 846,-158 846,-164 840,-170 834,-170\"/>\n<text text-anchor=\"middle\" x=\"744\" y=\"-154.8\" font-family=\"Helvetica,sans-Serif\" font-size=\"14.00\">Average Turbidity FNU &lt;= 28.8</text>\n<text text-anchor=\"middle\" x=\"744\" y=\"-139.8\" font-family=\"Helvetica,sans-Serif\" font-size=\"14.00\">squared_error = 353.283</text>\n<text text-anchor=\"middle\" x=\"744\" y=\"-124.8\" font-family=\"Helvetica,sans-Serif\" font-size=\"14.00\">samples = 4</text>\n<text text-anchor=\"middle\" x=\"744\" y=\"-109.8\" font-family=\"Helvetica,sans-Serif\" font-size=\"14.00\">value = [[37.986]</text>\n<text text-anchor=\"middle\" x=\"744\" y=\"-94.8\" font-family=\"Helvetica,sans-Serif\" font-size=\"14.00\">[44.286]</text>\n<text text-anchor=\"middle\" x=\"744\" y=\"-79.8\" font-family=\"Helvetica,sans-Serif\" font-size=\"14.00\">[57.386]]</text>\n</g>\n<!-- 29&#45;&gt;69 -->\n<g id=\"edge13\" class=\"edge\">\n<title>29&#45;&gt;69</title>\n<path fill=\"none\" stroke=\"black\" d=\"M682.93,-205.97C689.42,-197.05 696.24,-187.66 702.89,-178.52\"/>\n<polygon fill=\"black\" stroke=\"black\" points=\"705.88,-180.36 708.94,-170.21 700.22,-176.24 705.88,-180.36\"/>\n</g>\n<!-- 31 -->\n<g id=\"node12\" class=\"node\">\n<title>31</title>\n<path fill=\"#c0c0c0\" stroke=\"black\" d=\"M486,-36C486,-36 456,-36 456,-36 450,-36 444,-30 444,-24 444,-24 444,-12 444,-12 444,-6 450,0 456,0 456,0 486,0 486,0 492,0 498,-6 498,-12 498,-12 498,-24 498,-24 498,-30 492,-36 486,-36\"/>\n<text text-anchor=\"middle\" x=\"471\" y=\"-14.3\" font-family=\"Helvetica,sans-Serif\" font-size=\"14.00\">(...)</text>\n</g>\n<!-- 30&#45;&gt;31 -->\n<g id=\"edge11\" class=\"edge\">\n<title>30&#45;&gt;31</title>\n<path fill=\"none\" stroke=\"black\" d=\"M497.69,-71.87C493.05,-62.66 488.35,-53.36 484.21,-45.17\"/>\n<polygon fill=\"black\" stroke=\"black\" points=\"487.29,-43.5 479.66,-36.15 481.04,-46.65 487.29,-43.5\"/>\n</g>\n<!-- 64 -->\n<g id=\"node13\" class=\"node\">\n<title>64</title>\n<path fill=\"#c0c0c0\" stroke=\"black\" d=\"M558,-36C558,-36 528,-36 528,-36 522,-36 516,-30 516,-24 516,-24 516,-12 516,-12 516,-6 522,0 528,0 528,0 558,0 558,0 564,0 570,-6 570,-12 570,-12 570,-24 570,-24 570,-30 564,-36 558,-36\"/>\n<text text-anchor=\"middle\" x=\"543\" y=\"-14.3\" font-family=\"Helvetica,sans-Serif\" font-size=\"14.00\">(...)</text>\n</g>\n<!-- 30&#45;&gt;64 -->\n<g id=\"edge12\" class=\"edge\">\n<title>30&#45;&gt;64</title>\n<path fill=\"none\" stroke=\"black\" d=\"M532.01,-71.87C533.86,-62.96 535.73,-53.96 537.39,-45.97\"/>\n<polygon fill=\"black\" stroke=\"black\" points=\"540.83,-46.65 539.43,-36.15 533.97,-45.23 540.83,-46.65\"/>\n</g>\n<!-- 70 -->\n<g id=\"node15\" class=\"node\">\n<title>70</title>\n<path fill=\"#c0c0c0\" stroke=\"black\" d=\"M723,-36C723,-36 693,-36 693,-36 687,-36 681,-30 681,-24 681,-24 681,-12 681,-12 681,-6 687,0 693,0 693,0 723,0 723,0 729,0 735,-6 735,-12 735,-12 735,-24 735,-24 735,-30 729,-36 723,-36\"/>\n<text text-anchor=\"middle\" x=\"708\" y=\"-14.3\" font-family=\"Helvetica,sans-Serif\" font-size=\"14.00\">(...)</text>\n</g>\n<!-- 69&#45;&gt;70 -->\n<g id=\"edge14\" class=\"edge\">\n<title>69&#45;&gt;70</title>\n<path fill=\"none\" stroke=\"black\" d=\"M726.84,-71.87C723.63,-62.86 720.39,-53.76 717.52,-45.71\"/>\n<polygon fill=\"black\" stroke=\"black\" points=\"720.77,-44.39 714.11,-36.15 714.17,-46.74 720.77,-44.39\"/>\n</g>\n<!-- 71 -->\n<g id=\"node16\" class=\"node\">\n<title>71</title>\n<path fill=\"#c0c0c0\" stroke=\"black\" d=\"M795,-36C795,-36 765,-36 765,-36 759,-36 753,-30 753,-24 753,-24 753,-12 753,-12 753,-6 759,0 765,0 765,0 795,0 795,0 801,0 807,-6 807,-12 807,-12 807,-24 807,-24 807,-30 801,-36 795,-36\"/>\n<text text-anchor=\"middle\" x=\"780\" y=\"-14.3\" font-family=\"Helvetica,sans-Serif\" font-size=\"14.00\">(...)</text>\n</g>\n<!-- 69&#45;&gt;71 -->\n<g id=\"edge15\" class=\"edge\">\n<title>69&#45;&gt;71</title>\n<path fill=\"none\" stroke=\"black\" d=\"M761.16,-71.87C764.37,-62.86 767.61,-53.76 770.48,-45.71\"/>\n<polygon fill=\"black\" stroke=\"black\" points=\"773.83,-46.74 773.89,-36.15 767.23,-44.39 773.83,-46.74\"/>\n</g>\n<!-- 77 -->\n<g id=\"node18\" class=\"node\">\n<title>77</title>\n<path fill=\"#eba06a\" stroke=\"black\" d=\"M1080.5,-304C1080.5,-304 893.5,-304 893.5,-304 887.5,-304 881.5,-298 881.5,-292 881.5,-292 881.5,-218 881.5,-218 881.5,-212 887.5,-206 893.5,-206 893.5,-206 1080.5,-206 1080.5,-206 1086.5,-206 1092.5,-212 1092.5,-218 1092.5,-218 1092.5,-292 1092.5,-292 1092.5,-298 1086.5,-304 1080.5,-304\"/>\n<text text-anchor=\"middle\" x=\"987\" y=\"-288.8\" font-family=\"Helvetica,sans-Serif\" font-size=\"14.00\">Average Temperature C &lt;= 60.8</text>\n<text text-anchor=\"middle\" x=\"987\" y=\"-273.8\" font-family=\"Helvetica,sans-Serif\" font-size=\"14.00\">squared_error = 87.378</text>\n<text text-anchor=\"middle\" x=\"987\" y=\"-258.8\" font-family=\"Helvetica,sans-Serif\" font-size=\"14.00\">samples = 9</text>\n<text text-anchor=\"middle\" x=\"987\" y=\"-243.8\" font-family=\"Helvetica,sans-Serif\" font-size=\"14.00\">value = [[54.992]</text>\n<text text-anchor=\"middle\" x=\"987\" y=\"-228.8\" font-family=\"Helvetica,sans-Serif\" font-size=\"14.00\">[32.823]</text>\n<text text-anchor=\"middle\" x=\"987\" y=\"-213.8\" font-family=\"Helvetica,sans-Serif\" font-size=\"14.00\">[30.546]]</text>\n</g>\n<!-- 76&#45;&gt;77 -->\n<g id=\"edge17\" class=\"edge\">\n<title>76&#45;&gt;77</title>\n<path fill=\"none\" stroke=\"black\" d=\"M987,-339.97C987,-331.69 987,-323 987,-314.48\"/>\n<polygon fill=\"black\" stroke=\"black\" points=\"990.5,-314.21 987,-304.21 983.5,-314.21 990.5,-314.21\"/>\n</g>\n<!-- 94 -->\n<g id=\"node25\" class=\"node\">\n<title>94</title>\n<path fill=\"#e58139\" stroke=\"black\" d=\"M1235,-296.5C1235,-296.5 1123,-296.5 1123,-296.5 1117,-296.5 1111,-290.5 1111,-284.5 1111,-284.5 1111,-225.5 1111,-225.5 1111,-219.5 1117,-213.5 1123,-213.5 1123,-213.5 1235,-213.5 1235,-213.5 1241,-213.5 1247,-219.5 1247,-225.5 1247,-225.5 1247,-284.5 1247,-284.5 1247,-290.5 1241,-296.5 1235,-296.5\"/>\n<text text-anchor=\"middle\" x=\"1179\" y=\"-281.3\" font-family=\"Helvetica,sans-Serif\" font-size=\"14.00\">squared_error = 0.0</text>\n<text text-anchor=\"middle\" x=\"1179\" y=\"-266.3\" font-family=\"Helvetica,sans-Serif\" font-size=\"14.00\">samples = 1</text>\n<text text-anchor=\"middle\" x=\"1179\" y=\"-251.3\" font-family=\"Helvetica,sans-Serif\" font-size=\"14.00\">value = [[104.9]</text>\n<text text-anchor=\"middle\" x=\"1179\" y=\"-236.3\" font-family=\"Helvetica,sans-Serif\" font-size=\"14.00\">[46.9]</text>\n<text text-anchor=\"middle\" x=\"1179\" y=\"-221.3\" font-family=\"Helvetica,sans-Serif\" font-size=\"14.00\">[32.9]]</text>\n</g>\n<!-- 76&#45;&gt;94 -->\n<g id=\"edge24\" class=\"edge\">\n<title>76&#45;&gt;94</title>\n<path fill=\"none\" stroke=\"black\" d=\"M1056.86,-339.97C1074.64,-327.75 1093.72,-314.63 1111.39,-302.48\"/>\n<polygon fill=\"black\" stroke=\"black\" points=\"1113.68,-305.15 1119.94,-296.6 1109.72,-299.38 1113.68,-305.15\"/>\n</g>\n<!-- 78 -->\n<g id=\"node19\" class=\"node\">\n<title>78</title>\n<path fill=\"#e99254\" stroke=\"black\" d=\"M1097.5,-170C1097.5,-170 876.5,-170 876.5,-170 870.5,-170 864.5,-164 864.5,-158 864.5,-158 864.5,-84 864.5,-84 864.5,-78 870.5,-72 876.5,-72 876.5,-72 1097.5,-72 1097.5,-72 1103.5,-72 1109.5,-78 1109.5,-84 1109.5,-84 1109.5,-158 1109.5,-158 1109.5,-164 1103.5,-170 1097.5,-170\"/>\n<text text-anchor=\"middle\" x=\"987\" y=\"-154.8\" font-family=\"Helvetica,sans-Serif\" font-size=\"14.00\">Average Dissolved Oxygen &lt;= 1044.0</text>\n<text text-anchor=\"middle\" x=\"987\" y=\"-139.8\" font-family=\"Helvetica,sans-Serif\" font-size=\"14.00\">squared_error = 49.003</text>\n<text text-anchor=\"middle\" x=\"987\" y=\"-124.8\" font-family=\"Helvetica,sans-Serif\" font-size=\"14.00\">samples = 7</text>\n<text text-anchor=\"middle\" x=\"987\" y=\"-109.8\" font-family=\"Helvetica,sans-Serif\" font-size=\"14.00\">value = [[56.091]</text>\n<text text-anchor=\"middle\" x=\"987\" y=\"-94.8\" font-family=\"Helvetica,sans-Serif\" font-size=\"14.00\">[28.691]</text>\n<text text-anchor=\"middle\" x=\"987\" y=\"-79.8\" font-family=\"Helvetica,sans-Serif\" font-size=\"14.00\">[30.591]]</text>\n</g>\n<!-- 77&#45;&gt;78 -->\n<g id=\"edge18\" class=\"edge\">\n<title>77&#45;&gt;78</title>\n<path fill=\"none\" stroke=\"black\" d=\"M987,-205.97C987,-197.69 987,-189 987,-180.48\"/>\n<polygon fill=\"black\" stroke=\"black\" points=\"990.5,-180.21 987,-170.21 983.5,-180.21 990.5,-180.21\"/>\n</g>\n<!-- 91 -->\n<g id=\"node22\" class=\"node\">\n<title>91</title>\n<path fill=\"#eb9e66\" stroke=\"black\" d=\"M1274,-170C1274,-170 1140,-170 1140,-170 1134,-170 1128,-164 1128,-158 1128,-158 1128,-84 1128,-84 1128,-78 1134,-72 1140,-72 1140,-72 1274,-72 1274,-72 1280,-72 1286,-78 1286,-84 1286,-84 1286,-158 1286,-158 1286,-164 1280,-170 1274,-170\"/>\n<text text-anchor=\"middle\" x=\"1207\" y=\"-154.8\" font-family=\"Helvetica,sans-Serif\" font-size=\"14.00\">Average pH &lt;= 7.55</text>\n<text text-anchor=\"middle\" x=\"1207\" y=\"-139.8\" font-family=\"Helvetica,sans-Serif\" font-size=\"14.00\">squared_error = 80.558</text>\n<text text-anchor=\"middle\" x=\"1207\" y=\"-124.8\" font-family=\"Helvetica,sans-Serif\" font-size=\"14.00\">samples = 2</text>\n<text text-anchor=\"middle\" x=\"1207\" y=\"-109.8\" font-family=\"Helvetica,sans-Serif\" font-size=\"14.00\">value = [[48.95]</text>\n<text text-anchor=\"middle\" x=\"1207\" y=\"-94.8\" font-family=\"Helvetica,sans-Serif\" font-size=\"14.00\">[55.55]</text>\n<text text-anchor=\"middle\" x=\"1207\" y=\"-79.8\" font-family=\"Helvetica,sans-Serif\" font-size=\"14.00\">[30.3]]</text>\n</g>\n<!-- 77&#45;&gt;91 -->\n<g id=\"edge21\" class=\"edge\">\n<title>77&#45;&gt;91</title>\n<path fill=\"none\" stroke=\"black\" d=\"M1067.05,-205.97C1083.89,-195.87 1101.75,-185.15 1118.87,-174.88\"/>\n<polygon fill=\"black\" stroke=\"black\" points=\"1120.97,-177.7 1127.75,-169.55 1117.37,-171.69 1120.97,-177.7\"/>\n</g>\n<!-- 79 -->\n<g id=\"node20\" class=\"node\">\n<title>79</title>\n<path fill=\"#c0c0c0\" stroke=\"black\" d=\"M966,-36C966,-36 936,-36 936,-36 930,-36 924,-30 924,-24 924,-24 924,-12 924,-12 924,-6 930,0 936,0 936,0 966,0 966,0 972,0 978,-6 978,-12 978,-12 978,-24 978,-24 978,-30 972,-36 966,-36\"/>\n<text text-anchor=\"middle\" x=\"951\" y=\"-14.3\" font-family=\"Helvetica,sans-Serif\" font-size=\"14.00\">(...)</text>\n</g>\n<!-- 78&#45;&gt;79 -->\n<g id=\"edge19\" class=\"edge\">\n<title>78&#45;&gt;79</title>\n<path fill=\"none\" stroke=\"black\" d=\"M969.84,-71.87C966.63,-62.86 963.39,-53.76 960.52,-45.71\"/>\n<polygon fill=\"black\" stroke=\"black\" points=\"963.77,-44.39 957.11,-36.15 957.17,-46.74 963.77,-44.39\"/>\n</g>\n<!-- 86 -->\n<g id=\"node21\" class=\"node\">\n<title>86</title>\n<path fill=\"#c0c0c0\" stroke=\"black\" d=\"M1038,-36C1038,-36 1008,-36 1008,-36 1002,-36 996,-30 996,-24 996,-24 996,-12 996,-12 996,-6 1002,0 1008,0 1008,0 1038,0 1038,0 1044,0 1050,-6 1050,-12 1050,-12 1050,-24 1050,-24 1050,-30 1044,-36 1038,-36\"/>\n<text text-anchor=\"middle\" x=\"1023\" y=\"-14.3\" font-family=\"Helvetica,sans-Serif\" font-size=\"14.00\">(...)</text>\n</g>\n<!-- 78&#45;&gt;86 -->\n<g id=\"edge20\" class=\"edge\">\n<title>78&#45;&gt;86</title>\n<path fill=\"none\" stroke=\"black\" d=\"M1004.16,-71.87C1007.37,-62.86 1010.61,-53.76 1013.48,-45.71\"/>\n<polygon fill=\"black\" stroke=\"black\" points=\"1016.83,-46.74 1016.89,-36.15 1010.23,-44.39 1016.83,-46.74\"/>\n</g>\n<!-- 92 -->\n<g id=\"node23\" class=\"node\">\n<title>92</title>\n<path fill=\"#c0c0c0\" stroke=\"black\" d=\"M1186,-36C1186,-36 1156,-36 1156,-36 1150,-36 1144,-30 1144,-24 1144,-24 1144,-12 1144,-12 1144,-6 1150,0 1156,0 1156,0 1186,0 1186,0 1192,0 1198,-6 1198,-12 1198,-12 1198,-24 1198,-24 1198,-30 1192,-36 1186,-36\"/>\n<text text-anchor=\"middle\" x=\"1171\" y=\"-14.3\" font-family=\"Helvetica,sans-Serif\" font-size=\"14.00\">(...)</text>\n</g>\n<!-- 91&#45;&gt;92 -->\n<g id=\"edge22\" class=\"edge\">\n<title>91&#45;&gt;92</title>\n<path fill=\"none\" stroke=\"black\" d=\"M1189.84,-71.87C1186.63,-62.86 1183.39,-53.76 1180.52,-45.71\"/>\n<polygon fill=\"black\" stroke=\"black\" points=\"1183.77,-44.39 1177.11,-36.15 1177.17,-46.74 1183.77,-44.39\"/>\n</g>\n<!-- 93 -->\n<g id=\"node24\" class=\"node\">\n<title>93</title>\n<path fill=\"#c0c0c0\" stroke=\"black\" d=\"M1258,-36C1258,-36 1228,-36 1228,-36 1222,-36 1216,-30 1216,-24 1216,-24 1216,-12 1216,-12 1216,-6 1222,0 1228,0 1228,0 1258,0 1258,0 1264,0 1270,-6 1270,-12 1270,-12 1270,-24 1270,-24 1270,-30 1264,-36 1258,-36\"/>\n<text text-anchor=\"middle\" x=\"1243\" y=\"-14.3\" font-family=\"Helvetica,sans-Serif\" font-size=\"14.00\">(...)</text>\n</g>\n<!-- 91&#45;&gt;93 -->\n<g id=\"edge23\" class=\"edge\">\n<title>91&#45;&gt;93</title>\n<path fill=\"none\" stroke=\"black\" d=\"M1224.16,-71.87C1227.37,-62.86 1230.61,-53.76 1233.48,-45.71\"/>\n<polygon fill=\"black\" stroke=\"black\" points=\"1236.83,-46.74 1236.89,-36.15 1230.23,-44.39 1236.83,-46.74\"/>\n</g>\n</g>\n</svg>\n",
            "text/plain": [
              "<graphviz.sources.Source at 0x7d601f606e30>"
            ]
          },
          "metadata": {},
          "execution_count": 15
        }
      ]
    },
    {
      "cell_type": "code",
      "source": [
        "# Feature importance\n",
        "importances = model.feature_importances_\n",
        "indices = np.argsort(importances)\n",
        "\n",
        "# Plot feature importance\n",
        "plt.figure(figsize=(10, 6))\n",
        "plt.title('Feature Importances')\n",
        "plt.barh(range(len(indices)), importances[indices], color='b', align='center')\n",
        "plt.yticks(range(len(indices)), [feature_names[i] for i in indices])\n",
        "plt.xlabel('Relative Importance')\n",
        "plt.show()"
      ],
      "metadata": {
        "colab": {
          "base_uri": "https://localhost:8080/",
          "height": 564
        },
        "id": "DIiI_jQSQWR2",
        "outputId": "668cd1e6-35ca-4558-f5d9-4aa2b0b7a86b"
      },
      "execution_count": null,
      "outputs": [
        {
          "output_type": "display_data",
          "data": {
            "text/plain": [
              "<Figure size 1000x600 with 1 Axes>"
            ],
            "image/png": "[encoded data removed]"
          },
          "metadata": {}
        }
      ]
    }
  ]
}